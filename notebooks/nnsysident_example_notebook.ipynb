{
 "cells": [
  {
   "cell_type": "markdown",
   "metadata": {},
   "source": [
    "# Demo Notebook how to run models on static mouse datasets"
   ]
  },
  {
   "cell_type": "code",
   "execution_count": 1,
   "metadata": {},
   "outputs": [],
   "source": [
    "%matplotlib inline\n",
    "%load_ext autoreload\n",
    "%autoreload 2 "
   ]
  },
  {
   "cell_type": "code",
   "execution_count": 2,
   "metadata": {},
   "outputs": [],
   "source": [
    "import os\n",
    "import datajoint as dj\n",
    "dj.config['database.host'] = os.environ['DJ_HOST']\n",
    "dj.config['database.user'] = os.environ['DJ_USER']\n",
    "dj.config['database.password'] = os.environ['DJ_PASS']\n",
    "dj.config['enable_python_native_blobs'] = True\n",
    "dj.config['display.limit'] = 200\n",
    "\n",
    "name = 'iclr'\n",
    "dj.config['schema_name'] = f\"konstantin_nnsysident_{name}\""
   ]
  },
  {
   "cell_type": "code",
   "execution_count": 3,
   "metadata": {},
   "outputs": [
    {
     "name": "stderr",
     "output_type": "stream",
     "text": [
      "<ipython-input-3-dce65ad1752d>:8: DeprecationWarning: Using or importing the ABCs from 'collections' instead of from 'collections.abc' is deprecated since Python 3.3, and in 3.9 it will stop working\n",
      "  from collections import OrderedDict, Iterable\n"
     ]
    },
    {
     "name": "stdout",
     "output_type": "stream",
     "text": [
      "Connecting konstantin@134.2.168.16:3306\n",
      "Schema name: konstantin_nnsysident_iclr\n"
     ]
    }
   ],
   "source": [
    "import re\n",
    "import torch\n",
    "import numpy as np\n",
    "import pickle \n",
    "import pandas as pd\n",
    "pd.set_option('display.max_columns', 500)\n",
    "pd.set_option('display.max_rows', 10)\n",
    "from collections import OrderedDict, Iterable\n",
    "import matplotlib.pyplot as plt\n",
    "import matplotlib\n",
    "import seaborn as sns\n",
    "\n",
    "import nnfabrik\n",
    "from nnfabrik.main import *\n",
    "from nnfabrik import builder\n",
    "from nnfabrik.utility.hypersearch import Bayesian\n",
    "\n",
    "from nnsysident.tables.experiments import *\n",
    "from nnsysident.tables.bayesian import *\n",
    "from nnsysident.datasets.mouse_loaders import static_shared_loaders, static_loaders, static_loader\n",
    "from nnsysident.tables.scoring import OracleScore, OracleScoreTransfer"
   ]
  },
  {
   "cell_type": "markdown",
   "metadata": {},
   "source": [
    "---"
   ]
  },
  {
   "cell_type": "markdown",
   "metadata": {},
   "source": [
    "# Dataset"
   ]
  },
  {
   "cell_type": "code",
   "execution_count": 9,
   "metadata": {},
   "outputs": [
    {
     "name": "stdout",
     "output_type": "stream",
     "text": [
      "data/static20457-5-9-preproc0 exists already. Not unpacking data/static20457-5-9-preproc0.zip\n"
     ]
    }
   ],
   "source": [
    "# change path here\n",
    "paths = ['data/static20457-5-9-preproc0.zip']\n",
    "\n",
    "dataset_fn = 'nnsysident.datasets.mouse_loaders.static_loaders'\n",
    "dataset_config = dict(\n",
    "    paths=paths,\n",
    "    batch_size=64,\n",
    "    seed=1,\n",
    "    file_tree=True,\n",
    ")\n",
    "\n",
    "dataloaders = builder.get_data(dataset_fn, dataset_config)"
   ]
  },
  {
   "cell_type": "code",
   "execution_count": 15,
   "metadata": {},
   "outputs": [
    {
     "data": {
      "text/plain": [
       "array([[-301., -305.,  210.],\n",
       "       [-304., -285.,  210.],\n",
       "       [-283., -306.,  210.],\n",
       "       ...,\n",
       "       [  86., -305.,  245.],\n",
       "       [ 270., -197.,  245.],\n",
       "       [-222.,  -40.,  245.]])"
      ]
     },
     "execution_count": 15,
     "metadata": {},
     "output_type": "execute_result"
    }
   ],
   "source": [
    "dataloaders['train']['20457-5-9-0'].dataset.neurons.cell_motor_coordinates"
   ]
  },
  {
   "cell_type": "code",
   "execution_count": null,
   "metadata": {},
   "outputs": [],
   "source": []
  },
  {
   "cell_type": "markdown",
   "metadata": {},
   "source": [
    "# Model"
   ]
  },
  {
   "cell_type": "code",
   "execution_count": 5,
   "metadata": {},
   "outputs": [],
   "source": [
    "model_fn = 'nnsysident.models.models.se2d_fullgaussian2d'\n",
    "\n",
    "model_config = {'init_mu_range': 0.55,\n",
    "                 'init_sigma': 0.4,\n",
    "                 'input_kern': 15,\n",
    "                 'hidden_kern': 13,\n",
    "                 'gamma_input': 1.0,\n",
    "                 'grid_mean_predictor': None,\n",
    "                 'gamma_readout': 2.439}\n",
    "\n",
    "\n",
    "model = builder.get_model(model_fn=model_fn, model_config=model_config, dataloaders=dataloaders, seed=1)"
   ]
  },
  {
   "cell_type": "markdown",
   "metadata": {},
   "source": [
    "# Trainer"
   ]
  },
  {
   "cell_type": "code",
   "execution_count": 6,
   "metadata": {},
   "outputs": [],
   "source": [
    "detach_core=False  # this should be True for transfer learning\n",
    "\n",
    "trainer_fn = 'nnsysident.training.trainers.standard_trainer'\n",
    "trainer_config = dict(track_training=True, detach_core=detach_core)  \n",
    "trainer = builder.get_trainer(trainer_fn, trainer_config)"
   ]
  },
  {
   "cell_type": "markdown",
   "metadata": {},
   "source": [
    "# Run Training"
   ]
  },
  {
   "cell_type": "code",
   "execution_count": 7,
   "metadata": {},
   "outputs": [
    {
     "name": "stdout",
     "output_type": "stream",
     "text": [
      "=======================================\n",
      "correlation 0.0010534218\n",
      "poisson_loss 4029516.2\n"
     ]
    },
    {
     "name": "stderr",
     "output_type": "stream",
     "text": [
      "Epoch 1: 100%|██████████| 69/69 [00:12<00:00,  5.48it/s]\n"
     ]
    },
    {
     "name": "stdout",
     "output_type": "stream",
     "text": [
      "[001|00/05] ---> 0.07745499163866043\n",
      "=======================================\n",
      "correlation 0.07745499\n",
      "poisson_loss 2424402.5\n"
     ]
    },
    {
     "name": "stderr",
     "output_type": "stream",
     "text": [
      "Epoch 2: 100%|██████████| 69/69 [00:06<00:00, 10.64it/s]\n"
     ]
    },
    {
     "name": "stdout",
     "output_type": "stream",
     "text": [
      "[002|00/05] ---> 0.09418176859617233\n",
      "=======================================\n",
      "correlation 0.09418177\n",
      "poisson_loss 2394455.8\n"
     ]
    },
    {
     "name": "stderr",
     "output_type": "stream",
     "text": [
      "Epoch 3: 100%|██████████| 69/69 [00:06<00:00, 10.58it/s]\n"
     ]
    },
    {
     "name": "stdout",
     "output_type": "stream",
     "text": [
      "[003|00/05] ---> 0.11241321265697479\n",
      "=======================================\n",
      "correlation 0.11241321\n",
      "poisson_loss 2365204.0\n"
     ]
    },
    {
     "name": "stderr",
     "output_type": "stream",
     "text": [
      "Epoch 4: 100%|██████████| 69/69 [00:06<00:00, 10.76it/s]\n"
     ]
    },
    {
     "name": "stdout",
     "output_type": "stream",
     "text": [
      "[004|00/05] ---> 0.12286487221717834\n",
      "=======================================\n",
      "correlation 0.12286487\n",
      "poisson_loss 2363228.2\n"
     ]
    },
    {
     "name": "stderr",
     "output_type": "stream",
     "text": [
      "Epoch 5: 100%|██████████| 69/69 [00:06<00:00, 10.72it/s]\n"
     ]
    },
    {
     "name": "stdout",
     "output_type": "stream",
     "text": [
      "[005|00/05] ---> 0.13239504396915436\n",
      "=======================================\n",
      "correlation 0.13239504\n",
      "poisson_loss 2348261.2\n"
     ]
    },
    {
     "name": "stderr",
     "output_type": "stream",
     "text": [
      "Epoch 6: 100%|██████████| 69/69 [00:06<00:00, 10.62it/s]\n"
     ]
    },
    {
     "name": "stdout",
     "output_type": "stream",
     "text": [
      "[006|00/05] ---> 0.14011405408382416\n",
      "=======================================\n",
      "correlation 0.14011405\n",
      "poisson_loss 2337927.5\n"
     ]
    },
    {
     "name": "stderr",
     "output_type": "stream",
     "text": [
      "Epoch 7: 100%|██████████| 69/69 [00:06<00:00, 10.76it/s]\n"
     ]
    },
    {
     "name": "stdout",
     "output_type": "stream",
     "text": [
      "[007|00/05] ---> 0.1469586044549942\n",
      "=======================================\n",
      "correlation 0.1469586\n",
      "poisson_loss 2353265.0\n"
     ]
    },
    {
     "name": "stderr",
     "output_type": "stream",
     "text": [
      "Epoch 8: 100%|██████████| 69/69 [00:06<00:00, 10.78it/s]\n"
     ]
    },
    {
     "name": "stdout",
     "output_type": "stream",
     "text": [
      "[008|00/05] ---> 0.15796317160129547\n",
      "=======================================\n",
      "correlation 0.15796317\n",
      "poisson_loss 2319957.0\n"
     ]
    },
    {
     "name": "stderr",
     "output_type": "stream",
     "text": [
      "Epoch 9: 100%|██████████| 69/69 [00:06<00:00, 10.65it/s]\n"
     ]
    },
    {
     "name": "stdout",
     "output_type": "stream",
     "text": [
      "[009|01/05] -/-> 0.14025233685970306\n",
      "=======================================\n",
      "correlation 0.14025234\n",
      "poisson_loss 2475463.8\n"
     ]
    },
    {
     "name": "stderr",
     "output_type": "stream",
     "text": [
      "Epoch 10: 100%|██████████| 69/69 [00:06<00:00, 10.49it/s]\n"
     ]
    },
    {
     "name": "stdout",
     "output_type": "stream",
     "text": [
      "[010|01/05] ---> 0.1693505197763443\n",
      "=======================================\n",
      "correlation 0.16935052\n",
      "poisson_loss 2309706.5\n"
     ]
    },
    {
     "name": "stderr",
     "output_type": "stream",
     "text": [
      "Epoch 11: 100%|██████████| 69/69 [00:06<00:00, 10.66it/s]\n"
     ]
    },
    {
     "name": "stdout",
     "output_type": "stream",
     "text": [
      "[011|00/05] ---> 0.17268837988376617\n",
      "=======================================\n",
      "correlation 0.17268838\n",
      "poisson_loss 2311567.0\n"
     ]
    },
    {
     "name": "stderr",
     "output_type": "stream",
     "text": [
      "Epoch 12: 100%|██████████| 69/69 [00:06<00:00, 10.74it/s]\n"
     ]
    },
    {
     "name": "stdout",
     "output_type": "stream",
     "text": [
      "[012|00/05] ---> 0.18217767775058746\n",
      "=======================================\n",
      "correlation 0.18217768\n",
      "poisson_loss 2306825.2\n"
     ]
    },
    {
     "name": "stderr",
     "output_type": "stream",
     "text": [
      "Epoch 13: 100%|██████████| 69/69 [00:06<00:00, 10.70it/s]\n"
     ]
    },
    {
     "name": "stdout",
     "output_type": "stream",
     "text": [
      "[013|00/05] ---> 0.18871542811393738\n",
      "=======================================\n",
      "correlation 0.18871543\n",
      "poisson_loss 2281200.5\n"
     ]
    },
    {
     "name": "stderr",
     "output_type": "stream",
     "text": [
      "Epoch 14: 100%|██████████| 69/69 [00:06<00:00, 10.72it/s]\n"
     ]
    },
    {
     "name": "stdout",
     "output_type": "stream",
     "text": [
      "[014|01/05] -/-> 0.18461741507053375\n",
      "=======================================\n",
      "correlation 0.18461742\n",
      "poisson_loss 2291466.2\n"
     ]
    },
    {
     "name": "stderr",
     "output_type": "stream",
     "text": [
      "Epoch 15: 100%|██████████| 69/69 [00:06<00:00, 10.57it/s]\n"
     ]
    },
    {
     "name": "stdout",
     "output_type": "stream",
     "text": [
      "[015|02/05] -/-> 0.18754203617572784\n",
      "=======================================\n",
      "correlation 0.18754204\n",
      "poisson_loss 2301473.5\n"
     ]
    },
    {
     "name": "stderr",
     "output_type": "stream",
     "text": [
      "Epoch 16: 100%|██████████| 69/69 [00:06<00:00, 10.75it/s]\n"
     ]
    },
    {
     "name": "stdout",
     "output_type": "stream",
     "text": [
      "[016|02/05] ---> 0.19247876107692719\n",
      "=======================================\n",
      "correlation 0.19247876\n",
      "poisson_loss 2290604.0\n"
     ]
    },
    {
     "name": "stderr",
     "output_type": "stream",
     "text": [
      "Epoch 17: 100%|██████████| 69/69 [00:06<00:00, 10.68it/s]\n"
     ]
    },
    {
     "name": "stdout",
     "output_type": "stream",
     "text": [
      "[017|01/05] -/-> 0.18939627707004547\n",
      "=======================================\n",
      "correlation 0.18939628\n",
      "poisson_loss 2316726.5\n"
     ]
    },
    {
     "name": "stderr",
     "output_type": "stream",
     "text": [
      "Epoch 18: 100%|██████████| 69/69 [00:06<00:00, 10.78it/s]\n"
     ]
    },
    {
     "name": "stdout",
     "output_type": "stream",
     "text": [
      "[018|01/05] ---> 0.19611643254756927\n",
      "=======================================\n",
      "correlation 0.19611643\n",
      "poisson_loss 2283056.5\n"
     ]
    },
    {
     "name": "stderr",
     "output_type": "stream",
     "text": [
      "Epoch 19: 100%|██████████| 69/69 [00:06<00:00, 10.55it/s]\n"
     ]
    },
    {
     "name": "stdout",
     "output_type": "stream",
     "text": [
      "[019|00/05] ---> 0.19722841680049896\n",
      "=======================================\n",
      "correlation 0.19722842\n",
      "poisson_loss 2280220.8\n"
     ]
    },
    {
     "name": "stderr",
     "output_type": "stream",
     "text": [
      "Epoch 20: 100%|██████████| 69/69 [00:06<00:00, 10.79it/s]\n"
     ]
    },
    {
     "name": "stdout",
     "output_type": "stream",
     "text": [
      "[020|00/05] ---> 0.19849933683872223\n",
      "=======================================\n",
      "correlation 0.19849934\n",
      "poisson_loss 2292558.0\n"
     ]
    },
    {
     "name": "stderr",
     "output_type": "stream",
     "text": [
      "Epoch 21: 100%|██████████| 69/69 [00:06<00:00, 10.77it/s]\n"
     ]
    },
    {
     "name": "stdout",
     "output_type": "stream",
     "text": [
      "[021|00/05] ---> 0.20389460027217865\n",
      "=======================================\n",
      "correlation 0.2038946\n",
      "poisson_loss 2263162.5\n"
     ]
    },
    {
     "name": "stderr",
     "output_type": "stream",
     "text": [
      "Epoch 22: 100%|██████████| 69/69 [00:06<00:00, 10.74it/s]\n"
     ]
    },
    {
     "name": "stdout",
     "output_type": "stream",
     "text": [
      "[022|01/05] -/-> 0.2020898163318634\n",
      "=======================================\n",
      "correlation 0.20208982\n",
      "poisson_loss 2273013.5\n"
     ]
    },
    {
     "name": "stderr",
     "output_type": "stream",
     "text": [
      "Epoch 23: 100%|██████████| 69/69 [00:06<00:00, 10.67it/s]\n"
     ]
    },
    {
     "name": "stdout",
     "output_type": "stream",
     "text": [
      "[023|02/05] -/-> 0.20214639604091644\n",
      "=======================================\n",
      "correlation 0.2021464\n",
      "poisson_loss 2272157.0\n"
     ]
    },
    {
     "name": "stderr",
     "output_type": "stream",
     "text": [
      "Epoch 24: 100%|██████████| 69/69 [00:06<00:00, 10.74it/s]\n"
     ]
    },
    {
     "name": "stdout",
     "output_type": "stream",
     "text": [
      "[024|03/05] -/-> 0.19909223914146423\n",
      "=======================================\n",
      "correlation 0.19909224\n",
      "poisson_loss 2274666.0\n"
     ]
    },
    {
     "name": "stderr",
     "output_type": "stream",
     "text": [
      "Epoch 25: 100%|██████████| 69/69 [00:06<00:00, 10.66it/s]\n"
     ]
    },
    {
     "name": "stdout",
     "output_type": "stream",
     "text": [
      "[025|04/05] -/-> 0.20384334027767181\n",
      "=======================================\n",
      "correlation 0.20384334\n",
      "poisson_loss 2275629.5\n"
     ]
    },
    {
     "name": "stderr",
     "output_type": "stream",
     "text": [
      "Epoch 26: 100%|██████████| 69/69 [00:06<00:00, 10.64it/s]\n"
     ]
    },
    {
     "name": "stdout",
     "output_type": "stream",
     "text": [
      "[026|05/05] -/-> 0.19713424146175385\n",
      "Restoring best model after lr decay! 0.197134 ---> 0.203895\n",
      "=======================================\n",
      "correlation 0.2038946\n",
      "poisson_loss 2263162.5\n"
     ]
    },
    {
     "name": "stderr",
     "output_type": "stream",
     "text": [
      "Epoch 27: 100%|██████████| 69/69 [00:06<00:00, 10.66it/s]\n"
     ]
    },
    {
     "name": "stdout",
     "output_type": "stream",
     "text": [
      "Epoch    27: reducing learning rate of group 0 to 1.5000e-03.\n",
      "[027|01/05] -/-> 0.20017088949680328\n",
      "=======================================\n",
      "correlation 0.20017089\n",
      "poisson_loss 2272522.5\n"
     ]
    },
    {
     "name": "stderr",
     "output_type": "stream",
     "text": [
      "Epoch 28: 100%|██████████| 69/69 [00:06<00:00, 10.50it/s]\n"
     ]
    },
    {
     "name": "stdout",
     "output_type": "stream",
     "text": [
      "[028|02/05] -/-> 0.19888649880886078\n",
      "=======================================\n",
      "correlation 0.1988865\n",
      "poisson_loss 2278176.8\n"
     ]
    },
    {
     "name": "stderr",
     "output_type": "stream",
     "text": [
      "Epoch 29: 100%|██████████| 69/69 [00:06<00:00, 10.56it/s]\n"
     ]
    },
    {
     "name": "stdout",
     "output_type": "stream",
     "text": [
      "[029|02/05] ---> 0.20408618450164795\n",
      "=======================================\n",
      "correlation 0.20408618\n",
      "poisson_loss 2268965.5\n"
     ]
    },
    {
     "name": "stderr",
     "output_type": "stream",
     "text": [
      "Epoch 30: 100%|██████████| 69/69 [00:06<00:00, 10.60it/s]\n"
     ]
    },
    {
     "name": "stdout",
     "output_type": "stream",
     "text": [
      "[030|00/05] ---> 0.2066251039505005\n",
      "=======================================\n",
      "correlation 0.2066251\n",
      "poisson_loss 2268577.0\n"
     ]
    },
    {
     "name": "stderr",
     "output_type": "stream",
     "text": [
      "Epoch 31: 100%|██████████| 69/69 [00:06<00:00, 10.67it/s]\n"
     ]
    },
    {
     "name": "stdout",
     "output_type": "stream",
     "text": [
      "[031|01/05] -/-> 0.20179226994514465\n",
      "=======================================\n",
      "correlation 0.20179227\n",
      "poisson_loss 2286463.5\n"
     ]
    },
    {
     "name": "stderr",
     "output_type": "stream",
     "text": [
      "Epoch 32: 100%|██████████| 69/69 [00:06<00:00, 10.62it/s]\n"
     ]
    },
    {
     "name": "stdout",
     "output_type": "stream",
     "text": [
      "[032|01/05] ---> 0.20890842378139496\n",
      "=======================================\n",
      "correlation 0.20890842\n",
      "poisson_loss 2257435.5\n"
     ]
    },
    {
     "name": "stderr",
     "output_type": "stream",
     "text": [
      "Epoch 33: 100%|██████████| 69/69 [00:06<00:00, 10.68it/s]\n"
     ]
    },
    {
     "name": "stdout",
     "output_type": "stream",
     "text": [
      "[033|01/05] -/-> 0.20799380540847778\n",
      "=======================================\n",
      "correlation 0.2079938\n",
      "poisson_loss 2262540.5\n"
     ]
    },
    {
     "name": "stderr",
     "output_type": "stream",
     "text": [
      "Epoch 34: 100%|██████████| 69/69 [00:06<00:00, 10.80it/s]\n"
     ]
    },
    {
     "name": "stdout",
     "output_type": "stream",
     "text": [
      "[034|02/05] -/-> 0.20465344190597534\n",
      "=======================================\n",
      "correlation 0.20465344\n",
      "poisson_loss 2271765.0\n"
     ]
    },
    {
     "name": "stderr",
     "output_type": "stream",
     "text": [
      "Epoch 35: 100%|██████████| 69/69 [00:06<00:00, 10.58it/s]\n"
     ]
    },
    {
     "name": "stdout",
     "output_type": "stream",
     "text": [
      "[035|02/05] ---> 0.20976875722408295\n",
      "=======================================\n",
      "correlation 0.20976876\n",
      "poisson_loss 2259881.5\n"
     ]
    },
    {
     "name": "stderr",
     "output_type": "stream",
     "text": [
      "Epoch 36: 100%|██████████| 69/69 [00:06<00:00, 10.72it/s]\n"
     ]
    },
    {
     "name": "stdout",
     "output_type": "stream",
     "text": [
      "[036|00/05] ---> 0.2103910744190216\n",
      "=======================================\n",
      "correlation 0.21039107\n",
      "poisson_loss 2258942.0\n"
     ]
    },
    {
     "name": "stderr",
     "output_type": "stream",
     "text": [
      "Epoch 37: 100%|██████████| 69/69 [00:06<00:00, 10.64it/s]\n"
     ]
    },
    {
     "name": "stdout",
     "output_type": "stream",
     "text": [
      "[037|01/05] -/-> 0.2070290446281433\n",
      "=======================================\n",
      "correlation 0.20702904\n",
      "poisson_loss 2271747.0\n"
     ]
    },
    {
     "name": "stderr",
     "output_type": "stream",
     "text": [
      "Epoch 38: 100%|██████████| 69/69 [00:06<00:00, 10.70it/s]\n"
     ]
    },
    {
     "name": "stdout",
     "output_type": "stream",
     "text": [
      "[038|02/05] -/-> 0.1949913054704666\n",
      "=======================================\n",
      "correlation 0.1949913\n",
      "poisson_loss 2303824.2\n"
     ]
    },
    {
     "name": "stderr",
     "output_type": "stream",
     "text": [
      "Epoch 39: 100%|██████████| 69/69 [00:06<00:00, 10.59it/s]\n"
     ]
    },
    {
     "name": "stdout",
     "output_type": "stream",
     "text": [
      "[039|03/05] -/-> 0.20876780152320862\n",
      "=======================================\n",
      "correlation 0.2087678\n",
      "poisson_loss 2258374.5\n"
     ]
    },
    {
     "name": "stderr",
     "output_type": "stream",
     "text": [
      "Epoch 40: 100%|██████████| 69/69 [00:06<00:00, 10.73it/s]\n"
     ]
    },
    {
     "name": "stdout",
     "output_type": "stream",
     "text": [
      "[040|04/05] -/-> 0.2060539871454239\n",
      "=======================================\n",
      "correlation 0.20605399\n",
      "poisson_loss 2267716.2\n"
     ]
    },
    {
     "name": "stderr",
     "output_type": "stream",
     "text": [
      "Epoch 41: 100%|██████████| 69/69 [00:06<00:00, 10.50it/s]\n"
     ]
    },
    {
     "name": "stdout",
     "output_type": "stream",
     "text": [
      "[041|05/05] -/-> 0.2082003653049469\n",
      "Restoring best model after lr decay! 0.208200 ---> 0.210391\n",
      "=======================================\n",
      "correlation 0.21039107\n",
      "poisson_loss 2258942.0\n"
     ]
    },
    {
     "name": "stderr",
     "output_type": "stream",
     "text": [
      "Epoch 42: 100%|██████████| 69/69 [00:06<00:00, 10.73it/s]\n"
     ]
    },
    {
     "name": "stdout",
     "output_type": "stream",
     "text": [
      "Epoch    42: reducing learning rate of group 0 to 4.5000e-04.\n",
      "[042|01/05] -/-> 0.20726580917835236\n",
      "=======================================\n",
      "correlation 0.20726581\n",
      "poisson_loss 2263447.5\n"
     ]
    },
    {
     "name": "stderr",
     "output_type": "stream",
     "text": [
      "Epoch 43: 100%|██████████| 69/69 [00:06<00:00, 10.70it/s]\n"
     ]
    },
    {
     "name": "stdout",
     "output_type": "stream",
     "text": [
      "[043|02/05] -/-> 0.20154309272766113\n",
      "=======================================\n",
      "correlation 0.2015431\n",
      "poisson_loss 2285970.5\n"
     ]
    },
    {
     "name": "stderr",
     "output_type": "stream",
     "text": [
      "Epoch 44: 100%|██████████| 69/69 [00:06<00:00, 10.63it/s]\n"
     ]
    },
    {
     "name": "stdout",
     "output_type": "stream",
     "text": [
      "[044|03/05] -/-> 0.200156107544899\n",
      "=======================================\n",
      "correlation 0.20015611\n",
      "poisson_loss 2295849.0\n"
     ]
    },
    {
     "name": "stderr",
     "output_type": "stream",
     "text": [
      "Epoch 45: 100%|██████████| 69/69 [00:06<00:00, 10.76it/s]\n"
     ]
    },
    {
     "name": "stdout",
     "output_type": "stream",
     "text": [
      "[045|04/05] -/-> 0.20769421756267548\n",
      "=======================================\n",
      "correlation 0.20769422\n",
      "poisson_loss 2269215.0\n"
     ]
    },
    {
     "name": "stderr",
     "output_type": "stream",
     "text": [
      "Epoch 46: 100%|██████████| 69/69 [00:06<00:00, 10.61it/s]\n"
     ]
    },
    {
     "name": "stdout",
     "output_type": "stream",
     "text": [
      "[046|04/05] ---> 0.2107335478067398\n",
      "=======================================\n",
      "correlation 0.21073355\n",
      "poisson_loss 2265564.0\n"
     ]
    },
    {
     "name": "stderr",
     "output_type": "stream",
     "text": [
      "Epoch 47: 100%|██████████| 69/69 [00:06<00:00, 10.74it/s]\n"
     ]
    },
    {
     "name": "stdout",
     "output_type": "stream",
     "text": [
      "[047|00/05] ---> 0.21132005751132965\n",
      "=======================================\n",
      "correlation 0.21132006\n",
      "poisson_loss 2252679.0\n"
     ]
    },
    {
     "name": "stderr",
     "output_type": "stream",
     "text": [
      "Epoch 48: 100%|██████████| 69/69 [00:06<00:00, 10.77it/s]\n"
     ]
    },
    {
     "name": "stdout",
     "output_type": "stream",
     "text": [
      "[048|01/05] -/-> 0.2068132758140564\n",
      "=======================================\n",
      "correlation 0.20681328\n",
      "poisson_loss 2279474.0\n"
     ]
    },
    {
     "name": "stderr",
     "output_type": "stream",
     "text": [
      "Epoch 49: 100%|██████████| 69/69 [00:06<00:00, 10.77it/s]\n"
     ]
    },
    {
     "name": "stdout",
     "output_type": "stream",
     "text": [
      "[049|02/05] -/-> 0.20844539999961853\n",
      "=======================================\n",
      "correlation 0.2084454\n",
      "poisson_loss 2265216.2\n"
     ]
    },
    {
     "name": "stderr",
     "output_type": "stream",
     "text": [
      "Epoch 50: 100%|██████████| 69/69 [00:06<00:00, 10.73it/s]\n"
     ]
    },
    {
     "name": "stdout",
     "output_type": "stream",
     "text": [
      "[050|03/05] -/-> 0.20527330040931702\n",
      "=======================================\n",
      "correlation 0.2052733\n",
      "poisson_loss 2269974.5\n"
     ]
    },
    {
     "name": "stderr",
     "output_type": "stream",
     "text": [
      "Epoch 51: 100%|██████████| 69/69 [00:06<00:00, 10.63it/s]\n"
     ]
    },
    {
     "name": "stdout",
     "output_type": "stream",
     "text": [
      "[051|04/05] -/-> 0.207217738032341\n",
      "=======================================\n",
      "correlation 0.20721774\n",
      "poisson_loss 2263188.0\n"
     ]
    },
    {
     "name": "stderr",
     "output_type": "stream",
     "text": [
      "Epoch 52: 100%|██████████| 69/69 [00:06<00:00, 10.73it/s]\n"
     ]
    },
    {
     "name": "stdout",
     "output_type": "stream",
     "text": [
      "[052|05/05] -/-> 0.2079562097787857\n",
      "Restoring best model after lr decay! 0.207956 ---> 0.211320\n",
      "Restoring best model! 0.211320 ---> 0.211320\n"
     ]
    }
   ],
   "source": [
    "score, output, model_state = trainer(model=model, dataloaders=dataloaders, seed=1)"
   ]
  },
  {
   "cell_type": "code",
   "execution_count": null,
   "metadata": {},
   "outputs": [],
   "source": []
  }
 ],
 "metadata": {
  "kernelspec": {
   "display_name": "Python 3",
   "language": "python",
   "name": "python3"
  },
  "language_info": {
   "codemirror_mode": {
    "name": "ipython",
    "version": 3
   },
   "file_extension": ".py",
   "mimetype": "text/x-python",
   "name": "python",
   "nbconvert_exporter": "python",
   "pygments_lexer": "ipython3",
   "version": "3.8.0"
  }
 },
 "nbformat": 4,
 "nbformat_minor": 4
}

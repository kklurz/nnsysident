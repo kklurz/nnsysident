{
 "cells": [
  {
   "cell_type": "code",
   "execution_count": 1,
   "metadata": {},
   "outputs": [],
   "source": [
    "%matplotlib inline\n",
    "%load_ext autoreload\n",
    "%autoreload 2 "
   ]
  },
  {
   "cell_type": "code",
   "execution_count": 2,
   "metadata": {},
   "outputs": [],
   "source": [
    "import os\n",
    "import datajoint as dj\n",
    "dj.config['database.host'] = os.environ['DJ_HOST']\n",
    "dj.config['database.user'] = os.environ['DJ_USER']\n",
    "dj.config['database.password'] = os.environ['DJ_PASS']\n",
    "dj.config['enable_python_native_blobs'] = True\n",
    "dj.config['display.limit'] = 200\n",
    "\n",
    "name = 'interspecies_development'\n",
    "os.environ[\"DJ_SCHEMA_NAME\"] = f\"konstantin_nnsysident_{name}\""
   ]
  },
  {
   "cell_type": "code",
   "execution_count": 3,
   "metadata": {},
   "outputs": [
    {
     "name": "stderr",
     "output_type": "stream",
     "text": [
      "<ipython-input-3-8cd5ec436f4e>:8: DeprecationWarning: Using or importing the ABCs from 'collections' instead of from 'collections.abc' is deprecated since Python 3.3, and in 3.9 it will stop working\n",
      "  from collections import OrderedDict, Iterable\n"
     ]
    },
    {
     "name": "stdout",
     "output_type": "stream",
     "text": [
      "Connecting konstantin@134.2.168.16:3306\n"
     ]
    }
   ],
   "source": [
    "import re\n",
    "import torch\n",
    "import numpy as np\n",
    "import pickle \n",
    "import pandas as pd\n",
    "pd.set_option('display.max_columns', 500)\n",
    "pd.set_option('display.max_rows', 25)\n",
    "from collections import OrderedDict, Iterable\n",
    "import matplotlib.pyplot as plt\n",
    "import matplotlib\n",
    "import seaborn as sns\n",
    "import hiplot as hip\n",
    "\n",
    "import nnfabrik\n",
    "from nnfabrik.main import *\n",
    "from nnfabrik import builder\n",
    "from nnfabrik.utility.hypersearch import Bayesian\n",
    "\n",
    "from nnsysident.tables.experiments import *\n",
    "from nnsysident.tables.bayesian import *\n",
    "from nnsysident.datasets.mouse_loaders import static_shared_loaders, static_loaders, static_loader\n",
    "from nnsysident.tables.scoring import OracleScore, OracleScoreTransfer\n",
    "\n",
    "from dataport.bcm.static import PreprocessedMouseData"
   ]
  },
  {
   "cell_type": "markdown",
   "metadata": {},
   "source": [
    "---"
   ]
  },
  {
   "cell_type": "markdown",
   "metadata": {},
   "source": [
    "# Hyperparameters"
   ]
  },
  {
   "cell_type": "markdown",
   "metadata": {},
   "source": [
    "### Difference in perfromance (indiv hyperparams vs. same hyperparams)"
   ]
  },
  {
   "cell_type": "code",
   "execution_count": null,
   "metadata": {},
   "outputs": [],
   "source": [
    "experiment_names = ['Transfer between areas (indiv. hyperparams)']\n",
    " \n",
    "# Fetch data\n",
    "data = pd.DataFrame()\n",
    "for experiment_name in experiment_names:\n",
    "    data_ = pd.DataFrame(((TrainedModelTransfer * \n",
    "                           ExperimentsTransfer.Restrictions & \n",
    "                           'experiment_name=\"{}\"'.format(experiment_name)) *\n",
    "                          Dataset * Model * Trainer * Transfer * Seed ).fetch()) #* OracleScoreTransfer\n",
    "    data = pd.concat([data, data_])\n",
    "\n",
    "# # Filter out best performing models over model seeds\n",
    "data = data.sort_values('score', ascending=False).drop_duplicates(['dataset_comment', 'transfer_comment'])\n",
    "# data = data.loc[data['seed'] == 1]\n",
    "\n",
    "# # Get labels\n",
    "data[\"target data\"] = data.apply(lambda row: row['dataset_comment'].split(\"Transfer dataset: \")[1].split(\" neurons (218)\")[0] , axis=1)\n",
    "data[\"origin data (used for core)\"] = data.apply(lambda row: row['transfer_comment'].split(\" core\")[0] , axis=1)\n",
    "\n",
    "data = data.pivot(index=\"origin data (used for core)\", columns='target data', values='score')\n",
    "data = data.round(2)\n",
    "# data = (data/data.max()*100).round(1)\n",
    "\n",
    "diff_data = data"
   ]
  },
  {
   "cell_type": "code",
   "execution_count": null,
   "metadata": {},
   "outputs": [],
   "source": [
    "experiment_names = ['Transfer between areas']\n",
    " \n",
    "# Fetch data\n",
    "data = pd.DataFrame()\n",
    "for experiment_name in experiment_names:\n",
    "    data_ = pd.DataFrame(((TrainedModelTransfer * \n",
    "                           ExperimentsTransfer.Restrictions & \n",
    "                           'experiment_name=\"{}\"'.format(experiment_name)) *\n",
    "                          Dataset * Model * Trainer * Transfer * Seed ).fetch()) #* OracleScoreTransfer\n",
    "    data = pd.concat([data, data_])\n",
    "\n",
    "# # Filter out best performing models over model seeds\n",
    "data = data.sort_values('score', ascending=False).drop_duplicates(['dataset_comment', 'transfer_comment'])\n",
    "# data = data.loc[data['seed'] == 1]\n",
    "\n",
    "# # Get labels\n",
    "data[\"target data\"] = data.apply(lambda row: row['dataset_comment'].split(\"Transfer dataset: \")[1].split(\" neurons (218)\")[0] , axis=1)\n",
    "data[\"origin data (used for core)\"] = data.apply(lambda row: row['transfer_comment'].split(\" core\")[0] , axis=1)\n",
    "\n",
    "data = data.pivot(index=\"origin data (used for core)\", columns='target data', values='score')\n",
    "data = data.round(2)\n",
    "# data = (data/data.max()*100).round(1)\n",
    "\n",
    "diff_data = diff_data - data"
   ]
  },
  {
   "cell_type": "code",
   "execution_count": null,
   "metadata": {},
   "outputs": [],
   "source": [
    "paper_rc = {'lines.linewidth': 4, 'lines.markersize': 10}  \n",
    "with sns.plotting_context('paper', rc=paper_rc, font_scale=2.15), sns.color_palette('bright'), sns.axes_style('ticks'):   \n",
    "\n",
    "    fig, axes = plt.subplots(figsize=(13, 10), dpi=70)\n",
    "    sns.heatmap(diff_data, annot=True, fmt=\"g\", cmap='rocket_r', ax=axes, linewidths=.5, square=True, cbar_kws={'label': 'indiv - common hyperparams'})\n",
    "#     fig.savefig('inter_area.png', bbox_inches='tight')"
   ]
  },
  {
   "cell_type": "markdown",
   "metadata": {},
   "source": [
    "---"
   ]
  },
  {
   "cell_type": "markdown",
   "metadata": {},
   "source": [
    "### Improvement by hypersearch compared to no indiv hyperparams"
   ]
  },
  {
   "cell_type": "code",
   "execution_count": 6,
   "metadata": {},
   "outputs": [],
   "source": [
    "experiment_names = ['Direct cores on 1 area each', 'Direct cores on 1 area each (indiv. hyperparams)']\n",
    " \n",
    "# Fetch data\n",
    "data = pd.DataFrame()\n",
    "for experiment_name in experiment_names:\n",
    "    data_ = pd.DataFrame(((TrainedModel * \n",
    "                           Experiments.Restrictions & \n",
    "                           'experiment_name=\"{}\"'.format(experiment_name)) *\n",
    "                          Dataset * Model * Trainer * Seed ).fetch()) #* OracleScoreTransfer\n",
    "#     data_ = data_.sort_values('score', ascending=False).drop_duplicates(['dataset_comment'])\n",
    "    data = pd.concat([data, data_])\n",
    "    \n",
    "data = pd.concat([data, data['dataset_config'].apply(pd.Series)], axis = 1)\n",
    "data['areas'] = data['areas'].astype(str)\n",
    "data.replace({'Direct cores on 1 area each': 'common config', 'Direct cores on 1 area each (indiv. hyperparams)': 'indiv. config'}, inplace=True)"
   ]
  },
  {
   "cell_type": "code",
   "execution_count": 7,
   "metadata": {},
   "outputs": [
    {
     "data": {
      "image/png": "[encoded data removed]",
      "text/plain": [
       "<Figure size 650x500 with 1 Axes>"
      ]
     },
     "metadata": {},
     "output_type": "display_data"
    }
   ],
   "source": [
    "paper_rc = {'lines.linewidth': 4, 'lines.markersize': 10}  \n",
    "with sns.plotting_context('paper', rc=paper_rc, font_scale=2.15), sns.color_palette('colorblind'), sns.axes_style('ticks'):   \n",
    "\n",
    "    fig, axes = plt.subplots(figsize=(13, 10), dpi=50)\n",
    "    sns.barplot(x=\"areas\", y=\"score\", hue=\"experiment_name\", data=data, ax=axes)\n",
    "    handles, labels = axes.get_legend_handles_labels()\n",
    "    axes.legend(handles=handles[:], labels=labels[:])\n",
    "    #     fig.savefig('inter_area.png', bbox_inches='tight')\n"
   ]
  },
  {
   "cell_type": "markdown",
   "metadata": {},
   "source": [
    "---"
   ]
  },
  {
   "cell_type": "markdown",
   "metadata": {},
   "source": [
    "### Best Hyperparameters per area"
   ]
  },
  {
   "cell_type": "code",
   "execution_count": null,
   "metadata": {},
   "outputs": [],
   "source": [
    "all_info = pd.DataFrame((TrainedModelBayesian * ModelBayesian * DatasetBayesian).fetch())\n",
    "all_info = pd.concat([all_info, all_info['dataset_config'].apply(pd.Series)], axis = 1).drop('dataset_config', axis = 1)\n",
    "all_info.rename(columns={'layers': 'brain_layers'}, inplace=True)\n",
    "all_info = pd.concat([all_info, all_info['model_config'].apply(pd.Series)], axis = 1).drop('model_config', axis = 1)\n",
    "all_info['areas'] = all_info['areas'].astype(str)\n",
    "\n",
    "one_exp = all_info #all_info.loc[all_info['areas'] == \"['V1']\"]\n",
    "one_exp_h = one_exp.set_index('score', drop=False).copy()\n",
    "cols = ['score', 'gamma_readout', 'layers', 'hidden_channels', 'areas']\n",
    "hip.Experiment.from_dataframe(one_exp_h[cols]).display(force_full_width=False)"
   ]
  },
  {
   "cell_type": "code",
   "execution_count": null,
   "metadata": {},
   "outputs": [],
   "source": [
    "data = pd.DataFrame(Model().fetch())\n",
    "data = pd.concat([data, data['model_config'].apply(pd.Series)], axis = 1)\n",
    "data = data.replace(' model', '', regex=True)"
   ]
  },
  {
   "cell_type": "code",
   "execution_count": null,
   "metadata": {},
   "outputs": [],
   "source": [
    "paper_rc = {'lines.linewidth': 4, 'lines.markersize': 20}  \n",
    "with sns.plotting_context('paper', rc=paper_rc, font_scale=2.15), sns.color_palette('colorblind'), sns.axes_style('ticks'):   \n",
    "\n",
    "    fig, axes = plt.subplots(figsize=(10, 5), dpi=80)\n",
    "    sns.barplot(x='model_comment', y='layers', data=data, ax=axes)\n",
    "    axes.set_xlabel('')\n",
    "#     axes.set_yticks([4, 5, 6, 7, 8])\n",
    "    sns.despine(trim=True)"
   ]
  },
  {
   "cell_type": "code",
   "execution_count": null,
   "metadata": {},
   "outputs": [],
   "source": []
  }
 ],
 "metadata": {
  "kernelspec": {
   "display_name": "Python 3 (ipykernel)",
   "language": "python",
   "name": "python3"
  },
  "language_info": {
   "codemirror_mode": {
    "name": "ipython",
    "version": 3
   },
   "file_extension": ".py",
   "mimetype": "text/x-python",
   "name": "python",
   "nbconvert_exporter": "python",
   "pygments_lexer": "ipython3",
   "version": "3.9.16"
  }
 },
 "nbformat": 4,
 "nbformat_minor": 4
}

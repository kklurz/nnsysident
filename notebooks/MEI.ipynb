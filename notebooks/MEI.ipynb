{
 "cells": [
  {
   "cell_type": "markdown",
   "metadata": {},
   "source": [
    "# Generate MEIs for one Dataset"
   ]
  },
  {
   "cell_type": "code",
   "execution_count": 1,
   "metadata": {},
   "outputs": [
    {
     "name": "stdout",
     "output_type": "stream",
     "text": [
      "Connecting konstantin@134.2.168.16:3306\n"
     ]
    }
   ],
   "source": [
    "%load_ext autoreload\n",
    "%autoreload 2\n",
    "\n",
    "import os\n",
    "import datajoint as dj\n",
    "dj.config['database.host'] = os.environ['DJ_HOST']\n",
    "dj.config['database.user'] = os.environ['DJ_USER']\n",
    "dj.config['database.password'] = os.environ['DJ_PASS']\n",
    "dj.config['enable_python_native_blobs'] = True\n",
    "dj.config['display.limit'] = 200\n",
    "\n",
    "name = 'iclr' #\"test\"\n",
    "dj.config['schema_name'] = f\"konstantin_nnsysident_{name}\"\n",
    "\n",
    "#schema = dj.schema(\"nnfabrik_color_mei\")\n",
    "\n",
    "import nnfabrik\n",
    "from nnfabrik.main import *\n",
    "from nnfabrik import builder #, main\n",
    "\n",
    "import torch\n",
    "import numpy as np\n",
    "import matplotlib.pyplot as plt\n",
    "import seaborn as sns\n",
    "\n",
    "from nnsysident.tables.experiments import *\n",
    "from nnsysident.tables.mei import *\n",
    "from nnsysident.utility.measures import get_correlations\n",
    "\n",
    "fetch_download_path = './mei_downloads'"
   ]
  },
  {
   "cell_type": "code",
   "execution_count": 2,
   "metadata": {},
   "outputs": [],
   "source": [
    "def best_n_unit_ids(model, dataloaders, n, device='cuda'):\n",
    "    test_correlation = get_correlations(model, dataloaders[\"test\"], device=device, as_dict=False, per_neuron=True)\n",
    "    indices = np.argsort(test_correlation)\n",
    "    indices = indices[-n:]\n",
    "    \n",
    "    for i, (data_key, dataloader) in enumerate(dataloaders['test'].items()):\n",
    "        assert i>=0, 'More than one dataset not supported (yet)'\n",
    "        unit_ids = dataloader.dataset.neurons.unit_ids[indices]\n",
    "    return unit_ids, indices"
   ]
  },
  {
   "cell_type": "markdown",
   "metadata": {},
   "source": [
    "___"
   ]
  },
  {
   "cell_type": "code",
   "execution_count": null,
   "metadata": {},
   "outputs": [],
   "source": [
    "def corrs(KEY, transfer, seed=1, device='cuda'): \n",
    "    if transfer:\n",
    "        dataloaders, model = (TrainedModelTransfer() & KEY & 'seed={}'.format(seed)).load_model()\n",
    "    else:\n",
    "        dataloaders, model = (TrainedModel() & KEY & 'seed={}'.format(seed)).load_model()\n",
    "    test_correlation = get_correlations(model, dataloaders[\"test\"], device=device, as_dict=False, per_neuron=True)\n",
    "    return test_correlation"
   ]
  },
  {
   "cell_type": "code",
   "execution_count": null,
   "metadata": {},
   "outputs": [],
   "source": [
    "key = (ExperimentsTransfer.Restrictions() & 'experiment_name = \"Real, core_transfer (animal), Core By Seed, se2d_fullgaussian2d, 11-S -> 20457-5-9\"') & 'dataset_hash = \"71c9ac7a98e066544ad88eb47ea282ec\"'\n",
    "test_correlation_transfer = corrs(key, True)"
   ]
  },
  {
   "cell_type": "code",
   "execution_count": null,
   "metadata": {},
   "outputs": [],
   "source": [
    "key = (Experiments.Restrictions() & 'experiment_name = \"Real, Direct, se2d_fullgaussian2d, 20457-5-9\"') & 'dataset_hash = \"71c9ac7a98e066544ad88eb47ea282ec\"'\n",
    "test_correlation = corrs(key, False)"
   ]
  },
  {
   "cell_type": "code",
   "execution_count": null,
   "metadata": {},
   "outputs": [],
   "source": [
    "n = 10\n",
    "diff = test_correlation_transfer - test_correlation\n",
    "indices = np.argsort(diff)\n",
    "indices = indices[-n:]\n",
    "for i, (data_key, dataloader) in enumerate(dataloaders['test'].items()):\n",
    "    assert i>=0, 'More than one dataset not supported (yet)'\n",
    "    unit_ids = dataloader.dataset.neurons.unit_ids[indices]"
   ]
  },
  {
   "cell_type": "code",
   "execution_count": null,
   "metadata": {},
   "outputs": [],
   "source": [
    "unit_ids"
   ]
  },
  {
   "cell_type": "code",
   "execution_count": null,
   "metadata": {},
   "outputs": [],
   "source": [
    "test_correlation[indices]"
   ]
  },
  {
   "cell_type": "code",
   "execution_count": null,
   "metadata": {},
   "outputs": [],
   "source": [
    "test_correlation_transfer[indices]"
   ]
  },
  {
   "cell_type": "code",
   "execution_count": null,
   "metadata": {},
   "outputs": [],
   "source": []
  },
  {
   "cell_type": "code",
   "execution_count": null,
   "metadata": {},
   "outputs": [],
   "source": []
  },
  {
   "cell_type": "markdown",
   "metadata": {},
   "source": [
    "# Select Dataset"
   ]
  },
  {
   "cell_type": "code",
   "execution_count": 3,
   "metadata": {},
   "outputs": [],
   "source": [
    "key = (Experiments.Restrictions() & 'experiment_name = \"Real, Direct, se2d_fullgaussian2d, 20457-5-9\"') & 'dataset_hash = \"71c9ac7a98e066544ad88eb47ea282ec\"'\n"
   ]
  },
  {
   "cell_type": "code",
   "execution_count": 4,
   "metadata": {},
   "outputs": [
    {
     "data": {
      "text/html": [
       "\n",
       "        \n",
       "        <style type=\"text/css\">\n",
       "            .Relation{\n",
       "                border-collapse:collapse;\n",
       "            }\n",
       "            .Relation th{\n",
       "                background: #A0A0A0; color: #ffffff; padding:4px; border:#f0e0e0 1px solid;\n",
       "                font-weight: normal; font-family: monospace; font-size: 100%;\n",
       "            }\n",
       "            .Relation td{\n",
       "                padding:4px; border:#f0e0e0 1px solid; font-size:100%;\n",
       "            }\n",
       "            .Relation tr:nth-child(odd){\n",
       "                background: #ffffff;\n",
       "            }\n",
       "            .Relation tr:nth-child(even){\n",
       "                background: #f3f1ff;\n",
       "            }\n",
       "            /* Tooltip container */\n",
       "            .djtooltip {\n",
       "            }\n",
       "            /* Tooltip text */\n",
       "            .djtooltip .djtooltiptext {\n",
       "                visibility: hidden;\n",
       "                width: 120px;\n",
       "                background-color: black;\n",
       "                color: #fff;\n",
       "                text-align: center;\n",
       "                padding: 5px 0;\n",
       "                border-radius: 6px;\n",
       "                /* Position the tooltip text - see examples below! */\n",
       "                position: absolute;\n",
       "                z-index: 1;\n",
       "            }\n",
       "            #primary {\n",
       "                font-weight: bold;\n",
       "                color: black;\n",
       "            }\n",
       "\n",
       "            #nonprimary {\n",
       "                font-weight: normal;\n",
       "                color: white;\n",
       "            }\n",
       "\n",
       "            /* Show the tooltip text when you mouse over the tooltip container */\n",
       "            .djtooltip:hover .djtooltiptext {\n",
       "                visibility: visible;\n",
       "            }\n",
       "        </style>\n",
       "        \n",
       "        <b>This table contains the corresponding hashes to filter out models which form the respective experiment</b>\n",
       "            <div style=\"max-height:1000px;max-width:1500px;overflow:auto;\">\n",
       "            <table border=\"1\" class=\"Relation\">\n",
       "                <thead> <tr style=\"text-align: right;\"> <th> <div class=\"djtooltip\">\n",
       "                                <p id=\"primary\">experiment_name</p>\n",
       "                                <span class=\"djtooltiptext\">name of experiment</span>\n",
       "                            </div></th><th><div class=\"djtooltip\">\n",
       "                                <p id=\"primary\">dataset_fn</p>\n",
       "                                <span class=\"djtooltiptext\">name of the dataset loader function</span>\n",
       "                            </div></th><th><div class=\"djtooltip\">\n",
       "                                <p id=\"primary\">dataset_hash</p>\n",
       "                                <span class=\"djtooltiptext\">hash of the configuration object</span>\n",
       "                            </div></th><th><div class=\"djtooltip\">\n",
       "                                <p id=\"primary\">trainer_fn</p>\n",
       "                                <span class=\"djtooltiptext\">name of the Trainer loader function</span>\n",
       "                            </div></th><th><div class=\"djtooltip\">\n",
       "                                <p id=\"primary\">trainer_hash</p>\n",
       "                                <span class=\"djtooltiptext\">hash of the configuration object</span>\n",
       "                            </div></th><th><div class=\"djtooltip\">\n",
       "                                <p id=\"primary\">model_fn</p>\n",
       "                                <span class=\"djtooltiptext\">name of the model function</span>\n",
       "                            </div></th><th><div class=\"djtooltip\">\n",
       "                                <p id=\"primary\">model_hash</p>\n",
       "                                <span class=\"djtooltiptext\">hash of the model configuration</span>\n",
       "                            </div></th><th><div class=\"djtooltip\">\n",
       "                                <p id=\"nonprimary\">experiment_restriction_ts</p>\n",
       "                                <span class=\"djtooltiptext\">UTZ timestamp at time of insertion</span>\n",
       "                            </div> </th> </tr> </thead>\n",
       "                <tbody> <tr> <td>Real, Direct, se2d_fullgaussian2d, 20457-5-9</td>\n",
       "<td>nnsysident.datasets.mouse_loaders.static_loaders</td>\n",
       "<td>71c9ac7a98e066544ad88eb47ea282ec</td>\n",
       "<td>nnsysident.training.trainers.standard_trainer</td>\n",
       "<td>d41d8cd98f00b204e9800998ecf8427e</td>\n",
       "<td>nnsysident.models.models.se2d_fullgaussian2d</td>\n",
       "<td>befddf46eb23b8ee32f0fbb67d490baf</td>\n",
       "<td>2020-09-01 14:55:16</td> </tr> </tbody>\n",
       "            </table>\n",
       "            \n",
       "            <p>Total: 1</p></div>\n",
       "            "
      ],
      "text/plain": [
       "*experiment_na *dataset_fn    *dataset_hash  *trainer_fn    *trainer_hash  *model_fn      *model_hash    experiment_res\n",
       "+------------+ +------------+ +------------+ +------------+ +------------+ +------------+ +------------+ +------------+\n",
       "Real, Direct,  nnsysident.dat 71c9ac7a98e066 nnsysident.tra d41d8cd98f00b2 nnsysident.mod befddf46eb23b8 2020-09-01 14:\n",
       " (Total: 1)"
      ]
     },
     "execution_count": 4,
     "metadata": {},
     "output_type": "execute_result"
    }
   ],
   "source": [
    "key"
   ]
  },
  {
   "cell_type": "markdown",
   "metadata": {},
   "source": [
    "# Creating the ensemble"
   ]
  },
  {
   "cell_type": "markdown",
   "metadata": {},
   "source": [
    "#### the key has to restrict the TrainedModel to all the models that should be an ensemble. The dataset hash MUST be unique"
   ]
  },
  {
   "cell_type": "code",
   "execution_count": 5,
   "metadata": {},
   "outputs": [
    {
     "data": {
      "text/html": [
       "\n",
       "        \n",
       "        <style type=\"text/css\">\n",
       "            .Relation{\n",
       "                border-collapse:collapse;\n",
       "            }\n",
       "            .Relation th{\n",
       "                background: #A0A0A0; color: #ffffff; padding:4px; border:#f0e0e0 1px solid;\n",
       "                font-weight: normal; font-family: monospace; font-size: 100%;\n",
       "            }\n",
       "            .Relation td{\n",
       "                padding:4px; border:#f0e0e0 1px solid; font-size:100%;\n",
       "            }\n",
       "            .Relation tr:nth-child(odd){\n",
       "                background: #ffffff;\n",
       "            }\n",
       "            .Relation tr:nth-child(even){\n",
       "                background: #f3f1ff;\n",
       "            }\n",
       "            /* Tooltip container */\n",
       "            .djtooltip {\n",
       "            }\n",
       "            /* Tooltip text */\n",
       "            .djtooltip .djtooltiptext {\n",
       "                visibility: hidden;\n",
       "                width: 120px;\n",
       "                background-color: black;\n",
       "                color: #fff;\n",
       "                text-align: center;\n",
       "                padding: 5px 0;\n",
       "                border-radius: 6px;\n",
       "                /* Position the tooltip text - see examples below! */\n",
       "                position: absolute;\n",
       "                z-index: 1;\n",
       "            }\n",
       "            #primary {\n",
       "                font-weight: bold;\n",
       "                color: black;\n",
       "            }\n",
       "\n",
       "            #nonprimary {\n",
       "                font-weight: normal;\n",
       "                color: white;\n",
       "            }\n",
       "\n",
       "            /* Show the tooltip text when you mouse over the tooltip container */\n",
       "            .djtooltip:hover .djtooltiptext {\n",
       "                visibility: visible;\n",
       "            }\n",
       "        </style>\n",
       "        \n",
       "        <b>Trained models</b>\n",
       "            <div style=\"max-height:1000px;max-width:1500px;overflow:auto;\">\n",
       "            <table border=\"1\" class=\"Relation\">\n",
       "                <thead> <tr style=\"text-align: right;\"> <th> <div class=\"djtooltip\">\n",
       "                                <p id=\"primary\">model_fn</p>\n",
       "                                <span class=\"djtooltiptext\">name of the model function</span>\n",
       "                            </div></th><th><div class=\"djtooltip\">\n",
       "                                <p id=\"primary\">model_hash</p>\n",
       "                                <span class=\"djtooltiptext\">hash of the model configuration</span>\n",
       "                            </div></th><th><div class=\"djtooltip\">\n",
       "                                <p id=\"primary\">dataset_fn</p>\n",
       "                                <span class=\"djtooltiptext\">name of the dataset loader function</span>\n",
       "                            </div></th><th><div class=\"djtooltip\">\n",
       "                                <p id=\"primary\">dataset_hash</p>\n",
       "                                <span class=\"djtooltiptext\">hash of the configuration object</span>\n",
       "                            </div></th><th><div class=\"djtooltip\">\n",
       "                                <p id=\"primary\">trainer_fn</p>\n",
       "                                <span class=\"djtooltiptext\">name of the Trainer loader function</span>\n",
       "                            </div></th><th><div class=\"djtooltip\">\n",
       "                                <p id=\"primary\">trainer_hash</p>\n",
       "                                <span class=\"djtooltiptext\">hash of the configuration object</span>\n",
       "                            </div></th><th><div class=\"djtooltip\">\n",
       "                                <p id=\"primary\">seed</p>\n",
       "                                <span class=\"djtooltiptext\">Random seed that is passed to the model- and dataset-builder</span>\n",
       "                            </div></th><th><div class=\"djtooltip\">\n",
       "                                <p id=\"nonprimary\">comment</p>\n",
       "                                <span class=\"djtooltiptext\">short description</span>\n",
       "                            </div></th><th><div class=\"djtooltip\">\n",
       "                                <p id=\"nonprimary\">score</p>\n",
       "                                <span class=\"djtooltiptext\">loss</span>\n",
       "                            </div></th><th><div class=\"djtooltip\">\n",
       "                                <p id=\"nonprimary\">output</p>\n",
       "                                <span class=\"djtooltiptext\">trainer object's output</span>\n",
       "                            </div></th><th><div class=\"djtooltip\">\n",
       "                                <p id=\"nonprimary\">fabrikant_name</p>\n",
       "                                <span class=\"djtooltiptext\">Name of the contributor that added this entry</span>\n",
       "                            </div></th><th><div class=\"djtooltip\">\n",
       "                                <p id=\"nonprimary\">trainedmodel_ts</p>\n",
       "                                <span class=\"djtooltiptext\">UTZ timestamp at time of insertion</span>\n",
       "                            </div> </th> </tr> </thead>\n",
       "                <tbody> <tr> <td>nnsysident.models.models.se2d_fullgaussian2d</td>\n",
       "<td>befddf46eb23b8ee32f0fbb67d490baf</td>\n",
       "<td>nnsysident.datasets.mouse_loaders.static_loaders</td>\n",
       "<td>71c9ac7a98e066544ad88eb47ea282ec</td>\n",
       "<td>nnsysident.training.trainers.standard_trainer</td>\n",
       "<td>d41d8cd98f00b204e9800998ecf8427e</td>\n",
       "<td>1</td>\n",
       "<td>Bayesian optimization of Hyper params..se2d_fullgaussian2d, neuron_n=5335, image_n=4472.neuron_n=5335, image_n=4472</td>\n",
       "<td>0.293081</td>\n",
       "<td>=BLOB=</td>\n",
       "<td>kklurz</td>\n",
       "<td>2020-09-01 19:40:52</td></tr><tr><td>nnsysident.models.models.se2d_fullgaussian2d</td>\n",
       "<td>befddf46eb23b8ee32f0fbb67d490baf</td>\n",
       "<td>nnsysident.datasets.mouse_loaders.static_loaders</td>\n",
       "<td>71c9ac7a98e066544ad88eb47ea282ec</td>\n",
       "<td>nnsysident.training.trainers.standard_trainer</td>\n",
       "<td>d41d8cd98f00b204e9800998ecf8427e</td>\n",
       "<td>2</td>\n",
       "<td>Bayesian optimization of Hyper params..se2d_fullgaussian2d, neuron_n=5335, image_n=4472.neuron_n=5335, image_n=4472</td>\n",
       "<td>0.297961</td>\n",
       "<td>=BLOB=</td>\n",
       "<td>kklurz</td>\n",
       "<td>2020-09-01 19:32:15</td></tr><tr><td>nnsysident.models.models.se2d_fullgaussian2d</td>\n",
       "<td>befddf46eb23b8ee32f0fbb67d490baf</td>\n",
       "<td>nnsysident.datasets.mouse_loaders.static_loaders</td>\n",
       "<td>71c9ac7a98e066544ad88eb47ea282ec</td>\n",
       "<td>nnsysident.training.trainers.standard_trainer</td>\n",
       "<td>d41d8cd98f00b204e9800998ecf8427e</td>\n",
       "<td>3</td>\n",
       "<td>Bayesian optimization of Hyper params..se2d_fullgaussian2d, neuron_n=5335, image_n=4472.neuron_n=5335, image_n=4472</td>\n",
       "<td>0.296941</td>\n",
       "<td>=BLOB=</td>\n",
       "<td>kklurz</td>\n",
       "<td>2020-09-02 09:46:22</td></tr><tr><td>nnsysident.models.models.se2d_fullgaussian2d</td>\n",
       "<td>befddf46eb23b8ee32f0fbb67d490baf</td>\n",
       "<td>nnsysident.datasets.mouse_loaders.static_loaders</td>\n",
       "<td>71c9ac7a98e066544ad88eb47ea282ec</td>\n",
       "<td>nnsysident.training.trainers.standard_trainer</td>\n",
       "<td>d41d8cd98f00b204e9800998ecf8427e</td>\n",
       "<td>4</td>\n",
       "<td>Bayesian optimization of Hyper params..se2d_fullgaussian2d, neuron_n=5335, image_n=4472.neuron_n=5335, image_n=4472</td>\n",
       "<td>0.295713</td>\n",
       "<td>=BLOB=</td>\n",
       "<td>kklurz</td>\n",
       "<td>2020-09-01 19:36:02</td></tr><tr><td>nnsysident.models.models.se2d_fullgaussian2d</td>\n",
       "<td>befddf46eb23b8ee32f0fbb67d490baf</td>\n",
       "<td>nnsysident.datasets.mouse_loaders.static_loaders</td>\n",
       "<td>71c9ac7a98e066544ad88eb47ea282ec</td>\n",
       "<td>nnsysident.training.trainers.standard_trainer</td>\n",
       "<td>d41d8cd98f00b204e9800998ecf8427e</td>\n",
       "<td>5</td>\n",
       "<td>Bayesian optimization of Hyper params..se2d_fullgaussian2d, neuron_n=5335, image_n=4472.neuron_n=5335, image_n=4472</td>\n",
       "<td>0.297428</td>\n",
       "<td>=BLOB=</td>\n",
       "<td>kklurz</td>\n",
       "<td>2020-09-01 19:39:51</td> </tr> </tbody>\n",
       "            </table>\n",
       "            \n",
       "            <p>Total: 5</p></div>\n",
       "            "
      ],
      "text/plain": [
       "*model_fn      *model_hash    *dataset_fn    *dataset_hash  *trainer_fn    *trainer_hash  *seed    comment        score        output     fabrikant_name trainedmodel_t\n",
       "+------------+ +------------+ +------------+ +------------+ +------------+ +------------+ +------+ +------------+ +----------+ +--------+ +------------+ +------------+\n",
       "nnsysident.mod befddf46eb23b8 nnsysident.dat 71c9ac7a98e066 nnsysident.tra d41d8cd98f00b2 1        Bayesian optim 0.293081     =BLOB=     kklurz         2020-09-01 19:\n",
       "nnsysident.mod befddf46eb23b8 nnsysident.dat 71c9ac7a98e066 nnsysident.tra d41d8cd98f00b2 2        Bayesian optim 0.297961     =BLOB=     kklurz         2020-09-01 19:\n",
       "nnsysident.mod befddf46eb23b8 nnsysident.dat 71c9ac7a98e066 nnsysident.tra d41d8cd98f00b2 3        Bayesian optim 0.296941     =BLOB=     kklurz         2020-09-02 09:\n",
       "nnsysident.mod befddf46eb23b8 nnsysident.dat 71c9ac7a98e066 nnsysident.tra d41d8cd98f00b2 4        Bayesian optim 0.295713     =BLOB=     kklurz         2020-09-01 19:\n",
       "nnsysident.mod befddf46eb23b8 nnsysident.dat 71c9ac7a98e066 nnsysident.tra d41d8cd98f00b2 5        Bayesian optim 0.297428     =BLOB=     kklurz         2020-09-01 19:\n",
       " (Total: 5)"
      ]
     },
     "execution_count": 5,
     "metadata": {},
     "output_type": "execute_result"
    }
   ],
   "source": [
    "(TrainedModel() & key)"
   ]
  },
  {
   "cell_type": "markdown",
   "metadata": {},
   "source": [
    "# Create an ensemble"
   ]
  },
  {
   "cell_type": "code",
   "execution_count": 6,
   "metadata": {},
   "outputs": [
    {
     "ename": "DuplicateError",
     "evalue": "(\"Duplicate entry 'nnsysident.datasets.mouse_loaders.static_loaders-71c9ac7a98e0...' for key 'PRIMARY'\", 'To ignore duplicate entries in insert, set skip_duplicates=True')",
     "output_type": "error",
     "traceback": [
      "\u001b[0;31m---------------------------------------------------------------------------\u001b[0m",
      "\u001b[0;31mDuplicateError\u001b[0m                            Traceback (most recent call last)",
      "\u001b[0;32m<ipython-input-6-093943670cd2>\u001b[0m in \u001b[0;36m<module>\u001b[0;34m\u001b[0m\n\u001b[0;32m----> 1\u001b[0;31m \u001b[0mTrainedEnsembleModel\u001b[0m\u001b[0;34m(\u001b[0m\u001b[0;34m)\u001b[0m\u001b[0;34m.\u001b[0m\u001b[0mcreate_ensemble\u001b[0m\u001b[0;34m(\u001b[0m\u001b[0mkey\u001b[0m\u001b[0;34m=\u001b[0m\u001b[0mkey\u001b[0m\u001b[0;34m,\u001b[0m \u001b[0mcomment\u001b[0m\u001b[0;34m=\u001b[0m\u001b[0;34m'Real, Direct, se2d_fullgaussian2d, 20457-5-9'\u001b[0m\u001b[0;34m)\u001b[0m\u001b[0;34m\u001b[0m\u001b[0;34m\u001b[0m\u001b[0m\n\u001b[0m",
      "\u001b[0;32m/notebooks/mei/mei/mixins.py\u001b[0m in \u001b[0;36mcreate_ensemble\u001b[0;34m(self, key, comment)\u001b[0m\n\u001b[1;32m     55\u001b[0m         \u001b[0mmodels\u001b[0m \u001b[0;34m=\u001b[0m \u001b[0;34m(\u001b[0m\u001b[0mself\u001b[0m\u001b[0;34m.\u001b[0m\u001b[0mtrained_model_table\u001b[0m\u001b[0;34m(\u001b[0m\u001b[0;34m)\u001b[0m\u001b[0;34m.\u001b[0m\u001b[0mproj\u001b[0m\u001b[0;34m(\u001b[0m\u001b[0;34m)\u001b[0m \u001b[0;34m&\u001b[0m \u001b[0mkey\u001b[0m\u001b[0;34m)\u001b[0m\u001b[0;34m.\u001b[0m\u001b[0mfetch\u001b[0m\u001b[0;34m(\u001b[0m\u001b[0mas_dict\u001b[0m\u001b[0;34m=\u001b[0m\u001b[0;32mTrue\u001b[0m\u001b[0;34m)\u001b[0m\u001b[0;34m\u001b[0m\u001b[0;34m\u001b[0m\u001b[0m\n\u001b[1;32m     56\u001b[0m         \u001b[0mprimary_key\u001b[0m \u001b[0;34m=\u001b[0m \u001b[0mdict\u001b[0m\u001b[0;34m(\u001b[0m\u001b[0mdataset_key\u001b[0m\u001b[0;34m,\u001b[0m \u001b[0mensemble_hash\u001b[0m\u001b[0;34m=\u001b[0m\u001b[0mintegration\u001b[0m\u001b[0;34m.\u001b[0m\u001b[0mhash_list_of_dictionaries\u001b[0m\u001b[0;34m(\u001b[0m\u001b[0mmodels\u001b[0m\u001b[0;34m)\u001b[0m\u001b[0;34m)\u001b[0m\u001b[0;34m\u001b[0m\u001b[0;34m\u001b[0m\u001b[0m\n\u001b[0;32m---> 57\u001b[0;31m         \u001b[0mself\u001b[0m\u001b[0;34m.\u001b[0m\u001b[0minsert1\u001b[0m\u001b[0;34m(\u001b[0m\u001b[0mdict\u001b[0m\u001b[0;34m(\u001b[0m\u001b[0mprimary_key\u001b[0m\u001b[0;34m,\u001b[0m \u001b[0mensemble_comment\u001b[0m\u001b[0;34m=\u001b[0m\u001b[0mcomment\u001b[0m\u001b[0;34m)\u001b[0m\u001b[0;34m)\u001b[0m\u001b[0;34m\u001b[0m\u001b[0;34m\u001b[0m\u001b[0m\n\u001b[0m\u001b[1;32m     58\u001b[0m         \u001b[0mself\u001b[0m\u001b[0;34m.\u001b[0m\u001b[0mMember\u001b[0m\u001b[0;34m(\u001b[0m\u001b[0;34m)\u001b[0m\u001b[0;34m.\u001b[0m\u001b[0minsert\u001b[0m\u001b[0;34m(\u001b[0m\u001b[0;34m[\u001b[0m\u001b[0;34m{\u001b[0m\u001b[0;34m**\u001b[0m\u001b[0mprimary_key\u001b[0m\u001b[0;34m,\u001b[0m \u001b[0;34m**\u001b[0m\u001b[0mm\u001b[0m\u001b[0;34m}\u001b[0m \u001b[0;32mfor\u001b[0m \u001b[0mm\u001b[0m \u001b[0;32min\u001b[0m \u001b[0mmodels\u001b[0m\u001b[0;34m]\u001b[0m\u001b[0;34m)\u001b[0m\u001b[0;34m\u001b[0m\u001b[0;34m\u001b[0m\u001b[0m\n\u001b[1;32m     59\u001b[0m \u001b[0;34m\u001b[0m\u001b[0m\n",
      "\u001b[0;32m/usr/local/lib/python3.8/dist-packages/datajoint/table.py\u001b[0m in \u001b[0;36minsert1\u001b[0;34m(self, row, **kwargs)\u001b[0m\n\u001b[1;32m    173\u001b[0m         \u001b[0mFor\u001b[0m \u001b[0mkwargs\u001b[0m\u001b[0;34m,\u001b[0m \u001b[0msee\u001b[0m \u001b[0minsert\u001b[0m\u001b[0;34m(\u001b[0m\u001b[0;34m)\u001b[0m\u001b[0;34m\u001b[0m\u001b[0;34m\u001b[0m\u001b[0m\n\u001b[1;32m    174\u001b[0m         \"\"\"\n\u001b[0;32m--> 175\u001b[0;31m         \u001b[0mself\u001b[0m\u001b[0;34m.\u001b[0m\u001b[0minsert\u001b[0m\u001b[0;34m(\u001b[0m\u001b[0;34m(\u001b[0m\u001b[0mrow\u001b[0m\u001b[0;34m,\u001b[0m\u001b[0;34m)\u001b[0m\u001b[0;34m,\u001b[0m \u001b[0;34m**\u001b[0m\u001b[0mkwargs\u001b[0m\u001b[0;34m)\u001b[0m\u001b[0;34m\u001b[0m\u001b[0;34m\u001b[0m\u001b[0m\n\u001b[0m\u001b[1;32m    176\u001b[0m \u001b[0;34m\u001b[0m\u001b[0m\n\u001b[1;32m    177\u001b[0m     \u001b[0;32mdef\u001b[0m \u001b[0minsert\u001b[0m\u001b[0;34m(\u001b[0m\u001b[0mself\u001b[0m\u001b[0;34m,\u001b[0m \u001b[0mrows\u001b[0m\u001b[0;34m,\u001b[0m \u001b[0mreplace\u001b[0m\u001b[0;34m=\u001b[0m\u001b[0;32mFalse\u001b[0m\u001b[0;34m,\u001b[0m \u001b[0mskip_duplicates\u001b[0m\u001b[0;34m=\u001b[0m\u001b[0;32mFalse\u001b[0m\u001b[0;34m,\u001b[0m \u001b[0mignore_extra_fields\u001b[0m\u001b[0;34m=\u001b[0m\u001b[0;32mFalse\u001b[0m\u001b[0;34m,\u001b[0m \u001b[0mallow_direct_insert\u001b[0m\u001b[0;34m=\u001b[0m\u001b[0;32mNone\u001b[0m\u001b[0;34m)\u001b[0m\u001b[0;34m:\u001b[0m\u001b[0;34m\u001b[0m\u001b[0;34m\u001b[0m\u001b[0m\n",
      "\u001b[0;32m/usr/local/lib/python3.8/dist-packages/datajoint/table.py\u001b[0m in \u001b[0;36minsert\u001b[0;34m(self, rows, replace, skip_duplicates, ignore_extra_fields, allow_direct_insert)\u001b[0m\n\u001b[1;32m    344\u001b[0m                 \u001b[0;32mraise\u001b[0m \u001b[0merr\u001b[0m\u001b[0;34m.\u001b[0m\u001b[0msuggest\u001b[0m\u001b[0;34m(\u001b[0m\u001b[0;34m'To ignore extra fields in insert, set ignore_extra_fields=True'\u001b[0m\u001b[0;34m)\u001b[0m \u001b[0;32mfrom\u001b[0m \u001b[0;32mNone\u001b[0m\u001b[0;34m\u001b[0m\u001b[0;34m\u001b[0m\u001b[0m\n\u001b[1;32m    345\u001b[0m             \u001b[0;32mexcept\u001b[0m \u001b[0mDuplicateError\u001b[0m \u001b[0;32mas\u001b[0m \u001b[0merr\u001b[0m\u001b[0;34m:\u001b[0m\u001b[0;34m\u001b[0m\u001b[0;34m\u001b[0m\u001b[0m\n\u001b[0;32m--> 346\u001b[0;31m                 \u001b[0;32mraise\u001b[0m \u001b[0merr\u001b[0m\u001b[0;34m.\u001b[0m\u001b[0msuggest\u001b[0m\u001b[0;34m(\u001b[0m\u001b[0;34m'To ignore duplicate entries in insert, set skip_duplicates=True'\u001b[0m\u001b[0;34m)\u001b[0m \u001b[0;32mfrom\u001b[0m \u001b[0;32mNone\u001b[0m\u001b[0;34m\u001b[0m\u001b[0;34m\u001b[0m\u001b[0m\n\u001b[0m\u001b[1;32m    347\u001b[0m \u001b[0;34m\u001b[0m\u001b[0m\n\u001b[1;32m    348\u001b[0m     \u001b[0;32mdef\u001b[0m \u001b[0mdelete_quick\u001b[0m\u001b[0;34m(\u001b[0m\u001b[0mself\u001b[0m\u001b[0;34m,\u001b[0m \u001b[0mget_count\u001b[0m\u001b[0;34m=\u001b[0m\u001b[0;32mFalse\u001b[0m\u001b[0;34m)\u001b[0m\u001b[0;34m:\u001b[0m\u001b[0;34m\u001b[0m\u001b[0;34m\u001b[0m\u001b[0m\n",
      "\u001b[0;31mDuplicateError\u001b[0m: (\"Duplicate entry 'nnsysident.datasets.mouse_loaders.static_loaders-71c9ac7a98e0...' for key 'PRIMARY'\", 'To ignore duplicate entries in insert, set skip_duplicates=True')"
     ]
    }
   ],
   "source": [
    "TrainedEnsembleModel().create_ensemble(key=key, comment='Real, Direct, se2d_fullgaussian2d, 20457-5-9')"
   ]
  },
  {
   "cell_type": "code",
   "execution_count": null,
   "metadata": {},
   "outputs": [],
   "source": [
    "TrainedEnsembleModel & key"
   ]
  },
  {
   "cell_type": "code",
   "execution_count": 7,
   "metadata": {},
   "outputs": [
    {
     "data": {
      "text/html": [
       "\n",
       "        \n",
       "        <style type=\"text/css\">\n",
       "            .Relation{\n",
       "                border-collapse:collapse;\n",
       "            }\n",
       "            .Relation th{\n",
       "                background: #A0A0A0; color: #ffffff; padding:4px; border:#f0e0e0 1px solid;\n",
       "                font-weight: normal; font-family: monospace; font-size: 100%;\n",
       "            }\n",
       "            .Relation td{\n",
       "                padding:4px; border:#f0e0e0 1px solid; font-size:100%;\n",
       "            }\n",
       "            .Relation tr:nth-child(odd){\n",
       "                background: #ffffff;\n",
       "            }\n",
       "            .Relation tr:nth-child(even){\n",
       "                background: #f3f1ff;\n",
       "            }\n",
       "            /* Tooltip container */\n",
       "            .djtooltip {\n",
       "            }\n",
       "            /* Tooltip text */\n",
       "            .djtooltip .djtooltiptext {\n",
       "                visibility: hidden;\n",
       "                width: 120px;\n",
       "                background-color: black;\n",
       "                color: #fff;\n",
       "                text-align: center;\n",
       "                padding: 5px 0;\n",
       "                border-radius: 6px;\n",
       "                /* Position the tooltip text - see examples below! */\n",
       "                position: absolute;\n",
       "                z-index: 1;\n",
       "            }\n",
       "            #primary {\n",
       "                font-weight: bold;\n",
       "                color: black;\n",
       "            }\n",
       "\n",
       "            #nonprimary {\n",
       "                font-weight: normal;\n",
       "                color: white;\n",
       "            }\n",
       "\n",
       "            /* Show the tooltip text when you mouse over the tooltip container */\n",
       "            .djtooltip:hover .djtooltiptext {\n",
       "                visibility: visible;\n",
       "            }\n",
       "        </style>\n",
       "        \n",
       "        <b>contains assignments of trained models to a specific ensemble id</b>\n",
       "            <div style=\"max-height:1000px;max-width:1500px;overflow:auto;\">\n",
       "            <table border=\"1\" class=\"Relation\">\n",
       "                <thead> <tr style=\"text-align: right;\"> <th> <div class=\"djtooltip\">\n",
       "                                <p id=\"primary\">dataset_fn</p>\n",
       "                                <span class=\"djtooltiptext\">name of the dataset loader function</span>\n",
       "                            </div></th><th><div class=\"djtooltip\">\n",
       "                                <p id=\"primary\">dataset_hash</p>\n",
       "                                <span class=\"djtooltiptext\">hash of the configuration object</span>\n",
       "                            </div></th><th><div class=\"djtooltip\">\n",
       "                                <p id=\"primary\">ensemble_hash</p>\n",
       "                                <span class=\"djtooltiptext\">the hash of the ensemble</span>\n",
       "                            </div></th><th><div class=\"djtooltip\">\n",
       "                                <p id=\"primary\">model_fn</p>\n",
       "                                <span class=\"djtooltiptext\">name of the model function</span>\n",
       "                            </div></th><th><div class=\"djtooltip\">\n",
       "                                <p id=\"primary\">model_hash</p>\n",
       "                                <span class=\"djtooltiptext\">hash of the model configuration</span>\n",
       "                            </div></th><th><div class=\"djtooltip\">\n",
       "                                <p id=\"primary\">trainer_fn</p>\n",
       "                                <span class=\"djtooltiptext\">name of the Trainer loader function</span>\n",
       "                            </div></th><th><div class=\"djtooltip\">\n",
       "                                <p id=\"primary\">trainer_hash</p>\n",
       "                                <span class=\"djtooltiptext\">hash of the configuration object</span>\n",
       "                            </div></th><th><div class=\"djtooltip\">\n",
       "                                <p id=\"primary\">seed</p>\n",
       "                                <span class=\"djtooltiptext\">Random seed that is passed to the model- and dataset-builder</span>\n",
       "                            </div> </th> </tr> </thead>\n",
       "                <tbody> <tr> <td>nnsysident.datasets.mouse_loaders.static_loaders</td>\n",
       "<td>71c9ac7a98e066544ad88eb47ea282ec</td>\n",
       "<td>4dc2b15a95c86f907b7417d8811f54fe</td>\n",
       "<td>nnsysident.models.models.se2d_fullgaussian2d</td>\n",
       "<td>befddf46eb23b8ee32f0fbb67d490baf</td>\n",
       "<td>nnsysident.training.trainers.standard_trainer</td>\n",
       "<td>d41d8cd98f00b204e9800998ecf8427e</td>\n",
       "<td>1</td></tr><tr><td>nnsysident.datasets.mouse_loaders.static_loaders</td>\n",
       "<td>71c9ac7a98e066544ad88eb47ea282ec</td>\n",
       "<td>4dc2b15a95c86f907b7417d8811f54fe</td>\n",
       "<td>nnsysident.models.models.se2d_fullgaussian2d</td>\n",
       "<td>befddf46eb23b8ee32f0fbb67d490baf</td>\n",
       "<td>nnsysident.training.trainers.standard_trainer</td>\n",
       "<td>d41d8cd98f00b204e9800998ecf8427e</td>\n",
       "<td>2</td></tr><tr><td>nnsysident.datasets.mouse_loaders.static_loaders</td>\n",
       "<td>71c9ac7a98e066544ad88eb47ea282ec</td>\n",
       "<td>4dc2b15a95c86f907b7417d8811f54fe</td>\n",
       "<td>nnsysident.models.models.se2d_fullgaussian2d</td>\n",
       "<td>befddf46eb23b8ee32f0fbb67d490baf</td>\n",
       "<td>nnsysident.training.trainers.standard_trainer</td>\n",
       "<td>d41d8cd98f00b204e9800998ecf8427e</td>\n",
       "<td>3</td></tr><tr><td>nnsysident.datasets.mouse_loaders.static_loaders</td>\n",
       "<td>71c9ac7a98e066544ad88eb47ea282ec</td>\n",
       "<td>4dc2b15a95c86f907b7417d8811f54fe</td>\n",
       "<td>nnsysident.models.models.se2d_fullgaussian2d</td>\n",
       "<td>befddf46eb23b8ee32f0fbb67d490baf</td>\n",
       "<td>nnsysident.training.trainers.standard_trainer</td>\n",
       "<td>d41d8cd98f00b204e9800998ecf8427e</td>\n",
       "<td>4</td></tr><tr><td>nnsysident.datasets.mouse_loaders.static_loaders</td>\n",
       "<td>71c9ac7a98e066544ad88eb47ea282ec</td>\n",
       "<td>4dc2b15a95c86f907b7417d8811f54fe</td>\n",
       "<td>nnsysident.models.models.se2d_fullgaussian2d</td>\n",
       "<td>befddf46eb23b8ee32f0fbb67d490baf</td>\n",
       "<td>nnsysident.training.trainers.standard_trainer</td>\n",
       "<td>d41d8cd98f00b204e9800998ecf8427e</td>\n",
       "<td>5</td> </tr> </tbody>\n",
       "            </table>\n",
       "            \n",
       "            <p>Total: 5</p></div>\n",
       "            "
      ],
      "text/plain": [
       "*dataset_fn    *dataset_hash  *ensemble_hash *model_fn      *model_hash    *trainer_fn    *trainer_hash  *seed   \n",
       "+------------+ +------------+ +------------+ +------------+ +------------+ +------------+ +------------+ +------+\n",
       "nnsysident.dat 71c9ac7a98e066 4dc2b15a95c86f nnsysident.mod befddf46eb23b8 nnsysident.tra d41d8cd98f00b2 1       \n",
       "nnsysident.dat 71c9ac7a98e066 4dc2b15a95c86f nnsysident.mod befddf46eb23b8 nnsysident.tra d41d8cd98f00b2 2       \n",
       "nnsysident.dat 71c9ac7a98e066 4dc2b15a95c86f nnsysident.mod befddf46eb23b8 nnsysident.tra d41d8cd98f00b2 3       \n",
       "nnsysident.dat 71c9ac7a98e066 4dc2b15a95c86f nnsysident.mod befddf46eb23b8 nnsysident.tra d41d8cd98f00b2 4       \n",
       "nnsysident.dat 71c9ac7a98e066 4dc2b15a95c86f nnsysident.mod befddf46eb23b8 nnsysident.tra d41d8cd98f00b2 5       \n",
       " (Total: 5)"
      ]
     },
     "execution_count": 7,
     "metadata": {},
     "output_type": "execute_result"
    }
   ],
   "source": [
    "# Check whether the ensemble has the correct amount of members:\n",
    "TrainedEnsembleModel.Member() & key"
   ]
  },
  {
   "cell_type": "markdown",
   "metadata": {},
   "source": [
    "# Populating the MEISelector table, to match the unit IDs and the units within the model"
   ]
  },
  {
   "cell_type": "code",
   "execution_count": null,
   "metadata": {},
   "outputs": [],
   "source": [
    "MEISelector().populate(key, display_progress=True)"
   ]
  },
  {
   "cell_type": "code",
   "execution_count": null,
   "metadata": {},
   "outputs": [],
   "source": [
    "# one entry in the table corresponds to one neuron. \n",
    "#he unit_id comes straight from the dataset, the unit index is the position of that unit in the model.\n",
    "MEISelector() & key"
   ]
  },
  {
   "cell_type": "markdown",
   "metadata": {},
   "source": [
    "# Selecting the MEIMethod"
   ]
  },
  {
   "cell_type": "markdown",
   "metadata": {},
   "source": [
    "#### The default here is for normalized images"
   ]
  },
  {
   "cell_type": "markdown",
   "metadata": {},
   "source": [
    "# for Normalized (z-scored) Images"
   ]
  },
  {
   "cell_type": "code",
   "execution_count": null,
   "metadata": {},
   "outputs": [],
   "source": [
    "# it's using the function gradient_ascent from the mei package.\n",
    "# as the default processing steps during generation, we'll constrain the L2norm or std of the MEI (basically a contrast constraint)\n",
    "# also a glaussian blurring on the gradient is applied, smoothing the image, getting rid of high frequency artefacts.\n",
    "\n",
    "\n",
    "method_fn = 'mei.methods.gradient_ascent'\n",
    "\n",
    "method_config = {'initial': {'path': 'mei.initial.RandomNormal'},\n",
    "                 'optimizer': {'path': 'torch.optim.SGD', 'kwargs': {'lr': 2.0}},\n",
    "                 'precondition': {'path': 'mei.legacy.ops.GaussianBlur',\n",
    "                 'kwargs': {'sigma': 1}},\n",
    "                 'postprocessing': {'path': 'mei.legacy.ops.ChangeNorm',\n",
    "                 'kwargs': {'norm': 15}},\n",
    "                 'stopper': {'path': 'mei.stoppers.NumIterations',\n",
    "                 'kwargs': {'num_iterations': 500}},\n",
    "                 'objectives': [{'path': 'mei.objectives.EvaluationObjective',\n",
    "                 'kwargs': {'interval': 10}}],\n",
    "                 'device': 'cuda'}\n",
    "\n",
    "MEIMethod().add_method(method_fn, method_config, \"normalized image, norm=15, lr=2, iter=500\")"
   ]
  },
  {
   "cell_type": "markdown",
   "metadata": {},
   "source": [
    "# 8bit Images"
   ]
  },
  {
   "cell_type": "code",
   "execution_count": null,
   "metadata": {},
   "outputs": [],
   "source": [
    "# it's using the function gradient_ascent from the mei package.\n",
    "# as the default processing steps during generation, we'll constrain the L2norm or std of the MEI (basically a contrast constraint)\n",
    "# also a glaussian blurring on the gradient is applied, smoothing the image, getting rid of high frequency artefacts.\n",
    "\n",
    "# method_fn = 'mei.methods.gradient_ascent'\n",
    "\n",
    "# sigma = 1\n",
    "# lr = 1e4\n",
    "# std = 5\n",
    "# n_iters=500\n",
    "\n",
    "# method_config = {'initial': {'path': 'nnsysident.meis.initial.CustomRandomNormal'},\n",
    "#                  'optimizer': {'path': 'torch.optim.SGD', 'kwargs': {'lr': lr}},\n",
    "#                  'precondition': {'path': 'mei.legacy.ops.GaussianBlur',\n",
    "#                  'kwargs': {'sigma': sigma}},\n",
    "#                  'postprocessing': {'path': 'mei.legacy.ops.ChangeStd',\n",
    "#                  'kwargs': {'std': std, 'zero_mean': False}},\n",
    "#                  'stopper': {'path': 'mei.stoppers.NumIterations',\n",
    "#                  'kwargs': {'num_iterations': n_iters}},\n",
    "#                  'objectives': [{'path': 'mei.objectives.EvaluationObjective',\n",
    "#                  'kwargs': {'interval': 10}}],\n",
    "#                  'device': 'cuda'}\n",
    "\n",
    "# MEIMethod().add_method(method_fn, method_config, f\"8 bit image, std={std}, lr={lr}, iter={n_iters}\")\n",
    "\n",
    "\n",
    "\n",
    "#############################################################\n",
    "method_fn = 'mei.methods.gradient_ascent'\n",
    "sigma = 1\n",
    "lr = 1e4\n",
    "std = 2\n",
    "mean= 111.3\n",
    "n_iters=500\n",
    "method_config = {\n",
    "   'initial': {'path': 'nnsysident.meis.initial.CustomRandomNormal'},\n",
    "   'optimizer': {'path': 'torch.optim.SGD', \n",
    "                 'kwargs': {'lr': lr}},\n",
    "   'precondition': {'path': 'mei.legacy.ops.GaussianBlur',\n",
    "                    'kwargs': {'sigma': sigma}},\n",
    "   'postprocessing': {'path': 'nnsysident.meis.ops.ChangeStdClampedMean',\n",
    "                      'kwargs': {'std': std, \n",
    "                                 'x_min': 0, \n",
    "                                 'x_max': 255, \n",
    "                                 'clamped_mean': mean}},\n",
    "   'stopper': {'path': 'mei.stoppers.NumIterations',\n",
    "               'kwargs': {'num_iterations': n_iters}},\n",
    "   'objectives': [{'path': 'mei.objectives.EvaluationObjective',\n",
    "                   'kwargs': {'interval': 10}}],\n",
    "   'device': 'cuda'\n",
    "}\n",
    "MEIMethod().add_method(method_fn, method_config, f\"8 bit image, std={std}, mean={mean}, lr={lr}, iter={n_iters}\")"
   ]
  },
  {
   "cell_type": "code",
   "execution_count": null,
   "metadata": {},
   "outputs": [],
   "source": [
    "MEIMethod()   #.fetch1('method_config')"
   ]
  },
  {
   "cell_type": "markdown",
   "metadata": {},
   "source": [
    "# Populate the MEI table"
   ]
  },
  {
   "cell_type": "code",
   "execution_count": 18,
   "metadata": {},
   "outputs": [
    {
     "name": "stdout",
     "output_type": "stream",
     "text": [
      "data/static20457-5-9-preproc0 exists already. Not unpacking data/static20457-5-9-preproc0.zip\n"
     ]
    }
   ],
   "source": [
    "seed = 1\n",
    "dataloaders, model = (TrainedModel() & key & 'seed={}'.format(seed)).load_model()"
   ]
  },
  {
   "cell_type": "code",
   "execution_count": 37,
   "metadata": {},
   "outputs": [
    {
     "data": {
      "text/plain": [
       "array([2815, 3982, 2002, ..., 1377,  101, 2552], dtype=uint16)"
      ]
     },
     "execution_count": 37,
     "metadata": {},
     "output_type": "execute_result"
    }
   ],
   "source": [
    "dataloaders['train']['20457-5-9-0'].dataset.neurons.unit_ids"
   ]
  },
  {
   "cell_type": "code",
   "execution_count": 38,
   "metadata": {},
   "outputs": [
    {
     "name": "stdout",
     "output_type": "stream",
     "text": [
      "MEI                  Completed 30 of 5335 (0.6%)   2020-11-15 19:01:13\n"
     ]
    },
    {
     "data": {
      "text/plain": [
       "(5305, 5335)"
      ]
     },
     "execution_count": 38,
     "metadata": {},
     "output_type": "execute_result"
    }
   ],
   "source": [
    "n = 20\n",
    "\n",
    "dataset_hash = '71c9ac7a98e066544ad88eb47ea282ec'\n",
    "ensemble_hash = '4dc2b15a95c86f907b7417d8811f54fe'\n",
    "method_hash='8db856e30d03df10c2c41326ff7e5422'\n",
    "#unit_ids, indices = best_n_unit_ids(model, dataloaders, n)\n",
    "#unit_ids = np.array([ 259, 1641, 1369, 2999, 2532, 1951, 5443, 3648, 3316, 1038])\n",
    "unit_ids = dataloaders['train']['20457-5-9-0'].dataset.neurons.unit_ids\n",
    "\n",
    "mei_seed=1\n",
    "\n",
    "mei_restriction = dj.AndList(['dataset_hash = \"{}\"'.format(dataset_hash), \n",
    "             'ensemble_hash = \"{}\"'.format(ensemble_hash), \n",
    "             'method_hash = \"{}\"'.format(method_hash), \n",
    "             'unit_id in {}'.format(tuple(unit_ids)),\n",
    "             'mei_seed = {}'.format(mei_seed)])\n",
    "\n",
    "MEI.progress(mei_restriction)"
   ]
  },
  {
   "cell_type": "code",
   "execution_count": 39,
   "metadata": {},
   "outputs": [
    {
     "name": "stderr",
     "output_type": "stream",
     "text": [
      "  0%|          | 0/5305 [00:00<?, ?it/s]"
     ]
    },
    {
     "name": "stdout",
     "output_type": "stream",
     "text": [
      "data/static20457-5-9-preproc0 exists already. Not unpacking data/static20457-5-9-preproc0.zip\n",
      "data/static20457-5-9-preproc0 exists already. Not unpacking data/static20457-5-9-preproc0.zip\n",
      "data/static20457-5-9-preproc0 exists already. Not unpacking data/static20457-5-9-preproc0.zip\n",
      "data/static20457-5-9-preproc0 exists already. Not unpacking data/static20457-5-9-preproc0.zip\n",
      "data/static20457-5-9-preproc0 exists already. Not unpacking data/static20457-5-9-preproc0.zip\n"
     ]
    },
    {
     "name": "stderr",
     "output_type": "stream",
     "text": [
      " 27%|██▋       | 1442/5305 [10:59:23<29:26:28, 27.44s/it]\n"
     ]
    },
    {
     "ename": "RequestTimeout",
     "evalue": "RequestTimeout: message: Your socket connection to the server was not read from or written to within the timeout period.",
     "output_type": "error",
     "traceback": [
      "\u001b[0;31m---------------------------------------------------------------------------\u001b[0m",
      "\u001b[0;31mRequestTimeout\u001b[0m                            Traceback (most recent call last)",
      "\u001b[0;32m<ipython-input-39-5a08dd418856>\u001b[0m in \u001b[0;36m<module>\u001b[0;34m\u001b[0m\n\u001b[0;32m----> 1\u001b[0;31m MEI.populate(mei_restriction,\n\u001b[0m\u001b[1;32m      2\u001b[0m              \u001b[0mdisplay_progress\u001b[0m\u001b[0;34m=\u001b[0m\u001b[0;32mTrue\u001b[0m\u001b[0;34m,\u001b[0m\u001b[0;34m\u001b[0m\u001b[0;34m\u001b[0m\u001b[0m\n\u001b[1;32m      3\u001b[0m              \u001b[0morder\u001b[0m\u001b[0;34m=\u001b[0m\u001b[0;34m'random'\u001b[0m\u001b[0;34m,\u001b[0m\u001b[0;34m\u001b[0m\u001b[0;34m\u001b[0m\u001b[0m\n\u001b[1;32m      4\u001b[0m              reserve_jobs=True)\n",
      "\u001b[0;32m/usr/local/lib/python3.8/dist-packages/datajoint/autopopulate.py\u001b[0m in \u001b[0;36mpopulate\u001b[0;34m(self, suppress_errors, return_exception_objects, reserve_jobs, order, limit, max_calls, display_progress, *restrictions)\u001b[0m\n\u001b[1;32m    158\u001b[0m                     \u001b[0mself\u001b[0m\u001b[0;34m.\u001b[0m\u001b[0m__class__\u001b[0m\u001b[0;34m.\u001b[0m\u001b[0m_allow_insert\u001b[0m \u001b[0;34m=\u001b[0m \u001b[0;32mTrue\u001b[0m\u001b[0;34m\u001b[0m\u001b[0;34m\u001b[0m\u001b[0m\n\u001b[1;32m    159\u001b[0m                     \u001b[0;32mtry\u001b[0m\u001b[0;34m:\u001b[0m\u001b[0;34m\u001b[0m\u001b[0;34m\u001b[0m\u001b[0m\n\u001b[0;32m--> 160\u001b[0;31m                         \u001b[0mmake\u001b[0m\u001b[0;34m(\u001b[0m\u001b[0mdict\u001b[0m\u001b[0;34m(\u001b[0m\u001b[0mkey\u001b[0m\u001b[0;34m)\u001b[0m\u001b[0;34m)\u001b[0m\u001b[0;34m\u001b[0m\u001b[0;34m\u001b[0m\u001b[0m\n\u001b[0m\u001b[1;32m    161\u001b[0m                     \u001b[0;32mexcept\u001b[0m \u001b[0;34m(\u001b[0m\u001b[0mKeyboardInterrupt\u001b[0m\u001b[0;34m,\u001b[0m \u001b[0mSystemExit\u001b[0m\u001b[0;34m,\u001b[0m \u001b[0mException\u001b[0m\u001b[0;34m)\u001b[0m \u001b[0;32mas\u001b[0m \u001b[0merror\u001b[0m\u001b[0;34m:\u001b[0m\u001b[0;34m\u001b[0m\u001b[0;34m\u001b[0m\u001b[0m\n\u001b[1;32m    162\u001b[0m                         \u001b[0;32mtry\u001b[0m\u001b[0;34m:\u001b[0m\u001b[0;34m\u001b[0m\u001b[0;34m\u001b[0m\u001b[0m\n",
      "\u001b[0;32m/notebooks/mei/mei/mixins.py\u001b[0m in \u001b[0;36mmake\u001b[0;34m(self, key)\u001b[0m\n\u001b[1;32m    198\u001b[0m         \u001b[0moutput_selected_model\u001b[0m \u001b[0;34m=\u001b[0m \u001b[0mself\u001b[0m\u001b[0;34m.\u001b[0m\u001b[0mselector_table\u001b[0m\u001b[0;34m(\u001b[0m\u001b[0;34m)\u001b[0m\u001b[0;34m.\u001b[0m\u001b[0mget_output_selected_model\u001b[0m\u001b[0;34m(\u001b[0m\u001b[0mmodel\u001b[0m\u001b[0;34m,\u001b[0m \u001b[0mkey\u001b[0m\u001b[0;34m)\u001b[0m\u001b[0;34m\u001b[0m\u001b[0;34m\u001b[0m\u001b[0m\n\u001b[1;32m    199\u001b[0m         \u001b[0mmei_entity\u001b[0m \u001b[0;34m=\u001b[0m \u001b[0mself\u001b[0m\u001b[0;34m.\u001b[0m\u001b[0mmethod_table\u001b[0m\u001b[0;34m(\u001b[0m\u001b[0;34m)\u001b[0m\u001b[0;34m.\u001b[0m\u001b[0mgenerate_mei\u001b[0m\u001b[0;34m(\u001b[0m\u001b[0mdataloaders\u001b[0m\u001b[0;34m,\u001b[0m \u001b[0moutput_selected_model\u001b[0m\u001b[0;34m,\u001b[0m \u001b[0mkey\u001b[0m\u001b[0;34m,\u001b[0m \u001b[0mseed\u001b[0m\u001b[0;34m)\u001b[0m\u001b[0;34m\u001b[0m\u001b[0;34m\u001b[0m\u001b[0m\n\u001b[0;32m--> 200\u001b[0;31m         \u001b[0mself\u001b[0m\u001b[0;34m.\u001b[0m\u001b[0m_insert_mei\u001b[0m\u001b[0;34m(\u001b[0m\u001b[0mmei_entity\u001b[0m\u001b[0;34m)\u001b[0m\u001b[0;34m\u001b[0m\u001b[0;34m\u001b[0m\u001b[0m\n\u001b[0m\u001b[1;32m    201\u001b[0m \u001b[0;34m\u001b[0m\u001b[0m\n\u001b[1;32m    202\u001b[0m     \u001b[0;32mdef\u001b[0m \u001b[0m_insert_mei\u001b[0m\u001b[0;34m(\u001b[0m\u001b[0mself\u001b[0m\u001b[0;34m,\u001b[0m \u001b[0mmei_entity\u001b[0m\u001b[0;34m:\u001b[0m \u001b[0mDict\u001b[0m\u001b[0;34m[\u001b[0m\u001b[0mstr\u001b[0m\u001b[0;34m,\u001b[0m \u001b[0mAny\u001b[0m\u001b[0;34m]\u001b[0m\u001b[0;34m)\u001b[0m \u001b[0;34m->\u001b[0m \u001b[0;32mNone\u001b[0m\u001b[0;34m:\u001b[0m\u001b[0;34m\u001b[0m\u001b[0;34m\u001b[0m\u001b[0m\n",
      "\u001b[0;32m/notebooks/mei/mei/mixins.py\u001b[0m in \u001b[0;36m_insert_mei\u001b[0;34m(self, mei_entity)\u001b[0m\n\u001b[1;32m    205\u001b[0m             \u001b[0;32mfor\u001b[0m \u001b[0mname\u001b[0m \u001b[0;32min\u001b[0m \u001b[0;34m(\u001b[0m\u001b[0;34m\"mei\"\u001b[0m\u001b[0;34m,\u001b[0m \u001b[0;34m\"output\"\u001b[0m\u001b[0;34m)\u001b[0m\u001b[0;34m:\u001b[0m\u001b[0;34m\u001b[0m\u001b[0;34m\u001b[0m\u001b[0m\n\u001b[1;32m    206\u001b[0m                 \u001b[0mself\u001b[0m\u001b[0;34m.\u001b[0m\u001b[0m_save_to_disk\u001b[0m\u001b[0;34m(\u001b[0m\u001b[0mmei_entity\u001b[0m\u001b[0;34m,\u001b[0m \u001b[0mtemp_dir\u001b[0m\u001b[0;34m,\u001b[0m \u001b[0mname\u001b[0m\u001b[0;34m)\u001b[0m\u001b[0;34m\u001b[0m\u001b[0;34m\u001b[0m\u001b[0m\n\u001b[0;32m--> 207\u001b[0;31m             \u001b[0mself\u001b[0m\u001b[0;34m.\u001b[0m\u001b[0minsert1\u001b[0m\u001b[0;34m(\u001b[0m\u001b[0mmei_entity\u001b[0m\u001b[0;34m,\u001b[0m \u001b[0mignore_extra_fields\u001b[0m\u001b[0;34m=\u001b[0m\u001b[0;32mTrue\u001b[0m\u001b[0;34m)\u001b[0m\u001b[0;34m\u001b[0m\u001b[0;34m\u001b[0m\u001b[0m\n\u001b[0m\u001b[1;32m    208\u001b[0m \u001b[0;34m\u001b[0m\u001b[0m\n\u001b[1;32m    209\u001b[0m     \u001b[0;32mdef\u001b[0m \u001b[0m_save_to_disk\u001b[0m\u001b[0;34m(\u001b[0m\u001b[0mself\u001b[0m\u001b[0;34m,\u001b[0m \u001b[0mmei_entity\u001b[0m\u001b[0;34m:\u001b[0m \u001b[0mDict\u001b[0m\u001b[0;34m[\u001b[0m\u001b[0mstr\u001b[0m\u001b[0;34m,\u001b[0m \u001b[0mAny\u001b[0m\u001b[0;34m]\u001b[0m\u001b[0;34m,\u001b[0m \u001b[0mtemp_dir\u001b[0m\u001b[0;34m:\u001b[0m \u001b[0mstr\u001b[0m\u001b[0;34m,\u001b[0m \u001b[0mname\u001b[0m\u001b[0;34m:\u001b[0m \u001b[0mstr\u001b[0m\u001b[0;34m)\u001b[0m \u001b[0;34m->\u001b[0m \u001b[0;32mNone\u001b[0m\u001b[0;34m:\u001b[0m\u001b[0;34m\u001b[0m\u001b[0;34m\u001b[0m\u001b[0m\n",
      "\u001b[0;32m/usr/local/lib/python3.8/dist-packages/datajoint/table.py\u001b[0m in \u001b[0;36minsert1\u001b[0;34m(self, row, **kwargs)\u001b[0m\n\u001b[1;32m    173\u001b[0m         \u001b[0mFor\u001b[0m \u001b[0mkwargs\u001b[0m\u001b[0;34m,\u001b[0m \u001b[0msee\u001b[0m \u001b[0minsert\u001b[0m\u001b[0;34m(\u001b[0m\u001b[0;34m)\u001b[0m\u001b[0;34m\u001b[0m\u001b[0;34m\u001b[0m\u001b[0m\n\u001b[1;32m    174\u001b[0m         \"\"\"\n\u001b[0;32m--> 175\u001b[0;31m         \u001b[0mself\u001b[0m\u001b[0;34m.\u001b[0m\u001b[0minsert\u001b[0m\u001b[0;34m(\u001b[0m\u001b[0;34m(\u001b[0m\u001b[0mrow\u001b[0m\u001b[0;34m,\u001b[0m\u001b[0;34m)\u001b[0m\u001b[0;34m,\u001b[0m \u001b[0;34m**\u001b[0m\u001b[0mkwargs\u001b[0m\u001b[0;34m)\u001b[0m\u001b[0;34m\u001b[0m\u001b[0;34m\u001b[0m\u001b[0m\n\u001b[0m\u001b[1;32m    176\u001b[0m \u001b[0;34m\u001b[0m\u001b[0m\n\u001b[1;32m    177\u001b[0m     \u001b[0;32mdef\u001b[0m \u001b[0minsert\u001b[0m\u001b[0;34m(\u001b[0m\u001b[0mself\u001b[0m\u001b[0;34m,\u001b[0m \u001b[0mrows\u001b[0m\u001b[0;34m,\u001b[0m \u001b[0mreplace\u001b[0m\u001b[0;34m=\u001b[0m\u001b[0;32mFalse\u001b[0m\u001b[0;34m,\u001b[0m \u001b[0mskip_duplicates\u001b[0m\u001b[0;34m=\u001b[0m\u001b[0;32mFalse\u001b[0m\u001b[0;34m,\u001b[0m \u001b[0mignore_extra_fields\u001b[0m\u001b[0;34m=\u001b[0m\u001b[0;32mFalse\u001b[0m\u001b[0;34m,\u001b[0m \u001b[0mallow_direct_insert\u001b[0m\u001b[0;34m=\u001b[0m\u001b[0;32mNone\u001b[0m\u001b[0;34m)\u001b[0m\u001b[0;34m:\u001b[0m\u001b[0;34m\u001b[0m\u001b[0;34m\u001b[0m\u001b[0m\n",
      "\u001b[0;32m/usr/local/lib/python3.8/dist-packages/datajoint/table.py\u001b[0m in \u001b[0;36minsert\u001b[0;34m(self, rows, replace, skip_duplicates, ignore_extra_fields, allow_direct_insert)\u001b[0m\n\u001b[1;32m    329\u001b[0m             \u001b[0;32mreturn\u001b[0m \u001b[0mrow_to_insert\u001b[0m\u001b[0;34m\u001b[0m\u001b[0;34m\u001b[0m\u001b[0m\n\u001b[1;32m    330\u001b[0m \u001b[0;34m\u001b[0m\u001b[0m\n\u001b[0;32m--> 331\u001b[0;31m         \u001b[0mrows\u001b[0m \u001b[0;34m=\u001b[0m \u001b[0mlist\u001b[0m\u001b[0;34m(\u001b[0m\u001b[0mmake_row_to_insert\u001b[0m\u001b[0;34m(\u001b[0m\u001b[0mrow\u001b[0m\u001b[0;34m)\u001b[0m \u001b[0;32mfor\u001b[0m \u001b[0mrow\u001b[0m \u001b[0;32min\u001b[0m \u001b[0mrows\u001b[0m\u001b[0;34m)\u001b[0m\u001b[0;34m\u001b[0m\u001b[0;34m\u001b[0m\u001b[0m\n\u001b[0m\u001b[1;32m    332\u001b[0m         \u001b[0;32mif\u001b[0m \u001b[0mrows\u001b[0m\u001b[0;34m:\u001b[0m\u001b[0;34m\u001b[0m\u001b[0;34m\u001b[0m\u001b[0m\n\u001b[1;32m    333\u001b[0m             \u001b[0;32mtry\u001b[0m\u001b[0;34m:\u001b[0m\u001b[0;34m\u001b[0m\u001b[0;34m\u001b[0m\u001b[0m\n",
      "\u001b[0;32m/usr/local/lib/python3.8/dist-packages/datajoint/table.py\u001b[0m in \u001b[0;36m<genexpr>\u001b[0;34m(.0)\u001b[0m\n\u001b[1;32m    329\u001b[0m             \u001b[0;32mreturn\u001b[0m \u001b[0mrow_to_insert\u001b[0m\u001b[0;34m\u001b[0m\u001b[0;34m\u001b[0m\u001b[0m\n\u001b[1;32m    330\u001b[0m \u001b[0;34m\u001b[0m\u001b[0m\n\u001b[0;32m--> 331\u001b[0;31m         \u001b[0mrows\u001b[0m \u001b[0;34m=\u001b[0m \u001b[0mlist\u001b[0m\u001b[0;34m(\u001b[0m\u001b[0mmake_row_to_insert\u001b[0m\u001b[0;34m(\u001b[0m\u001b[0mrow\u001b[0m\u001b[0;34m)\u001b[0m \u001b[0;32mfor\u001b[0m \u001b[0mrow\u001b[0m \u001b[0;32min\u001b[0m \u001b[0mrows\u001b[0m\u001b[0;34m)\u001b[0m\u001b[0;34m\u001b[0m\u001b[0;34m\u001b[0m\u001b[0m\n\u001b[0m\u001b[1;32m    332\u001b[0m         \u001b[0;32mif\u001b[0m \u001b[0mrows\u001b[0m\u001b[0;34m:\u001b[0m\u001b[0;34m\u001b[0m\u001b[0;34m\u001b[0m\u001b[0m\n\u001b[1;32m    333\u001b[0m             \u001b[0;32mtry\u001b[0m\u001b[0;34m:\u001b[0m\u001b[0;34m\u001b[0m\u001b[0;34m\u001b[0m\u001b[0m\n",
      "\u001b[0;32m/usr/local/lib/python3.8/dist-packages/datajoint/table.py\u001b[0m in \u001b[0;36mmake_row_to_insert\u001b[0;34m(row)\u001b[0m\n\u001b[1;32m    299\u001b[0m             \u001b[0;32melif\u001b[0m \u001b[0misinstance\u001b[0m\u001b[0;34m(\u001b[0m\u001b[0mrow\u001b[0m\u001b[0;34m,\u001b[0m \u001b[0mcollections\u001b[0m\u001b[0;34m.\u001b[0m\u001b[0mabc\u001b[0m\u001b[0;34m.\u001b[0m\u001b[0mMapping\u001b[0m\u001b[0;34m)\u001b[0m\u001b[0;34m:\u001b[0m  \u001b[0;31m# dict-based\u001b[0m\u001b[0;34m\u001b[0m\u001b[0;34m\u001b[0m\u001b[0m\n\u001b[1;32m    300\u001b[0m                 \u001b[0mcheck_fields\u001b[0m\u001b[0;34m(\u001b[0m\u001b[0mrow\u001b[0m\u001b[0;34m)\u001b[0m\u001b[0;34m\u001b[0m\u001b[0;34m\u001b[0m\u001b[0m\n\u001b[0;32m--> 301\u001b[0;31m                 \u001b[0mattributes\u001b[0m \u001b[0;34m=\u001b[0m \u001b[0;34m[\u001b[0m\u001b[0mmake_placeholder\u001b[0m\u001b[0;34m(\u001b[0m\u001b[0mname\u001b[0m\u001b[0;34m,\u001b[0m \u001b[0mrow\u001b[0m\u001b[0;34m[\u001b[0m\u001b[0mname\u001b[0m\u001b[0;34m]\u001b[0m\u001b[0;34m)\u001b[0m \u001b[0;32mfor\u001b[0m \u001b[0mname\u001b[0m \u001b[0;32min\u001b[0m \u001b[0mheading\u001b[0m \u001b[0;32mif\u001b[0m \u001b[0mname\u001b[0m \u001b[0;32min\u001b[0m \u001b[0mrow\u001b[0m\u001b[0;34m]\u001b[0m\u001b[0;34m\u001b[0m\u001b[0;34m\u001b[0m\u001b[0m\n\u001b[0m\u001b[1;32m    302\u001b[0m             \u001b[0;32melse\u001b[0m\u001b[0;34m:\u001b[0m  \u001b[0;31m# positional\u001b[0m\u001b[0;34m\u001b[0m\u001b[0;34m\u001b[0m\u001b[0m\n\u001b[1;32m    303\u001b[0m                 \u001b[0;32mtry\u001b[0m\u001b[0;34m:\u001b[0m\u001b[0;34m\u001b[0m\u001b[0;34m\u001b[0m\u001b[0m\n",
      "\u001b[0;32m/usr/local/lib/python3.8/dist-packages/datajoint/table.py\u001b[0m in \u001b[0;36m<listcomp>\u001b[0;34m(.0)\u001b[0m\n\u001b[1;32m    299\u001b[0m             \u001b[0;32melif\u001b[0m \u001b[0misinstance\u001b[0m\u001b[0;34m(\u001b[0m\u001b[0mrow\u001b[0m\u001b[0;34m,\u001b[0m \u001b[0mcollections\u001b[0m\u001b[0;34m.\u001b[0m\u001b[0mabc\u001b[0m\u001b[0;34m.\u001b[0m\u001b[0mMapping\u001b[0m\u001b[0;34m)\u001b[0m\u001b[0;34m:\u001b[0m  \u001b[0;31m# dict-based\u001b[0m\u001b[0;34m\u001b[0m\u001b[0;34m\u001b[0m\u001b[0m\n\u001b[1;32m    300\u001b[0m                 \u001b[0mcheck_fields\u001b[0m\u001b[0;34m(\u001b[0m\u001b[0mrow\u001b[0m\u001b[0;34m)\u001b[0m\u001b[0;34m\u001b[0m\u001b[0;34m\u001b[0m\u001b[0m\n\u001b[0;32m--> 301\u001b[0;31m                 \u001b[0mattributes\u001b[0m \u001b[0;34m=\u001b[0m \u001b[0;34m[\u001b[0m\u001b[0mmake_placeholder\u001b[0m\u001b[0;34m(\u001b[0m\u001b[0mname\u001b[0m\u001b[0;34m,\u001b[0m \u001b[0mrow\u001b[0m\u001b[0;34m[\u001b[0m\u001b[0mname\u001b[0m\u001b[0;34m]\u001b[0m\u001b[0;34m)\u001b[0m \u001b[0;32mfor\u001b[0m \u001b[0mname\u001b[0m \u001b[0;32min\u001b[0m \u001b[0mheading\u001b[0m \u001b[0;32mif\u001b[0m \u001b[0mname\u001b[0m \u001b[0;32min\u001b[0m \u001b[0mrow\u001b[0m\u001b[0;34m]\u001b[0m\u001b[0;34m\u001b[0m\u001b[0;34m\u001b[0m\u001b[0m\n\u001b[0m\u001b[1;32m    302\u001b[0m             \u001b[0;32melse\u001b[0m\u001b[0;34m:\u001b[0m  \u001b[0;31m# positional\u001b[0m\u001b[0;34m\u001b[0m\u001b[0;34m\u001b[0m\u001b[0m\n\u001b[1;32m    303\u001b[0m                 \u001b[0;32mtry\u001b[0m\u001b[0;34m:\u001b[0m\u001b[0;34m\u001b[0m\u001b[0;34m\u001b[0m\u001b[0m\n",
      "\u001b[0;32m/usr/local/lib/python3.8/dist-packages/datajoint/table.py\u001b[0m in \u001b[0;36mmake_placeholder\u001b[0;34m(name, value)\u001b[0m\n\u001b[1;32m    270\u001b[0m                         \u001b[0;32mif\u001b[0m \u001b[0mattr\u001b[0m\u001b[0;34m.\u001b[0m\u001b[0mis_external\u001b[0m\u001b[0;34m:\u001b[0m\u001b[0;34m\u001b[0m\u001b[0;34m\u001b[0m\u001b[0m\n\u001b[1;32m    271\u001b[0m                             \u001b[0;31m# value is hash of contents\u001b[0m\u001b[0;34m\u001b[0m\u001b[0;34m\u001b[0m\u001b[0;34m\u001b[0m\u001b[0m\n\u001b[0;32m--> 272\u001b[0;31m                             \u001b[0mvalue\u001b[0m \u001b[0;34m=\u001b[0m \u001b[0mself\u001b[0m\u001b[0;34m.\u001b[0m\u001b[0mexternal\u001b[0m\u001b[0;34m[\u001b[0m\u001b[0mattr\u001b[0m\u001b[0;34m.\u001b[0m\u001b[0mstore\u001b[0m\u001b[0;34m]\u001b[0m\u001b[0;34m.\u001b[0m\u001b[0mupload_attachment\u001b[0m\u001b[0;34m(\u001b[0m\u001b[0mattachment_path\u001b[0m\u001b[0;34m)\u001b[0m\u001b[0;34m.\u001b[0m\u001b[0mbytes\u001b[0m\u001b[0;34m\u001b[0m\u001b[0;34m\u001b[0m\u001b[0m\n\u001b[0m\u001b[1;32m    273\u001b[0m                         \u001b[0;32melse\u001b[0m\u001b[0;34m:\u001b[0m\u001b[0;34m\u001b[0m\u001b[0;34m\u001b[0m\u001b[0m\n\u001b[1;32m    274\u001b[0m                             \u001b[0;31m# value is filename + contents\u001b[0m\u001b[0;34m\u001b[0m\u001b[0;34m\u001b[0m\u001b[0;34m\u001b[0m\u001b[0m\n",
      "\u001b[0;32m/usr/local/lib/python3.8/dist-packages/datajoint/external.py\u001b[0m in \u001b[0;36mupload_attachment\u001b[0;34m(self, local_path)\u001b[0m\n\u001b[1;32m    196\u001b[0m         \u001b[0muuid\u001b[0m \u001b[0;34m=\u001b[0m \u001b[0muuid_from_file\u001b[0m\u001b[0;34m(\u001b[0m\u001b[0mlocal_path\u001b[0m\u001b[0;34m,\u001b[0m \u001b[0minit_string\u001b[0m\u001b[0;34m=\u001b[0m\u001b[0mattachment_name\u001b[0m \u001b[0;34m+\u001b[0m \u001b[0;34m'\\0'\u001b[0m\u001b[0;34m)\u001b[0m\u001b[0;34m\u001b[0m\u001b[0;34m\u001b[0m\u001b[0m\n\u001b[1;32m    197\u001b[0m         \u001b[0mexternal_path\u001b[0m \u001b[0;34m=\u001b[0m \u001b[0mself\u001b[0m\u001b[0;34m.\u001b[0m\u001b[0m_make_uuid_path\u001b[0m\u001b[0;34m(\u001b[0m\u001b[0muuid\u001b[0m\u001b[0;34m,\u001b[0m \u001b[0;34m'.'\u001b[0m \u001b[0;34m+\u001b[0m \u001b[0mattachment_name\u001b[0m\u001b[0;34m)\u001b[0m\u001b[0;34m\u001b[0m\u001b[0;34m\u001b[0m\u001b[0m\n\u001b[0;32m--> 198\u001b[0;31m         \u001b[0mself\u001b[0m\u001b[0;34m.\u001b[0m\u001b[0m_upload_file\u001b[0m\u001b[0;34m(\u001b[0m\u001b[0mlocal_path\u001b[0m\u001b[0;34m,\u001b[0m \u001b[0mexternal_path\u001b[0m\u001b[0;34m)\u001b[0m\u001b[0;34m\u001b[0m\u001b[0;34m\u001b[0m\u001b[0m\n\u001b[0m\u001b[1;32m    199\u001b[0m         \u001b[0;31m# insert tracking info\u001b[0m\u001b[0;34m\u001b[0m\u001b[0;34m\u001b[0m\u001b[0;34m\u001b[0m\u001b[0m\n\u001b[1;32m    200\u001b[0m         self.connection.query(\"\"\"\n",
      "\u001b[0;32m/usr/local/lib/python3.8/dist-packages/datajoint/external.py\u001b[0m in \u001b[0;36m_upload_file\u001b[0;34m(self, local_path, external_path, metadata)\u001b[0m\n\u001b[1;32m     97\u001b[0m     \u001b[0;32mdef\u001b[0m \u001b[0m_upload_file\u001b[0m\u001b[0;34m(\u001b[0m\u001b[0mself\u001b[0m\u001b[0;34m,\u001b[0m \u001b[0mlocal_path\u001b[0m\u001b[0;34m,\u001b[0m \u001b[0mexternal_path\u001b[0m\u001b[0;34m,\u001b[0m \u001b[0mmetadata\u001b[0m\u001b[0;34m=\u001b[0m\u001b[0;32mNone\u001b[0m\u001b[0;34m)\u001b[0m\u001b[0;34m:\u001b[0m\u001b[0;34m\u001b[0m\u001b[0;34m\u001b[0m\u001b[0m\n\u001b[1;32m     98\u001b[0m         \u001b[0;32mif\u001b[0m \u001b[0mself\u001b[0m\u001b[0;34m.\u001b[0m\u001b[0mspec\u001b[0m\u001b[0;34m[\u001b[0m\u001b[0;34m'protocol'\u001b[0m\u001b[0;34m]\u001b[0m \u001b[0;34m==\u001b[0m \u001b[0;34m's3'\u001b[0m\u001b[0;34m:\u001b[0m\u001b[0;34m\u001b[0m\u001b[0;34m\u001b[0m\u001b[0m\n\u001b[0;32m---> 99\u001b[0;31m             \u001b[0mself\u001b[0m\u001b[0;34m.\u001b[0m\u001b[0ms3\u001b[0m\u001b[0;34m.\u001b[0m\u001b[0mfput\u001b[0m\u001b[0;34m(\u001b[0m\u001b[0mlocal_path\u001b[0m\u001b[0;34m,\u001b[0m \u001b[0mexternal_path\u001b[0m\u001b[0;34m,\u001b[0m \u001b[0mmetadata\u001b[0m\u001b[0;34m)\u001b[0m\u001b[0;34m\u001b[0m\u001b[0;34m\u001b[0m\u001b[0m\n\u001b[0m\u001b[1;32m    100\u001b[0m         \u001b[0;32melif\u001b[0m \u001b[0mself\u001b[0m\u001b[0;34m.\u001b[0m\u001b[0mspec\u001b[0m\u001b[0;34m[\u001b[0m\u001b[0;34m'protocol'\u001b[0m\u001b[0;34m]\u001b[0m \u001b[0;34m==\u001b[0m \u001b[0;34m'file'\u001b[0m\u001b[0;34m:\u001b[0m\u001b[0;34m\u001b[0m\u001b[0;34m\u001b[0m\u001b[0m\n\u001b[1;32m    101\u001b[0m             \u001b[0msafe_copy\u001b[0m\u001b[0;34m(\u001b[0m\u001b[0mlocal_path\u001b[0m\u001b[0;34m,\u001b[0m \u001b[0mexternal_path\u001b[0m\u001b[0;34m,\u001b[0m \u001b[0moverwrite\u001b[0m\u001b[0;34m=\u001b[0m\u001b[0;32mTrue\u001b[0m\u001b[0;34m)\u001b[0m\u001b[0;34m\u001b[0m\u001b[0;34m\u001b[0m\u001b[0m\n",
      "\u001b[0;32m/usr/local/lib/python3.8/dist-packages/datajoint/s3.py\u001b[0m in \u001b[0;36mfput\u001b[0;34m(self, local_file, name, metadata)\u001b[0m\n\u001b[1;32m     26\u001b[0m \u001b[0;34m\u001b[0m\u001b[0m\n\u001b[1;32m     27\u001b[0m     \u001b[0;32mdef\u001b[0m \u001b[0mfput\u001b[0m\u001b[0;34m(\u001b[0m\u001b[0mself\u001b[0m\u001b[0;34m,\u001b[0m \u001b[0mlocal_file\u001b[0m\u001b[0;34m,\u001b[0m \u001b[0mname\u001b[0m\u001b[0;34m,\u001b[0m \u001b[0mmetadata\u001b[0m\u001b[0;34m=\u001b[0m\u001b[0;32mNone\u001b[0m\u001b[0;34m)\u001b[0m\u001b[0;34m:\u001b[0m\u001b[0;34m\u001b[0m\u001b[0;34m\u001b[0m\u001b[0m\n\u001b[0;32m---> 28\u001b[0;31m         return self.client.fput_object(\n\u001b[0m\u001b[1;32m     29\u001b[0m             self.bucket, str(name), str(local_file), metadata=metadata)\n\u001b[1;32m     30\u001b[0m \u001b[0;34m\u001b[0m\u001b[0m\n",
      "\u001b[0;32m/usr/local/lib/python3.8/dist-packages/minio/api.py\u001b[0m in \u001b[0;36mfput_object\u001b[0;34m(self, bucket_name, object_name, file_path, content_type, metadata, sse, progress, part_size)\u001b[0m\n\u001b[1;32m    696\u001b[0m         \u001b[0;32mwith\u001b[0m \u001b[0mopen\u001b[0m\u001b[0;34m(\u001b[0m\u001b[0mfile_path\u001b[0m\u001b[0;34m,\u001b[0m \u001b[0;34m'rb'\u001b[0m\u001b[0;34m)\u001b[0m \u001b[0;32mas\u001b[0m \u001b[0mfile_data\u001b[0m\u001b[0;34m:\u001b[0m\u001b[0;34m\u001b[0m\u001b[0;34m\u001b[0m\u001b[0m\n\u001b[1;32m    697\u001b[0m             \u001b[0mfile_size\u001b[0m \u001b[0;34m=\u001b[0m \u001b[0mos\u001b[0m\u001b[0;34m.\u001b[0m\u001b[0mstat\u001b[0m\u001b[0;34m(\u001b[0m\u001b[0mfile_path\u001b[0m\u001b[0;34m)\u001b[0m\u001b[0;34m.\u001b[0m\u001b[0mst_size\u001b[0m\u001b[0;34m\u001b[0m\u001b[0;34m\u001b[0m\u001b[0m\n\u001b[0;32m--> 698\u001b[0;31m             return self.put_object(bucket_name, object_name, file_data,\n\u001b[0m\u001b[1;32m    699\u001b[0m                                    \u001b[0mfile_size\u001b[0m\u001b[0;34m,\u001b[0m \u001b[0mcontent_type\u001b[0m\u001b[0;34m,\u001b[0m \u001b[0mmetadata\u001b[0m\u001b[0;34m,\u001b[0m \u001b[0msse\u001b[0m\u001b[0;34m,\u001b[0m\u001b[0;34m\u001b[0m\u001b[0;34m\u001b[0m\u001b[0m\n\u001b[1;32m    700\u001b[0m                                    progress, part_size)\n",
      "\u001b[0;32m/usr/local/lib/python3.8/dist-packages/minio/api.py\u001b[0m in \u001b[0;36mput_object\u001b[0;34m(self, bucket_name, object_name, data, length, content_type, metadata, sse, progress, part_size)\u001b[0m\n\u001b[1;32m    967\u001b[0m             )\n\u001b[1;32m    968\u001b[0m \u001b[0;34m\u001b[0m\u001b[0m\n\u001b[0;32m--> 969\u001b[0;31m         return self._do_put_object(bucket_name, object_name,\n\u001b[0m\u001b[1;32m    970\u001b[0m                                    \u001b[0mcurrent_data\u001b[0m\u001b[0;34m,\u001b[0m \u001b[0mlen\u001b[0m\u001b[0;34m(\u001b[0m\u001b[0mcurrent_data\u001b[0m\u001b[0;34m)\u001b[0m\u001b[0;34m,\u001b[0m\u001b[0;34m\u001b[0m\u001b[0;34m\u001b[0m\u001b[0m\n\u001b[1;32m    971\u001b[0m                                    \u001b[0mmetadata\u001b[0m\u001b[0;34m=\u001b[0m\u001b[0mmetadata\u001b[0m\u001b[0;34m,\u001b[0m \u001b[0msse\u001b[0m\u001b[0;34m=\u001b[0m\u001b[0msse\u001b[0m\u001b[0;34m,\u001b[0m\u001b[0;34m\u001b[0m\u001b[0;34m\u001b[0m\u001b[0m\n",
      "\u001b[0;32m/usr/local/lib/python3.8/dist-packages/minio/api.py\u001b[0m in \u001b[0;36m_do_put_object\u001b[0;34m(self, bucket_name, object_name, part_data, part_size, upload_id, part_number, metadata, sse, progress)\u001b[0m\n\u001b[1;32m   1680\u001b[0m             \u001b[0mheaders\u001b[0m\u001b[0;34m.\u001b[0m\u001b[0mupdate\u001b[0m\u001b[0;34m(\u001b[0m\u001b[0msse\u001b[0m\u001b[0;34m.\u001b[0m\u001b[0mmarshal\u001b[0m\u001b[0;34m(\u001b[0m\u001b[0;34m)\u001b[0m\u001b[0;34m)\u001b[0m\u001b[0;34m\u001b[0m\u001b[0;34m\u001b[0m\u001b[0m\n\u001b[1;32m   1681\u001b[0m \u001b[0;34m\u001b[0m\u001b[0m\n\u001b[0;32m-> 1682\u001b[0;31m         response = self._url_open(\n\u001b[0m\u001b[1;32m   1683\u001b[0m             \u001b[0;34m'PUT'\u001b[0m\u001b[0;34m,\u001b[0m\u001b[0;34m\u001b[0m\u001b[0;34m\u001b[0m\u001b[0m\n\u001b[1;32m   1684\u001b[0m             \u001b[0mbucket_name\u001b[0m\u001b[0;34m=\u001b[0m\u001b[0mbucket_name\u001b[0m\u001b[0;34m,\u001b[0m\u001b[0;34m\u001b[0m\u001b[0;34m\u001b[0m\u001b[0m\n",
      "\u001b[0;32m/usr/local/lib/python3.8/dist-packages/minio/api.py\u001b[0m in \u001b[0;36m_url_open\u001b[0;34m(self, method, bucket_name, object_name, query, body, headers, content_sha256, preload_content)\u001b[0m\n\u001b[1;32m   2015\u001b[0m \u001b[0;34m\u001b[0m\u001b[0m\n\u001b[1;32m   2016\u001b[0m             \u001b[0;32mif\u001b[0m \u001b[0mmethod\u001b[0m \u001b[0;32min\u001b[0m \u001b[0;34m[\u001b[0m\u001b[0;34m'DELETE'\u001b[0m\u001b[0;34m,\u001b[0m \u001b[0;34m'GET'\u001b[0m\u001b[0;34m,\u001b[0m \u001b[0;34m'HEAD'\u001b[0m\u001b[0;34m,\u001b[0m \u001b[0;34m'POST'\u001b[0m\u001b[0;34m,\u001b[0m \u001b[0;34m'PUT'\u001b[0m\u001b[0;34m]\u001b[0m\u001b[0;34m:\u001b[0m\u001b[0;34m\u001b[0m\u001b[0;34m\u001b[0m\u001b[0m\n\u001b[0;32m-> 2017\u001b[0;31m                 raise ResponseError(response,\n\u001b[0m\u001b[1;32m   2018\u001b[0m                                     \u001b[0mmethod\u001b[0m\u001b[0;34m,\u001b[0m\u001b[0;34m\u001b[0m\u001b[0;34m\u001b[0m\u001b[0m\n\u001b[1;32m   2019\u001b[0m                                     \u001b[0mbucket_name\u001b[0m\u001b[0;34m,\u001b[0m\u001b[0;34m\u001b[0m\u001b[0;34m\u001b[0m\u001b[0m\n",
      "\u001b[0;31mRequestTimeout\u001b[0m: RequestTimeout: message: Your socket connection to the server was not read from or written to within the timeout period."
     ]
    }
   ],
   "source": [
    "MEI.populate(mei_restriction,\n",
    "             display_progress=True, \n",
    "             order='random',\n",
    "             reserve_jobs=True)"
   ]
  },
  {
   "cell_type": "markdown",
   "metadata": {},
   "source": [
    "# Fetch MEIs and plot activations"
   ]
  },
  {
   "cell_type": "code",
   "execution_count": 30,
   "metadata": {},
   "outputs": [],
   "source": [
    "# fetch the meis and outputs\n",
    "mei_paths, output_paths, unit_IDs, score = (MEISelector * MEI() & mei_restriction).fetch(\"mei\", \"output\",\"unit_id\",\"score\", download_path=fetch_download_path)"
   ]
  },
  {
   "cell_type": "code",
   "execution_count": 31,
   "metadata": {},
   "outputs": [],
   "source": [
    "MEIs = np.stack([torch.load(path).detach().cpu().numpy().squeeze() for path in mei_paths])\n",
    "evaluations = np.stack([torch.load(path)['mei.objectives.EvaluationObjective'][\"values\"] for path in output_paths])\n",
    "t_evaluations = np.stack([torch.load(path)['mei.objectives.EvaluationObjective'][\"times\"] for path in output_paths])"
   ]
  },
  {
   "cell_type": "code",
   "execution_count": 33,
   "metadata": {},
   "outputs": [],
   "source": [
    "mei_direct = dict(unit_IDs = unit_IDs, MEIs = MEIs)\n",
    "torch.save(mei_direct, 'mei_direct_highestdiff')"
   ]
  },
  {
   "cell_type": "markdown",
   "metadata": {},
   "source": [
    "# Plot Activations"
   ]
  },
  {
   "cell_type": "code",
   "execution_count": null,
   "metadata": {},
   "outputs": [],
   "source": [
    "plt.plot(t_evaluations.T, evaluations.T)\n",
    "sns.despine(trim=True, offset=10)\n",
    "plt.xlabel(\"iterations\")\n",
    "plt.ylabel(\"activation\")\n",
    "plt.title(\"Activations over iterations for all neurons\");"
   ]
  },
  {
   "cell_type": "markdown",
   "metadata": {},
   "source": [
    "# plot MEIs"
   ]
  },
  {
   "cell_type": "code",
   "execution_count": null,
   "metadata": {},
   "outputs": [],
   "source": [
    "fig, axes = plt.subplots(4, 5, figsize=(10,5), dpi=150)\n",
    "for i, ax in enumerate(axes.flatten()):\n",
    "    ax.imshow(MEIs[i], cmap=\"gray\", vmin=MEIs.min(), vmax=MEIs.max() ) # vmin=MEIs.min(), vmax=MEIs.max() \n",
    "    ax.axis(\"off\")\n",
    "    ax.text(0.5, 2.5, str(unit_IDs[i]), va='center', fontsize=8.5, color='k')\n",
    "fig.savefig('mei.png')"
   ]
  },
  {
   "cell_type": "code",
   "execution_count": null,
   "metadata": {},
   "outputs": [],
   "source": [
    "fig, ax = plt.subplots(1,3, figsize=(10,5), dpi=150)\n",
    "ax[0].hist(MEIs.flatten(), bins=20)\n",
    "ax[0].set_xlabel('pixel value')\n",
    "ax[0].set_title('Pixel distribution all MEIs')\n",
    "\n",
    "ax[1].hist(MEIs.max(axis=1).max(axis=1), bins=20)\n",
    "ax[1].set_xlabel('pixel value')\n",
    "ax[1].set_title('Max pixel value per MEI')\n",
    "\n",
    "ax[2].hist(MEIs.min(axis=1).min(axis=1), bins=20)\n",
    "ax[2].set_xlabel('pixel value')\n",
    "ax[2].set_title('Min pixel value per MEI')\n",
    "\n",
    "sns.despine(trim=True)\n",
    "#fig.savefig('MEI pixel distribution')"
   ]
  },
  {
   "cell_type": "code",
   "execution_count": null,
   "metadata": {},
   "outputs": [],
   "source": []
  }
 ],
 "metadata": {
  "kernelspec": {
   "display_name": "Python 3",
   "language": "python",
   "name": "python3"
  },
  "language_info": {
   "codemirror_mode": {
    "name": "ipython",
    "version": 3
   },
   "file_extension": ".py",
   "mimetype": "text/x-python",
   "name": "python",
   "nbconvert_exporter": "python",
   "pygments_lexer": "ipython3",
   "version": "3.8.0"
  }
 },
 "nbformat": 4,
 "nbformat_minor": 4
}

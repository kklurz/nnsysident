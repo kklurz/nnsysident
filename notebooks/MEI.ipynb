{
 "cells": [
  {
   "cell_type": "markdown",
   "metadata": {},
   "source": [
    "# Generate MEIs for one Dataset"
   ]
  },
  {
   "cell_type": "code",
   "execution_count": null,
   "metadata": {},
   "outputs": [],
   "source": [
    "%load_ext autoreload\n",
    "%autoreload 2\n",
    "\n",
    "import os\n",
    "import datajoint as dj\n",
    "dj.config['database.host'] = os.environ['DJ_HOST']\n",
    "dj.config['database.user'] = os.environ['DJ_USER']\n",
    "dj.config['database.password'] = os.environ['DJ_PASS']\n",
    "dj.config['enable_python_native_blobs'] = True\n",
    "dj.config['display.limit'] = 200\n",
    "\n",
    "name = 'iclr'\n",
    "dj.config['schema_name'] = f\"konstantin_nnsysident_{name}\"\n",
    "\n",
    "import nnfabrik\n",
    "from nnfabrik.main import *\n",
    "from nnfabrik import builder\n",
    "\n",
    "import torch\n",
    "import numpy as np\n",
    "import matplotlib.pyplot as plt\n",
    "import seaborn as sns\n",
    "\n",
    "from nnsysident.tables.experiments import *\n",
    "from nnsysident.tables.mei import *\n",
    "from nnsysident.utility.measures import get_correlations\n",
    "\n",
    "fetch_download_path = './mei_downloads'"
   ]
  },
  {
   "cell_type": "code",
   "execution_count": null,
   "metadata": {},
   "outputs": [],
   "source": [
    "def best_n_unit_ids(model, dataloaders, n, device='cuda'):\n",
    "    test_correlation = get_correlations(model, dataloaders[\"test\"], device=device, as_dict=False, per_neuron=True)\n",
    "    indices = np.argsort(test_correlation)\n",
    "    indices = indices[-n:]\n",
    "    \n",
    "    for i, (data_key, dataloader) in enumerate(dataloaders['test'].items()):\n",
    "        assert i>=0, 'More than one dataset not supported (yet)'\n",
    "        unit_ids = dataloader.dataset.neurons.unit_ids[indices]\n",
    "    return unit_ids, indices"
   ]
  },
  {
   "cell_type": "markdown",
   "metadata": {},
   "source": [
    "___"
   ]
  },
  {
   "cell_type": "markdown",
   "metadata": {},
   "source": [
    "# Select Dataset"
   ]
  },
  {
   "cell_type": "code",
   "execution_count": null,
   "metadata": {},
   "outputs": [],
   "source": [
    "key = (Experiments.Restrictions() & 'experiment_name = \"Real, Direct, se2d_fullgaussian2d, 20457-5-9\"') & 'dataset_hash = \"71c9ac7a98e066544ad88eb47ea282ec\"'\n",
    "key"
   ]
  },
  {
   "cell_type": "markdown",
   "metadata": {},
   "source": [
    "# Creating the ensemble"
   ]
  },
  {
   "cell_type": "markdown",
   "metadata": {},
   "source": [
    "#### the key has to restrict the TrainedModel to all the models that should be an ensemble. The dataset hash MUST be unique"
   ]
  },
  {
   "cell_type": "code",
   "execution_count": null,
   "metadata": {},
   "outputs": [],
   "source": [
    "(TrainedModel() & key)"
   ]
  },
  {
   "cell_type": "markdown",
   "metadata": {},
   "source": [
    "# Create an ensemble"
   ]
  },
  {
   "cell_type": "code",
   "execution_count": null,
   "metadata": {},
   "outputs": [],
   "source": [
    "TrainedEnsembleModel().create_ensemble(key=key, comment='Real, Direct, se2d_fullgaussian2d, 20457-5-9')"
   ]
  },
  {
   "cell_type": "code",
   "execution_count": null,
   "metadata": {},
   "outputs": [],
   "source": [
    "TrainedEnsembleModel & key"
   ]
  },
  {
   "cell_type": "code",
   "execution_count": null,
   "metadata": {},
   "outputs": [],
   "source": [
    "# Check whether the ensemble has the correct amount of members:\n",
    "TrainedEnsembleModel.Member() & key"
   ]
  },
  {
   "cell_type": "markdown",
   "metadata": {},
   "source": [
    "# Populating the MEISelector table, to match the unit IDs and the units within the model"
   ]
  },
  {
   "cell_type": "code",
   "execution_count": null,
   "metadata": {},
   "outputs": [],
   "source": [
    "MEISelector().populate(key, display_progress=True)"
   ]
  },
  {
   "cell_type": "code",
   "execution_count": null,
   "metadata": {},
   "outputs": [],
   "source": [
    "# one entry in the table corresponds to one neuron. \n",
    "#he unit_id comes straight from the dataset, the unit index is the position of that unit in the model.\n",
    "MEISelector() & key"
   ]
  },
  {
   "cell_type": "markdown",
   "metadata": {},
   "source": [
    "# Selecting the MEIMethod"
   ]
  },
  {
   "cell_type": "markdown",
   "metadata": {},
   "source": [
    "### Normalized Images (z-scored)"
   ]
  },
  {
   "cell_type": "code",
   "execution_count": null,
   "metadata": {},
   "outputs": [],
   "source": [
    "method_fn = 'mei.methods.gradient_ascent'\n",
    "\n",
    "method_config = {'initial': {'path': 'mei.initial.RandomNormal'},\n",
    "                 'optimizer': {'path': 'torch.optim.SGD', 'kwargs': {'lr': 2.0}},\n",
    "                 'precondition': {'path': 'mei.legacy.ops.GaussianBlur',\n",
    "                 'kwargs': {'sigma': 1}},\n",
    "                 'postprocessing': {'path': 'mei.legacy.ops.ChangeNorm',\n",
    "                 'kwargs': {'norm': 15}},\n",
    "                 'stopper': {'path': 'mei.stoppers.NumIterations',\n",
    "                 'kwargs': {'num_iterations': 500}},\n",
    "                 'objectives': [{'path': 'mei.objectives.EvaluationObjective',\n",
    "                 'kwargs': {'interval': 10}}],\n",
    "                 'device': 'cuda'}\n",
    "\n",
    "MEIMethod().add_method(method_fn, method_config, \"normalized image, norm=15, lr=2, iter=500\")"
   ]
  },
  {
   "cell_type": "markdown",
   "metadata": {},
   "source": [
    "### Un-normalized Images (8bit)"
   ]
  },
  {
   "cell_type": "code",
   "execution_count": null,
   "metadata": {},
   "outputs": [],
   "source": [
    "method_fn = 'mei.methods.gradient_ascent'\n",
    "sigma = 1\n",
    "lr = 1e4\n",
    "std = 2\n",
    "mean= 111.3\n",
    "n_iters=500\n",
    "\n",
    "method_config = {'initial': {'path': 'nnsysident.meis.initial.CustomRandomNormal'},\n",
    "                 'optimizer': {'path': 'torch.optim.SGD', \n",
    "                               'kwargs': {'lr': lr}},\n",
    "                 'precondition': {'path': 'mei.legacy.ops.GaussianBlur',\n",
    "                                  'kwargs': {'sigma': sigma}},\n",
    "                 'postprocessing': {'path': 'nnsysident.meis.ops.ChangeStdClampedMean',\n",
    "                                    'kwargs': {'std': std, \n",
    "                                               'x_min': 0, \n",
    "                                               'x_max': 255, \n",
    "                                               'clamped_mean': mean}},\n",
    "                 'stopper': {'path': 'mei.stoppers.NumIterations',\n",
    "                             'kwargs': {'num_iterations': n_iters}},\n",
    "                 'objectives': [{'path': 'mei.objectives.EvaluationObjective',\n",
    "                                 'kwargs': {'interval': 10}}],\n",
    "                 'device': 'cuda'\n",
    "}\n",
    "MEIMethod().add_method(method_fn, method_config, f\"8 bit image, std={std}, mean={mean}, lr={lr}, iter={n_iters}\")"
   ]
  },
  {
   "cell_type": "code",
   "execution_count": null,
   "metadata": {},
   "outputs": [],
   "source": [
    "MEIMethod()"
   ]
  },
  {
   "cell_type": "markdown",
   "metadata": {},
   "source": [
    "# Populate the MEI table"
   ]
  },
  {
   "cell_type": "code",
   "execution_count": null,
   "metadata": {},
   "outputs": [],
   "source": [
    "seed = 1\n",
    "dataloaders, model = (TrainedModel() & key & 'seed={}'.format(seed)).load_model()"
   ]
  },
  {
   "cell_type": "code",
   "execution_count": null,
   "metadata": {},
   "outputs": [],
   "source": [
    "n = 20\n",
    "mei_seed=1\n",
    "\n",
    "dataset_hash = '71c9ac7a98e066544ad88eb47ea282ec'\n",
    "ensemble_hash = '4dc2b15a95c86f907b7417d8811f54fe'\n",
    "method_hash='8db856e30d03df10c2c41326ff7e5422'\n",
    "\n",
    "# select unit IDs of neurons that MEI should be computed for\n",
    "#unit_ids, indices = best_n_unit_ids(model, dataloaders, n)\n",
    "#unit_ids = np.array([ 259, 1641, 1369, 2999, 2532, 1951, 5443, 3648, 3316, 1038])\n",
    "unit_ids = dataloaders['train']['20457-5-9-0'].dataset.neurons.unit_ids\n",
    "\n",
    "\n",
    "mei_restriction = dj.AndList(['dataset_hash = \"{}\"'.format(dataset_hash), \n",
    "             'ensemble_hash = \"{}\"'.format(ensemble_hash), \n",
    "             'method_hash = \"{}\"'.format(method_hash), \n",
    "             'unit_id in {}'.format(tuple(unit_ids)),\n",
    "             'mei_seed = {}'.format(mei_seed)])\n",
    "\n",
    "# Display how many MEIs would be computed\n",
    "MEI.progress(mei_restriction)"
   ]
  },
  {
   "cell_type": "code",
   "execution_count": null,
   "metadata": {},
   "outputs": [],
   "source": [
    "MEI.populate(mei_restriction,\n",
    "             display_progress=True, \n",
    "             order='random',\n",
    "             reserve_jobs=True)"
   ]
  },
  {
   "cell_type": "markdown",
   "metadata": {},
   "source": [
    "# Fetch MEIs and plot activations"
   ]
  },
  {
   "cell_type": "code",
   "execution_count": null,
   "metadata": {},
   "outputs": [],
   "source": [
    "# fetch the meis and outputs\n",
    "mei_paths, output_paths, unit_IDs, score = (MEISelector * MEI() & mei_restriction).fetch(\"mei\", \"output\",\"unit_id\",\"score\", download_path=fetch_download_path)"
   ]
  },
  {
   "cell_type": "code",
   "execution_count": null,
   "metadata": {},
   "outputs": [],
   "source": [
    "MEIs = np.stack([torch.load(path).detach().cpu().numpy().squeeze() for path in mei_paths])\n",
    "evaluations = np.stack([torch.load(path)['mei.objectives.EvaluationObjective'][\"values\"] for path in output_paths])\n",
    "t_evaluations = np.stack([torch.load(path)['mei.objectives.EvaluationObjective'][\"times\"] for path in output_paths])"
   ]
  },
  {
   "cell_type": "code",
   "execution_count": null,
   "metadata": {},
   "outputs": [],
   "source": [
    "# mei_direct = dict(unit_IDs = unit_IDs, MEIs = MEIs)\n",
    "# torch.save(mei_direct, 'mei_direct_highestdiff')"
   ]
  },
  {
   "cell_type": "markdown",
   "metadata": {},
   "source": [
    "# Plot Activations"
   ]
  },
  {
   "cell_type": "code",
   "execution_count": null,
   "metadata": {},
   "outputs": [],
   "source": [
    "plt.plot(t_evaluations.T, evaluations.T)\n",
    "sns.despine(trim=True, offset=10)\n",
    "plt.xlabel(\"iterations\")\n",
    "plt.ylabel(\"activation\")\n",
    "plt.title(\"Activations over iterations for all neurons\");"
   ]
  },
  {
   "cell_type": "markdown",
   "metadata": {},
   "source": [
    "# plot MEIs"
   ]
  },
  {
   "cell_type": "code",
   "execution_count": null,
   "metadata": {},
   "outputs": [],
   "source": [
    "fig, axes = plt.subplots(4, 5, figsize=(10,5), dpi=150)\n",
    "for i, ax in enumerate(axes.flatten()):\n",
    "    ax.imshow(MEIs[i], cmap=\"gray\", vmin=MEIs.min(), vmax=MEIs.max() ) # vmin=MEIs.min(), vmax=MEIs.max() \n",
    "    ax.axis(\"off\")\n",
    "    ax.text(0.5, 2.5, str(unit_IDs[i]), va='center', fontsize=8.5, color='k')\n",
    "#fig.savefig('mei.png')"
   ]
  }
 ],
 "metadata": {
  "kernelspec": {
   "display_name": "Python 3",
   "language": "python",
   "name": "python3"
  },
  "language_info": {
   "codemirror_mode": {
    "name": "ipython",
    "version": 3
   },
   "file_extension": ".py",
   "mimetype": "text/x-python",
   "name": "python",
   "nbconvert_exporter": "python",
   "pygments_lexer": "ipython3",
   "version": "3.8.0"
  }
 },
 "nbformat": 4,
 "nbformat_minor": 4
}

{
 "cells": [
  {
   "cell_type": "code",
   "execution_count": 1,
   "metadata": {},
   "outputs": [],
   "source": [
    "%load_ext autoreload\n",
    "%autoreload 2"
   ]
  },
  {
   "cell_type": "code",
   "execution_count": 2,
   "metadata": {},
   "outputs": [
    {
     "name": "stdout",
     "output_type": "stream",
     "text": [
      "Connecting fabee@134.2.168.16:3306\n"
     ]
    }
   ],
   "source": [
    "import dataport\n",
    "from dataport.bcm import experiment, xmatch, stack\n",
    "from mlutils.data.datasets import FileTreeDataset\n",
    "from pathlib import Path\n",
    "import numpy as np\n",
    "import h5py\n",
    "from tqdm import tqdm\n"
   ]
  },
  {
   "cell_type": "code",
   "execution_count": 3,
   "metadata": {},
   "outputs": [
    {
     "data": {
      "text/plain": [
       "[{'animal_id': 20892, 'session': 9, 'scan_idx': 10},\n",
       " {'animal_id': 21553, 'session': 11, 'scan_idx': 10},\n",
       " {'animal_id': 20892, 'session': 10, 'scan_idx': 10}]"
      ]
     },
     "execution_count": 3,
     "metadata": {},
     "output_type": "execute_result"
    }
   ],
   "source": [
    "restriction = dict(animal_id=23549, session=4, scan_idx=8)\n",
    "restriction = [dict(animal_id=23555, session=22, scan_idx=3),  \n",
    "               dict(animal_id=23555, session=23, scan_idx=1), \n",
    "               dict(animal_id=23555, session=18, scan_idx=1)]\n",
    "restriction = [\n",
    "    dict(animal_id=22845, session=18, scan_idx=5),  \n",
    "    dict(animal_id=22845, session=18, scan_idx=8),  \n",
    "]\n",
    "\n",
    "restriction = [dict(animal_id=23555, session=30, scan_idx=6),\n",
    "               dict(animal_id=23555, session=35, scan_idx=6),\n",
    "               dict(animal_id=23555, session=38, scan_idx=5),\n",
    "              ]\n",
    "\n",
    "restriction = [dict(animal_id=23555 , session=5, scan_idx=12),\n",
    "               dict(animal_id=23555 , session=40, scan_idx=40),\n",
    "               dict(animal_id=23555 , session=39, scan_idx=24),\n",
    "               dict(animal_id=23555 , session=6, scan_idx=10),\n",
    "               dict(animal_id=23555 , session=42, scan_idx=9),\n",
    "               dict(animal_id=23555 , session=40, scan_idx=10),\n",
    "              ]\n",
    "# differen collection scans\n",
    "restriction = [dict(animal_id=22846, session=2, scan_idx=19),\n",
    "               dict(animal_id=22846, session=2, scan_idx=21),\n",
    "               dict(animal_id=23343, session=5, scan_idx=17),\n",
    "              ]\n",
    "scans = ['22564-2-13','22564-3-12','22846-10-16','23555-4-20','23555-5-12','23656-14-22']\n",
    "scans = ['20505-6-1','20457-5-9']\n",
    "# more data for NIPS paper\n",
    "scans = ['23603-3-14' , '23605-1-16']\n",
    "# scans for hanna\n",
    "scans = ['20892-9-10', '21553-11-10', '20892-10-10']\n",
    "restriction = [dict(animal_id=a, session=b, scan_idx=c) for a,b,c in map(lambda s: tuple(int(e) for e in s.split('-')), scans)]\n",
    "restriction"
   ]
  },
  {
   "cell_type": "code",
   "execution_count": 4,
   "metadata": {},
   "outputs": [
    {
     "name": "stdout",
     "output_type": "stream",
     "text": [
      "cloud/static20892-10-10-preproc0.h5  cloud/static20892-6-17-preproc0.h5\n",
      "cloud/static20892-3-14-preproc0.h5   cloud/static20892-6-24-preproc0.h5\n",
      "cloud/static20892-4-16-preproc0.h5   cloud/static20892-9-10-preproc0.h5\n",
      "cloud/static20892-5-18-preproc0.h5\n"
     ]
    }
   ],
   "source": [
    "ls cloud/static20892*.h5"
   ]
  },
  {
   "cell_type": "code",
   "execution_count": 5,
   "metadata": {},
   "outputs": [
    {
     "data": {
      "text/html": [
       "\n",
       "        \n",
       "        <style type=\"text/css\">\n",
       "            .Relation{\n",
       "                border-collapse:collapse;\n",
       "            }\n",
       "            .Relation th{\n",
       "                background: #A0A0A0; color: #ffffff; padding:4px; border:#f0e0e0 1px solid;\n",
       "                font-weight: normal; font-family: monospace; font-size: 100%;\n",
       "            }\n",
       "            .Relation td{\n",
       "                padding:4px; border:#f0e0e0 1px solid; font-size:100%;\n",
       "            }\n",
       "            .Relation tr:nth-child(odd){\n",
       "                background: #ffffff;\n",
       "            }\n",
       "            .Relation tr:nth-child(even){\n",
       "                background: #f3f1ff;\n",
       "            }\n",
       "            /* Tooltip container */\n",
       "            .djtooltip {\n",
       "            }\n",
       "            /* Tooltip text */\n",
       "            .djtooltip .djtooltiptext {\n",
       "                visibility: hidden;\n",
       "                width: 120px;\n",
       "                background-color: black;\n",
       "                color: #fff;\n",
       "                text-align: center;\n",
       "                padding: 5px 0;\n",
       "                border-radius: 6px;\n",
       "                /* Position the tooltip text - see examples below! */\n",
       "                position: absolute;\n",
       "                z-index: 1;\n",
       "            }\n",
       "            #primary {\n",
       "                font-weight: bold;\n",
       "                color: black;\n",
       "            }\n",
       "\n",
       "            #nonprimary {\n",
       "                font-weight: normal;\n",
       "                color: white;\n",
       "            }\n",
       "\n",
       "            /* Show the tooltip text when you mouse over the tooltip container */\n",
       "            .djtooltip:hover .djtooltiptext {\n",
       "                visibility: visible;\n",
       "            }\n",
       "        </style>\n",
       "        \n",
       "        <b>scanimage scan info</b>\n",
       "            <div style=\"max-height:1000px;max-width:1500px;overflow:auto;\">\n",
       "            <table border=\"1\" class=\"Relation\">\n",
       "                <thead> <tr style=\"text-align: right;\"> <th> <div class=\"djtooltip\">\n",
       "                                <p id=\"primary\">animal_id</p>\n",
       "                                <span class=\"djtooltiptext\">id number</span>\n",
       "                            </div></th><th><div class=\"djtooltip\">\n",
       "                                <p id=\"primary\">session</p>\n",
       "                                <span class=\"djtooltiptext\">session index for the mouse</span>\n",
       "                            </div></th><th><div class=\"djtooltip\">\n",
       "                                <p id=\"primary\">scan_idx</p>\n",
       "                                <span class=\"djtooltiptext\">number of TIFF stack file</span>\n",
       "                            </div></th><th><div class=\"djtooltip\">\n",
       "                                <p id=\"nonprimary\">lens</p>\n",
       "                                <span class=\"djtooltiptext\">objective lens</span>\n",
       "                            </div></th><th><div class=\"djtooltip\">\n",
       "                                <p id=\"nonprimary\">brain_area</p>\n",
       "                                <span class=\"djtooltiptext\">short name for cortical area</span>\n",
       "                            </div></th><th><div class=\"djtooltip\">\n",
       "                                <p id=\"nonprimary\">aim</p>\n",
       "                                <span class=\"djtooltiptext\">short name for the experiment scan</span>\n",
       "                            </div></th><th><div class=\"djtooltip\">\n",
       "                                <p id=\"nonprimary\">filename</p>\n",
       "                                <span class=\"djtooltiptext\">file base name</span>\n",
       "                            </div></th><th><div class=\"djtooltip\">\n",
       "                                <p id=\"nonprimary\">depth</p>\n",
       "                                <span class=\"djtooltiptext\">manual depth measurement</span>\n",
       "                            </div></th><th><div class=\"djtooltip\">\n",
       "                                <p id=\"nonprimary\">scan_notes</p>\n",
       "                                <span class=\"djtooltiptext\">free-notes</span>\n",
       "                            </div></th><th><div class=\"djtooltip\">\n",
       "                                <p id=\"nonprimary\">site_number</p>\n",
       "                                <span class=\"djtooltiptext\">site number</span>\n",
       "                            </div></th><th><div class=\"djtooltip\">\n",
       "                                <p id=\"nonprimary\">software</p>\n",
       "                                <span class=\"djtooltiptext\">name of the software</span>\n",
       "                            </div></th><th><div class=\"djtooltip\">\n",
       "                                <p id=\"nonprimary\">version</p>\n",
       "                                <span class=\"djtooltiptext\">version</span>\n",
       "                            </div></th><th><div class=\"djtooltip\">\n",
       "                                <p id=\"nonprimary\">scan_ts</p>\n",
       "                                <span class=\"djtooltiptext\">don't edit</span>\n",
       "                            </div> </th> </tr> </thead>\n",
       "                <tbody> <tr> <td>0</td>\n",
       "<td>0</td>\n",
       "<td>3</td>\n",
       "<td>-</td>\n",
       "<td>-</td>\n",
       "<td>-</td>\n",
       "<td>-</td>\n",
       "<td>0</td>\n",
       "<td>simulated data</td>\n",
       "<td>0</td>\n",
       "<td>-</td>\n",
       "<td>-</td>\n",
       "<td>2020-05-01 15:46:01</td></tr><tr><td>20457</td>\n",
       "<td>5</td>\n",
       "<td>9</td>\n",
       "<td>meso</td>\n",
       "<td>V1</td>\n",
       "<td>2pScan</td>\n",
       "<td>20457_5_00009</td>\n",
       "<td>0</td>\n",
       "<td></td>\n",
       "<td>0</td>\n",
       "<td>scanimage</td>\n",
       "<td>2017b</td>\n",
       "<td>2018-12-13 12:08:06</td></tr><tr><td>20505</td>\n",
       "<td>6</td>\n",
       "<td>1</td>\n",
       "<td>meso</td>\n",
       "<td>V1</td>\n",
       "<td>2pScan</td>\n",
       "<td>20505_6_00001</td>\n",
       "<td>0</td>\n",
       "<td> </td>\n",
       "<td>0</td>\n",
       "<td>scanimage</td>\n",
       "<td>2017b</td>\n",
       "<td>2018-11-29 18:42:26</td></tr><tr><td>20892</td>\n",
       "<td>9</td>\n",
       "<td>10</td>\n",
       "<td>meso</td>\n",
       "<td>LM_V1</td>\n",
       "<td>2pScan</td>\n",
       "<td>20892_9_00010</td>\n",
       "<td>0</td>\n",
       "<td></td>\n",
       "<td>0</td>\n",
       "<td>scanimage</td>\n",
       "<td>2017b</td>\n",
       "<td>2019-02-07 14:37:03</td></tr><tr><td>20892</td>\n",
       "<td>10</td>\n",
       "<td>10</td>\n",
       "<td>meso</td>\n",
       "<td>LM</td>\n",
       "<td>2pScan</td>\n",
       "<td>20892_10_00010</td>\n",
       "<td>0</td>\n",
       "<td></td>\n",
       "<td>0</td>\n",
       "<td>scanimage</td>\n",
       "<td>2017b</td>\n",
       "<td>2019-02-12 14:41:04</td></tr><tr><td>21553</td>\n",
       "<td>11</td>\n",
       "<td>10</td>\n",
       "<td>meso</td>\n",
       "<td>LM_V1_AL_RL</td>\n",
       "<td>2pScan</td>\n",
       "<td>21553_11_00010</td>\n",
       "<td>0</td>\n",
       "<td></td>\n",
       "<td>0</td>\n",
       "<td>scanimage</td>\n",
       "<td>2017b</td>\n",
       "<td>2019-05-24 17:14:10</td></tr><tr><td>22086</td>\n",
       "<td>2</td>\n",
       "<td>3</td>\n",
       "<td>25x</td>\n",
       "<td>unset</td>\n",
       "<td>2pScan</td>\n",
       "<td>22086_2_00003</td>\n",
       "<td>0</td>\n",
       "<td></td>\n",
       "<td>0</td>\n",
       "<td>scanimage</td>\n",
       "<td>2017b</td>\n",
       "<td>2019-11-26 13:30:01</td></tr><tr><td>22564</td>\n",
       "<td>2</td>\n",
       "<td>12</td>\n",
       "<td>meso</td>\n",
       "<td>V1</td>\n",
       "<td>2pScan</td>\n",
       "<td>22564_2_00012</td>\n",
       "<td>0</td>\n",
       "<td></td>\n",
       "<td>0</td>\n",
       "<td>scanimage</td>\n",
       "<td>2017b</td>\n",
       "<td>2019-09-02 15:17:37</td></tr><tr><td>22564</td>\n",
       "<td>2</td>\n",
       "<td>13</td>\n",
       "<td>meso</td>\n",
       "<td>V1</td>\n",
       "<td>2pScan</td>\n",
       "<td>22564_2_00013</td>\n",
       "<td>0</td>\n",
       "<td></td>\n",
       "<td>0</td>\n",
       "<td>scanimage</td>\n",
       "<td>2017b</td>\n",
       "<td>2019-09-02 17:07:41</td></tr><tr><td>22564</td>\n",
       "<td>3</td>\n",
       "<td>8</td>\n",
       "<td>meso</td>\n",
       "<td>V1</td>\n",
       "<td>2pScan</td>\n",
       "<td>22564_3_00008</td>\n",
       "<td>0</td>\n",
       "<td></td>\n",
       "<td>0</td>\n",
       "<td>scanimage</td>\n",
       "<td>2017b</td>\n",
       "<td>2019-09-03 13:12:58</td></tr><tr><td>22564</td>\n",
       "<td>3</td>\n",
       "<td>12</td>\n",
       "<td>meso</td>\n",
       "<td>V1</td>\n",
       "<td>2pScan</td>\n",
       "<td>22564_3_00012</td>\n",
       "<td>0</td>\n",
       "<td></td>\n",
       "<td>0</td>\n",
       "<td>scanimage</td>\n",
       "<td>2017b</td>\n",
       "<td>2019-09-03 15:46:19</td></tr><tr><td>22845</td>\n",
       "<td>4</td>\n",
       "<td>3</td>\n",
       "<td>25x</td>\n",
       "<td>V1</td>\n",
       "<td>2pScan</td>\n",
       "<td>22845_4_00003</td>\n",
       "<td>1040</td>\n",
       "<td></td>\n",
       "<td>0</td>\n",
       "<td>scanimage</td>\n",
       "<td>2017b</td>\n",
       "<td>2019-11-18 14:52:08</td> </tr> </tbody>\n",
       "            </table>\n",
       "            <p>...</p>\n",
       "            <p>Total: 217</p></div>\n",
       "            "
      ],
      "text/plain": [
       "*animal_id    *session    *scan_idx    lens     brain_area     aim        filename       depth     scan_notes     site_number    software      version     scan_ts       \n",
       "+-----------+ +---------+ +----------+ +------+ +------------+ +--------+ +------------+ +-------+ +------------+ +------------+ +-----------+ +---------+ +------------+\n",
       "0             0           3            -        -              -          -              0         simulated data 0              -             -           2020-05-01 15:\n",
       "20457         5           9            meso     V1             2pScan     20457_5_00009  0                        0              scanimage     2017b       2018-12-13 12:\n",
       "20505         6           1            meso     V1             2pScan     20505_6_00001  0                        0              scanimage     2017b       2018-11-29 18:\n",
       "20892         9           10           meso     LM_V1          2pScan     20892_9_00010  0                        0              scanimage     2017b       2019-02-07 14:\n",
       "20892         10          10           meso     LM             2pScan     20892_10_00010 0                        0              scanimage     2017b       2019-02-12 14:\n",
       "21553         11          10           meso     LM_V1_AL_RL    2pScan     21553_11_00010 0                        0              scanimage     2017b       2019-05-24 17:\n",
       "22086         2           3            25x      unset          2pScan     22086_2_00003  0                        0              scanimage     2017b       2019-11-26 13:\n",
       "22564         2           12           meso     V1             2pScan     22564_2_00012  0                        0              scanimage     2017b       2019-09-02 15:\n",
       "22564         2           13           meso     V1             2pScan     22564_2_00013  0                        0              scanimage     2017b       2019-09-02 17:\n",
       "22564         3           8            meso     V1             2pScan     22564_3_00008  0                        0              scanimage     2017b       2019-09-03 13:\n",
       "22564         3           12           meso     V1             2pScan     22564_3_00012  0                        0              scanimage     2017b       2019-09-03 15:\n",
       "22845         4           3            25x      V1             2pScan     22845_4_00003  1040                     0              scanimage     2017b       2019-11-18 14:\n",
       "   ...\n",
       " (Total: 217)"
      ]
     },
     "execution_count": 5,
     "metadata": {},
     "output_type": "execute_result"
    }
   ],
   "source": [
    "experiment.Scan()"
   ]
  },
  {
   "cell_type": "code",
   "execution_count": 6,
   "metadata": {},
   "outputs": [
    {
     "data": {
      "text/plain": [
       "['cloud/static20892-9-10-preproc0.h5',\n",
       " 'cloud/static20892-10-10-preproc0.h5',\n",
       " 'cloud/static21553-11-10-preproc0.h5']"
      ]
     },
     "execution_count": 6,
     "metadata": {},
     "output_type": "execute_result"
    }
   ],
   "source": [
    "# experiment.Scan() & restriction\n",
    "\n",
    "template = 'cloud/static{animal_id}-{session}-{scan_idx}-preproc0'\n",
    "datasets = [(template + '.h5').format(**k) \n",
    "                for k in (experiment.Scan() & restriction).fetch('KEY')]\n",
    "datasets"
   ]
  },
  {
   "cell_type": "markdown",
   "metadata": {},
   "source": [
    "# Count trials"
   ]
  },
  {
   "cell_type": "code",
   "execution_count": 8,
   "metadata": {},
   "outputs": [
    {
     "name": "stdout",
     "output_type": "stream",
     "text": [
      "cloud/static20892-9-10-preproc0.h5 (5977, 1, 36, 64)\n",
      "cloud/static20892-10-10-preproc0.h5 (5992, 1, 36, 64)\n",
      "cloud/static21553-11-10-preproc0.h5 (5519, 1, 36, 64)\n"
     ]
    },
    {
     "name": "stderr",
     "output_type": "stream",
     "text": [
      "<ipython-input-8-a15cb89ca5a2>:2: H5pyDeprecationWarning: The default file mode will change to 'r' (read-only) in h5py 3.0. To suppress this warning, pass the mode you need to h5py.File(), or set the global default h5.get_config().default_file_mode, or set the environment variable H5PY_DEFAULT_READONLY=1. Available modes are: 'r', 'r+', 'w', 'w-'/'x', 'a'. See the docs for details.\n",
      "  with h5py.File(datafile) as fid:\n"
     ]
    }
   ],
   "source": [
    "for datafile in datasets:\n",
    "    with h5py.File(datafile) as fid:\n",
    "        print(datafile, fid['images'].shape)\n",
    "        "
   ]
  },
  {
   "cell_type": "markdown",
   "metadata": {},
   "source": [
    "# Export Data"
   ]
  },
  {
   "cell_type": "code",
   "execution_count": 7,
   "metadata": {},
   "outputs": [
    {
     "name": "stderr",
     "output_type": "stream",
     "text": [
      "/src/ml-utils/mlutils/data/utils.py:42: H5pyDeprecationWarning: The default file mode will change to 'r' (read-only) in h5py 3.0. To suppress this warning, pass the mode you need to h5py.File(), or set the global default h5.get_config().default_file_mode, or set the environment variable H5PY_DEFAULT_READONLY=1. Available modes are: 'r', 'r+', 'w', 'w-'/'x', 'a'. See the docs for details.\n",
      "  with h5.File(filename) as fid:\n",
      "Saving images: 100%|██████████| 5977/5977 [00:24<00:00, 243.42it/s]\n",
      "Saving responses: 100%|██████████| 5977/5977 [00:28<00:00, 213.06it/s]\n",
      "Saving behavior: 100%|██████████| 5977/5977 [00:25<00:00, 233.53it/s]\n",
      "Saving pupil_center: 100%|██████████| 5977/5977 [00:26<00:00, 224.84it/s]\n",
      "/src/ml-utils/mlutils/data/utils.py:55: H5pyDeprecationWarning: dataset.value has been deprecated. Use dataset[()] instead.\n",
      "  _savenpy(subpath / '{}.npy'.format(data_key), fid[data_key].value, overwrite)\n",
      "/src/ml-utils/mlutils/data/utils.py:64: H5pyDeprecationWarning: dataset.value has been deprecated. Use dataset[()] instead.\n",
      "  fid[meta_type][meta_key].value,\n"
     ]
    },
    {
     "name": "stdout",
     "output_type": "stream",
     "text": [
      "Not overwriting cloud/static20892-9-10-preproc0/meta/trials/tiers.npy\n",
      "Not overwriting cloud/static20892-9-10-preproc0/meta/trials/animal_id.npy\n",
      "Not overwriting cloud/static20892-9-10-preproc0/meta/trials/condition_hash.npy\n",
      "Not overwriting cloud/static20892-9-10-preproc0/meta/trials/frame_image_class.npy\n",
      "Not overwriting cloud/static20892-9-10-preproc0/meta/trials/frame_image_id.npy\n",
      "Not overwriting cloud/static20892-9-10-preproc0/meta/trials/frame_last_flip.npy\n",
      "Not overwriting cloud/static20892-9-10-preproc0/meta/trials/frame_pre_blank_period.npy\n",
      "Not overwriting cloud/static20892-9-10-preproc0/meta/trials/frame_presentation_time.npy\n",
      "Not overwriting cloud/static20892-9-10-preproc0/meta/trials/frame_trial_ts.npy\n",
      "Not overwriting cloud/static20892-9-10-preproc0/meta/trials/scan_idx.npy\n",
      "Not overwriting cloud/static20892-9-10-preproc0/meta/trials/session.npy\n",
      "Not overwriting cloud/static20892-9-10-preproc0/meta/trials/trial_idx.npy\n",
      "Not overwriting cloud/static20892-9-10-preproc0/meta/neurons/animal_ids.npy\n",
      "Not overwriting cloud/static20892-9-10-preproc0/meta/neurons/area.npy\n",
      "Not overwriting cloud/static20892-9-10-preproc0/meta/neurons/layer.npy\n",
      "Not overwriting cloud/static20892-9-10-preproc0/meta/neurons/scan_idx.npy\n",
      "Not overwriting cloud/static20892-9-10-preproc0/meta/neurons/sessions.npy\n",
      "Not overwriting cloud/static20892-9-10-preproc0/meta/neurons/unit_ids.npy\n",
      "Not overwriting cloud/static20892-9-10-preproc0/meta/statistics/behavior/all/max.npy\n",
      "Not overwriting cloud/static20892-9-10-preproc0/meta/statistics/behavior/all/mean.npy\n",
      "Not overwriting cloud/static20892-9-10-preproc0/meta/statistics/behavior/all/median.npy\n",
      "Not overwriting cloud/static20892-9-10-preproc0/meta/statistics/behavior/all/min.npy\n",
      "Not overwriting cloud/static20892-9-10-preproc0/meta/statistics/behavior/all/std.npy\n",
      "Not overwriting cloud/static20892-9-10-preproc0/meta/statistics/behavior/stimulus_frame/max.npy\n",
      "Not overwriting cloud/static20892-9-10-preproc0/meta/statistics/behavior/stimulus_frame/mean.npy\n",
      "Not overwriting cloud/static20892-9-10-preproc0/meta/statistics/behavior/stimulus_frame/median.npy\n",
      "Not overwriting cloud/static20892-9-10-preproc0/meta/statistics/behavior/stimulus_frame/min.npy\n",
      "Not overwriting cloud/static20892-9-10-preproc0/meta/statistics/behavior/stimulus_frame/std.npy\n",
      "Not overwriting cloud/static20892-9-10-preproc0/meta/statistics/images/all/max.npy\n",
      "Not overwriting cloud/static20892-9-10-preproc0/meta/statistics/images/all/mean.npy\n",
      "Not overwriting cloud/static20892-9-10-preproc0/meta/statistics/images/all/median.npy\n",
      "Not overwriting cloud/static20892-9-10-preproc0/meta/statistics/images/all/min.npy\n",
      "Not overwriting cloud/static20892-9-10-preproc0/meta/statistics/images/all/std.npy\n",
      "Not overwriting cloud/static20892-9-10-preproc0/meta/statistics/images/stimulus_frame/max.npy\n",
      "Not overwriting cloud/static20892-9-10-preproc0/meta/statistics/images/stimulus_frame/mean.npy\n",
      "Not overwriting cloud/static20892-9-10-preproc0/meta/statistics/images/stimulus_frame/median.npy\n",
      "Not overwriting cloud/static20892-9-10-preproc0/meta/statistics/images/stimulus_frame/min.npy\n",
      "Not overwriting cloud/static20892-9-10-preproc0/meta/statistics/images/stimulus_frame/std.npy\n",
      "Not overwriting cloud/static20892-9-10-preproc0/meta/statistics/pupil_center/all/max.npy\n",
      "Not overwriting cloud/static20892-9-10-preproc0/meta/statistics/pupil_center/all/mean.npy\n",
      "Not overwriting cloud/static20892-9-10-preproc0/meta/statistics/pupil_center/all/median.npy\n",
      "Not overwriting cloud/static20892-9-10-preproc0/meta/statistics/pupil_center/all/min.npy\n"
     ]
    },
    {
     "name": "stderr",
     "output_type": "stream",
     "text": [
      "/src/ml-utils/mlutils/data/utils.py:74: H5pyDeprecationWarning: dataset.value has been deprecated. Use dataset[()] instead.\n",
      "  _savenpy(outpath / 'meta/statistics' / '{}.npy'.format(name), node.value, overwrite)\n"
     ]
    },
    {
     "name": "stdout",
     "output_type": "stream",
     "text": [
      "Not overwriting cloud/static20892-9-10-preproc0/meta/statistics/pupil_center/all/std.npy\n",
      "Not overwriting cloud/static20892-9-10-preproc0/meta/statistics/pupil_center/stimulus_frame/max.npy\n",
      "Not overwriting cloud/static20892-9-10-preproc0/meta/statistics/pupil_center/stimulus_frame/mean.npy\n",
      "Not overwriting cloud/static20892-9-10-preproc0/meta/statistics/pupil_center/stimulus_frame/median.npy\n",
      "Not overwriting cloud/static20892-9-10-preproc0/meta/statistics/pupil_center/stimulus_frame/min.npy\n",
      "Not overwriting cloud/static20892-9-10-preproc0/meta/statistics/pupil_center/stimulus_frame/std.npy\n",
      "Not overwriting cloud/static20892-9-10-preproc0/meta/statistics/responses/all/max.npy\n",
      "Not overwriting cloud/static20892-9-10-preproc0/meta/statistics/responses/all/mean.npy\n",
      "Not overwriting cloud/static20892-9-10-preproc0/meta/statistics/responses/all/median.npy\n",
      "Not overwriting cloud/static20892-9-10-preproc0/meta/statistics/responses/all/min.npy\n",
      "Not overwriting cloud/static20892-9-10-preproc0/meta/statistics/responses/all/std.npy\n"
     ]
    },
    {
     "name": "stderr",
     "output_type": "stream",
     "text": [
      "Saving images:   0%|          | 16/5992 [00:00<00:38, 156.71it/s]"
     ]
    },
    {
     "name": "stdout",
     "output_type": "stream",
     "text": [
      "Not overwriting cloud/static20892-9-10-preproc0/meta/statistics/responses/stimulus_frame/max.npy\n",
      "Not overwriting cloud/static20892-9-10-preproc0/meta/statistics/responses/stimulus_frame/mean.npy\n",
      "Not overwriting cloud/static20892-9-10-preproc0/meta/statistics/responses/stimulus_frame/median.npy\n",
      "Not overwriting cloud/static20892-9-10-preproc0/meta/statistics/responses/stimulus_frame/min.npy\n",
      "Not overwriting cloud/static20892-9-10-preproc0/meta/statistics/responses/stimulus_frame/std.npy\n"
     ]
    },
    {
     "name": "stderr",
     "output_type": "stream",
     "text": [
      "Saving images: 100%|██████████| 5992/5992 [00:29<00:00, 201.05it/s]\n",
      "Saving responses: 100%|██████████| 5992/5992 [00:30<00:00, 198.62it/s]\n",
      "Saving behavior: 100%|██████████| 5992/5992 [00:29<00:00, 200.58it/s]\n",
      "Saving pupil_center: 100%|██████████| 5992/5992 [00:22<00:00, 271.23it/s]\n"
     ]
    },
    {
     "name": "stdout",
     "output_type": "stream",
     "text": [
      "Not overwriting cloud/static20892-10-10-preproc0/meta/trials/tiers.npy\n",
      "Not overwriting cloud/static20892-10-10-preproc0/meta/trials/animal_id.npy\n",
      "Not overwriting cloud/static20892-10-10-preproc0/meta/trials/condition_hash.npy\n",
      "Not overwriting cloud/static20892-10-10-preproc0/meta/trials/frame_image_class.npy\n",
      "Not overwriting cloud/static20892-10-10-preproc0/meta/trials/frame_image_id.npy\n",
      "Not overwriting cloud/static20892-10-10-preproc0/meta/trials/frame_last_flip.npy\n",
      "Not overwriting cloud/static20892-10-10-preproc0/meta/trials/frame_pre_blank_period.npy\n",
      "Not overwriting cloud/static20892-10-10-preproc0/meta/trials/frame_presentation_time.npy\n",
      "Not overwriting cloud/static20892-10-10-preproc0/meta/trials/frame_trial_ts.npy\n",
      "Not overwriting cloud/static20892-10-10-preproc0/meta/trials/scan_idx.npy\n",
      "Not overwriting cloud/static20892-10-10-preproc0/meta/trials/session.npy\n",
      "Not overwriting cloud/static20892-10-10-preproc0/meta/trials/trial_idx.npy\n",
      "Not overwriting cloud/static20892-10-10-preproc0/meta/neurons/animal_ids.npy\n",
      "Not overwriting cloud/static20892-10-10-preproc0/meta/neurons/area.npy\n",
      "Not overwriting cloud/static20892-10-10-preproc0/meta/neurons/layer.npy\n",
      "Not overwriting cloud/static20892-10-10-preproc0/meta/neurons/scan_idx.npy\n",
      "Not overwriting cloud/static20892-10-10-preproc0/meta/neurons/sessions.npy\n",
      "Not overwriting cloud/static20892-10-10-preproc0/meta/neurons/unit_ids.npy\n",
      "Not overwriting cloud/static20892-10-10-preproc0/meta/statistics/behavior/all/max.npy\n",
      "Not overwriting cloud/static20892-10-10-preproc0/meta/statistics/behavior/all/mean.npy\n",
      "Not overwriting cloud/static20892-10-10-preproc0/meta/statistics/behavior/all/median.npy\n",
      "Not overwriting cloud/static20892-10-10-preproc0/meta/statistics/behavior/all/min.npy\n",
      "Not overwriting cloud/static20892-10-10-preproc0/meta/statistics/behavior/all/std.npy\n",
      "Not overwriting cloud/static20892-10-10-preproc0/meta/statistics/behavior/stimulus_frame/max.npy\n",
      "Not overwriting cloud/static20892-10-10-preproc0/meta/statistics/behavior/stimulus_frame/mean.npy\n",
      "Not overwriting cloud/static20892-10-10-preproc0/meta/statistics/behavior/stimulus_frame/median.npy\n",
      "Not overwriting cloud/static20892-10-10-preproc0/meta/statistics/behavior/stimulus_frame/min.npy\n",
      "Not overwriting cloud/static20892-10-10-preproc0/meta/statistics/behavior/stimulus_frame/std.npy\n",
      "Not overwriting cloud/static20892-10-10-preproc0/meta/statistics/images/all/max.npy\n",
      "Not overwriting cloud/static20892-10-10-preproc0/meta/statistics/images/all/mean.npy\n",
      "Not overwriting cloud/static20892-10-10-preproc0/meta/statistics/images/all/median.npy\n",
      "Not overwriting cloud/static20892-10-10-preproc0/meta/statistics/images/all/min.npy\n",
      "Not overwriting cloud/static20892-10-10-preproc0/meta/statistics/images/all/std.npy\n",
      "Not overwriting cloud/static20892-10-10-preproc0/meta/statistics/images/stimulus_frame/max.npy\n",
      "Not overwriting cloud/static20892-10-10-preproc0/meta/statistics/images/stimulus_frame/mean.npy\n",
      "Not overwriting cloud/static20892-10-10-preproc0/meta/statistics/images/stimulus_frame/median.npy\n",
      "Not overwriting cloud/static20892-10-10-preproc0/meta/statistics/images/stimulus_frame/min.npy\n",
      "Not overwriting cloud/static20892-10-10-preproc0/meta/statistics/images/stimulus_frame/std.npy\n",
      "Not overwriting cloud/static20892-10-10-preproc0/meta/statistics/pupil_center/all/max.npy\n",
      "Not overwriting cloud/static20892-10-10-preproc0/meta/statistics/pupil_center/all/mean.npy\n",
      "Not overwriting cloud/static20892-10-10-preproc0/meta/statistics/pupil_center/all/median.npy\n",
      "Not overwriting cloud/static20892-10-10-preproc0/meta/statistics/pupil_center/all/min.npy\n",
      "Not overwriting cloud/static20892-10-10-preproc0/meta/statistics/pupil_center/all/std.npy\n",
      "Not overwriting cloud/static20892-10-10-preproc0/meta/statistics/pupil_center/stimulus_frame/max.npy\n",
      "Not overwriting cloud/static20892-10-10-preproc0/meta/statistics/pupil_center/stimulus_frame/mean.npy\n",
      "Not overwriting cloud/static20892-10-10-preproc0/meta/statistics/pupil_center/stimulus_frame/median.npy\n",
      "Not overwriting cloud/static20892-10-10-preproc0/meta/statistics/pupil_center/stimulus_frame/min.npy\n",
      "Not overwriting cloud/static20892-10-10-preproc0/meta/statistics/pupil_center/stimulus_frame/std.npy\n",
      "Not overwriting cloud/static20892-10-10-preproc0/meta/statistics/responses/all/max.npy\n",
      "Not overwriting cloud/static20892-10-10-preproc0/meta/statistics/responses/all/mean.npy\n"
     ]
    },
    {
     "name": "stderr",
     "output_type": "stream",
     "text": [
      "Saving images:   0%|          | 0/5519 [00:00<?, ?it/s]"
     ]
    },
    {
     "name": "stdout",
     "output_type": "stream",
     "text": [
      "Not overwriting cloud/static20892-10-10-preproc0/meta/statistics/responses/all/median.npy\n",
      "Not overwriting cloud/static20892-10-10-preproc0/meta/statistics/responses/all/min.npy\n",
      "Not overwriting cloud/static20892-10-10-preproc0/meta/statistics/responses/all/std.npy\n",
      "Not overwriting cloud/static20892-10-10-preproc0/meta/statistics/responses/stimulus_frame/max.npy\n",
      "Not overwriting cloud/static20892-10-10-preproc0/meta/statistics/responses/stimulus_frame/mean.npy\n",
      "Not overwriting cloud/static20892-10-10-preproc0/meta/statistics/responses/stimulus_frame/median.npy\n",
      "Not overwriting cloud/static20892-10-10-preproc0/meta/statistics/responses/stimulus_frame/min.npy\n",
      "Not overwriting cloud/static20892-10-10-preproc0/meta/statistics/responses/stimulus_frame/std.npy\n"
     ]
    },
    {
     "name": "stderr",
     "output_type": "stream",
     "text": [
      "Saving images: 100%|██████████| 5519/5519 [00:28<00:00, 192.65it/s]\n",
      "Saving responses: 100%|██████████| 5519/5519 [00:27<00:00, 199.81it/s]\n",
      "Saving behavior: 100%|██████████| 5519/5519 [00:17<00:00, 306.80it/s]\n",
      "Saving pupil_center: 100%|██████████| 5519/5519 [00:23<00:00, 238.04it/s]\n"
     ]
    },
    {
     "name": "stdout",
     "output_type": "stream",
     "text": [
      "Not overwriting cloud/static21553-11-10-preproc0/meta/trials/tiers.npy\n",
      "Not overwriting cloud/static21553-11-10-preproc0/meta/trials/animal_id.npy\n",
      "Not overwriting cloud/static21553-11-10-preproc0/meta/trials/condition_hash.npy\n",
      "Not overwriting cloud/static21553-11-10-preproc0/meta/trials/frame_image_class.npy\n",
      "Not overwriting cloud/static21553-11-10-preproc0/meta/trials/frame_image_id.npy\n",
      "Not overwriting cloud/static21553-11-10-preproc0/meta/trials/frame_last_flip.npy\n",
      "Not overwriting cloud/static21553-11-10-preproc0/meta/trials/frame_pre_blank_period.npy\n",
      "Not overwriting cloud/static21553-11-10-preproc0/meta/trials/frame_presentation_time.npy\n",
      "Not overwriting cloud/static21553-11-10-preproc0/meta/trials/frame_trial_ts.npy\n",
      "Not overwriting cloud/static21553-11-10-preproc0/meta/trials/scan_idx.npy\n",
      "Not overwriting cloud/static21553-11-10-preproc0/meta/trials/session.npy\n",
      "Not overwriting cloud/static21553-11-10-preproc0/meta/trials/trial_idx.npy\n",
      "Not overwriting cloud/static21553-11-10-preproc0/meta/neurons/animal_ids.npy\n",
      "Not overwriting cloud/static21553-11-10-preproc0/meta/neurons/area.npy\n",
      "Not overwriting cloud/static21553-11-10-preproc0/meta/neurons/layer.npy\n",
      "Not overwriting cloud/static21553-11-10-preproc0/meta/neurons/scan_idx.npy\n",
      "Not overwriting cloud/static21553-11-10-preproc0/meta/neurons/sessions.npy\n",
      "Not overwriting cloud/static21553-11-10-preproc0/meta/neurons/unit_ids.npy\n",
      "Not overwriting cloud/static21553-11-10-preproc0/meta/statistics/behavior/all/max.npy\n",
      "Not overwriting cloud/static21553-11-10-preproc0/meta/statistics/behavior/all/mean.npy\n",
      "Not overwriting cloud/static21553-11-10-preproc0/meta/statistics/behavior/all/median.npy\n",
      "Not overwriting cloud/static21553-11-10-preproc0/meta/statistics/behavior/all/min.npy\n",
      "Not overwriting cloud/static21553-11-10-preproc0/meta/statistics/behavior/all/std.npy\n",
      "Not overwriting cloud/static21553-11-10-preproc0/meta/statistics/behavior/stimulus_frame/max.npy\n",
      "Not overwriting cloud/static21553-11-10-preproc0/meta/statistics/behavior/stimulus_frame/mean.npy\n",
      "Not overwriting cloud/static21553-11-10-preproc0/meta/statistics/behavior/stimulus_frame/median.npy\n",
      "Not overwriting cloud/static21553-11-10-preproc0/meta/statistics/behavior/stimulus_frame/min.npy\n",
      "Not overwriting cloud/static21553-11-10-preproc0/meta/statistics/behavior/stimulus_frame/std.npy\n",
      "Not overwriting cloud/static21553-11-10-preproc0/meta/statistics/images/all/max.npy\n",
      "Not overwriting cloud/static21553-11-10-preproc0/meta/statistics/images/all/mean.npy\n",
      "Not overwriting cloud/static21553-11-10-preproc0/meta/statistics/images/all/median.npy\n",
      "Not overwriting cloud/static21553-11-10-preproc0/meta/statistics/images/all/min.npy\n",
      "Not overwriting cloud/static21553-11-10-preproc0/meta/statistics/images/all/std.npy\n",
      "Not overwriting cloud/static21553-11-10-preproc0/meta/statistics/images/stimulus_frame/max.npy\n",
      "Not overwriting cloud/static21553-11-10-preproc0/meta/statistics/images/stimulus_frame/mean.npy\n",
      "Not overwriting cloud/static21553-11-10-preproc0/meta/statistics/images/stimulus_frame/median.npy\n",
      "Not overwriting cloud/static21553-11-10-preproc0/meta/statistics/images/stimulus_frame/min.npy\n",
      "Not overwriting cloud/static21553-11-10-preproc0/meta/statistics/images/stimulus_frame/std.npy\n",
      "Not overwriting cloud/static21553-11-10-preproc0/meta/statistics/pupil_center/all/max.npy\n",
      "Not overwriting cloud/static21553-11-10-preproc0/meta/statistics/pupil_center/all/mean.npy\n",
      "Not overwriting cloud/static21553-11-10-preproc0/meta/statistics/pupil_center/all/median.npy\n",
      "Not overwriting cloud/static21553-11-10-preproc0/meta/statistics/pupil_center/all/min.npy\n",
      "Not overwriting cloud/static21553-11-10-preproc0/meta/statistics/pupil_center/all/std.npy\n",
      "Not overwriting cloud/static21553-11-10-preproc0/meta/statistics/pupil_center/stimulus_frame/max.npy\n",
      "Not overwriting cloud/static21553-11-10-preproc0/meta/statistics/pupil_center/stimulus_frame/mean.npy\n",
      "Not overwriting cloud/static21553-11-10-preproc0/meta/statistics/pupil_center/stimulus_frame/median.npy\n",
      "Not overwriting cloud/static21553-11-10-preproc0/meta/statistics/pupil_center/stimulus_frame/min.npy\n",
      "Not overwriting cloud/static21553-11-10-preproc0/meta/statistics/pupil_center/stimulus_frame/std.npy\n",
      "Not overwriting cloud/static21553-11-10-preproc0/meta/statistics/responses/all/max.npy\n",
      "Not overwriting cloud/static21553-11-10-preproc0/meta/statistics/responses/all/mean.npy\n",
      "Not overwriting cloud/static21553-11-10-preproc0/meta/statistics/responses/all/median.npy\n",
      "Not overwriting cloud/static21553-11-10-preproc0/meta/statistics/responses/all/min.npy\n",
      "Not overwriting cloud/static21553-11-10-preproc0/meta/statistics/responses/all/std.npy\n",
      "Not overwriting cloud/static21553-11-10-preproc0/meta/statistics/responses/stimulus_frame/max.npy\n",
      "Not overwriting cloud/static21553-11-10-preproc0/meta/statistics/responses/stimulus_frame/mean.npy\n",
      "Not overwriting cloud/static21553-11-10-preproc0/meta/statistics/responses/stimulus_frame/median.npy\n",
      "Not overwriting cloud/static21553-11-10-preproc0/meta/statistics/responses/stimulus_frame/min.npy\n",
      "Not overwriting cloud/static21553-11-10-preproc0/meta/statistics/responses/stimulus_frame/std.npy\n"
     ]
    }
   ],
   "source": [
    "for datafile in datasets:\n",
    "    FileTreeDataset.initialize_from(datafile, overwrite=False)"
   ]
  },
  {
   "cell_type": "markdown",
   "metadata": {},
   "source": [
    "# Link inputs and targets"
   ]
  },
  {
   "cell_type": "code",
   "execution_count": 8,
   "metadata": {},
   "outputs": [
    {
     "name": "stderr",
     "output_type": "stream",
     "text": [
      "/usr/local/lib/python3.8/dist-packages/datajoint/connection.py:215: UserWarning: MySQL server has gone away. Reconnecting to the server.\n",
      "  warnings.warn(\"MySQL server has gone away. Reconnecting to the server.\")\n"
     ]
    },
    {
     "name": "stdout",
     "output_type": "stream",
     "text": [
      "cloud/static20892-9-10-preproc0/\n",
      "FileTreeDataset /notebooks/cloud/static20892-9-10-preproc0 (n=5977 items)\n",
      "\timages, responses\n",
      "cloud/static20892-10-10-preproc0/\n",
      "FileTreeDataset /notebooks/cloud/static20892-10-10-preproc0 (n=5992 items)\n",
      "\timages, responses\n",
      "cloud/static21553-11-10-preproc0/\n",
      "FileTreeDataset /notebooks/cloud/static21553-11-10-preproc0 (n=5519 items)\n",
      "\timages, responses\n"
     ]
    }
   ],
   "source": [
    "for key in (experiment.Scan() & restriction).fetch('KEY'):\n",
    "    filename = (template + '/').format(**key)\n",
    "    print(filename)\n",
    "    dat = FileTreeDataset(filename, 'images', 'responses')\n",
    "    dat.add_link('responses', 'targets')\n",
    "    dat.add_link('images', 'inputs')\n",
    "    print(dat)\n",
    "    \n",
    "    "
   ]
  },
  {
   "cell_type": "markdown",
   "metadata": {},
   "source": [
    "# Augment with Cell positions"
   ]
  },
  {
   "cell_type": "code",
   "execution_count": 9,
   "metadata": {},
   "outputs": [
    {
     "name": "stdout",
     "output_type": "stream",
     "text": [
      "{'animal_id': 20892, 'session': 9, 'scan_idx': 10}\n",
      "{'animal_id': 20892, 'session': 10, 'scan_idx': 10}\n",
      "{'animal_id': 21553, 'session': 11, 'scan_idx': 10}\n"
     ]
    }
   ],
   "source": [
    "for key in (experiment.Scan() & restriction).fetch('KEY'):\n",
    "    print(key)\n",
    "    filename = (template + '/').format(**key)\n",
    "    dat = FileTreeDataset(filename, 'images', 'responses')\n",
    "    ai, se, si, ui, x, y, z = (experiment.ScanSet.UnitInfo & key).fetch('animal_id', 'session', 'scan_idx', 'unit_id', 'um_x', 'um_y', 'um_z')\n",
    "    p = np.c_[x,y,z]\n",
    "    dat.add_neuron_meta('cell_motor_coordinates', ai, se, si, ui, p)\n",
    "\n",
    "    \n",
    "    "
   ]
  },
  {
   "cell_type": "code",
   "execution_count": 10,
   "metadata": {},
   "outputs": [
    {
     "data": {
      "text/plain": [
       "array([[ -248., -1315.,   250.],\n",
       "       [ -267., -1338.,   250.],\n",
       "       [ -218., -1329.,   250.],\n",
       "       ...,\n",
       "       [ -547., -1306.,   350.],\n",
       "       [ -292., -1278.,   350.],\n",
       "       [ -582., -1110.,   350.]])"
      ]
     },
     "execution_count": 10,
     "metadata": {},
     "output_type": "execute_result"
    }
   ],
   "source": [
    "dat.neurons.cell_motor_coordinates"
   ]
  },
  {
   "cell_type": "markdown",
   "metadata": {},
   "source": [
    "# Augment with cell matching from StackSet"
   ]
  },
  {
   "cell_type": "code",
   "execution_count": 11,
   "metadata": {},
   "outputs": [
    {
     "name": "stdout",
     "output_type": "stream",
     "text": [
      "Encountered 0 unmatched elements\n",
      "Encountered 0 unmatched elements\n",
      "Encountered 0 unmatched elements\n",
      "Encountered 0 unmatched elements\n",
      "Encountered 8757 unmatched elements\n",
      "Encountered 8757 unmatched elements\n"
     ]
    }
   ],
   "source": [
    "for key in (experiment.Scan() & restriction).proj():\n",
    "    filename = (template + '/').format(**key)\n",
    "    dat = FileTreeDataset(filename, 'images', 'responses')\n",
    "    \n",
    "    key['scan_session'] = key.pop('session')\n",
    "    rel = stack.StackSet.Match() * stack.StackSet.Unit() & key\n",
    "    ai, se, si, ui, match_id, mx, my, mz = rel.fetch('animal_id', 'scan_session', 'scan_idx', 'unit_id', \n",
    "                                                     'munit_id','munit_x','munit_y','munit_z')\n",
    "    dat.add_neuron_meta('multi_match_id', ai, se, si, ui, match_id, fill_missing=-1)\n",
    "    \n",
    "    munit_coordinates = np.c_[mx, my, mz]\n",
    "    dat.add_neuron_meta('multi_unit_stack_coordinates', ai, se, si, ui, munit_coordinates, fill_missing=np.nan)\n",
    "\n"
   ]
  },
  {
   "cell_type": "code",
   "execution_count": null,
   "metadata": {},
   "outputs": [],
   "source": [
    "dat.neurons.multi_unit_stack_coordinates\n",
    "dat.neurons.multi_match_id"
   ]
  },
  {
   "cell_type": "markdown",
   "metadata": {},
   "source": [
    "# Correct the color channels "
   ]
  },
  {
   "cell_type": "code",
   "execution_count": null,
   "metadata": {},
   "outputs": [],
   "source": [
    "p = Path('data/static22845-18-5-preproc0/data/images/')\n",
    "for filename in tqdm(p.glob('*.npy')):\n",
    "    img = np.load(filename)\n",
    "    if img.shape[0] == 1:\n",
    "        img = np.concatenate((img, 0 * img))\n",
    "        np.save(filename, img)"
   ]
  },
  {
   "cell_type": "code",
   "execution_count": null,
   "metadata": {},
   "outputs": [],
   "source": [
    "p = Path('data/static22845-18-8-preproc0/data/images/')\n",
    "for filename in tqdm(p.glob('*.npy')):\n",
    "    img = np.load(filename)\n",
    "    if img.shape[0] == 1:\n",
    "        img = np.concatenate((0 *  img, img))\n",
    "        np.save(filename, img)"
   ]
  },
  {
   "cell_type": "markdown",
   "metadata": {},
   "source": [
    "# Zip Data"
   ]
  },
  {
   "cell_type": "code",
   "execution_count": 12,
   "metadata": {},
   "outputs": [
    {
     "name": "stderr",
     "output_type": "stream",
     "text": [
      "23992it [06:34, 60.81it/s] \n",
      "24052it [06:17, 63.78it/s] \n",
      "22160it [05:39, 65.21it/s] \n"
     ]
    }
   ],
   "source": [
    "for key in (experiment.Scan() & restriction).proj():\n",
    "    filename = (template + '/').format(**key)\n",
    "    dat = FileTreeDataset(filename, 'images', 'responses')\n",
    "    dat.zip()"
   ]
  },
  {
   "cell_type": "markdown",
   "metadata": {},
   "source": [
    "# Clean Directories"
   ]
  },
  {
   "cell_type": "code",
   "execution_count": 13,
   "metadata": {},
   "outputs": [
    {
     "name": "stderr",
     "output_type": "stream",
     "text": [
      "/usr/local/lib/python3.8/dist-packages/datajoint/connection.py:215: UserWarning: MySQL server has gone away. Reconnecting to the server.\n",
      "  warnings.warn(\"MySQL server has gone away. Reconnecting to the server.\")\n"
     ]
    },
    {
     "name": "stdout",
     "output_type": "stream",
     "text": [
      "Removing cloud/static20892-9-10-preproc0/\n",
      "Removing cloud/static20892-10-10-preproc0/\n",
      "Removing cloud/static21553-11-10-preproc0/\n"
     ]
    }
   ],
   "source": [
    "import shutil\n",
    "\n",
    "for key in (experiment.Scan() & restriction).proj():\n",
    "    filename = (template + '/').format(**key)\n",
    "    print(f'Removing {filename}', flush=True)\n",
    "    shutil.rmtree(filename)"
   ]
  },
  {
   "cell_type": "markdown",
   "metadata": {},
   "source": [
    "# Augment with multi-cell matching (Only use this for KKLurz's data)"
   ]
  },
  {
   "cell_type": "code",
   "execution_count": null,
   "metadata": {},
   "outputs": [],
   "source": [
    "xmatch.MatchingParameters()"
   ]
  },
  {
   "cell_type": "code",
   "execution_count": null,
   "metadata": {},
   "outputs": [],
   "source": [
    "for key in (experiment.Scan() & 'animal_id=22564').proj():\n",
    "    filename = (template + '/').format(**key)\n",
    "    dat = FileTreeDataset(filename, 'images', 'responses')\n",
    "    rel = xmatch.UnitMatching.Match() * xmatch.neuro_data.StaticMultiDataset.Member() & key & 'match_params=1'\n",
    "    \n",
    "    ai, se, si, ui, match_id = rel.fetch('animal_id', 'session', 'scan_idx', 'unit_id', 'match_id')\n",
    "    dat.add_neuron_meta('multi_match_id', ai, se, si, ui, match_id, fill_missing=-1)\n"
   ]
  },
  {
   "cell_type": "code",
   "execution_count": null,
   "metadata": {},
   "outputs": [],
   "source": [
    "(dat.neurons.multi_match_id < 0).sum()"
   ]
  },
  {
   "cell_type": "code",
   "execution_count": null,
   "metadata": {},
   "outputs": [],
   "source": [
    "dat.change_log"
   ]
  },
  {
   "cell_type": "markdown",
   "metadata": {},
   "source": [
    "# Lengths of datasets"
   ]
  },
  {
   "cell_type": "code",
   "execution_count": null,
   "metadata": {},
   "outputs": [],
   "source": [
    "for key in (experiment.Scan() & 'animal_id=22564').proj():\n",
    "    filename = 'data/static{animal_id}-{session}-{scan_idx}-preproc0/'.format(**key)\n",
    "    dat = FileTreeDataset(filename, 'images', 'responses')\n",
    "    print(len(dat))"
   ]
  },
  {
   "cell_type": "code",
   "execution_count": null,
   "metadata": {},
   "outputs": [],
   "source": []
  }
 ],
 "metadata": {
  "kernelspec": {
   "display_name": "Python 3",
   "language": "python",
   "name": "python3"
  },
  "language_info": {
   "codemirror_mode": {
    "name": "ipython",
    "version": 3
   },
   "file_extension": ".py",
   "mimetype": "text/x-python",
   "name": "python",
   "nbconvert_exporter": "python",
   "pygments_lexer": "ipython3",
   "version": "3.8.0"
  }
 },
 "nbformat": 4,
 "nbformat_minor": 4
}

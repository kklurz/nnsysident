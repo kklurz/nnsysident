{
 "cells": [
  {
   "cell_type": "code",
   "execution_count": 1,
   "metadata": {},
   "outputs": [],
   "source": [
    "import os\n",
    "import datajoint as dj\n",
    "dj.config['database.host'] = os.environ['DJ_HOST']\n",
    "dj.config['database.user'] = os.environ['DJ_USERNAME']\n",
    "dj.config['database.password'] = os.environ['DJ_PASSWORD']\n",
    "dj.config['enable_python_native_blobs'] = True\n",
    "dj.config['display.limit'] = 200\n",
    "        \n",
    "name = 'mvi'\n",
    "os.environ[\"DJ_SCHEMA_NAME\"] = f\"metrics_{name}\"\n",
    "dj.config[\"nnfabrik.schema_name\"] = os.environ[\"DJ_SCHEMA_NAME\"]"
   ]
  },
  {
   "cell_type": "code",
   "execution_count": 2,
   "metadata": {},
   "outputs": [
    {
     "name": "stdout",
     "output_type": "stream",
     "text": [
      "Connecting konstantin@134.76.19.44:3306\n"
     ]
    }
   ],
   "source": [
    "import re\n",
    "import torch\n",
    "import numpy as np\n",
    "import pickle \n",
    "import json\n",
    "import pandas as pd\n",
    "pd.set_option('display.max_columns', 500)\n",
    "pd.set_option('display.max_rows', 10)\n",
    "import matplotlib as mpl\n",
    "mpl.rcParams[\"figure.facecolor\"] = 'w'\n",
    "mpl.rcParams[\"axes.facecolor\"] = 'w'\n",
    "mpl.rcParams[\"savefig.facecolor\"] = 'w'\n",
    "mpl.rcParams[\"figure.dpi\"] = 100\n",
    "mpl.rcParams[\"figure.figsize\"] = (3, 3)\n",
    "import matplotlib.pyplot as plt\n",
    "import seaborn as sns\n",
    "\n",
    "from nnsysident.training.trainers import standard_trainer as poisson_trainer\n",
    "from nnsysident.models.models import se2d_fullgaussian2d as poisson_se2d_fullgaussian2d\n",
    "from neuralmetrics.utils import extract_data_key\n",
    "# from neuralmetrics.models.direct import ZIG\n",
    "# from neuralmetrics.training.losses import ZIGLoss\n",
    "from neuralmetrics.training.trainers import nn_zig_trainer\n",
    "from neuralmetrics.datasets import static_loaders\n",
    "from neuralmetrics.models.neuralnet import zig_se2d_fullgaussian2d\n",
    "from neuralpredictors.measures import corr\n",
    "from scipy.stats import spearmanr, pearsonr\n",
    "\n",
    "from dataport.bcm.static import PreprocessedMouseData\n",
    "\n",
    "random_seed = 27121992\n",
    "device = 'cuda'"
   ]
  },
  {
   "cell_type": "markdown",
   "metadata": {},
   "source": [
    "---"
   ]
  },
  {
   "cell_type": "code",
   "execution_count": 3,
   "metadata": {},
   "outputs": [],
   "source": [
    "datasets =  [{'animal_id': 26614,\n",
    "              'session': 1,\n",
    "              'scan_idx': 16,\n",
    "              'scan_purpose': 'imagenet'},\n",
    "             {'animal_id': 26614,\n",
    "              'session': 2,\n",
    "              'scan_idx': 17,\n",
    "              'scan_purpose': 'dei_control_pair'},\n",
    "             {'animal_id': 26726,\n",
    "              'session': 6,\n",
    "              'scan_idx': 11,\n",
    "              'scan_purpose': 'imagenet'},\n",
    "             {'animal_id': 26726,\n",
    "              'session': 7,\n",
    "              'scan_idx': 13,\n",
    "              'scan_purpose': 'dei_control_pair'},\n",
    "             {'animal_id': 26942,\n",
    "              'session': 1,\n",
    "              'scan_idx': 11,\n",
    "              'scan_purpose': 'imagenet'},\n",
    "             {'animal_id': 26942,\n",
    "              'session': 2,\n",
    "              'scan_idx': 8,\n",
    "              'scan_purpose': 'dei_control_pair'},\n",
    "             {'animal_id': 27468,\n",
    "              'session': 3,\n",
    "              'scan_idx': 12,\n",
    "              'scan_purpose': 'imagenet'},\n",
    "             {'animal_id': 27468,\n",
    "              'session': 4,\n",
    "              'scan_idx': 7,\n",
    "              'scan_purpose': 'dei_control_pair'}]"
   ]
  },
  {
   "cell_type": "markdown",
   "metadata": {},
   "source": [
    "## Imagenet Data"
   ]
  },
  {
   "cell_type": "code",
   "execution_count": 4,
   "metadata": {},
   "outputs": [],
   "source": [
    "imagenet_key = datasets[0]\n",
    "assert imagenet_key[\"scan_purpose\"] == \"imagenet\"\n",
    "paths = [\"./data/static{}-{}-{}-GrayImageNet-7bed7f7379d99271be5d144e5e59a8e7.zip\".format(imagenet_key[\"animal_id\"], imagenet_key[\"session\"], imagenet_key[\"scan_idx\"])]\n",
    "img_data_key = extract_data_key(paths[0])\n",
    "\n",
    "dataset_config = {'paths': paths, \n",
    "                  'batch_size': 64, \n",
    "                  'seed': random_seed,\n",
    "                  'loader_outputs': [\"images\", \"responses\"],\n",
    "                  'normalize': True,\n",
    "                  'exclude': [\"images\"]\n",
    "                  }\n",
    "    \n",
    "img_dataloaders = static_loaders(**dataset_config)\n",
    "img_dataset = img_dataloaders[\"test\"][img_data_key].dataset"
   ]
  },
  {
   "cell_type": "markdown",
   "metadata": {},
   "source": [
    "---"
   ]
  },
  {
   "cell_type": "markdown",
   "metadata": {},
   "source": [
    "## Models"
   ]
  },
  {
   "cell_type": "markdown",
   "metadata": {},
   "source": [
    "### ZIG"
   ]
  },
  {
   "cell_type": "code",
   "execution_count": 5,
   "metadata": {},
   "outputs": [
    {
     "name": "stderr",
     "output_type": "stream",
     "text": [
      "/usr/local/lib/python3.8/dist-packages/neuralpredictors/layers/cores/conv2d.py:161: UserWarning: The averaged value of regularizer will be used.\n",
      "  warnings.warn(\"The averaged value of regularizer will be used.\", UserWarning)\n"
     ]
    }
   ],
   "source": [
    "loc = np.exp(-10)\n",
    "\n",
    "zig_model_config = {\n",
    "    \"layers\": 4,\n",
    "    \"hidden_channels\": 64,\n",
    "    \"feature_reg_weight\": 0.78,\n",
    "    \"init_mu_range\": 0.55,\n",
    "    \"init_sigma\": 0.4,\n",
    "    'grid_mean_predictor': {'type': 'cortex',\n",
    "                              'input_dimensions': 2,\n",
    "                              'hidden_layers': 0,\n",
    "                              'hidden_features': 0,\n",
    "                              'final_tanh': False},\n",
    "    'zero_thresholds': {img_data_key: loc},\n",
    "\n",
    "    \"input_kern\": 15,\n",
    "    \"gamma_input\": 1,\n",
    "    \"hidden_kern\": 13,\n",
    "    \"depth_separable\": True,\n",
    "    \"k_image_dependent\": True,\n",
    "}\n",
    "\n",
    "\n",
    "zig_model = zig_se2d_fullgaussian2d(img_dataloaders, random_seed, **zig_model_config)\n",
    "zig_model.to(device);"
   ]
  },
  {
   "cell_type": "code",
   "execution_count": null,
   "metadata": {},
   "outputs": [],
   "source": [
    "score, output, state_dict = nn_zig_trainer(zig_model,\n",
    "                                           img_dataloaders,\n",
    "                                           random_seed, \n",
    "                                           loss_function=\"ZIGLoss\", \n",
    "                                           stop_function=\"get_loss\", \n",
    "                                           track_training=True, \n",
    "                                           maximize=False)\n",
    "zig_model.eval();\n",
    "# torch.save(state_dict, \"ZIG_statedict\" + img_data_key)\n",
    "\n",
    "\n",
    "# zig_model.load_state_dict(torch.load(\"ZIG_statedict\" + img_data_key))\n",
    "# zig_model.eval();"
   ]
  },
  {
   "cell_type": "markdown",
   "metadata": {},
   "source": [
    "### Poisson"
   ]
  },
  {
   "cell_type": "code",
   "execution_count": null,
   "metadata": {},
   "outputs": [],
   "source": [
    "poisson_model_config = {\n",
    "    \"layers\": 4,\n",
    "    \"hidden_channels\": 64,\n",
    "    \"gamma_readout\": 0.78,\n",
    "    \"init_mu_range\": 0.55,\n",
    "    \"init_sigma\": 0.4,\n",
    "    'grid_mean_predictor': {'type': 'cortex',\n",
    "                              'input_dimensions': 2,\n",
    "                              'hidden_layers': 0,\n",
    "                              'hidden_features': 0,\n",
    "                              'final_tanh': False},\n",
    "    \"input_kern\": 15,\n",
    "    \"gamma_input\": 1,\n",
    "    \"hidden_kern\": 13,\n",
    "    \"depth_separable\": True,\n",
    "}\n",
    "\n",
    "\n",
    "poisson_model = poisson_se2d_fullgaussian2d(img_dataloaders, random_seed, **poisson_model_config)\n",
    "poisson_model.to(device);"
   ]
  },
  {
   "cell_type": "code",
   "execution_count": null,
   "metadata": {},
   "outputs": [],
   "source": [
    "score, output, state_dict = poisson_trainer(poisson_model,\n",
    "                                           img_dataloaders,\n",
    "                                           random_seed,)\n",
    "poisson_model.eval();\n",
    "torch.save(state_dict, \"Poisson_statedict\" + img_data_key + '.inshallah')\n",
    "\n",
    "\n",
    "# poisson_model.load_state_dict(torch.load(\"Poisson_statedict\" + img_data_key + '.inshallah'))\n",
    "# poisson_model.eval();"
   ]
  },
  {
   "cell_type": "markdown",
   "metadata": {},
   "source": [
    "---"
   ]
  },
  {
   "cell_type": "markdown",
   "metadata": {},
   "source": [
    "# Train Model"
   ]
  },
  {
   "cell_type": "markdown",
   "metadata": {},
   "source": [
    "___"
   ]
  },
  {
   "cell_type": "markdown",
   "metadata": {},
   "source": [
    "### DEI data"
   ]
  },
  {
   "cell_type": "code",
   "execution_count": 7,
   "metadata": {},
   "outputs": [
    {
     "name": "stdout",
     "output_type": "stream",
     "text": [
      "Returning only test sampler with repeats...\n"
     ]
    }
   ],
   "source": [
    "idx = np.array([(dat[\"animal_id\"] == imagenet_key[\"animal_id\"]) & (dat[\"session\"] != imagenet_key[\"session\"]) & (dat[\"scan_idx\"] != imagenet_key[\"scan_idx\"]) for dat in datasets])\n",
    "dei_key = np.array(datasets)[idx].item()\n",
    "\n",
    "assert dei_key[\"scan_purpose\"] == \"dei_control_pair\"\n",
    "paths = [\"./data/static{}-{}-{}-GrayImageNetDEIInfo-7bed7f7379d99271be5d144e5e59a8e7.zip\".format(dei_key[\"animal_id\"], dei_key[\"session\"], dei_key[\"scan_idx\"])]\n",
    "dei_data_key = extract_data_key(paths[0])\n",
    "\n",
    "dataset_config = {'paths': paths, \n",
    "                  'batch_size': 64, \n",
    "                  'seed': random_seed,\n",
    "                  'return_test_sampler': True,\n",
    "                  'tier': \"test\",\n",
    "                  'loader_outputs': [\"images\", 'responses', 'trial_idx', \"dei_unit_ids\", \"dei_src_unit_ids\", \"dei_mean_distances\"],\n",
    "                  'normalize': True,\n",
    "                  'exclude': [\"images\", \"trial_idx\", \"dei_unit_ids\", \"dei_src_unit_ids\", \"dei_mean_distances\"]}\n",
    "\n",
    "dei_dataloaders = static_loaders(**dataset_config)\n",
    "\n",
    "dei_dataset = dei_dataloaders[\"test\"][dei_data_key].dataset"
   ]
  },
  {
   "cell_type": "code",
   "execution_count": 8,
   "metadata": {},
   "outputs": [],
   "source": [
    "images, responses, trial_idxs, dei_unit_ids, dei_src_unit_ids, dei_mean_distances = [], [], [], [], [], []\n",
    "for image, response, trial_idx, dei_unit_id, dei_src_unit_id, dei_mean_distance in dei_dataloaders[\"test\"][dei_data_key]:\n",
    "    if (len(response) == 20) & (torch.unique(dei_mean_distance <= 10)):\n",
    "        images.append(image)\n",
    "        responses.append(response)\n",
    "        trial_idxs.append(trial_idx)\n",
    "        dei_unit_ids.append(dei_unit_id)\n",
    "        dei_src_unit_ids.append(dei_src_unit_id)\n",
    "        dei_mean_distances.append(dei_mean_distance)\n",
    "images = torch.stack(images)\n",
    "responses = torch.stack(responses)\n",
    "trial_idxs = torch.stack(trial_idxs).cpu().data.numpy()\n",
    "dei_unit_ids = torch.stack(dei_unit_ids).cpu().data.numpy()\n",
    "dei_src_unit_ids = torch.stack(dei_src_unit_ids).cpu().data.numpy()\n",
    "dei_mean_distances = torch.stack(dei_mean_distances).cpu().data.numpy()"
   ]
  },
  {
   "cell_type": "code",
   "execution_count": 9,
   "metadata": {},
   "outputs": [],
   "source": [
    "# Get possible unit ids (in the source-dataset frame)\n",
    "possible_src_unit_ids = np.unique(dei_src_unit_ids, axis=1).squeeze()\n",
    "\n",
    "# Sort according to mean distances (increasing)\n",
    "src_sort_idx = np.argsort(np.unique(dei_mean_distances, axis=1).squeeze())\n",
    "possible_src_unit_ids = possible_src_unit_ids[src_sort_idx]\n",
    "\n",
    "# Remove duplicates (from several DEIs/MEI)\n",
    "_, idx = np.unique(possible_src_unit_ids, return_index=True)\n",
    "possible_src_unit_ids = possible_src_unit_ids[np.sort(idx)]"
   ]
  },
  {
   "cell_type": "code",
   "execution_count": 10,
   "metadata": {},
   "outputs": [],
   "source": [
    "zig_means = np.full((3, len(possible_src_unit_ids)), np.nan)\n",
    "zig_variances = np.full((3, len(possible_src_unit_ids)), np.nan)\n",
    "real_resp_means = np.full((3, len(possible_src_unit_ids)), np.nan)\n",
    "real_resp_vars = np.full((3, len(possible_src_unit_ids)), np.nan)\n",
    "imgs = np.full((3, len(possible_src_unit_ids), 1, 36, 64), np.nan)\n",
    "for i, possible_src_unit_id in enumerate(possible_src_unit_ids):\n",
    "    image_idx = np.unique(np.where(dei_src_unit_ids == possible_src_unit_id)[0])\n",
    "\n",
    "    dei_neuron_id = np.unique(dei_unit_ids[image_idx]).item()\n",
    "    src_neuron_id = np.unique(dei_src_unit_ids[image_idx]).item()\n",
    "    src_neuron_idx = np.where(img_dataset.neurons.unit_ids == src_neuron_id)[0].item()\n",
    "    dei_neuron_idx = np.where(dei_dataset.neurons.unit_ids == dei_neuron_id)[0].item()\n",
    "\n",
    "    img = torch.unique(images[image_idx], dim=1).squeeze(1)\n",
    "    mei_dei_idx = [0, 1, 2]\n",
    "    if len(image_idx) != 3:\n",
    "        idx = np.where(np.isin(dei_dataset.trial_info.trial_idx, trial_idxs[image_idx]))[0]\n",
    "        if 'mask_fixed_mei' in np.unique(dei_dataset.trial_info.frame_image_class[idx]):\n",
    "            mei_dei_idx = [0, 1] if len(image_idx) == 2 else [0]\n",
    "        else:\n",
    "            mei_dei_idx = [1, 2] if len(image_idx) == 2 else [1]\n",
    "    imgs[mei_dei_idx, i, :, :, :] = img.cpu().data\n",
    "    \n",
    "    # TODO: Keep this line?\n",
    "#     img = torch.stack([((im - im.mean()) / (im.std())) for im in img.squeeze()])[:, None]\n",
    "\n",
    "    \n",
    "    zig_means_ = zig_model.predict_mean(img, data_key=img_data_key).cpu().data.numpy()\n",
    "    zig_variances_ = zig_model.predict_variance(img, data_key=img_data_key).cpu().data.numpy()\n",
    "\n",
    "    zig_means[mei_dei_idx, i] = zig_means_[:, src_neuron_idx]\n",
    "    zig_variances[mei_dei_idx, i] = zig_variances_[:, src_neuron_idx]\n",
    "    \n",
    "    real_resp_means[mei_dei_idx, i] = np.mean(responses[image_idx].cpu().data.numpy(), axis=1)[:, dei_neuron_idx]\n",
    "    real_resp_vars[mei_dei_idx, i] = np.var(responses[image_idx].cpu().data.numpy(), axis=1)[:, dei_neuron_idx]\n",
    "keep_idx = ~np.isnan(zig_means).any(axis=0)"
   ]
  },
  {
   "cell_type": "markdown",
   "metadata": {},
   "source": [
    "### Compare Zhiwei Model with Konstantin model"
   ]
  },
  {
   "cell_type": "code",
   "execution_count": 15,
   "metadata": {},
   "outputs": [],
   "source": [
    "with open(r\"group233_mei_dei_resps.pkl\", \"rb\") as input_file:\n",
    "    e = pickle.load(input_file).T"
   ]
  },
  {
   "cell_type": "code",
   "execution_count": 30,
   "metadata": {},
   "outputs": [
    {
     "data": {
      "image/png": "[encoded data removed]",
      "text/plain": [
       "<Figure size 1000x600 with 3 Axes>"
      ]
     },
     "metadata": {},
     "output_type": "display_data"
    }
   ],
   "source": [
    "fig, axes = plt.subplots(3, 1, figsize=(10, 6), dpi=100, sharex=True)\n",
    "fontsize = 10\n",
    "\n",
    "\n",
    "y_zhiwei = e / e[0, :]\n",
    "y_konstantin = zig_means / zig_means[0, :]\n",
    "y_konstantin = y_konstantin[:, keep_idx]\n",
    "y_real = real_resp_means / real_resp_means[0, :]\n",
    "y_real = y_real[:, keep_idx]\n",
    "x = np.arange(y_real.shape[1])\n",
    "\n",
    "# Zhiwei\n",
    "for i in range(3):\n",
    "    axes[0].plot(x, y_zhiwei[i,:], ls=\"\", marker=\"x\")\n",
    "\n",
    "# Konstantin\n",
    "for i in range(3):\n",
    "    axes[1].plot(x, y_konstantin[i,:], ls=\"\", marker=\"x\")\n",
    "    \n",
    "# Real data\n",
    "for i, label in enumerate([\"MEI\", \"DEI1\", \"DEI2\"]):\n",
    "    axes[2].plot(x, y_real[i,:], ls=\"\", marker=\"x\", label=label)\n",
    "    \n",
    "    \n",
    "axes[0].set_title(\"Zhiwei model\", fontsize=fontsize*1.3)\n",
    "axes[1].set_title(\"Konstantin model\", fontsize=fontsize*1.3)\n",
    "axes[2].set_title(\"Real data (averaged over 20 repeats)\", fontsize=fontsize*1.3)\n",
    "axes[2].set_xlabel(\"neurons\", fontsize=fontsize)\n",
    "axes[2].set_ylabel(r\"$\\frac{resp}{resp(MEI)}$\", fontsize=fontsize)\n",
    "\n",
    "# axes[1].set(ylim=[0, 6])\n",
    "\n",
    "axes[2].legend(bbox_to_anchor=(0.15, 1., 0, 0), frameon=False, fontsize=fontsize*.8)\n",
    "sns.despine(trim=True)\n",
    "# fig.savefig(\"Zhiwei_Model_Comparison\" + \".png\", bbox_inches=\"tight\", transparent=False)"
   ]
  },
  {
   "cell_type": "code",
   "execution_count": 26,
   "metadata": {},
   "outputs": [],
   "source": [
    "idx = np.argsort(np.abs(y_konstantin[1] - y_konstantin[2]))"
   ]
  },
  {
   "cell_type": "code",
   "execution_count": 40,
   "metadata": {},
   "outputs": [],
   "source": [
    "sorted_mean = zig_means[:, keep_idx][:, idx]\n",
    "sorted_var = zig_variances[:, keep_idx][:, idx]\n",
    "\n",
    "sorted_real_means = real_resp_means[:, keep_idx][:, idx]\n",
    "sorted_real_vars = real_resp_vars[:, keep_idx][:, idx]"
   ]
  },
  {
   "cell_type": "code",
   "execution_count": 37,
   "metadata": {},
   "outputs": [
    {
     "data": {
      "text/plain": [
       "array([87.88958923, 25.12521628, 44.30197436, 30.86910402, 18.09632401,\n",
       "        3.54920497,  4.73065765,  6.89497791, 53.05381   , 26.89746226,\n",
       "       23.59706398, 19.45465955, 26.53927014,  9.06056877,  0.29799623,\n",
       "        2.23044483,  9.62052789, 13.58018255, 11.788277  , 31.45307882,\n",
       "        6.14386201,  8.50411285, 11.98386493, 12.43876206, 21.61585989,\n",
       "       11.37611656, 29.98648818, 29.03636948,  2.38267786, 16.35062446,\n",
       "       33.26092099, 15.73512339,  8.17925869, 25.81171958,  8.75764519,\n",
       "       14.86583546,  5.48707466,  6.25377764,  9.55648501, 19.64530405,\n",
       "       25.90381827, 11.35886402, 20.6338463 , 23.13132248, 30.43840822,\n",
       "        9.03833758, 10.56171695, 16.81181182, 23.80810693, 11.29430404,\n",
       "       12.40696444, 13.86556506])"
      ]
     },
     "execution_count": 37,
     "metadata": {},
     "output_type": "execute_result"
    }
   ],
   "source": [
    "np.abs(sorted_var[1] - sorted_var[2])/ np.abs(sorted_mean[1] - sorted_mean[2]) * 2"
   ]
  },
  {
   "cell_type": "code",
   "execution_count": 42,
   "metadata": {},
   "outputs": [
    {
     "data": {
      "text/plain": [
       "array([[ 7.52290487, 40.60706329, 13.7837162 , 54.48014069, 27.04310226],\n",
       "       [11.29517555, 14.54772758, 12.29416466, 65.64176941, 28.27656937]])"
      ]
     },
     "execution_count": 42,
     "metadata": {},
     "output_type": "execute_result"
    }
   ],
   "source": [
    "sorted_real_vars[1:, idx[:5]]"
   ]
  },
  {
   "cell_type": "code",
   "execution_count": 43,
   "metadata": {},
   "outputs": [
    {
     "data": {
      "text/plain": [
       "array([[12.54012489, 39.61982727,  6.62738132, 13.14911652,  6.37679863],\n",
       "       [37.64199066, 16.69067192,  4.77531481, 12.92468739,  5.88129234]])"
      ]
     },
     "execution_count": 43,
     "metadata": {},
     "output_type": "execute_result"
    }
   ],
   "source": [
    "sorted_var[1:, idx[:5]]"
   ]
  },
  {
   "cell_type": "markdown",
   "metadata": {},
   "source": [
    "___"
   ]
  },
  {
   "cell_type": "code",
   "execution_count": 57,
   "metadata": {},
   "outputs": [
    {
     "data": {
      "text/plain": [
       "array([[4.43239498, 1.74529767, 2.27520561, 1.62336516, 3.22774482,\n",
       "        3.54734993, 2.35890245, 4.605793  , 1.22405756, 3.84729052,\n",
       "        1.93736982, 0.93584168, 1.85969234, 2.6175108 , 2.52116132,\n",
       "        5.23227692, 1.40527153, 1.21182358],\n",
       "       [4.83494425, 1.59264362, 2.27755356, 2.35494471, 3.08908868,\n",
       "        3.60139561, 2.45786548, 4.6411953 , 1.32676363, 3.89562297,\n",
       "        1.94055188, 0.85056108, 1.96953034, 2.42282677, 2.33351851,\n",
       "        4.99696112, 1.77443862, 1.14214122]])"
      ]
     },
     "execution_count": 57,
     "metadata": {},
     "output_type": "execute_result"
    }
   ],
   "source": [
    "i = 0\n",
    "j = 1\n",
    "threshold = .1\n",
    "\n",
    "norm_diff = (zig_means[i] - zig_means[j]) / (zig_means[i] + zig_means[j]) * 2 \n",
    "neuron_idx = np.where(norm_diff <= threshold)[0]\n",
    "\n",
    "zig_means[[i, j], :][:, neuron_idx]"
   ]
  },
  {
   "cell_type": "code",
   "execution_count": null,
   "metadata": {},
   "outputs": [],
   "source": []
  },
  {
   "cell_type": "code",
   "execution_count": null,
   "metadata": {},
   "outputs": [],
   "source": []
  },
  {
   "cell_type": "markdown",
   "metadata": {},
   "source": [
    "___"
   ]
  },
  {
   "cell_type": "markdown",
   "metadata": {},
   "source": [
    "# Correlation Analysis across [MEI, DEI, DEI]"
   ]
  },
  {
   "cell_type": "markdown",
   "metadata": {},
   "source": [
    "## Mean"
   ]
  },
  {
   "cell_type": "markdown",
   "metadata": {},
   "source": [
    "### Spearman Rank Correlation"
   ]
  },
  {
   "cell_type": "code",
   "execution_count": 18,
   "metadata": {},
   "outputs": [],
   "source": [
    "cs_ks, cs_zs = [], []\n",
    "for i in range(e.shape[-1]):\n",
    "    cs_k, p = spearmanr(real_resp_means[:, keep_idx][:, i], zig_means[:, keep_idx][:, i], axis=0)\n",
    "    cs_z, p = spearmanr(real_resp_means[:, keep_idx][:, i], e[:, i], axis=0)\n",
    "    cs_ks.append(cs_k)\n",
    "    cs_zs.append(cs_z)"
   ]
  },
  {
   "cell_type": "code",
   "execution_count": 19,
   "metadata": {},
   "outputs": [
    {
     "data": {
      "text/plain": [
       "(0.2980769230769231, 0.2980769230769231)"
      ]
     },
     "execution_count": 19,
     "metadata": {},
     "output_type": "execute_result"
    }
   ],
   "source": [
    "np.mean(cs_ks), np.mean(cs_zs)"
   ]
  },
  {
   "cell_type": "markdown",
   "metadata": {},
   "source": [
    "### Pearson Correlation"
   ]
  },
  {
   "cell_type": "code",
   "execution_count": 20,
   "metadata": {},
   "outputs": [],
   "source": [
    "cp_k = np.mean(corr(real_resp_means[:, keep_idx], zig_means[:, keep_idx], axis=0))\n",
    "cp_z = np.mean(corr(real_resp_means[:, keep_idx], e, axis=0))"
   ]
  },
  {
   "cell_type": "code",
   "execution_count": 21,
   "metadata": {},
   "outputs": [
    {
     "data": {
      "text/plain": [
       "(0.2730772573220369, 0.34435400489966467)"
      ]
     },
     "execution_count": 21,
     "metadata": {},
     "output_type": "execute_result"
    }
   ],
   "source": [
    "cp_k, cp_z"
   ]
  },
  {
   "cell_type": "code",
   "execution_count": 20,
   "metadata": {},
   "outputs": [],
   "source": [
    "cp_ks, cp_zs = [], []\n",
    "for i in range(e.shape[-1]):\n",
    "    cp_k, p = pearsonr(real_resp_means[:, keep_idx][:, i], zig_means[:, keep_idx][:, i])\n",
    "    cp_z, p = pearsonr(real_resp_means[:, keep_idx][:, i], e[:, i])\n",
    "    cp_ks.append(cp_k)\n",
    "    cp_zs.append(cp_z)"
   ]
  },
  {
   "cell_type": "code",
   "execution_count": 22,
   "metadata": {},
   "outputs": [
    {
     "data": {
      "text/plain": [
       "(0.34786196559469984, 0.3443540155522746)"
      ]
     },
     "execution_count": 22,
     "metadata": {},
     "output_type": "execute_result"
    }
   ],
   "source": [
    "np.mean(cp_ks), np.mean(cp_zs)"
   ]
  },
  {
   "cell_type": "code",
   "execution_count": 22,
   "metadata": {},
   "outputs": [
    {
     "data": {
      "image/png": "[encoded data removed]",
      "text/plain": [
       "<Figure size 1400x700 with 2 Axes>"
      ]
     },
     "metadata": {},
     "output_type": "display_data"
    }
   ],
   "source": [
    "fig, axes = plt.subplots(1, 2, figsize=(14, 7), dpi=100)\n",
    "\n",
    "fontsize = 15\n",
    "\n",
    "axes[0].scatter(real_resp_means.flatten(), real_resp_vars.flatten())\n",
    "axes[0].set_xlabel(\"Means\", fontsize=fontsize)\n",
    "axes[0].set_ylabel(\"Variances\", fontsize=fontsize)\n",
    "axes[0].set_title(\"Real Data\", fontsize=fontsize*1.3)\n",
    "\n",
    "axes[1].scatter(zig_means.flatten(), zig_variances.flatten())\n",
    "axes[1].set_title(\"ZIG\", fontsize=fontsize*1.3)\n",
    "# axes[1].set(xlim=[0, 15], ylim=[0, 400])\n",
    "\n",
    "sns.despine(trim=True)"
   ]
  },
  {
   "cell_type": "code",
   "execution_count": null,
   "metadata": {},
   "outputs": [],
   "source": [
    "np.where(variances == variances[:, keep_idx].max())"
   ]
  },
  {
   "cell_type": "code",
   "execution_count": null,
   "metadata": {},
   "outputs": [],
   "source": [
    "variances[:, keep_idx][:, 5]"
   ]
  },
  {
   "cell_type": "code",
   "execution_count": null,
   "metadata": {},
   "outputs": [],
   "source": [
    "variances.shape"
   ]
  },
  {
   "cell_type": "code",
   "execution_count": null,
   "metadata": {},
   "outputs": [],
   "source": []
  }
 ],
 "metadata": {
  "kernelspec": {
   "display_name": "Python 3",
   "language": "python",
   "name": "python3"
  },
  "language_info": {
   "codemirror_mode": {
    "name": "ipython",
    "version": 3
   },
   "file_extension": ".py",
   "mimetype": "text/x-python",
   "name": "python",
   "nbconvert_exporter": "python",
   "pygments_lexer": "ipython3",
   "version": "3.8.0"
  }
 },
 "nbformat": 4,
 "nbformat_minor": 4
}

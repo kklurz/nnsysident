{
 "cells": [
  {
   "cell_type": "markdown",
   "metadata": {},
   "source": [
    "# Demo Notebook how to run models on static mouse datasets"
   ]
  },
  {
   "cell_type": "code",
   "execution_count": 1,
   "metadata": {},
   "outputs": [],
   "source": [
    "%matplotlib inline\n",
    "%load_ext autoreload\n",
    "%autoreload 2 "
   ]
  },
  {
   "cell_type": "code",
   "execution_count": 2,
   "metadata": {},
   "outputs": [],
   "source": [
    "import os\n",
    "import datajoint as dj\n",
    "dj.config['database.host'] = os.environ['DJ_HOST']\n",
    "dj.config['database.user'] = os.environ['DJ_USER']\n",
    "dj.config['database.password'] = os.environ['DJ_PASS']\n",
    "dj.config['enable_python_native_blobs'] = True\n",
    "\n",
    "name = \"test\"\n",
    "dj.config['schema_name'] = f\"konstantin_nnsysident_{name}\""
   ]
  },
  {
   "cell_type": "code",
   "execution_count": 3,
   "metadata": {},
   "outputs": [
    {
     "name": "stderr",
     "output_type": "stream",
     "text": [
      "<ipython-input-3-71e7f2af38a6>:5: DeprecationWarning: Using or importing the ABCs from 'collections' instead of from 'collections.abc' is deprecated since Python 3.3, and in 3.9 it will stop working\n",
      "  from collections import OrderedDict, Iterable\n"
     ]
    },
    {
     "name": "stdout",
     "output_type": "stream",
     "text": [
      "Connecting konstantin@134.2.168.16:3306\n"
     ]
    }
   ],
   "source": [
    "import torch\n",
    "import numpy as np\n",
    "import pickle \n",
    "import pandas as pd\n",
    "from collections import OrderedDict, Iterable\n",
    "\n",
    "import nnfabrik\n",
    "from nnfabrik.main import *\n",
    "from nnfabrik import builder\n",
    "\n",
    "from nnsysident.tables.experiments import *\n",
    "from nnsysident.datasets.mouse_loaders import static_shared_loaders\n",
    "from nnsysident.datasets.mouse_loaders import static_loaders\n",
    "from nnsysident.datasets.mouse_loaders import static_loader"
   ]
  },
  {
   "cell_type": "markdown",
   "metadata": {},
   "source": [
    "# Get Dataloader"
   ]
  },
  {
   "cell_type": "code",
   "execution_count": 4,
   "metadata": {},
   "outputs": [
    {
     "name": "stdout",
     "output_type": "stream",
     "text": [
      "data/static22564-2-12-preproc0 exists already. Not unpacking data/static22564-2-12-preproc0.zip\n",
      "data/static22564-2-13-preproc0 exists already. Not unpacking data/static22564-2-13-preproc0.zip\n",
      "data/static22564-3-8-preproc0 exists already. Not unpacking data/static22564-3-8-preproc0.zip\n",
      "data/static22564-3-12-preproc0 exists already. Not unpacking data/static22564-3-12-preproc0.zip\n",
      "data/static22564-2-12-preproc0 exists already. Not unpacking data/static22564-2-12-preproc0.zip\n",
      "data/static22564-2-13-preproc0 exists already. Not unpacking data/static22564-2-13-preproc0.zip\n",
      "data/static22564-3-8-preproc0 exists already. Not unpacking data/static22564-3-8-preproc0.zip\n",
      "data/static22564-3-12-preproc0 exists already. Not unpacking data/static22564-3-12-preproc0.zip\n"
     ]
    }
   ],
   "source": [
    "# change path here\n",
    "paths = ['data/static22564-2-12-preproc0.zip',\n",
    "                     'data/static22564-2-13-preproc0.zip',\n",
    "                     'data/static22564-3-8-preproc0.zip',\n",
    "                     'data/static22564-3-12-preproc0.zip']\n",
    "\n",
    "#paths = ['data/static22564-2-12-preproc0.zip']\n",
    "dataset_fn = 'nnsysident.datasets.mouse_loaders.static_shared_loaders'\n",
    "dataset_config = dict(\n",
    "    paths=paths,\n",
    "    batch_size=64,\n",
    "    seed=1,\n",
    "    #image_n=50,\n",
    "    #image_base_seed=1,\n",
    "    multi_match_n=972,\n",
    "    multi_match_base_seed=1,\n",
    "    exclude_multi_match_n = 3625,\n",
    "\n",
    ")\n",
    "\n",
    "dataloaders = builder.get_data(dataset_fn, dataset_config)"
   ]
  },
  {
   "cell_type": "markdown",
   "metadata": {},
   "source": [
    "# Get Model"
   ]
  },
  {
   "cell_type": "markdown",
   "metadata": {},
   "source": [
    "### The New gaussian readout: change gauss_type for the different modes"
   ]
  },
  {
   "cell_type": "code",
   "execution_count": 5,
   "metadata": {},
   "outputs": [
    {
     "name": "stderr",
     "output_type": "stream",
     "text": [
      "/src/nnsysident/nnsysident/models/models.py:141: FutureWarning: arrays to stack must be passed as a \"sequence\" type such as list or tuple. Support for non-sequence iterables such as generators is deprecated as of NumPy 1.16 and will raise an error in the future.\n",
      "  all_multi_unit_ids = set(np.hstack(shared_match_ids.values()))\n"
     ]
    }
   ],
   "source": [
    "model_fn = 'nnsysident.models.models.se2d_fullgaussian2d'\n",
    "\n",
    "model_config = {'share_features': True,\n",
    "                'share_transform': True,\n",
    "                 'init_mu_range': 0.55,\n",
    "                 'init_sigma': 0.4,\n",
    "                 'input_kern': 15,\n",
    "                 'hidden_kern': 13,\n",
    "                 'gamma_input': 1.0,\n",
    "                 'gamma_readout': 0.333593, #2.117604964706911, #626.6499356203459, # 2.117604964706911, #626.6499356203459\n",
    "                 'grid_mean_predictor': {'type': 'cortex',\n",
    "                                          'input_dimensions': 2,\n",
    "                                          'hidden_layers': 0,\n",
    "                                          'hidden_features': 0,\n",
    "                                          'final_tanh': False,\n",
    "                                        }}\n",
    "\n",
    "\n",
    "model = builder.get_model(model_fn=model_fn, model_config=model_config, dataloaders=dataloaders, seed=1)\n",
    "model_real = builder.get_model(model_fn=model_fn, model_config=model_config, dataloaders=dataloaders, seed=1)\n",
    "model_start = builder.get_model(model_fn=model_fn, model_config=model_config, dataloaders=dataloaders, seed=1)"
   ]
  },
  {
   "cell_type": "code",
   "execution_count": null,
   "metadata": {},
   "outputs": [],
   "source": [
    "#core_dict = OrderedDict([(k, v) for k, v in torch.load('dfc6a9fbcca790d7a6b59ff787d96356.pth.tar').items() if k[0:5] == 'core.'])\n",
    "core_dict = torch.load('21ee7ec25ed7fc959838386c61f5c91a.pth.tar')\n",
    "\n",
    "def get_grids(my_model):\n",
    "    grids = {}\n",
    "    for key, readout in my_model.readout.items():\n",
    "        grid = readout.grid.squeeze().cpu().data.numpy()\n",
    "        grids[key] = grid\n",
    "    return grids\n",
    "\n",
    "list_of_load = [] #'scales', '_features' ,'mu_transform.0.weight', 'mu_transform.0.bias'\n",
    "list_of_detach = []\n",
    "\n",
    "\n",
    "\n",
    "model_real.load_state_dict(core_dict, strict=False)\n",
    "real_grids = get_grids(model_real)\n",
    "\n",
    "remove=[]\n",
    "keep=[]\n",
    "for key in core_dict.keys():\n",
    "    name = '.'.join(key.split('.')[2:])\n",
    "    if key.split('.')[0] == 'readout': \n",
    "        if not np.isin(name, list_of_load):\n",
    "            print('Not loading:    {}'.format(key))\n",
    "            remove.append(key)\n",
    "        else:\n",
    "            keep.append(key)\n",
    "for key in keep:\n",
    "    print('Loading:  {}'.format(key))\n",
    "\n",
    "for k in remove: del core_dict[k]\n",
    "model_start.load_state_dict(core_dict, strict=False)\n",
    "start_grids = get_grids(model_start)\n",
    "\n",
    "\n",
    "\n",
    "model.load_state_dict(core_dict, strict=False)\n",
    "\n",
    "for param in model.named_parameters():\n",
    "    name = '.'.join(param[0].split('.')[2:])\n",
    "    if param[0].split('.')[0] == 'readout':\n",
    "        if np.isin(name, list_of_detach):\n",
    "            print('detaching:    {}'.format(param[0]))\n",
    "            param[1].requires_grad = False"
   ]
  },
  {
   "cell_type": "markdown",
   "metadata": {},
   "source": [
    "# Get Trainer"
   ]
  },
  {
   "cell_type": "code",
   "execution_count": 6,
   "metadata": {},
   "outputs": [],
   "source": [
    "trainer_fn = 'nnsysident.training.trainers.standard_trainer'\n",
    "trainer_config = dict(track_training=True) #detach_core=True, \n",
    "trainer = builder.get_trainer(trainer_fn, trainer_config)"
   ]
  },
  {
   "cell_type": "markdown",
   "metadata": {},
   "source": [
    "# Run Training"
   ]
  },
  {
   "cell_type": "code",
   "execution_count": 7,
   "metadata": {},
   "outputs": [
    {
     "name": "stdout",
     "output_type": "stream",
     "text": [
      "=======================================\n",
      "correlation 0.0019739168\n",
      "poisson_loss 2381225.8\n"
     ]
    },
    {
     "name": "stderr",
     "output_type": "stream",
     "text": [
      "Epoch 1: 100%|██████████| 280/280 [00:26<00:00, 10.42it/s]\n"
     ]
    },
    {
     "name": "stdout",
     "output_type": "stream",
     "text": [
      "[001|00/05] ---> 0.11457011848688126\n",
      "=======================================\n",
      "correlation 0.11457012\n",
      "poisson_loss 1215937.2\n"
     ]
    },
    {
     "name": "stderr",
     "output_type": "stream",
     "text": [
      "Epoch 2: 100%|██████████| 280/280 [00:10<00:00, 27.09it/s]\n"
     ]
    },
    {
     "name": "stdout",
     "output_type": "stream",
     "text": [
      "[002|00/05] ---> 0.16468699276447296\n",
      "=======================================\n",
      "correlation 0.164687\n",
      "poisson_loss 1177759.2\n"
     ]
    },
    {
     "name": "stderr",
     "output_type": "stream",
     "text": [
      "Epoch 3: 100%|██████████| 280/280 [00:09<00:00, 28.73it/s]\n"
     ]
    },
    {
     "name": "stdout",
     "output_type": "stream",
     "text": [
      "[003|00/05] ---> 0.22402040660381317\n",
      "=======================================\n",
      "correlation 0.2240204\n",
      "poisson_loss 1126747.0\n"
     ]
    },
    {
     "name": "stderr",
     "output_type": "stream",
     "text": [
      "Epoch 4: 100%|██████████| 280/280 [00:09<00:00, 28.48it/s]\n"
     ]
    },
    {
     "name": "stdout",
     "output_type": "stream",
     "text": [
      "[004|00/05] ---> 0.2636294960975647\n",
      "=======================================\n",
      "correlation 0.2636295\n",
      "poisson_loss 1091534.6\n"
     ]
    },
    {
     "name": "stderr",
     "output_type": "stream",
     "text": [
      "Epoch 5: 100%|██████████| 280/280 [00:09<00:00, 29.01it/s]\n"
     ]
    },
    {
     "name": "stdout",
     "output_type": "stream",
     "text": [
      "[005|00/05] ---> 0.28658995032310486\n",
      "=======================================\n",
      "correlation 0.28658995\n",
      "poisson_loss 1070227.4\n"
     ]
    },
    {
     "name": "stderr",
     "output_type": "stream",
     "text": [
      "Epoch 6: 100%|██████████| 280/280 [00:09<00:00, 28.47it/s]\n"
     ]
    },
    {
     "name": "stdout",
     "output_type": "stream",
     "text": [
      "[006|00/05] ---> 0.3041680157184601\n",
      "=======================================\n",
      "correlation 0.30416802\n",
      "poisson_loss 1055588.0\n"
     ]
    },
    {
     "name": "stderr",
     "output_type": "stream",
     "text": [
      "Epoch 7: 100%|██████████| 280/280 [00:09<00:00, 29.45it/s]\n"
     ]
    },
    {
     "name": "stdout",
     "output_type": "stream",
     "text": [
      "[007|00/05] ---> 0.3140873610973358\n",
      "=======================================\n",
      "correlation 0.31408736\n",
      "poisson_loss 1046370.75\n"
     ]
    },
    {
     "name": "stderr",
     "output_type": "stream",
     "text": [
      "Epoch 8: 100%|██████████| 280/280 [00:09<00:00, 29.22it/s]\n"
     ]
    },
    {
     "name": "stdout",
     "output_type": "stream",
     "text": [
      "[008|00/05] ---> 0.32155558466911316\n",
      "=======================================\n",
      "correlation 0.32155558\n",
      "poisson_loss 1038759.6\n"
     ]
    },
    {
     "name": "stderr",
     "output_type": "stream",
     "text": [
      "Epoch 9: 100%|██████████| 280/280 [00:09<00:00, 29.38it/s]\n"
     ]
    },
    {
     "name": "stdout",
     "output_type": "stream",
     "text": [
      "[009|00/05] ---> 0.3264850974082947\n",
      "=======================================\n",
      "correlation 0.3264851\n",
      "poisson_loss 1033640.9\n"
     ]
    },
    {
     "name": "stderr",
     "output_type": "stream",
     "text": [
      "Epoch 10: 100%|██████████| 280/280 [00:09<00:00, 28.65it/s]\n"
     ]
    },
    {
     "name": "stdout",
     "output_type": "stream",
     "text": [
      "[010|00/05] ---> 0.32948240637779236\n",
      "=======================================\n",
      "correlation 0.3294824\n",
      "poisson_loss 1030951.25\n"
     ]
    },
    {
     "name": "stderr",
     "output_type": "stream",
     "text": [
      "Epoch 11: 100%|██████████| 280/280 [00:09<00:00, 29.32it/s]\n"
     ]
    },
    {
     "name": "stdout",
     "output_type": "stream",
     "text": [
      "[011|00/05] ---> 0.33533450961112976\n",
      "=======================================\n",
      "correlation 0.3353345\n",
      "poisson_loss 1024743.5\n"
     ]
    },
    {
     "name": "stderr",
     "output_type": "stream",
     "text": [
      "Epoch 12: 100%|██████████| 280/280 [00:09<00:00, 29.42it/s]\n"
     ]
    },
    {
     "name": "stdout",
     "output_type": "stream",
     "text": [
      "[012|00/05] ---> 0.33724096417427063\n",
      "=======================================\n",
      "correlation 0.33724096\n",
      "poisson_loss 1023318.6\n"
     ]
    },
    {
     "name": "stderr",
     "output_type": "stream",
     "text": [
      "Epoch 13: 100%|██████████| 280/280 [00:09<00:00, 28.96it/s]\n"
     ]
    },
    {
     "name": "stdout",
     "output_type": "stream",
     "text": [
      "[013|00/05] ---> 0.34007319808006287\n",
      "=======================================\n",
      "correlation 0.3400732\n",
      "poisson_loss 1021328.5\n"
     ]
    },
    {
     "name": "stderr",
     "output_type": "stream",
     "text": [
      "Epoch 14: 100%|██████████| 280/280 [00:09<00:00, 28.89it/s]\n"
     ]
    },
    {
     "name": "stdout",
     "output_type": "stream",
     "text": [
      "[014|00/05] ---> 0.3440011143684387\n",
      "=======================================\n",
      "correlation 0.3440011\n",
      "poisson_loss 1016834.4\n"
     ]
    },
    {
     "name": "stderr",
     "output_type": "stream",
     "text": [
      "Epoch 15: 100%|██████████| 280/280 [00:09<00:00, 29.31it/s]\n"
     ]
    },
    {
     "name": "stdout",
     "output_type": "stream",
     "text": [
      "[015|01/05] -/-> 0.34258317947387695\n",
      "=======================================\n",
      "correlation 0.34258318\n",
      "poisson_loss 1017582.1\n"
     ]
    },
    {
     "name": "stderr",
     "output_type": "stream",
     "text": [
      "Epoch 16: 100%|██████████| 280/280 [00:09<00:00, 29.17it/s]\n"
     ]
    },
    {
     "name": "stdout",
     "output_type": "stream",
     "text": [
      "[016|01/05] ---> 0.34568220376968384\n",
      "=======================================\n",
      "correlation 0.3456822\n",
      "poisson_loss 1016028.5\n"
     ]
    },
    {
     "name": "stderr",
     "output_type": "stream",
     "text": [
      "Epoch 17: 100%|██████████| 280/280 [00:09<00:00, 28.02it/s]\n"
     ]
    },
    {
     "name": "stdout",
     "output_type": "stream",
     "text": [
      "[017|00/05] ---> 0.34950020909309387\n",
      "=======================================\n",
      "correlation 0.3495002\n",
      "poisson_loss 1011286.0\n"
     ]
    },
    {
     "name": "stderr",
     "output_type": "stream",
     "text": [
      "Epoch 18: 100%|██████████| 280/280 [00:09<00:00, 28.98it/s]\n"
     ]
    },
    {
     "name": "stdout",
     "output_type": "stream",
     "text": [
      "[018|00/05] ---> 0.3508361279964447\n",
      "=======================================\n",
      "correlation 0.35083613\n",
      "poisson_loss 1010315.0\n"
     ]
    },
    {
     "name": "stderr",
     "output_type": "stream",
     "text": [
      "Epoch 19: 100%|██████████| 280/280 [00:09<00:00, 28.42it/s]\n"
     ]
    },
    {
     "name": "stdout",
     "output_type": "stream",
     "text": [
      "[019|00/05] ---> 0.3517776429653168\n",
      "=======================================\n",
      "correlation 0.35177764\n",
      "poisson_loss 1010146.25\n"
     ]
    },
    {
     "name": "stderr",
     "output_type": "stream",
     "text": [
      "Epoch 20: 100%|██████████| 280/280 [00:09<00:00, 28.63it/s]\n"
     ]
    },
    {
     "name": "stdout",
     "output_type": "stream",
     "text": [
      "[020|00/05] ---> 0.35322341322898865\n",
      "=======================================\n",
      "correlation 0.3532234\n",
      "poisson_loss 1008098.9\n"
     ]
    },
    {
     "name": "stderr",
     "output_type": "stream",
     "text": [
      "Epoch 21: 100%|██████████| 280/280 [00:09<00:00, 28.60it/s]\n"
     ]
    },
    {
     "name": "stdout",
     "output_type": "stream",
     "text": [
      "[021|00/05] ---> 0.35605987906455994\n",
      "=======================================\n",
      "correlation 0.35605988\n",
      "poisson_loss 1005133.1\n"
     ]
    },
    {
     "name": "stderr",
     "output_type": "stream",
     "text": [
      "Epoch 22: 100%|██████████| 280/280 [00:09<00:00, 28.70it/s]\n"
     ]
    },
    {
     "name": "stdout",
     "output_type": "stream",
     "text": [
      "[022|00/05] ---> 0.356294184923172\n",
      "=======================================\n",
      "correlation 0.35629418\n",
      "poisson_loss 1006189.5\n"
     ]
    },
    {
     "name": "stderr",
     "output_type": "stream",
     "text": [
      "Epoch 23: 100%|██████████| 280/280 [00:09<00:00, 28.75it/s]\n"
     ]
    },
    {
     "name": "stdout",
     "output_type": "stream",
     "text": [
      "[023|00/05] ---> 0.35785990953445435\n",
      "=======================================\n",
      "correlation 0.3578599\n",
      "poisson_loss 1002774.2\n"
     ]
    },
    {
     "name": "stderr",
     "output_type": "stream",
     "text": [
      "Epoch 24: 100%|██████████| 280/280 [00:09<00:00, 28.78it/s]\n"
     ]
    },
    {
     "name": "stdout",
     "output_type": "stream",
     "text": [
      "[024|00/05] ---> 0.35946714878082275\n",
      "=======================================\n",
      "correlation 0.35946715\n",
      "poisson_loss 1001375.1\n"
     ]
    },
    {
     "name": "stderr",
     "output_type": "stream",
     "text": [
      "Epoch 25: 100%|██████████| 280/280 [00:09<00:00, 28.39it/s]\n"
     ]
    },
    {
     "name": "stdout",
     "output_type": "stream",
     "text": [
      "[025|00/05] ---> 0.3625336289405823\n",
      "=======================================\n",
      "correlation 0.36253363\n",
      "poisson_loss 998479.8\n"
     ]
    },
    {
     "name": "stderr",
     "output_type": "stream",
     "text": [
      "Epoch 26: 100%|██████████| 280/280 [00:09<00:00, 28.44it/s]\n"
     ]
    },
    {
     "name": "stdout",
     "output_type": "stream",
     "text": [
      "[026|01/05] -/-> 0.36138710379600525\n",
      "=======================================\n",
      "correlation 0.3613871\n",
      "poisson_loss 1001708.0\n"
     ]
    },
    {
     "name": "stderr",
     "output_type": "stream",
     "text": [
      "Epoch 27: 100%|██████████| 280/280 [00:09<00:00, 28.16it/s]\n"
     ]
    },
    {
     "name": "stdout",
     "output_type": "stream",
     "text": [
      "[027|01/05] ---> 0.3651205003261566\n",
      "=======================================\n",
      "correlation 0.3651205\n",
      "poisson_loss 995775.5\n"
     ]
    },
    {
     "name": "stderr",
     "output_type": "stream",
     "text": [
      "Epoch 28: 100%|██████████| 280/280 [00:09<00:00, 28.50it/s]\n"
     ]
    },
    {
     "name": "stdout",
     "output_type": "stream",
     "text": [
      "[028|01/05] -/-> 0.36412161588668823\n",
      "=======================================\n",
      "correlation 0.36412162\n",
      "poisson_loss 997228.25\n"
     ]
    },
    {
     "name": "stderr",
     "output_type": "stream",
     "text": [
      "Epoch 29: 100%|██████████| 280/280 [00:09<00:00, 28.86it/s]\n"
     ]
    },
    {
     "name": "stdout",
     "output_type": "stream",
     "text": [
      "[029|02/05] -/-> 0.3635002374649048\n",
      "=======================================\n",
      "correlation 0.36350024\n",
      "poisson_loss 998789.0\n"
     ]
    },
    {
     "name": "stderr",
     "output_type": "stream",
     "text": [
      "Epoch 30: 100%|██████████| 280/280 [00:09<00:00, 28.49it/s]\n"
     ]
    },
    {
     "name": "stdout",
     "output_type": "stream",
     "text": [
      "[030|03/05] -/-> 0.36460208892822266\n",
      "=======================================\n",
      "correlation 0.3646021\n",
      "poisson_loss 996971.9\n"
     ]
    },
    {
     "name": "stderr",
     "output_type": "stream",
     "text": [
      "Epoch 31: 100%|██████████| 280/280 [00:09<00:00, 29.15it/s]\n"
     ]
    },
    {
     "name": "stdout",
     "output_type": "stream",
     "text": [
      "[031|04/05] -/-> 0.36369574069976807\n",
      "=======================================\n",
      "correlation 0.36369574\n",
      "poisson_loss 998193.0\n"
     ]
    },
    {
     "name": "stderr",
     "output_type": "stream",
     "text": [
      "Epoch 32: 100%|██████████| 280/280 [00:10<00:00, 27.70it/s]\n"
     ]
    },
    {
     "name": "stdout",
     "output_type": "stream",
     "text": [
      "[032|05/05] -/-> 0.36376360058784485\n",
      "Restoring best model after lr decay! 0.363764 ---> 0.365121\n",
      "=======================================\n",
      "correlation 0.3651205\n",
      "poisson_loss 995775.5\n"
     ]
    },
    {
     "name": "stderr",
     "output_type": "stream",
     "text": [
      "Epoch 33: 100%|██████████| 280/280 [00:09<00:00, 28.23it/s]\n"
     ]
    },
    {
     "name": "stdout",
     "output_type": "stream",
     "text": [
      "Epoch    33: reducing learning rate of group 0 to 1.5000e-03.\n",
      "[033|01/05] -/-> 0.36147627234458923\n",
      "=======================================\n",
      "correlation 0.36147627\n",
      "poisson_loss 1000436.1\n"
     ]
    },
    {
     "name": "stderr",
     "output_type": "stream",
     "text": [
      "Epoch 34: 100%|██████████| 280/280 [00:10<00:00, 27.34it/s]\n"
     ]
    },
    {
     "name": "stdout",
     "output_type": "stream",
     "text": [
      "[034|01/05] ---> 0.3701150715351105\n",
      "=======================================\n",
      "correlation 0.37011507\n",
      "poisson_loss 988723.56\n"
     ]
    },
    {
     "name": "stderr",
     "output_type": "stream",
     "text": [
      "Epoch 35: 100%|██████████| 280/280 [00:10<00:00, 27.95it/s]\n"
     ]
    },
    {
     "name": "stdout",
     "output_type": "stream",
     "text": [
      "[035|00/05] ---> 0.3701483905315399\n",
      "=======================================\n",
      "correlation 0.3701484\n",
      "poisson_loss 989184.9\n"
     ]
    },
    {
     "name": "stderr",
     "output_type": "stream",
     "text": [
      "Epoch 36: 100%|██████████| 280/280 [00:09<00:00, 29.57it/s]\n"
     ]
    },
    {
     "name": "stdout",
     "output_type": "stream",
     "text": [
      "[036|01/05] -/-> 0.3694760203361511\n",
      "=======================================\n",
      "correlation 0.36947602\n",
      "poisson_loss 992000.75\n"
     ]
    },
    {
     "name": "stderr",
     "output_type": "stream",
     "text": [
      "Epoch 37: 100%|██████████| 280/280 [00:09<00:00, 28.84it/s]\n"
     ]
    },
    {
     "name": "stdout",
     "output_type": "stream",
     "text": [
      "[037|01/05] ---> 0.3705351650714874\n",
      "=======================================\n",
      "correlation 0.37053517\n",
      "poisson_loss 988919.75\n"
     ]
    },
    {
     "name": "stderr",
     "output_type": "stream",
     "text": [
      "Epoch 38: 100%|██████████| 280/280 [00:09<00:00, 28.62it/s]\n"
     ]
    },
    {
     "name": "stdout",
     "output_type": "stream",
     "text": [
      "[038|01/05] -/-> 0.3696020543575287\n",
      "=======================================\n",
      "correlation 0.36960205\n",
      "poisson_loss 989862.5\n"
     ]
    },
    {
     "name": "stderr",
     "output_type": "stream",
     "text": [
      "Epoch 39: 100%|██████████| 280/280 [00:09<00:00, 29.47it/s]\n"
     ]
    },
    {
     "name": "stdout",
     "output_type": "stream",
     "text": [
      "[039|02/05] -/-> 0.36921530961990356\n",
      "=======================================\n",
      "correlation 0.3692153\n",
      "poisson_loss 990644.06\n"
     ]
    },
    {
     "name": "stderr",
     "output_type": "stream",
     "text": [
      "Epoch 40: 100%|██████████| 280/280 [00:09<00:00, 29.46it/s]\n"
     ]
    },
    {
     "name": "stdout",
     "output_type": "stream",
     "text": [
      "[040|02/05] ---> 0.37127459049224854\n",
      "=======================================\n",
      "correlation 0.3712746\n",
      "poisson_loss 988646.25\n"
     ]
    },
    {
     "name": "stderr",
     "output_type": "stream",
     "text": [
      "Epoch 41: 100%|██████████| 280/280 [00:09<00:00, 29.42it/s]\n"
     ]
    },
    {
     "name": "stdout",
     "output_type": "stream",
     "text": [
      "[041|01/05] -/-> 0.37050527334213257\n",
      "=======================================\n",
      "correlation 0.37050527\n",
      "poisson_loss 989302.25\n"
     ]
    },
    {
     "name": "stderr",
     "output_type": "stream",
     "text": [
      "Epoch 42: 100%|██████████| 280/280 [00:09<00:00, 29.02it/s]\n"
     ]
    },
    {
     "name": "stdout",
     "output_type": "stream",
     "text": [
      "[042|02/05] -/-> 0.3704655170440674\n",
      "=======================================\n",
      "correlation 0.37046552\n",
      "poisson_loss 991292.75\n"
     ]
    },
    {
     "name": "stderr",
     "output_type": "stream",
     "text": [
      "Epoch 43: 100%|██████████| 280/280 [00:09<00:00, 29.00it/s]\n"
     ]
    },
    {
     "name": "stdout",
     "output_type": "stream",
     "text": [
      "[043|03/05] -/-> 0.370671808719635\n",
      "=======================================\n",
      "correlation 0.3706718\n",
      "poisson_loss 989206.8\n"
     ]
    },
    {
     "name": "stderr",
     "output_type": "stream",
     "text": [
      "Epoch 44: 100%|██████████| 280/280 [00:09<00:00, 29.48it/s]\n"
     ]
    },
    {
     "name": "stdout",
     "output_type": "stream",
     "text": [
      "[044|04/05] -/-> 0.3710007071495056\n",
      "=======================================\n",
      "correlation 0.3710007\n",
      "poisson_loss 989149.75\n"
     ]
    },
    {
     "name": "stderr",
     "output_type": "stream",
     "text": [
      "Epoch 45: 100%|██████████| 280/280 [00:09<00:00, 28.98it/s]\n"
     ]
    },
    {
     "name": "stdout",
     "output_type": "stream",
     "text": [
      "[045|04/05] ---> 0.37204253673553467\n",
      "=======================================\n",
      "correlation 0.37204254\n",
      "poisson_loss 988327.94\n"
     ]
    },
    {
     "name": "stderr",
     "output_type": "stream",
     "text": [
      "Epoch 46: 100%|██████████| 280/280 [00:09<00:00, 29.21it/s]\n"
     ]
    },
    {
     "name": "stdout",
     "output_type": "stream",
     "text": [
      "[046|01/05] -/-> 0.370368093252182\n",
      "=======================================\n",
      "correlation 0.3703681\n",
      "poisson_loss 989729.75\n"
     ]
    },
    {
     "name": "stderr",
     "output_type": "stream",
     "text": [
      "Epoch 47: 100%|██████████| 280/280 [00:09<00:00, 29.01it/s]\n"
     ]
    },
    {
     "name": "stdout",
     "output_type": "stream",
     "text": [
      "[047|02/05] -/-> 0.3708271384239197\n",
      "=======================================\n",
      "correlation 0.37082714\n",
      "poisson_loss 989385.25\n"
     ]
    },
    {
     "name": "stderr",
     "output_type": "stream",
     "text": [
      "Epoch 48: 100%|██████████| 280/280 [00:09<00:00, 29.26it/s]\n"
     ]
    },
    {
     "name": "stdout",
     "output_type": "stream",
     "text": [
      "[048|03/05] -/-> 0.37131428718566895\n",
      "=======================================\n",
      "correlation 0.3713143\n",
      "poisson_loss 988657.9\n"
     ]
    },
    {
     "name": "stderr",
     "output_type": "stream",
     "text": [
      "Epoch 49: 100%|██████████| 280/280 [00:09<00:00, 29.53it/s]\n"
     ]
    },
    {
     "name": "stdout",
     "output_type": "stream",
     "text": [
      "[049|04/05] -/-> 0.37005454301834106\n",
      "=======================================\n",
      "correlation 0.37005454\n",
      "poisson_loss 990344.1\n"
     ]
    },
    {
     "name": "stderr",
     "output_type": "stream",
     "text": [
      "Epoch 50: 100%|██████████| 280/280 [00:10<00:00, 27.96it/s]\n"
     ]
    },
    {
     "name": "stdout",
     "output_type": "stream",
     "text": [
      "[050|05/05] -/-> 0.3701555132865906\n",
      "Restoring best model after lr decay! 0.370156 ---> 0.372043\n",
      "=======================================\n",
      "correlation 0.37204254\n",
      "poisson_loss 988327.94\n"
     ]
    },
    {
     "name": "stderr",
     "output_type": "stream",
     "text": [
      "Epoch 51: 100%|██████████| 280/280 [00:10<00:00, 27.18it/s]\n"
     ]
    },
    {
     "name": "stdout",
     "output_type": "stream",
     "text": [
      "Epoch    51: reducing learning rate of group 0 to 4.5000e-04.\n",
      "[051|01/05] -/-> 0.368363618850708\n",
      "=======================================\n",
      "correlation 0.36836362\n",
      "poisson_loss 992332.25\n"
     ]
    },
    {
     "name": "stderr",
     "output_type": "stream",
     "text": [
      "Epoch 52: 100%|██████████| 280/280 [00:09<00:00, 28.03it/s]\n"
     ]
    },
    {
     "name": "stdout",
     "output_type": "stream",
     "text": [
      "[052|01/05] ---> 0.37224283814430237\n",
      "=======================================\n",
      "correlation 0.37224284\n",
      "poisson_loss 988017.25\n"
     ]
    },
    {
     "name": "stderr",
     "output_type": "stream",
     "text": [
      "Epoch 53: 100%|██████████| 280/280 [00:10<00:00, 27.96it/s]\n"
     ]
    },
    {
     "name": "stdout",
     "output_type": "stream",
     "text": [
      "[053|00/05] ---> 0.37297868728637695\n",
      "=======================================\n",
      "correlation 0.3729787\n",
      "poisson_loss 986660.0\n"
     ]
    },
    {
     "name": "stderr",
     "output_type": "stream",
     "text": [
      "Epoch 54: 100%|██████████| 280/280 [00:09<00:00, 28.11it/s]\n"
     ]
    },
    {
     "name": "stdout",
     "output_type": "stream",
     "text": [
      "[054|01/05] -/-> 0.3723757863044739\n",
      "=======================================\n",
      "correlation 0.3723758\n",
      "poisson_loss 986953.75\n"
     ]
    },
    {
     "name": "stderr",
     "output_type": "stream",
     "text": [
      "Epoch 55: 100%|██████████| 280/280 [00:09<00:00, 28.96it/s]\n"
     ]
    },
    {
     "name": "stdout",
     "output_type": "stream",
     "text": [
      "[055|01/05] ---> 0.37322643399238586\n",
      "=======================================\n",
      "correlation 0.37322643\n",
      "poisson_loss 986726.1\n"
     ]
    },
    {
     "name": "stderr",
     "output_type": "stream",
     "text": [
      "Epoch 56: 100%|██████████| 280/280 [00:09<00:00, 29.48it/s]\n"
     ]
    },
    {
     "name": "stdout",
     "output_type": "stream",
     "text": [
      "[056|01/05] -/-> 0.3720886707305908\n",
      "=======================================\n",
      "correlation 0.37208867\n",
      "poisson_loss 987605.4\n"
     ]
    },
    {
     "name": "stderr",
     "output_type": "stream",
     "text": [
      "Epoch 57: 100%|██████████| 280/280 [00:09<00:00, 29.46it/s]\n"
     ]
    },
    {
     "name": "stdout",
     "output_type": "stream",
     "text": [
      "[057|02/05] -/-> 0.3719620406627655\n",
      "=======================================\n",
      "correlation 0.37196204\n",
      "poisson_loss 987140.1\n"
     ]
    },
    {
     "name": "stderr",
     "output_type": "stream",
     "text": [
      "Epoch 58: 100%|██████████| 280/280 [00:09<00:00, 29.45it/s]\n"
     ]
    },
    {
     "name": "stdout",
     "output_type": "stream",
     "text": [
      "[058|03/05] -/-> 0.3728509545326233\n",
      "=======================================\n",
      "correlation 0.37285095\n",
      "poisson_loss 986870.44\n"
     ]
    },
    {
     "name": "stderr",
     "output_type": "stream",
     "text": [
      "Epoch 59: 100%|██████████| 280/280 [00:09<00:00, 29.23it/s]\n"
     ]
    },
    {
     "name": "stdout",
     "output_type": "stream",
     "text": [
      "[059|03/05] ---> 0.3735097050666809\n",
      "=======================================\n",
      "correlation 0.3735097\n",
      "poisson_loss 986059.9\n"
     ]
    },
    {
     "name": "stderr",
     "output_type": "stream",
     "text": [
      "Epoch 60: 100%|██████████| 280/280 [00:09<00:00, 28.86it/s]\n"
     ]
    },
    {
     "name": "stdout",
     "output_type": "stream",
     "text": [
      "[060|01/05] -/-> 0.3733965754508972\n",
      "=======================================\n",
      "correlation 0.37339658\n",
      "poisson_loss 986663.9\n"
     ]
    },
    {
     "name": "stderr",
     "output_type": "stream",
     "text": [
      "Epoch 61: 100%|██████████| 280/280 [00:09<00:00, 29.51it/s]\n"
     ]
    },
    {
     "name": "stdout",
     "output_type": "stream",
     "text": [
      "[061|02/05] -/-> 0.3717556297779083\n",
      "=======================================\n",
      "correlation 0.37175563\n",
      "poisson_loss 989135.6\n"
     ]
    },
    {
     "name": "stderr",
     "output_type": "stream",
     "text": [
      "Epoch 62: 100%|██████████| 280/280 [00:09<00:00, 29.27it/s]\n"
     ]
    },
    {
     "name": "stdout",
     "output_type": "stream",
     "text": [
      "[062|03/05] -/-> 0.3716176450252533\n",
      "=======================================\n",
      "correlation 0.37161765\n",
      "poisson_loss 988323.9\n"
     ]
    },
    {
     "name": "stderr",
     "output_type": "stream",
     "text": [
      "Epoch 63: 100%|██████████| 280/280 [00:10<00:00, 27.34it/s]\n"
     ]
    },
    {
     "name": "stdout",
     "output_type": "stream",
     "text": [
      "[063|04/05] -/-> 0.37281760573387146\n",
      "=======================================\n",
      "correlation 0.3728176\n",
      "poisson_loss 986451.75\n"
     ]
    },
    {
     "name": "stderr",
     "output_type": "stream",
     "text": [
      "Epoch 64: 100%|██████████| 280/280 [00:10<00:00, 27.99it/s]\n"
     ]
    },
    {
     "name": "stdout",
     "output_type": "stream",
     "text": [
      "[064|05/05] -/-> 0.3726043403148651\n",
      "Restoring best model after lr decay! 0.372604 ---> 0.373510\n",
      "Restoring best model! 0.373510 ---> 0.373510\n"
     ]
    }
   ],
   "source": [
    "score, output, model_state = trainer(model=model, dataloaders=dataloaders, seed=1)"
   ]
  },
  {
   "cell_type": "markdown",
   "metadata": {},
   "source": [
    "Best old:                                  0.376 - 0.379  \n",
    "Best new (no shared position):             0.377  \n",
    "Best new (with shared position):           0.373510  "
   ]
  },
  {
   "cell_type": "code",
   "execution_count": 9,
   "metadata": {},
   "outputs": [],
   "source": [
    "from torch.nn import Parameter\n",
    "\n",
    "a = Parameter(torch.Tensor(1, 10, 1, 1))"
   ]
  },
  {
   "cell_type": "code",
   "execution_count": 13,
   "metadata": {},
   "outputs": [
    {
     "data": {
      "text/plain": [
       "tensor([[[[1.0010]],\n",
       "\n",
       "         [[0.9991]],\n",
       "\n",
       "         [[0.9998]],\n",
       "\n",
       "         [[0.9999]],\n",
       "\n",
       "         [[0.9995]],\n",
       "\n",
       "         [[0.9991]],\n",
       "\n",
       "         [[0.9998]],\n",
       "\n",
       "         [[1.0010]],\n",
       "\n",
       "         [[1.0010]],\n",
       "\n",
       "         [[1.0003]]]])"
      ]
     },
     "execution_count": 13,
     "metadata": {},
     "output_type": "execute_result"
    }
   ],
   "source": [
    "a.data.normal_(1, 1.e-3)"
   ]
  },
  {
   "cell_type": "code",
   "execution_count": null,
   "metadata": {},
   "outputs": [],
   "source": []
  },
  {
   "cell_type": "code",
   "execution_count": null,
   "metadata": {},
   "outputs": [],
   "source": []
  },
  {
   "cell_type": "code",
   "execution_count": null,
   "metadata": {},
   "outputs": [],
   "source": []
  },
  {
   "cell_type": "code",
   "execution_count": null,
   "metadata": {},
   "outputs": [],
   "source": []
  },
  {
   "cell_type": "code",
   "execution_count": null,
   "metadata": {},
   "outputs": [],
   "source": [
    "grids = get_grids(model)\n",
    "    \n",
    "from nnsysident.utility.measures import get_correlations\n",
    "\n",
    "cors = get_correlations(model, dataloaders['test'], per_neuron=False, as_dict=True)\n",
    "for key, value in cors.items():\n",
    "    cors[key] = np.mean(value)"
   ]
  },
  {
   "cell_type": "code",
   "execution_count": null,
   "metadata": {},
   "outputs": [],
   "source": [
    "title = 'feat|scale: random init + learned - position: random 0.33 ortho init|0 + learned + shared'\n",
    "\n",
    "dictionary = dict(cors=cors,\n",
    "                  grids = grids,\n",
    "                  real_grids = real_grids,\n",
    "                  start_grids = start_grids,)\n",
    "#torch.save(dictionary, title)"
   ]
  },
  {
   "cell_type": "code",
   "execution_count": null,
   "metadata": {},
   "outputs": [],
   "source": [
    "import matplotlib.pyplot as plt\n",
    "import seaborn as sns\n",
    "\n",
    "fig, axes = plt.subplots(2, 2, dpi=200, figsize=(6, 4.3))\n",
    "\n",
    "for ind, (ax, (key, grid), (real_key, real_grid), (start_key, start_grid)) in enumerate(zip(axes.flat, grids.items(), real_grids.items(), start_grids.items())):\n",
    "    assert key==real_key==start_key, 'keys do not match'\n",
    "    ax.scatter(*grid.T, color='navy', s=.1, label='Learned position')\n",
    "    ax.scatter(*real_grid.T, color='red', s=.1, label='\"True\" position')\n",
    "    ax.scatter(*start_grid.T, color='black', s=.1, label='Init position', alpha=0.2)\n",
    "\n",
    "    ax.set(xlim=(-1.1, 1.1), ylim=(-1.1, 1.1), label='Learned correlation')\n",
    "    ax.text(-1,.8, round(cors[key], 3), fontsize=8.5, color='navy')\n",
    "    sns.despine(top=True, ax=ax)\n",
    "    \n",
    "    ax.set(xticks=[-1, -.5, 0, .5, 1])\n",
    "    ax.set_axisbelow(True)\n",
    "    ax.grid(ls='--')\n",
    "    if ind != 3:\n",
    "        ax.set(xticklabels=[], yticklabels=[])\n",
    "        \n",
    "    ax.set_title(key, fontsize=10)\n",
    "fig.suptitle(title.split('-')[0] + '\\n' + title.split('-')[-1], y=1.05, fontsize=10.)\n",
    "\n",
    "plt.tight_layout()\n",
    "#plt.savefig(title + '.png', dpi=200, bbox_inches='tight')"
   ]
  }
 ],
 "metadata": {
  "kernelspec": {
   "display_name": "Python 3",
   "language": "python",
   "name": "python3"
  },
  "language_info": {
   "codemirror_mode": {
    "name": "ipython",
    "version": 3
   },
   "file_extension": ".py",
   "mimetype": "text/x-python",
   "name": "python",
   "nbconvert_exporter": "python",
   "pygments_lexer": "ipython3",
   "version": "3.8.0"
  }
 },
 "nbformat": 4,
 "nbformat_minor": 4
}

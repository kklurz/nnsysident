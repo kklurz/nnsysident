{
 "cells": [
  {
   "cell_type": "markdown",
   "metadata": {},
   "source": [
    "# Generate MEIs for one Dataset"
   ]
  },
  {
   "cell_type": "code",
   "execution_count": 1,
   "metadata": {},
   "outputs": [
    {
     "name": "stdout",
     "output_type": "stream",
     "text": [
      "Connecting konstantin@134.2.168.16:3306\n"
     ]
    }
   ],
   "source": [
    "%load_ext autoreload\n",
    "%autoreload 2\n",
    "\n",
    "import os\n",
    "import datajoint as dj\n",
    "dj.config['database.host'] = os.environ['DJ_HOST']\n",
    "dj.config['database.user'] = os.environ['DJ_USER']\n",
    "dj.config['database.password'] = os.environ['DJ_PASS']\n",
    "dj.config['enable_python_native_blobs'] = True\n",
    "dj.config['display.limit'] = 200\n",
    "\n",
    "name = 'iclr' #\"test\"\n",
    "dj.config['schema_name'] = f\"konstantin_nnsysident_{name}\"\n",
    "\n",
    "#schema = dj.schema(\"nnfabrik_color_mei\")\n",
    "\n",
    "import nnfabrik\n",
    "from nnfabrik.main import *\n",
    "from nnfabrik import builder #, main\n",
    "\n",
    "import torch\n",
    "import numpy as np\n",
    "import matplotlib.pyplot as plt\n",
    "import seaborn as sns\n",
    "\n",
    "from nnsysident.tables.experiments import *\n",
    "from nnsysident.tables.mei import *\n",
    "from nnsysident.utility.measures import get_correlations\n",
    "\n",
    "fetch_download_path = './mei_downloads'"
   ]
  },
  {
   "cell_type": "code",
   "execution_count": 2,
   "metadata": {},
   "outputs": [],
   "source": [
    "def best_n_unit_ids(model, dataloaders, n, device='cuda'):\n",
    "    test_correlation = get_correlations(model, dataloaders[\"test\"], device=device, as_dict=False, per_neuron=True)\n",
    "    indices = np.argsort(test_correlation)\n",
    "    indices = indices[-n:]\n",
    "    \n",
    "    for i, (data_key, dataloader) in enumerate(dataloaders['test'].items()):\n",
    "        assert i>=0, 'More than one dataset not supported (yet)'\n",
    "        unit_ids = dataloader.dataset.neurons.unit_ids[indices]\n",
    "    return unit_ids, indices"
   ]
  },
  {
   "cell_type": "markdown",
   "metadata": {},
   "source": [
    "___"
   ]
  },
  {
   "cell_type": "code",
   "execution_count": null,
   "metadata": {},
   "outputs": [],
   "source": [
    "def corrs(KEY, transfer, seed=1, device='cuda'): \n",
    "    if transfer:\n",
    "        dataloaders, model = (TrainedModelTransfer() & KEY & 'seed={}'.format(seed)).load_model()\n",
    "    else:\n",
    "        dataloaders, model = (TrainedModel() & KEY & 'seed={}'.format(seed)).load_model()\n",
    "    test_correlation = get_correlations(model, dataloaders[\"test\"], device=device, as_dict=False, per_neuron=True)\n",
    "    return test_correlation"
   ]
  },
  {
   "cell_type": "code",
   "execution_count": null,
   "metadata": {},
   "outputs": [],
   "source": [
    "key = (Experiments.Restrictions() & 'experiment_name = \"Real, Direct, se2d_fullgaussian2d, 20457-5-9\"') & 'dataset_hash = \"71c9ac7a98e066544ad88eb47ea282ec\"'\n",
    "test_correlation = corrs(key, False)"
   ]
  },
  {
   "cell_type": "code",
   "execution_count": null,
   "metadata": {},
   "outputs": [],
   "source": [
    "key = (ExperimentsTransfer.Restrictions() & 'experiment_name = \"Real, core_transfer (animal), Core By Seed, se2d_fullgaussian2d, 11-S -> 20457-5-9\"') & 'dataset_hash = \"71c9ac7a98e066544ad88eb47ea282ec\"'\n",
    "test_correlation_transfer = corrs(key, True)"
   ]
  },
  {
   "cell_type": "code",
   "execution_count": null,
   "metadata": {},
   "outputs": [],
   "source": [
    "n = 10\n",
    "diff = test_correlation_transfer - test_correlation\n",
    "indices = np.argsort(diff)\n",
    "indices = indices[-n:]\n",
    "for i, (data_key, dataloader) in enumerate(dataloaders['test'].items()):\n",
    "    assert i>=0, 'More than one dataset not supported (yet)'\n",
    "    unit_ids = dataloader.dataset.neurons.unit_ids[indices]"
   ]
  },
  {
   "cell_type": "code",
   "execution_count": null,
   "metadata": {},
   "outputs": [],
   "source": [
    "unit_ids"
   ]
  },
  {
   "cell_type": "code",
   "execution_count": null,
   "metadata": {},
   "outputs": [],
   "source": [
    "test_correlation[indices]"
   ]
  },
  {
   "cell_type": "code",
   "execution_count": null,
   "metadata": {},
   "outputs": [],
   "source": [
    "test_correlation_transfer[indices]"
   ]
  },
  {
   "cell_type": "code",
   "execution_count": null,
   "metadata": {},
   "outputs": [],
   "source": []
  },
  {
   "cell_type": "code",
   "execution_count": null,
   "metadata": {},
   "outputs": [],
   "source": []
  },
  {
   "cell_type": "markdown",
   "metadata": {},
   "source": [
    "# Select Dataset"
   ]
  },
  {
   "cell_type": "code",
   "execution_count": 3,
   "metadata": {},
   "outputs": [],
   "source": [
    "key = (ExperimentsTransfer.Restrictions() & 'experiment_name = \"Real, core_transfer (animal), Core By Seed, se2d_fullgaussian2d, 11-S -> 20457-5-9\"') & 'dataset_hash = \"71c9ac7a98e066544ad88eb47ea282ec\"'\n"
   ]
  },
  {
   "cell_type": "code",
   "execution_count": 4,
   "metadata": {},
   "outputs": [
    {
     "data": {
      "text/html": [
       "\n",
       "        \n",
       "        <style type=\"text/css\">\n",
       "            .Relation{\n",
       "                border-collapse:collapse;\n",
       "            }\n",
       "            .Relation th{\n",
       "                background: #A0A0A0; color: #ffffff; padding:4px; border:#f0e0e0 1px solid;\n",
       "                font-weight: normal; font-family: monospace; font-size: 100%;\n",
       "            }\n",
       "            .Relation td{\n",
       "                padding:4px; border:#f0e0e0 1px solid; font-size:100%;\n",
       "            }\n",
       "            .Relation tr:nth-child(odd){\n",
       "                background: #ffffff;\n",
       "            }\n",
       "            .Relation tr:nth-child(even){\n",
       "                background: #f3f1ff;\n",
       "            }\n",
       "            /* Tooltip container */\n",
       "            .djtooltip {\n",
       "            }\n",
       "            /* Tooltip text */\n",
       "            .djtooltip .djtooltiptext {\n",
       "                visibility: hidden;\n",
       "                width: 120px;\n",
       "                background-color: black;\n",
       "                color: #fff;\n",
       "                text-align: center;\n",
       "                padding: 5px 0;\n",
       "                border-radius: 6px;\n",
       "                /* Position the tooltip text - see examples below! */\n",
       "                position: absolute;\n",
       "                z-index: 1;\n",
       "            }\n",
       "            #primary {\n",
       "                font-weight: bold;\n",
       "                color: black;\n",
       "            }\n",
       "\n",
       "            #nonprimary {\n",
       "                font-weight: normal;\n",
       "                color: white;\n",
       "            }\n",
       "\n",
       "            /* Show the tooltip text when you mouse over the tooltip container */\n",
       "            .djtooltip:hover .djtooltiptext {\n",
       "                visibility: visible;\n",
       "            }\n",
       "        </style>\n",
       "        \n",
       "        <b>This table contains the corresponding hashes to filter out models which form the respective experiment</b>\n",
       "            <div style=\"max-height:1000px;max-width:1500px;overflow:auto;\">\n",
       "            <table border=\"1\" class=\"Relation\">\n",
       "                <thead> <tr style=\"text-align: right;\"> <th> <div class=\"djtooltip\">\n",
       "                                <p id=\"primary\">experiment_name</p>\n",
       "                                <span class=\"djtooltiptext\">name of experiment</span>\n",
       "                            </div></th><th><div class=\"djtooltip\">\n",
       "                                <p id=\"primary\">dataset_fn</p>\n",
       "                                <span class=\"djtooltiptext\">name of the dataset loader function</span>\n",
       "                            </div></th><th><div class=\"djtooltip\">\n",
       "                                <p id=\"primary\">dataset_hash</p>\n",
       "                                <span class=\"djtooltiptext\">hash of the configuration object</span>\n",
       "                            </div></th><th><div class=\"djtooltip\">\n",
       "                                <p id=\"primary\">trainer_fn</p>\n",
       "                                <span class=\"djtooltiptext\">name of the Trainer loader function</span>\n",
       "                            </div></th><th><div class=\"djtooltip\">\n",
       "                                <p id=\"primary\">trainer_hash</p>\n",
       "                                <span class=\"djtooltiptext\">hash of the configuration object</span>\n",
       "                            </div></th><th><div class=\"djtooltip\">\n",
       "                                <p id=\"primary\">model_fn</p>\n",
       "                                <span class=\"djtooltiptext\">name of the model function</span>\n",
       "                            </div></th><th><div class=\"djtooltip\">\n",
       "                                <p id=\"primary\">model_hash</p>\n",
       "                                <span class=\"djtooltiptext\">hash of the model configuration</span>\n",
       "                            </div></th><th><div class=\"djtooltip\">\n",
       "                                <p id=\"primary\">transfer_fn</p>\n",
       "                                <span class=\"djtooltiptext\">name of the transfer function</span>\n",
       "                            </div></th><th><div class=\"djtooltip\">\n",
       "                                <p id=\"primary\">transfer_hash</p>\n",
       "                                <span class=\"djtooltiptext\">hash of the configuration object</span>\n",
       "                            </div></th><th><div class=\"djtooltip\">\n",
       "                                <p id=\"nonprimary\">experiment_restriction_ts</p>\n",
       "                                <span class=\"djtooltiptext\">UTZ timestamp at time of insertion</span>\n",
       "                            </div> </th> </tr> </thead>\n",
       "                <tbody> <tr> <td>Real, core_transfer (animal), Core By Seed, se2d_fullgaussian2d, 11-S -> 20457-5-9</td>\n",
       "<td>nnsysident.datasets.mouse_loaders.static_loaders</td>\n",
       "<td>71c9ac7a98e066544ad88eb47ea282ec</td>\n",
       "<td>nnsysident.training.trainers.standard_trainer</td>\n",
       "<td>b5b26ea7fd9075bc859c18add25efa59</td>\n",
       "<td>nnsysident.models.models.se2d_fullgaussian2d</td>\n",
       "<td>befddf46eb23b8ee32f0fbb67d490baf</td>\n",
       "<td>nnsysident.models.transfer_functions.core_transfer_by_seed</td>\n",
       "<td>557920eda14d8affc3da348c7c427381</td>\n",
       "<td>2020-11-13 15:25:15</td> </tr> </tbody>\n",
       "            </table>\n",
       "            \n",
       "            <p>Total: 1</p></div>\n",
       "            "
      ],
      "text/plain": [
       "*experiment_na *dataset_fn    *dataset_hash  *trainer_fn    *trainer_hash  *model_fn      *model_hash    *transfer_fn   *transfer_hash experiment_res\n",
       "+------------+ +------------+ +------------+ +------------+ +------------+ +------------+ +------------+ +------------+ +------------+ +------------+\n",
       "Real, core_tra nnsysident.dat 71c9ac7a98e066 nnsysident.tra b5b26ea7fd9075 nnsysident.mod befddf46eb23b8 nnsysident.mod 557920eda14d8a 2020-11-13 15:\n",
       " (Total: 1)"
      ]
     },
     "execution_count": 4,
     "metadata": {},
     "output_type": "execute_result"
    }
   ],
   "source": [
    "key"
   ]
  },
  {
   "cell_type": "markdown",
   "metadata": {},
   "source": [
    "# Creating the ensemble"
   ]
  },
  {
   "cell_type": "markdown",
   "metadata": {},
   "source": [
    "#### the key has to restrict the TrainedModel to all the models that should be an ensemble. The dataset hash MUST be unique"
   ]
  },
  {
   "cell_type": "code",
   "execution_count": 5,
   "metadata": {},
   "outputs": [
    {
     "data": {
      "text/html": [
       "\n",
       "        \n",
       "        <style type=\"text/css\">\n",
       "            .Relation{\n",
       "                border-collapse:collapse;\n",
       "            }\n",
       "            .Relation th{\n",
       "                background: #A0A0A0; color: #ffffff; padding:4px; border:#f0e0e0 1px solid;\n",
       "                font-weight: normal; font-family: monospace; font-size: 100%;\n",
       "            }\n",
       "            .Relation td{\n",
       "                padding:4px; border:#f0e0e0 1px solid; font-size:100%;\n",
       "            }\n",
       "            .Relation tr:nth-child(odd){\n",
       "                background: #ffffff;\n",
       "            }\n",
       "            .Relation tr:nth-child(even){\n",
       "                background: #f3f1ff;\n",
       "            }\n",
       "            /* Tooltip container */\n",
       "            .djtooltip {\n",
       "            }\n",
       "            /* Tooltip text */\n",
       "            .djtooltip .djtooltiptext {\n",
       "                visibility: hidden;\n",
       "                width: 120px;\n",
       "                background-color: black;\n",
       "                color: #fff;\n",
       "                text-align: center;\n",
       "                padding: 5px 0;\n",
       "                border-radius: 6px;\n",
       "                /* Position the tooltip text - see examples below! */\n",
       "                position: absolute;\n",
       "                z-index: 1;\n",
       "            }\n",
       "            #primary {\n",
       "                font-weight: bold;\n",
       "                color: black;\n",
       "            }\n",
       "\n",
       "            #nonprimary {\n",
       "                font-weight: normal;\n",
       "                color: white;\n",
       "            }\n",
       "\n",
       "            /* Show the tooltip text when you mouse over the tooltip container */\n",
       "            .djtooltip:hover .djtooltiptext {\n",
       "                visibility: visible;\n",
       "            }\n",
       "        </style>\n",
       "        \n",
       "        <b>Trained models from transfer experiments</b>\n",
       "            <div style=\"max-height:1000px;max-width:1500px;overflow:auto;\">\n",
       "            <table border=\"1\" class=\"Relation\">\n",
       "                <thead> <tr style=\"text-align: right;\"> <th> <div class=\"djtooltip\">\n",
       "                                <p id=\"primary\">model_fn</p>\n",
       "                                <span class=\"djtooltiptext\">name of the model function</span>\n",
       "                            </div></th><th><div class=\"djtooltip\">\n",
       "                                <p id=\"primary\">model_hash</p>\n",
       "                                <span class=\"djtooltiptext\">hash of the model configuration</span>\n",
       "                            </div></th><th><div class=\"djtooltip\">\n",
       "                                <p id=\"primary\">dataset_fn</p>\n",
       "                                <span class=\"djtooltiptext\">name of the dataset loader function</span>\n",
       "                            </div></th><th><div class=\"djtooltip\">\n",
       "                                <p id=\"primary\">dataset_hash</p>\n",
       "                                <span class=\"djtooltiptext\">hash of the configuration object</span>\n",
       "                            </div></th><th><div class=\"djtooltip\">\n",
       "                                <p id=\"primary\">trainer_fn</p>\n",
       "                                <span class=\"djtooltiptext\">name of the Trainer loader function</span>\n",
       "                            </div></th><th><div class=\"djtooltip\">\n",
       "                                <p id=\"primary\">trainer_hash</p>\n",
       "                                <span class=\"djtooltiptext\">hash of the configuration object</span>\n",
       "                            </div></th><th><div class=\"djtooltip\">\n",
       "                                <p id=\"primary\">seed</p>\n",
       "                                <span class=\"djtooltiptext\">Random seed that is passed to the model- and dataset-builder</span>\n",
       "                            </div></th><th><div class=\"djtooltip\">\n",
       "                                <p id=\"primary\">transfer_fn</p>\n",
       "                                <span class=\"djtooltiptext\">name of the transfer function</span>\n",
       "                            </div></th><th><div class=\"djtooltip\">\n",
       "                                <p id=\"primary\">transfer_hash</p>\n",
       "                                <span class=\"djtooltiptext\">hash of the configuration object</span>\n",
       "                            </div></th><th><div class=\"djtooltip\">\n",
       "                                <p id=\"nonprimary\">comment</p>\n",
       "                                <span class=\"djtooltiptext\">short description</span>\n",
       "                            </div></th><th><div class=\"djtooltip\">\n",
       "                                <p id=\"nonprimary\">score</p>\n",
       "                                <span class=\"djtooltiptext\">loss</span>\n",
       "                            </div></th><th><div class=\"djtooltip\">\n",
       "                                <p id=\"nonprimary\">output</p>\n",
       "                                <span class=\"djtooltiptext\">trainer object's output</span>\n",
       "                            </div></th><th><div class=\"djtooltip\">\n",
       "                                <p id=\"nonprimary\">fabrikant_name</p>\n",
       "                                <span class=\"djtooltiptext\">Name of the contributor that added this entry</span>\n",
       "                            </div></th><th><div class=\"djtooltip\">\n",
       "                                <p id=\"nonprimary\">trainedmodel_ts</p>\n",
       "                                <span class=\"djtooltiptext\">UTZ timestamp at time of insertion</span>\n",
       "                            </div> </th> </tr> </thead>\n",
       "                <tbody> <tr> <td>nnsysident.models.models.se2d_fullgaussian2d</td>\n",
       "<td>befddf46eb23b8ee32f0fbb67d490baf</td>\n",
       "<td>nnsysident.datasets.mouse_loaders.static_loaders</td>\n",
       "<td>71c9ac7a98e066544ad88eb47ea282ec</td>\n",
       "<td>nnsysident.training.trainers.standard_trainer</td>\n",
       "<td>b5b26ea7fd9075bc859c18add25efa59</td>\n",
       "<td>1</td>\n",
       "<td>nnsysident.models.transfer_functions.core_transfer_by_seed</td>\n",
       "<td>557920eda14d8affc3da348c7c427381</td>\n",
       "<td>Bayesian optimization of Hyper params..se2d_fullgaussian2d, neuron_n=5335, image_n=4472.neuron_n=5335, image_n=4472</td>\n",
       "<td>0.328372</td>\n",
       "<td>=BLOB=</td>\n",
       "<td>kklurz</td>\n",
       "<td>2020-11-15 16:57:17</td></tr><tr><td>nnsysident.models.models.se2d_fullgaussian2d</td>\n",
       "<td>befddf46eb23b8ee32f0fbb67d490baf</td>\n",
       "<td>nnsysident.datasets.mouse_loaders.static_loaders</td>\n",
       "<td>71c9ac7a98e066544ad88eb47ea282ec</td>\n",
       "<td>nnsysident.training.trainers.standard_trainer</td>\n",
       "<td>b5b26ea7fd9075bc859c18add25efa59</td>\n",
       "<td>2</td>\n",
       "<td>nnsysident.models.transfer_functions.core_transfer_by_seed</td>\n",
       "<td>557920eda14d8affc3da348c7c427381</td>\n",
       "<td>Bayesian optimization of Hyper params..se2d_fullgaussian2d, neuron_n=5335, image_n=4472.neuron_n=5335, image_n=4472</td>\n",
       "<td>0.327327</td>\n",
       "<td>=BLOB=</td>\n",
       "<td>kklurz</td>\n",
       "<td>2020-11-15 16:58:19</td></tr><tr><td>nnsysident.models.models.se2d_fullgaussian2d</td>\n",
       "<td>befddf46eb23b8ee32f0fbb67d490baf</td>\n",
       "<td>nnsysident.datasets.mouse_loaders.static_loaders</td>\n",
       "<td>71c9ac7a98e066544ad88eb47ea282ec</td>\n",
       "<td>nnsysident.training.trainers.standard_trainer</td>\n",
       "<td>b5b26ea7fd9075bc859c18add25efa59</td>\n",
       "<td>3</td>\n",
       "<td>nnsysident.models.transfer_functions.core_transfer_by_seed</td>\n",
       "<td>557920eda14d8affc3da348c7c427381</td>\n",
       "<td>Bayesian optimization of Hyper params..se2d_fullgaussian2d, neuron_n=5335, image_n=4472.neuron_n=5335, image_n=4472</td>\n",
       "<td>0.326205</td>\n",
       "<td>=BLOB=</td>\n",
       "<td>kklurz</td>\n",
       "<td>2020-11-15 16:57:44</td></tr><tr><td>nnsysident.models.models.se2d_fullgaussian2d</td>\n",
       "<td>befddf46eb23b8ee32f0fbb67d490baf</td>\n",
       "<td>nnsysident.datasets.mouse_loaders.static_loaders</td>\n",
       "<td>71c9ac7a98e066544ad88eb47ea282ec</td>\n",
       "<td>nnsysident.training.trainers.standard_trainer</td>\n",
       "<td>b5b26ea7fd9075bc859c18add25efa59</td>\n",
       "<td>4</td>\n",
       "<td>nnsysident.models.transfer_functions.core_transfer_by_seed</td>\n",
       "<td>557920eda14d8affc3da348c7c427381</td>\n",
       "<td>Bayesian optimization of Hyper params..se2d_fullgaussian2d, neuron_n=5335, image_n=4472.neuron_n=5335, image_n=4472</td>\n",
       "<td>0.326794</td>\n",
       "<td>=BLOB=</td>\n",
       "<td>kklurz</td>\n",
       "<td>2020-11-15 16:30:21</td></tr><tr><td>nnsysident.models.models.se2d_fullgaussian2d</td>\n",
       "<td>befddf46eb23b8ee32f0fbb67d490baf</td>\n",
       "<td>nnsysident.datasets.mouse_loaders.static_loaders</td>\n",
       "<td>71c9ac7a98e066544ad88eb47ea282ec</td>\n",
       "<td>nnsysident.training.trainers.standard_trainer</td>\n",
       "<td>b5b26ea7fd9075bc859c18add25efa59</td>\n",
       "<td>5</td>\n",
       "<td>nnsysident.models.transfer_functions.core_transfer_by_seed</td>\n",
       "<td>557920eda14d8affc3da348c7c427381</td>\n",
       "<td>Bayesian optimization of Hyper params..se2d_fullgaussian2d, neuron_n=5335, image_n=4472.neuron_n=5335, image_n=4472</td>\n",
       "<td>0.328671</td>\n",
       "<td>=BLOB=</td>\n",
       "<td>kklurz</td>\n",
       "<td>2020-11-15 16:27:38</td> </tr> </tbody>\n",
       "            </table>\n",
       "            \n",
       "            <p>Total: 5</p></div>\n",
       "            "
      ],
      "text/plain": [
       "*model_fn      *model_hash    *dataset_fn    *dataset_hash  *trainer_fn    *trainer_hash  *seed    *transfer_fn   *transfer_hash comment        score        output     fabrikant_name trainedmodel_t\n",
       "+------------+ +------------+ +------------+ +------------+ +------------+ +------------+ +------+ +------------+ +------------+ +------------+ +----------+ +--------+ +------------+ +------------+\n",
       "nnsysident.mod befddf46eb23b8 nnsysident.dat 71c9ac7a98e066 nnsysident.tra b5b26ea7fd9075 1        nnsysident.mod 557920eda14d8a Bayesian optim 0.328372     =BLOB=     kklurz         2020-11-15 16:\n",
       "nnsysident.mod befddf46eb23b8 nnsysident.dat 71c9ac7a98e066 nnsysident.tra b5b26ea7fd9075 2        nnsysident.mod 557920eda14d8a Bayesian optim 0.327327     =BLOB=     kklurz         2020-11-15 16:\n",
       "nnsysident.mod befddf46eb23b8 nnsysident.dat 71c9ac7a98e066 nnsysident.tra b5b26ea7fd9075 3        nnsysident.mod 557920eda14d8a Bayesian optim 0.326205     =BLOB=     kklurz         2020-11-15 16:\n",
       "nnsysident.mod befddf46eb23b8 nnsysident.dat 71c9ac7a98e066 nnsysident.tra b5b26ea7fd9075 4        nnsysident.mod 557920eda14d8a Bayesian optim 0.326794     =BLOB=     kklurz         2020-11-15 16:\n",
       "nnsysident.mod befddf46eb23b8 nnsysident.dat 71c9ac7a98e066 nnsysident.tra b5b26ea7fd9075 5        nnsysident.mod 557920eda14d8a Bayesian optim 0.328671     =BLOB=     kklurz         2020-11-15 16:\n",
       " (Total: 5)"
      ]
     },
     "execution_count": 5,
     "metadata": {},
     "output_type": "execute_result"
    }
   ],
   "source": [
    "(TrainedModelTransfer() & key)"
   ]
  },
  {
   "cell_type": "markdown",
   "metadata": {},
   "source": [
    "# Create an ensemble"
   ]
  },
  {
   "cell_type": "code",
   "execution_count": null,
   "metadata": {},
   "outputs": [],
   "source": [
    "TrainedEnsembleModelTransfer().create_ensemble(key=key, comment='Real, core_transfer (animal), Core By Seed, se2d_fullgaussian2d, 11-S -> 20457-5-9')"
   ]
  },
  {
   "cell_type": "code",
   "execution_count": null,
   "metadata": {},
   "outputs": [],
   "source": [
    "TrainedEnsembleModelTransfer & key"
   ]
  },
  {
   "cell_type": "code",
   "execution_count": null,
   "metadata": {},
   "outputs": [],
   "source": [
    "# Check whether the ensemble has the correct amount of members:\n",
    "TrainedEnsembleModelTransfer.Member() & key"
   ]
  },
  {
   "cell_type": "markdown",
   "metadata": {},
   "source": [
    "# Populating the MEISelector table, to match the unit IDs and the units within the model"
   ]
  },
  {
   "cell_type": "code",
   "execution_count": null,
   "metadata": {},
   "outputs": [],
   "source": [
    "MEISelector().populate(key, display_progress=True)"
   ]
  },
  {
   "cell_type": "code",
   "execution_count": null,
   "metadata": {},
   "outputs": [],
   "source": [
    "# one entry in the table corresponds to one neuron. \n",
    "#he unit_id comes straight from the dataset, the unit index is the position of that unit in the model.\n",
    "MEISelector() & key"
   ]
  },
  {
   "cell_type": "markdown",
   "metadata": {},
   "source": [
    "# Selecting the MEIMethod"
   ]
  },
  {
   "cell_type": "markdown",
   "metadata": {},
   "source": [
    "#### The default here is for normalized images"
   ]
  },
  {
   "cell_type": "markdown",
   "metadata": {},
   "source": [
    "# for Normalized (z-scored) Images"
   ]
  },
  {
   "cell_type": "code",
   "execution_count": null,
   "metadata": {},
   "outputs": [],
   "source": [
    "# it's using the function gradient_ascent from the mei package.\n",
    "# as the default processing steps during generation, we'll constrain the L2norm or std of the MEI (basically a contrast constraint)\n",
    "# also a glaussian blurring on the gradient is applied, smoothing the image, getting rid of high frequency artefacts.\n",
    "\n",
    "\n",
    "method_fn = 'mei.methods.gradient_ascent'\n",
    "\n",
    "method_config = {'initial': {'path': 'mei.initial.RandomNormal'},\n",
    "                 'optimizer': {'path': 'torch.optim.SGD', 'kwargs': {'lr': 2.0}},\n",
    "                 'precondition': {'path': 'mei.legacy.ops.GaussianBlur',\n",
    "                 'kwargs': {'sigma': 1}},\n",
    "                 'postprocessing': {'path': 'mei.legacy.ops.ChangeNorm',\n",
    "                 'kwargs': {'norm': 15}},\n",
    "                 'stopper': {'path': 'mei.stoppers.NumIterations',\n",
    "                 'kwargs': {'num_iterations': 500}},\n",
    "                 'objectives': [{'path': 'mei.objectives.EvaluationObjective',\n",
    "                 'kwargs': {'interval': 10}}],\n",
    "                 'device': 'cuda'}\n",
    "\n",
    "MEIMethod().add_method(method_fn, method_config, \"normalized image, norm=15, lr=2, iter=500\")"
   ]
  },
  {
   "cell_type": "markdown",
   "metadata": {},
   "source": [
    "# 8bit Images"
   ]
  },
  {
   "cell_type": "code",
   "execution_count": null,
   "metadata": {},
   "outputs": [],
   "source": [
    "# it's using the function gradient_ascent from the mei package.\n",
    "# as the default processing steps during generation, we'll constrain the L2norm or std of the MEI (basically a contrast constraint)\n",
    "# also a glaussian blurring on the gradient is applied, smoothing the image, getting rid of high frequency artefacts.\n",
    "\n",
    "# method_fn = 'mei.methods.gradient_ascent'\n",
    "\n",
    "# sigma = 1\n",
    "# lr = 1e4\n",
    "# std = 5\n",
    "# n_iters=500\n",
    "\n",
    "# method_config = {'initial': {'path': 'nnsysident.meis.initial.CustomRandomNormal'},\n",
    "#                  'optimizer': {'path': 'torch.optim.SGD', 'kwargs': {'lr': lr}},\n",
    "#                  'precondition': {'path': 'mei.legacy.ops.GaussianBlur',\n",
    "#                  'kwargs': {'sigma': sigma}},\n",
    "#                  'postprocessing': {'path': 'mei.legacy.ops.ChangeStd',\n",
    "#                  'kwargs': {'std': std, 'zero_mean': False}},\n",
    "#                  'stopper': {'path': 'mei.stoppers.NumIterations',\n",
    "#                  'kwargs': {'num_iterations': n_iters}},\n",
    "#                  'objectives': [{'path': 'mei.objectives.EvaluationObjective',\n",
    "#                  'kwargs': {'interval': 10}}],\n",
    "#                  'device': 'cuda'}\n",
    "\n",
    "# MEIMethod().add_method(method_fn, method_config, f\"8 bit image, std={std}, lr={lr}, iter={n_iters}\")\n",
    "\n",
    "\n",
    "\n",
    "#############################################################\n",
    "method_fn = 'mei.methods.gradient_ascent'\n",
    "sigma = 1\n",
    "lr = 1e4\n",
    "std = 2\n",
    "mean= 111.3\n",
    "n_iters=500\n",
    "method_config = {\n",
    "   'initial': {'path': 'nnsysident.meis.initial.CustomRandomNormal'},\n",
    "   'optimizer': {'path': 'torch.optim.SGD', \n",
    "                 'kwargs': {'lr': lr}},\n",
    "   'precondition': {'path': 'mei.legacy.ops.GaussianBlur',\n",
    "                    'kwargs': {'sigma': sigma}},\n",
    "   'postprocessing': {'path': 'nnsysident.meis.ops.ChangeStdClampedMean',\n",
    "                      'kwargs': {'std': std, \n",
    "                                 'x_min': 0, \n",
    "                                 'x_max': 255, \n",
    "                                 'clamped_mean': mean}},\n",
    "   'stopper': {'path': 'mei.stoppers.NumIterations',\n",
    "               'kwargs': {'num_iterations': n_iters}},\n",
    "   'objectives': [{'path': 'mei.objectives.EvaluationObjective',\n",
    "                   'kwargs': {'interval': 10}}],\n",
    "   'device': 'cuda'\n",
    "}\n",
    "MEIMethod().add_method(method_fn, method_config, f\"8 bit image, std={std}, mean={mean}, lr={lr}, iter={n_iters}\")"
   ]
  },
  {
   "cell_type": "code",
   "execution_count": 7,
   "metadata": {},
   "outputs": [
    {
     "data": {
      "text/html": [
       "\n",
       "        \n",
       "        <style type=\"text/css\">\n",
       "            .Relation{\n",
       "                border-collapse:collapse;\n",
       "            }\n",
       "            .Relation th{\n",
       "                background: #A0A0A0; color: #ffffff; padding:4px; border:#f0e0e0 1px solid;\n",
       "                font-weight: normal; font-family: monospace; font-size: 100%;\n",
       "            }\n",
       "            .Relation td{\n",
       "                padding:4px; border:#f0e0e0 1px solid; font-size:100%;\n",
       "            }\n",
       "            .Relation tr:nth-child(odd){\n",
       "                background: #ffffff;\n",
       "            }\n",
       "            .Relation tr:nth-child(even){\n",
       "                background: #f3f1ff;\n",
       "            }\n",
       "            /* Tooltip container */\n",
       "            .djtooltip {\n",
       "            }\n",
       "            /* Tooltip text */\n",
       "            .djtooltip .djtooltiptext {\n",
       "                visibility: hidden;\n",
       "                width: 120px;\n",
       "                background-color: black;\n",
       "                color: #fff;\n",
       "                text-align: center;\n",
       "                padding: 5px 0;\n",
       "                border-radius: 6px;\n",
       "                /* Position the tooltip text - see examples below! */\n",
       "                position: absolute;\n",
       "                z-index: 1;\n",
       "            }\n",
       "            #primary {\n",
       "                font-weight: bold;\n",
       "                color: black;\n",
       "            }\n",
       "\n",
       "            #nonprimary {\n",
       "                font-weight: normal;\n",
       "                color: white;\n",
       "            }\n",
       "\n",
       "            /* Show the tooltip text when you mouse over the tooltip container */\n",
       "            .djtooltip:hover .djtooltiptext {\n",
       "                visibility: visible;\n",
       "            }\n",
       "        </style>\n",
       "        \n",
       "        <b>contains methods for generating MEIs and their configurations.</b>\n",
       "            <div style=\"max-height:1000px;max-width:1500px;overflow:auto;\">\n",
       "            <table border=\"1\" class=\"Relation\">\n",
       "                <thead> <tr style=\"text-align: right;\"> <th> <div class=\"djtooltip\">\n",
       "                                <p id=\"primary\">method_fn</p>\n",
       "                                <span class=\"djtooltiptext\">name of the method function</span>\n",
       "                            </div></th><th><div class=\"djtooltip\">\n",
       "                                <p id=\"primary\">method_hash</p>\n",
       "                                <span class=\"djtooltiptext\">hash of the method config</span>\n",
       "                            </div></th><th><div class=\"djtooltip\">\n",
       "                                <p id=\"nonprimary\">method_config</p>\n",
       "                                <span class=\"djtooltiptext\">method configuration object</span>\n",
       "                            </div></th><th><div class=\"djtooltip\">\n",
       "                                <p id=\"nonprimary\">method_ts</p>\n",
       "                                <span class=\"djtooltiptext\">UTZ timestamp at time of insertion</span>\n",
       "                            </div></th><th><div class=\"djtooltip\">\n",
       "                                <p id=\"nonprimary\">method_comment</p>\n",
       "                                <span class=\"djtooltiptext\">a short comment describing the method</span>\n",
       "                            </div> </th> </tr> </thead>\n",
       "                <tbody> <tr> <td>mei.methods.gradient_ascent</td>\n",
       "<td>8db856e30d03df10c2c41326ff7e5422</td>\n",
       "<td>=BLOB=</td>\n",
       "<td>2020-11-13 15:45:20</td>\n",
       "<td>8 bit image, std=2, mean=111.3, lr=10000.0, iter=500</td></tr><tr><td>mei.methods.gradient_ascent</td>\n",
       "<td>a2418cc016e4b65014c56962af89dec8</td>\n",
       "<td>=BLOB=</td>\n",
       "<td>2020-11-13 12:25:30</td>\n",
       "<td>8 bit image, std=5, lr=10000.0, iter=500</td> </tr> </tbody>\n",
       "            </table>\n",
       "            \n",
       "            <p>Total: 2</p></div>\n",
       "            "
      ],
      "text/plain": [
       "*method_fn     *method_hash   method_con method_ts      method_comment\n",
       "+------------+ +------------+ +--------+ +------------+ +------------+\n",
       "mei.methods.gr 8db856e30d03df =BLOB=     2020-11-13 15: 8 bit image, s\n",
       "mei.methods.gr a2418cc016e4b6 =BLOB=     2020-11-13 12: 8 bit image, s\n",
       " (Total: 2)"
      ]
     },
     "execution_count": 7,
     "metadata": {},
     "output_type": "execute_result"
    }
   ],
   "source": [
    "MEIMethod()   #.fetch1('method_config')"
   ]
  },
  {
   "cell_type": "markdown",
   "metadata": {},
   "source": [
    "# Populate the MEI table"
   ]
  },
  {
   "cell_type": "code",
   "execution_count": 8,
   "metadata": {},
   "outputs": [
    {
     "name": "stdout",
     "output_type": "stream",
     "text": [
      "data/static20457-5-9-preproc0.zip does not exist locally. Trying to fetch.\n",
      "data/static20457-5-9-preproc0 exists already. Not unpacking data/static20457-5-9-preproc0.zip\n"
     ]
    }
   ],
   "source": [
    "seed = 1\n",
    "dataloaders, model = (TrainedModelTransfer() & key & 'seed={}'.format(seed)).load_model()"
   ]
  },
  {
   "cell_type": "code",
   "execution_count": 87,
   "metadata": {},
   "outputs": [
    {
     "name": "stdout",
     "output_type": "stream",
     "text": [
      "MEITransfer          Completed 50 of 50 (100.0%)   2020-11-17 17:10:12\n"
     ]
    },
    {
     "data": {
      "text/plain": [
       "(0, 50)"
      ]
     },
     "execution_count": 87,
     "metadata": {},
     "output_type": "execute_result"
    }
   ],
   "source": [
    "n = 50\n",
    "\n",
    "dataset_hash =  '71c9ac7a98e066544ad88eb47ea282ec'\n",
    "ensemble_hash = '5186460863e69e7cf3d225f6f54d1c9c'\n",
    "method_hash=    '8db856e30d03df10c2c41326ff7e5422'\n",
    "unit_ids, indices = best_n_unit_ids(model, dataloaders, n)\n",
    "#unit_ids = np.array([ 259, 1641, 1369, 2999, 2532, 1951, 5443, 3648, 3316, 1038])\n",
    "#unit_ids = dataloaders['train']['20457-5-9-0'].dataset.neurons.unit_ids\n",
    "\n",
    "mei_seed=1\n",
    "\n",
    "mei_restriction = dj.AndList(['dataset_hash = \"{}\"'.format(dataset_hash), \n",
    "             'ensemble_hash = \"{}\"'.format(ensemble_hash), \n",
    "             'method_hash = \"{}\"'.format(method_hash), \n",
    "             'unit_id in {}'.format(tuple(unit_ids)),\n",
    "             'mei_seed = {}'.format(mei_seed)])\n",
    "\n",
    "MEITransfer.progress(mei_restriction)"
   ]
  },
  {
   "cell_type": "code",
   "execution_count": 88,
   "metadata": {},
   "outputs": [
    {
     "name": "stderr",
     "output_type": "stream",
     "text": [
      "0it [00:00, ?it/s]\n"
     ]
    }
   ],
   "source": [
    "MEITransfer.populate(mei_restriction,\n",
    "             display_progress=True, \n",
    "             order='random',\n",
    "             reserve_jobs=True)"
   ]
  },
  {
   "cell_type": "markdown",
   "metadata": {},
   "source": [
    "# Fetch MEIs and plot activations"
   ]
  },
  {
   "cell_type": "code",
   "execution_count": 89,
   "metadata": {},
   "outputs": [],
   "source": [
    "# fetch the meis and outputs\n",
    "mei_paths, output_paths, unit_IDs, score = (MEISelector * MEITransfer() & mei_restriction).fetch(\"mei\", \"output\",\"unit_id\",\"score\", download_path=fetch_download_path)"
   ]
  },
  {
   "cell_type": "code",
   "execution_count": 90,
   "metadata": {},
   "outputs": [],
   "source": [
    "MEIs = np.stack([torch.load(path).detach().cpu().numpy().squeeze() for path in mei_paths])\n",
    "evaluations = np.stack([torch.load(path)['mei.objectives.EvaluationObjective'][\"values\"] for path in output_paths])\n",
    "t_evaluations = np.stack([torch.load(path)['mei.objectives.EvaluationObjective'][\"times\"] for path in output_paths])"
   ]
  },
  {
   "cell_type": "code",
   "execution_count": 32,
   "metadata": {},
   "outputs": [],
   "source": [
    "# mei_transfer = dict(unit_IDs = unit_IDs, MEIs = MEIs)\n",
    "# torch.save(mei_transfer, 'mei_transfer_highest')"
   ]
  },
  {
   "cell_type": "code",
   "execution_count": 76,
   "metadata": {},
   "outputs": [
    {
     "data": {
      "text/plain": [
       "(100, 51)"
      ]
     },
     "execution_count": 76,
     "metadata": {},
     "output_type": "execute_result"
    }
   ],
   "source": [
    "evaluations.shape"
   ]
  },
  {
   "cell_type": "code",
   "execution_count": 82,
   "metadata": {},
   "outputs": [
    {
     "data": {
      "image/png": "[encoded data removed]",
      "text/plain": [
       "<Figure size 432x288 with 1 Axes>"
      ]
     },
     "metadata": {
      "needs_background": "light"
     },
     "output_type": "display_data"
    }
   ],
   "source": [
    "std = np.std(evaluations[:, 10:], axis=1)\n",
    "j = np.where(std > 0.05)[0]\n",
    "\n",
    "#i=np.arange(len(t_evaluations))\n",
    "plt.plot(t_evaluations[j].T, evaluations[j].T)\n",
    "sns.despine(trim=True, offset=10)\n",
    "plt.xlabel(\"iterations\")\n",
    "plt.ylabel(\"activation\")\n",
    "plt.title(\"Activations over iterations for all neurons\");\n",
    "#plt.savefig('jitter.png')"
   ]
  },
  {
   "cell_type": "code",
   "execution_count": 86,
   "metadata": {},
   "outputs": [
    {
     "data": {
      "image/png": "[encoded data removed]",
      "text/plain": [
       "<Figure size 750x750 with 3 Axes>"
      ]
     },
     "metadata": {
      "needs_background": "light"
     },
     "output_type": "display_data"
    }
   ],
   "source": [
    "fig, axes = plt.subplots(3, 1, figsize=(5, 5), dpi=150)\n",
    "for i, ax in zip(j, axes.flatten()):\n",
    "    ax.imshow(MEIs[i], cmap=\"gray\", vmin=MEIs.min(), vmax=MEIs.max() ) # vmin=MEIs.min(), vmax=MEIs.max() \n",
    "    ax.axis(\"off\")\n",
    "    #ax.text(0.5, 2.5, str(unit_IDs[i]), va='center', fontsize=8.5, color='k')\n",
    "#fig.savefig('mei_jitter.png')"
   ]
  },
  {
   "cell_type": "code",
   "execution_count": null,
   "metadata": {},
   "outputs": [],
   "source": []
  },
  {
   "cell_type": "markdown",
   "metadata": {},
   "source": [
    "# Plot Activations"
   ]
  },
  {
   "cell_type": "code",
   "execution_count": 92,
   "metadata": {},
   "outputs": [
    {
     "data": {
      "image/png": "[encoded data removed]",
      "text/plain": [
       "<Figure size 432x288 with 1 Axes>"
      ]
     },
     "metadata": {
      "needs_background": "light"
     },
     "output_type": "display_data"
    }
   ],
   "source": [
    "#i=np.arange(len(t_evaluations))\n",
    "plt.plot(t_evaluations.T, evaluations.T)\n",
    "sns.despine(trim=True, offset=10)\n",
    "plt.xlabel(\"iterations\")\n",
    "plt.ylabel(\"activation\")\n",
    "plt.title(\"Activations over iterations for all neurons\");\n",
    "#plt.savefig('jitter.png')"
   ]
  },
  {
   "cell_type": "code",
   "execution_count": 96,
   "metadata": {},
   "outputs": [
    {
     "data": {
      "text/plain": [
       "72348"
      ]
     },
     "execution_count": 96,
     "metadata": {},
     "output_type": "execute_result"
    }
   ],
   "source": [
    "(8115 + 8199 + 7916 + 8182 + 7700 + 8044 + 7344 + 7334 + 6848 + 6559 + 8107) - (3 * 4000)"
   ]
  },
  {
   "cell_type": "markdown",
   "metadata": {},
   "source": [
    "# plot MEIs"
   ]
  },
  {
   "cell_type": "code",
   "execution_count": 95,
   "metadata": {},
   "outputs": [
    {
     "data": {
      "image/png": "[encoded data removed]",
      "text/plain": [
       "<Figure size 1500x1950 with 50 Axes>"
      ]
     },
     "metadata": {
      "needs_background": "light"
     },
     "output_type": "display_data"
    }
   ],
   "source": [
    "fig, axes = plt.subplots(10, 5, figsize=(10, 13), dpi=150)\n",
    "for i, ax in enumerate(axes.flatten()):\n",
    "    ax.imshow(MEIs[i], cmap=\"gray\", vmin=MEIs.min(), vmax=MEIs.max() ) # vmin=MEIs.min(), vmax=MEIs.max() \n",
    "    ax.axis(\"off\")\n",
    "    #ax.text(0.5, 2.5, str(unit_IDs[i]), va='center', fontsize=8.5, color='k')\n",
    "#fig.savefig('mei.pdf')"
   ]
  },
  {
   "cell_type": "code",
   "execution_count": null,
   "metadata": {},
   "outputs": [],
   "source": [
    "fig, ax = plt.subplots(1,3, figsize=(10,5), dpi=150)\n",
    "ax[0].hist(MEIs.flatten(), bins=20)\n",
    "ax[0].set_xlabel('pixel value')\n",
    "ax[0].set_title('Pixel distribution all MEIs')\n",
    "\n",
    "ax[1].hist(MEIs.max(axis=1).max(axis=1), bins=20)\n",
    "ax[1].set_xlabel('pixel value')\n",
    "ax[1].set_title('Max pixel value per MEI')\n",
    "\n",
    "ax[2].hist(MEIs.min(axis=1).min(axis=1), bins=20)\n",
    "ax[2].set_xlabel('pixel value')\n",
    "ax[2].set_title('Min pixel value per MEI')\n",
    "\n",
    "sns.despine(trim=True)\n",
    "#fig.savefig('MEI pixel distribution')"
   ]
  },
  {
   "cell_type": "code",
   "execution_count": null,
   "metadata": {},
   "outputs": [],
   "source": [
    "MEI() & "
   ]
  },
  {
   "cell_type": "code",
   "execution_count": null,
   "metadata": {},
   "outputs": [],
   "source": []
  }
 ],
 "metadata": {
  "kernelspec": {
   "display_name": "Python 3",
   "language": "python",
   "name": "python3"
  },
  "language_info": {
   "codemirror_mode": {
    "name": "ipython",
    "version": 3
   },
   "file_extension": ".py",
   "mimetype": "text/x-python",
   "name": "python",
   "nbconvert_exporter": "python",
   "pygments_lexer": "ipython3",
   "version": "3.8.0"
  }
 },
 "nbformat": 4,
 "nbformat_minor": 4
}

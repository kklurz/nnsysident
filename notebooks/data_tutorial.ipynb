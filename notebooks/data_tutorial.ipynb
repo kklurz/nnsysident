{
 "cells": [
  {
   "cell_type": "markdown",
   "metadata": {},
   "source": [
    "# Demo notebook for datasets"
   ]
  },
  {
   "cell_type": "code",
   "execution_count": null,
   "metadata": {},
   "outputs": [],
   "source": [
    "%matplotlib inline\n",
    "%load_ext autoreload\n",
    "%autoreload 2 "
   ]
  },
  {
   "cell_type": "code",
   "execution_count": null,
   "metadata": {},
   "outputs": [],
   "source": [
    "import numpy as np\n",
    "import pickle \n",
    "import pandas as pd\n",
    "pd.set_option('display.max_columns', 500)\n",
    "pd.set_option('display.max_rows', 10)\n",
    "import matplotlib.pyplot as plt\n",
    "import matplotlib\n",
    "import seaborn as sns\n",
    "\n",
    "from neuralpredictors.data.datasets import FileTreeDataset, StaticImageSet"
   ]
  },
  {
   "cell_type": "markdown",
   "metadata": {},
   "source": [
    "There are 2 major dataset classes, the FileFileTreeDataset and the StaticImageSet. However, the StaticImageSet is hardly used in the lab any more and this tutorial will introduce the FileTreeDataset only.  \n",
    "First, instantiate your dataset object with the path to the data folder and all the parts of the dataset that you want to include (currently possible: images, reponses, behavior and pupil center.)"
   ]
  },
  {
   "cell_type": "code",
   "execution_count": null,
   "metadata": {},
   "outputs": [],
   "source": [
    "path = 'data/static22085-2-20-preproc0'\n",
    "dataset = FileTreeDataset(path, 'images', 'responses', 'behavior', 'pupil_center')"
   ]
  },
  {
   "cell_type": "code",
   "execution_count": null,
   "metadata": {},
   "outputs": [],
   "source": [
    "print('Number of neurons: {}'.format(dataset.n_neurons))\n",
    "print('Image shape: {}'.format(dataset.img_shape))\n",
    "print('Data keys: {}'.format(dataset.data_keys))"
   ]
  },
  {
   "cell_type": "markdown",
   "metadata": {},
   "source": [
    "___"
   ]
  },
  {
   "cell_type": "markdown",
   "metadata": {},
   "source": [
    "Tab completion does currently not work with this dataset object. Use the dir() function to find your way through the dataset object..."
   ]
  },
  {
   "cell_type": "code",
   "execution_count": null,
   "metadata": {},
   "outputs": [],
   "source": [
    "dir(dataset)"
   ]
  },
  {
   "cell_type": "markdown",
   "metadata": {},
   "source": [
    "## Look at first datapoint"
   ]
  },
  {
   "cell_type": "code",
   "execution_count": null,
   "metadata": {},
   "outputs": [],
   "source": [
    "first_data_point = dataset[0]"
   ]
  },
  {
   "cell_type": "code",
   "execution_count": null,
   "metadata": {},
   "outputs": [],
   "source": [
    "first_data_point"
   ]
  },
  {
   "cell_type": "code",
   "execution_count": null,
   "metadata": {},
   "outputs": [],
   "source": [
    "image, response, behavior, pupil_center = first_data_point"
   ]
  },
  {
   "cell_type": "markdown",
   "metadata": {},
   "source": [
    "### Image"
   ]
  },
  {
   "cell_type": "code",
   "execution_count": null,
   "metadata": {},
   "outputs": [],
   "source": [
    "fig, ax = plt.subplots(1, 1, dpi=100)\n",
    "ax.imshow(image.squeeze(), cmap='gray') # Squeeze to get rid of batch dimension\n",
    "ax.set_title('First image in dataset');"
   ]
  },
  {
   "cell_type": "markdown",
   "metadata": {},
   "source": [
    "### Response"
   ]
  },
  {
   "cell_type": "code",
   "execution_count": null,
   "metadata": {},
   "outputs": [],
   "source": [
    "fig, ax = plt.subplots(1, 1, dpi=100)\n",
    "ax.plot(response, color='navy')\n",
    "ax.set(title='Responses to first image', xlabel='neuron index (NOT ID)', ylabel='response')\n",
    "sns.despine(trim=True)"
   ]
  },
  {
   "cell_type": "markdown",
   "metadata": {},
   "source": [
    "### Behavior and pupil center"
   ]
  },
  {
   "cell_type": "markdown",
   "metadata": {},
   "source": [
    "The behavior data consists of 3 behavioral variables (in this order): \n",
    "- **pupil dilation**  \n",
    "- **derivative of pupil dilation**  \n",
    "- **running speed**"
   ]
  },
  {
   "cell_type": "code",
   "execution_count": null,
   "metadata": {},
   "outputs": [],
   "source": [
    "print('Behavioral variables during first image-response pair: \\n\\n' + \n",
    "      'pupil dilation: {}\\n'.format(behavior[0]) + \n",
    "      'derivative of pupil dilation: {}\\n'.format(behavior[1]) + \n",
    "      'running speed: {}'.format(behavior[2]))"
   ]
  },
  {
   "cell_type": "markdown",
   "metadata": {},
   "source": [
    "___"
   ]
  },
  {
   "cell_type": "markdown",
   "metadata": {},
   "source": [
    "The pupil center is not a \"behavioral\" variable and therefore an extra data key:"
   ]
  },
  {
   "cell_type": "code",
   "execution_count": null,
   "metadata": {},
   "outputs": [],
   "source": [
    "print('Pupil center: {}'.format(pupil_center))"
   ]
  },
  {
   "cell_type": "markdown",
   "metadata": {},
   "source": [
    "### Access info about neurons"
   ]
  },
  {
   "cell_type": "markdown",
   "metadata": {},
   "source": [
    "The info about neurons can be found in `dataset.neurons`. Every neuron has its unique ID (`dataset.neurons.unit_ids`) which should be used to refer to it. The IDs are NOT necessarily consecutive because certain neurons might have been discarded during data-preprocessing."
   ]
  },
  {
   "cell_type": "code",
   "execution_count": null,
   "metadata": {},
   "outputs": [],
   "source": [
    "print(f'number of neurons: {dataset.n_neurons} \\nhighest unit_id: {dataset.neurons.unit_ids.max()}')"
   ]
  },
  {
   "cell_type": "markdown",
   "metadata": {},
   "source": [
    "___"
   ]
  },
  {
   "cell_type": "markdown",
   "metadata": {},
   "source": [
    "There is various info about the neurons in the dataset (run `dir(dataset.neurons)` for more). For example the brain areas that the neurons are located in:"
   ]
  },
  {
   "cell_type": "code",
   "execution_count": null,
   "metadata": {},
   "outputs": [],
   "source": [
    "fig, ax = plt.subplots(1, 1, figsize=(15, 5), dpi=150)\n",
    "ax.scatter(dataset.neurons.unit_ids, dataset.neurons.area, color='navy', marker='|')\n",
    "ax.set(title='Brain areas of neurons', xlabel='neuron ID', ylabel='area')\n",
    "sns.despine(trim=True)"
   ]
  },
  {
   "cell_type": "markdown",
   "metadata": {},
   "source": [
    "### Access info about trials of images"
   ]
  },
  {
   "cell_type": "markdown",
   "metadata": {},
   "source": [
    "The info about trials can be found in `dataset.trial_info`. Every trial has its unique index (`dataset.trial_info.trial_idx`) which should be used to refer to it. The indices are NOT necessarily consecutive because certain trials might have been discarded during data-preprocessing."
   ]
  },
  {
   "cell_type": "code",
   "execution_count": null,
   "metadata": {},
   "outputs": [],
   "source": [
    "print(f'number of trials: {len(dataset.trial_info.trial_idx)} \\nhighest trial index: {dataset.trial_info.trial_idx.max()}')"
   ]
  },
  {
   "cell_type": "markdown",
   "metadata": {},
   "source": [
    "___"
   ]
  },
  {
   "cell_type": "markdown",
   "metadata": {},
   "source": [
    "There is various info about the trials in the dataset (run `dir(dataset.trial_info)` for more). For example the tier (train, validation, test) that the trial should be used for:"
   ]
  },
  {
   "cell_type": "code",
   "execution_count": null,
   "metadata": {},
   "outputs": [],
   "source": [
    "fig, ax = plt.subplots(1, 1, figsize=(15, 5), dpi=150)\n",
    "ax.scatter(dataset.trial_info.trial_idx, dataset.trial_info.tiers, color='navy', marker='|')\n",
    "ax.set(title='Tiers of trial indices', xlabel='trial index', ylabel='tier')\n",
    "sns.despine(trim=True)"
   ]
  },
  {
   "cell_type": "markdown",
   "metadata": {},
   "source": [
    "Note that in the **test tier**, the images are repeated for 10 trials: (Sometimes less if a trial had to be removed during pre-processing)"
   ]
  },
  {
   "cell_type": "code",
   "execution_count": null,
   "metadata": {},
   "outputs": [],
   "source": [
    "from collections import Counter\n",
    "\n",
    "test_image_ids = dataset.trial_info.frame_image_id[dataset.trial_info.tiers == 'test']\n",
    "counter = Counter(test_image_ids)\n",
    "print('image_id | count')\n",
    "print('----------------')\n",
    "for key, value in zip(counter.keys(), counter.values()):\n",
    "    print(str(key) + '     |   ' + str(value))"
   ]
  },
  {
   "cell_type": "markdown",
   "metadata": {},
   "source": [
    "# Transforms"
   ]
  },
  {
   "cell_type": "markdown",
   "metadata": {},
   "source": [
    "You can apply transforms on your data, for example to normalize the responses or to select only specific neurons, etc..."
   ]
  },
  {
   "cell_type": "code",
   "execution_count": null,
   "metadata": {},
   "outputs": [],
   "source": [
    "from neuralpredictors.data.transforms import NeuroNormalizer, Subsample\n",
    "\n",
    "neurons_in_V1_indices = np.where(np.isin(dataset.neurons.area, 'V1'))[0]\n",
    "\n",
    "# Note that the order of transforms is important! \n",
    "transforms = [NeuroNormalizer(dataset, exclude=['behavior', 'pupil_center']), Subsample(neurons_in_V1_indices)]"
   ]
  },
  {
   "cell_type": "markdown",
   "metadata": {},
   "source": [
    "Look at the mean of the first image and the subselection of neurons with and without transforms. The normailzation is done across all images, not on each image individually."
   ]
  },
  {
   "cell_type": "code",
   "execution_count": null,
   "metadata": {},
   "outputs": [],
   "source": [
    "dataset.transforms = []\n",
    "image, response, behavior, pupil_center = dataset[0]\n",
    "print('Without transforms:')\n",
    "print('Mean of first image: {}'.format(np.mean(image)))\n",
    "print('Number of neurons: {}'.format(len(response)))"
   ]
  },
  {
   "cell_type": "code",
   "execution_count": null,
   "metadata": {},
   "outputs": [],
   "source": [
    "dataset.transforms = transforms\n",
    "image, response, behavior, pupil_center = dataset[0]\n",
    "print('With transforms:')\n",
    "print('Mean of first image: {}'.format(np.mean(image)))\n",
    "print('Number of neurons: {}'.format(len(response)))"
   ]
  },
  {
   "cell_type": "markdown",
   "metadata": {},
   "source": [
    "# Dataloader for training models"
   ]
  },
  {
   "cell_type": "code",
   "execution_count": null,
   "metadata": {},
   "outputs": [],
   "source": [
    "from torch.utils.data import DataLoader\n",
    "from torch.utils.data.sampler import SubsetRandomSampler\n",
    "\n",
    "batch_size = 64\n",
    "tier = 'train'\n",
    "\n",
    "trial_indices = np.where(dataset.trial_info.tiers == tier)[0]\n",
    "sampler = SubsetRandomSampler(trial_indices)\n",
    "dataloader = DataLoader(dataset, sampler=sampler, batch_size=batch_size)"
   ]
  },
  {
   "cell_type": "markdown",
   "metadata": {},
   "source": [
    "For more elaborate dataloaders, look for example at https://github.com/sinzlab/Lurz_2020_code/blob/main/lurz2020/datasets/mouse_loaders.py"
   ]
  }
 ],
 "metadata": {
  "kernelspec": {
   "display_name": "Python 3",
   "language": "python",
   "name": "python3"
  },
  "language_info": {
   "codemirror_mode": {
    "name": "ipython",
    "version": 3
   },
   "file_extension": ".py",
   "mimetype": "text/x-python",
   "name": "python",
   "nbconvert_exporter": "python",
   "pygments_lexer": "ipython3",
   "version": "3.8.0"
  }
 },
 "nbformat": 4,
 "nbformat_minor": 4
}

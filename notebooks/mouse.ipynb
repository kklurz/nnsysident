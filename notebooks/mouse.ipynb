{
 "cells": [
  {
   "cell_type": "markdown",
   "metadata": {
    "jupyter": {
     "outputs_hidden": true
    }
   },
   "source": [
    "# Mouse System Identification Models"
   ]
  },
  {
   "cell_type": "code",
   "execution_count": 1,
   "metadata": {
    "tags": []
   },
   "outputs": [],
   "source": [
    "import os\n",
    "import datajoint as dj\n",
    "dj.config['database.host'] = os.environ['DJ_HOST']\n",
    "dj.config['database.user'] = os.environ['DJ_USERNAME']\n",
    "dj.config['database.password'] = os.environ['DJ_PASSWORD']\n",
    "dj.config['enable_python_native_blobs'] = True\n",
    "dj.config['display.limit'] = 200\n",
    "        \n",
    "name = 'vei'\n",
    "os.environ[\"DJ_SCHEMA_NAME\"] = f\"metrics_{name}\"\n",
    "dj.config[\"nnfabrik.schema_name\"] = os.environ[\"DJ_SCHEMA_NAME\"]"
   ]
  },
  {
   "cell_type": "code",
   "execution_count": 2,
   "metadata": {
    "tags": []
   },
   "outputs": [
    {
     "name": "stdout",
     "output_type": "stream",
     "text": [
      "Connecting konstantin@134.76.19.44:3306\n"
     ]
    }
   ],
   "source": [
    "import torch\n",
    "import numpy as np\n",
    "import pandas as pd\n",
    "\n",
    "import matplotlib.pyplot as plt\n",
    "import hiplot as hip\n",
    "\n",
    "from nnsysident.training.trainers import standard_trainer\n",
    "from nnsysident.models.models import stacked2d_gamma, stacked2d_poisson\n",
    "from nnsysident.datasets.mouse_loaders import static_loaders\n",
    "from nnsysident.utility.data_helpers import extract_data_key\n",
    "from nnsysident.utility.measures import get_model_performance\n",
    "\n",
    "random_seed = 27121992\n",
    "device = 'cuda'"
   ]
  },
  {
   "cell_type": "code",
   "execution_count": 3,
   "metadata": {
    "tags": []
   },
   "outputs": [],
   "source": [
    "from nnsysident.tables.bayesian import TrainedModelBayesian, ModelBayesian, DatasetBayesian\n",
    "from nnfabrik.main import Model, Trainer, Dataset, Seed\n",
    "from nnsysident.tables.experiments import TrainedModel, schema"
   ]
  },
  {
   "cell_type": "markdown",
   "metadata": {},
   "source": [
    "___"
   ]
  },
  {
   "cell_type": "markdown",
   "metadata": {
    "tags": []
   },
   "source": [
    "## Data"
   ]
  },
  {
   "cell_type": "code",
   "execution_count": 4,
   "metadata": {
    "tags": []
   },
   "outputs": [],
   "source": [
    "paths = ['./data/static20457-5-9-preproc0']\n",
    "\n",
    "data_key = extract_data_key(paths[0])\n",
    "\n",
    "dataset_config = {'paths': paths,\n",
    "                  'batch_size': 64,\n",
    "                  'seed': random_seed,\n",
    "                  'loader_outputs': [\"images\", \"responses\"],\n",
    "                  'normalize': True,\n",
    "                  'exclude': [\"images\"],\n",
    "                  \"cuda\": True if device==\"cuda\" else False\n",
    "                  }\n",
    "\n",
    "dataloaders = static_loaders(**dataset_config)"
   ]
  },
  {
   "cell_type": "markdown",
   "metadata": {},
   "source": [
    "## Model"
   ]
  },
  {
   "cell_type": "code",
   "execution_count": 20,
   "metadata": {
    "tags": []
   },
   "outputs": [],
   "source": [
    "model_config_base = {\"hidden_kern\": 13,\n",
    "                     \"input_kern\": 15,\n",
    "                     \"init_sigma\": 0.4,\n",
    "                     'init_mu_range': 0.55,\n",
    "                     'gamma_input': 1.0,\n",
    "                     'grid_mean_predictor': {'type': 'cortex',\n",
    "                                              'input_dimensions': 2,\n",
    "                                              'hidden_layers': 0,\n",
    "                                              'hidden_features': 0,\n",
    "                                              'final_tanh': False},\n",
    "                     \"feature_reg_weight\": 0.78,\n",
    "                     # \"readout_type\": \"MultipleGeneralizedFullGaussian2d\",\n",
    "                     \"readout_type\": \"MultipleGeneralizedPointPooled2d\",\n",
    "                    }\n",
    "\n",
    "# model_config_base['batch_norm_scale'] = False\n",
    "# model_config_base['feature_reg_weight'] = 2.439\n",
    "# model_config_base['independent_bn_bias'] = True\n",
    "\n",
    "gamma_model_config = model_config_base.copy()\n",
    "gamma_model = stacked2d_gamma(dataloaders, \n",
    "                            random_seed, \n",
    "                            **gamma_model_config)\n",
    "\n",
    "poisson_model = stacked2d_poisson(dataloaders, random_seed, **model_config_base)\n",
    "\n",
    "gamma_model.to(device);\n",
    "poisson_model.to(device);"
   ]
  },
  {
   "cell_type": "code",
   "execution_count": null,
   "metadata": {
    "tags": []
   },
   "outputs": [],
   "source": [
    "not_matching_keys = gamma_model.load_state_dict(torch.load(\"lurz_core_poisson.tar\"), strict=False)\n",
    "\n",
    "not_matching_keys = list(key for key in not_matching_keys.missing_keys if key[:7] != \"readout\") + list(key for key in not_matching_keys.unexpected_keys if key[:7] != \"readout\")\n",
    "print(\"{} not matching keys\".format(len(not_matching_keys)))"
   ]
  },
  {
   "cell_type": "code",
   "execution_count": null,
   "metadata": {
    "tags": []
   },
   "outputs": [],
   "source": [
    "not_matching_keys = poisson_model.load_state_dict(torch.load(\"lurz_core_poisson.tar\"), strict=False)\n",
    "\n",
    "not_matching_keys = list(key for key in not_matching_keys.missing_keys if key[:7] != \"readout\") + list(key for key in not_matching_keys.unexpected_keys if key[:7] != \"readout\")\n",
    "print(\"{} not matching keys\".format(len(not_matching_keys)))"
   ]
  },
  {
   "cell_type": "markdown",
   "metadata": {},
   "source": [
    "## Training"
   ]
  },
  {
   "cell_type": "code",
   "execution_count": null,
   "metadata": {
    "tags": []
   },
   "outputs": [],
   "source": [
    "trainer_config_base = {\"track_training\": False,\n",
    "                       \"device\": device,\n",
    "                       \"detach_core\": False,\n",
    "                       \"stop_function\": \"get_loss\",\n",
    "                       \"maximize\": False}"
   ]
  },
  {
   "cell_type": "code",
   "execution_count": null,
   "metadata": {
    "tags": []
   },
   "outputs": [],
   "source": [
    "gamma_score, gamma_output, gamma_state_dict = standard_trainer(gamma_model,\n",
    "                                                                     dataloaders,\n",
    "                                                                     random_seed,\n",
    "                                                                     loss_function=gamma_model.loss_fn,\n",
    "                                                                     **trainer_config)\n",
    "# torch.save(gamma_state_dict, \"mouseV1_gaussian_Gamma_statedict\" + data_key + \".pt\")"
   ]
  },
  {
   "cell_type": "code",
   "execution_count": null,
   "metadata": {
    "tags": []
   },
   "outputs": [],
   "source": [
    "gamma_performance = get_model_performance(gamma_model, dataloaders, gamma_model.loss_fn, device=device)"
   ]
  },
  {
   "cell_type": "code",
   "execution_count": null,
   "metadata": {
    "tags": []
   },
   "outputs": [],
   "source": [
    "gamma_score, gamma_output, gamma_state_dict = standard_trainer(gamma_model,\n",
    "                                                                     dataloaders,\n",
    "                                                                     random_seed,\n",
    "                                                                     loss_function=gamma_model.loss_fn,\n",
    "                                                                     **trainer_config_base)\n",
    "# torch.save(gamma_state_dict, \"mouseV1_gaussian_Gamma_statedict\" + data_key + \".pt\")"
   ]
  },
  {
   "cell_type": "code",
   "execution_count": null,
   "metadata": {
    "tags": []
   },
   "outputs": [],
   "source": [
    "poisson_score, poisson_output, poisson_state_dict = standard_trainer(poisson_model,\n",
    "                                                                     dataloaders,\n",
    "                                                                     random_seed,\n",
    "                                                                     loss_function=poisson_model.loss_fn,\n",
    "                                                                     **trainer_config_base)\n",
    "# torch.save(poisson_state_dict, \"mouseV1_gaussian_Poisson_statedict\" + data_key + \".pt\")"
   ]
  },
  {
   "cell_type": "code",
   "execution_count": null,
   "metadata": {
    "tags": []
   },
   "outputs": [],
   "source": [
    "poisson_performance = get_model_performance(poisson_model, dataloaders, poisson_model.loss_fn, device=device)"
   ]
  },
  {
   "cell_type": "markdown",
   "metadata": {},
   "source": [
    "___"
   ]
  },
  {
   "cell_type": "code",
   "execution_count": 8,
   "metadata": {
    "tags": []
   },
   "outputs": [],
   "source": [
    "for x, y in dataloaders[\"train\"][data_key]:\n",
    "    break"
   ]
  },
  {
   "cell_type": "code",
   "execution_count": 10,
   "metadata": {
    "tags": []
   },
   "outputs": [
    {
     "data": {
      "text/plain": [
       "torch.Size([64, 1, 36, 64])"
      ]
     },
     "execution_count": 10,
     "metadata": {},
     "output_type": "execute_result"
    }
   ],
   "source": [
    "x.shape"
   ]
  },
  {
   "cell_type": "code",
   "execution_count": 21,
   "metadata": {
    "tags": []
   },
   "outputs": [
    {
     "data": {
      "text/plain": [
       "torch.Size([5335])"
      ]
     },
     "execution_count": 21,
     "metadata": {},
     "output_type": "execute_result"
    }
   ],
   "source": [
    "out = poisson_model(x[0][None, ...])\n",
    "out.shape"
   ]
  },
  {
   "cell_type": "code",
   "execution_count": null,
   "metadata": {},
   "outputs": [],
   "source": [
    "poisson_model(x[0][None, ...])"
   ]
  },
  {
   "cell_type": "code",
   "execution_count": 26,
   "metadata": {
    "tags": []
   },
   "outputs": [
    {
     "data": {
      "text/plain": [
       "torch.Size([1, 64, 22, 50])"
      ]
     },
     "execution_count": 26,
     "metadata": {},
     "output_type": "execute_result"
    }
   ],
   "source": [
    "poisson_model.core(x[0][None, ...]).shape"
   ]
  },
  {
   "cell_type": "code",
   "execution_count": 27,
   "metadata": {
    "tags": []
   },
   "outputs": [
    {
     "data": {
      "text/plain": [
       "torch.Size([64, 64, 22, 50])"
      ]
     },
     "execution_count": 27,
     "metadata": {},
     "output_type": "execute_result"
    }
   ],
   "source": [
    "poisson_model.core(x).shape"
   ]
  },
  {
   "cell_type": "code",
   "execution_count": null,
   "metadata": {},
   "outputs": [],
   "source": []
  }
 ],
 "metadata": {
  "kernelspec": {
   "display_name": "Python 3 (ipykernel)",
   "language": "python",
   "name": "python3"
  },
  "language_info": {
   "codemirror_mode": {
    "name": "ipython",
    "version": 3
   },
   "file_extension": ".py",
   "mimetype": "text/x-python",
   "name": "python",
   "nbconvert_exporter": "python",
   "pygments_lexer": "ipython3",
   "version": "3.9.16"
  }
 },
 "nbformat": 4,
 "nbformat_minor": 4
}

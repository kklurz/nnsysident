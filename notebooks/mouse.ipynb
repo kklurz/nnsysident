{
 "cells": [
  {
   "cell_type": "markdown",
   "metadata": {
    "jupyter": {
     "outputs_hidden": true
    }
   },
   "source": [
    "# Mouse System Identification Models"
   ]
  },
  {
   "cell_type": "code",
   "execution_count": 1,
   "metadata": {
    "tags": []
   },
   "outputs": [],
   "source": [
    "import os\n",
    "import datajoint as dj\n",
    "dj.config['database.host'] = os.environ['DJ_HOST']\n",
    "dj.config['database.user'] = os.environ['DJ_USERNAME']\n",
    "dj.config['database.password'] = os.environ['DJ_PASSWORD']\n",
    "dj.config['enable_python_native_blobs'] = True\n",
    "dj.config['display.limit'] = 200\n",
    "        \n",
    "name = 'vei'\n",
    "os.environ[\"DJ_SCHEMA_NAME\"] = f\"metrics_{name}\"\n",
    "dj.config[\"nnfabrik.schema_name\"] = os.environ[\"DJ_SCHEMA_NAME\"]"
   ]
  },
  {
   "cell_type": "code",
   "execution_count": 2,
   "metadata": {
    "tags": []
   },
   "outputs": [
    {
     "name": "stdout",
     "output_type": "stream",
     "text": [
      "Connecting konstantin@134.76.19.44:3306\n"
     ]
    }
   ],
   "source": [
    "import torch\n",
    "import numpy as np\n",
    "import pandas as pd\n",
    "\n",
    "import matplotlib.pyplot as plt\n",
    "import hiplot as hip\n",
    "\n",
    "from nnsysident.training.trainers import standard_trainer\n",
    "from nnsysident.models.models import stacked2d_gamma, stacked2d_poisson\n",
    "from nnsysident.datasets.mouse_loaders import static_loaders\n",
    "from nnsysident.utility.data_helpers import extract_data_key\n",
    "from nnsysident.utility.measures import get_model_performance\n",
    "\n",
    "random_seed = 27121992\n",
    "device = 'cuda'"
   ]
  },
  {
   "cell_type": "code",
   "execution_count": 28,
   "metadata": {
    "tags": []
   },
   "outputs": [],
   "source": [
    "from nnsysident.tables.bayesian import TrainedModelBayesian, ModelBayesian, DatasetBayesian\n",
    "from nnfabrik.main import Model, Trainer, Dataset, Seed\n",
    "from nnsysident.tables.experiments import TrainedModel"
   ]
  },
  {
   "cell_type": "markdown",
   "metadata": {},
   "source": [
    "___"
   ]
  },
  {
   "cell_type": "code",
   "execution_count": null,
   "metadata": {
    "tags": []
   },
   "outputs": [],
   "source": [
    "hashes = tuple((Trainer & 'trainer_comment != \"Bayesian optimization of Hyper params.\"').fetch(\"trainer_hash\"))\n",
    "TrainedModel.populate(\"trainer_hash in {}\".format(hashes))"
   ]
  },
  {
   "cell_type": "code",
   "execution_count": 40,
   "metadata": {},
   "outputs": [
    {
     "name": "stdout",
     "output_type": "stream",
     "text": [
      "TrainedModel         Completed 4 of 4 (100.0%)   2023-04-19 10:42:21\n"
     ]
    },
    {
     "data": {
      "text/plain": [
       "(0, 4)"
      ]
     },
     "execution_count": 40,
     "metadata": {},
     "output_type": "execute_result"
    }
   ],
   "source": [
    "TrainedModel.progress(\"trainer_hash in {}\".format(hashes))"
   ]
  },
  {
   "cell_type": "code",
   "execution_count": 47,
   "metadata": {},
   "outputs": [],
   "source": [
    "aa = \"test\"\n",
    "\n",
    "if aa == \"test1\":\n",
    "    print(\"test1\")\n",
    "elif aa == \"test2\":\n",
    "    print(\"test2\")"
   ]
  },
  {
   "cell_type": "code",
   "execution_count": 49,
   "metadata": {
    "tags": []
   },
   "outputs": [
    {
     "data": {
      "text/html": [
       "\n",
       "    \n",
       "    <style type=\"text/css\">\n",
       "        .Relation{\n",
       "            border-collapse:collapse;\n",
       "        }\n",
       "        .Relation th{\n",
       "            background: #A0A0A0; color: #ffffff; padding:4px; border:#f0e0e0 1px solid;\n",
       "            font-weight: normal; font-family: monospace; font-size: 100%;\n",
       "        }\n",
       "        .Relation td{\n",
       "            padding:4px; border:#f0e0e0 1px solid; font-size:100%;\n",
       "        }\n",
       "        .Relation tr:nth-child(odd){\n",
       "            background: #ffffff;\n",
       "        }\n",
       "        .Relation tr:nth-child(even){\n",
       "            background: #f3f1ff;\n",
       "        }\n",
       "        /* Tooltip container */\n",
       "        .djtooltip {\n",
       "        }\n",
       "        /* Tooltip text */\n",
       "        .djtooltip .djtooltiptext {\n",
       "            visibility: hidden;\n",
       "            width: 120px;\n",
       "            background-color: black;\n",
       "            color: #fff;\n",
       "            text-align: center;\n",
       "            padding: 5px 0;\n",
       "            border-radius: 6px;\n",
       "            /* Position the tooltip text - see examples below! */\n",
       "            position: absolute;\n",
       "            z-index: 1;\n",
       "        }\n",
       "        #primary {\n",
       "            font-weight: bold;\n",
       "            color: black;\n",
       "        }\n",
       "        #nonprimary {\n",
       "            font-weight: normal;\n",
       "            color: white;\n",
       "        }\n",
       "\n",
       "        /* Show the tooltip text when you mouse over the tooltip container */\n",
       "        .djtooltip:hover .djtooltiptext {\n",
       "            visibility: visible;\n",
       "        }\n",
       "    </style>\n",
       "    \n",
       "    <b>Trained models</b>\n",
       "        <div style=\"max-height:1000px;max-width:1500px;overflow:auto;\">\n",
       "        <table border=\"1\" class=\"Relation\">\n",
       "            <thead> <tr style=\"text-align: right;\"> <th> <div class=\"djtooltip\">\n",
       "                            <p id=\"primary\">model_fn</p>\n",
       "                            <span class=\"djtooltiptext\">name of the model function</span>\n",
       "                        </div></th><th><div class=\"djtooltip\">\n",
       "                            <p id=\"primary\">model_hash</p>\n",
       "                            <span class=\"djtooltiptext\">hash of the model configuration</span>\n",
       "                        </div></th><th><div class=\"djtooltip\">\n",
       "                            <p id=\"primary\">dataset_fn</p>\n",
       "                            <span class=\"djtooltiptext\">name of the dataset loader function</span>\n",
       "                        </div></th><th><div class=\"djtooltip\">\n",
       "                            <p id=\"primary\">dataset_hash</p>\n",
       "                            <span class=\"djtooltiptext\">hash of the configuration object</span>\n",
       "                        </div></th><th><div class=\"djtooltip\">\n",
       "                            <p id=\"primary\">trainer_fn</p>\n",
       "                            <span class=\"djtooltiptext\">name of the Trainer loader function</span>\n",
       "                        </div></th><th><div class=\"djtooltip\">\n",
       "                            <p id=\"primary\">trainer_hash</p>\n",
       "                            <span class=\"djtooltiptext\">hash of the configuration object</span>\n",
       "                        </div></th><th><div class=\"djtooltip\">\n",
       "                            <p id=\"primary\">seed</p>\n",
       "                            <span class=\"djtooltiptext\">Random seed that is passed to the model- and dataset-builder</span>\n",
       "                        </div></th><th><div class=\"djtooltip\">\n",
       "                            <p id=\"nonprimary\">comment</p>\n",
       "                            <span class=\"djtooltiptext\">short description</span>\n",
       "                        </div></th><th><div class=\"djtooltip\">\n",
       "                            <p id=\"nonprimary\">score</p>\n",
       "                            <span class=\"djtooltiptext\">score</span>\n",
       "                        </div></th><th><div class=\"djtooltip\">\n",
       "                            <p id=\"nonprimary\">train_loss</p>\n",
       "                            <span class=\"djtooltiptext\">train_loss</span>\n",
       "                        </div></th><th><div class=\"djtooltip\">\n",
       "                            <p id=\"nonprimary\">validation_loss</p>\n",
       "                            <span class=\"djtooltiptext\">validation_loss</span>\n",
       "                        </div></th><th><div class=\"djtooltip\">\n",
       "                            <p id=\"nonprimary\">test_loss</p>\n",
       "                            <span class=\"djtooltiptext\">test_loss</span>\n",
       "                        </div></th><th><div class=\"djtooltip\">\n",
       "                            <p id=\"nonprimary\">train_correlation</p>\n",
       "                            <span class=\"djtooltiptext\">train_correlation</span>\n",
       "                        </div></th><th><div class=\"djtooltip\">\n",
       "                            <p id=\"nonprimary\">validation_correlation</p>\n",
       "                            <span class=\"djtooltiptext\">validation_correlation</span>\n",
       "                        </div></th><th><div class=\"djtooltip\">\n",
       "                            <p id=\"nonprimary\">test_correlation</p>\n",
       "                            <span class=\"djtooltiptext\">test_correlation</span>\n",
       "                        </div></th><th><div class=\"djtooltip\">\n",
       "                            <p id=\"nonprimary\">output</p>\n",
       "                            <span class=\"djtooltiptext\">trainer object's output</span>\n",
       "                        </div></th><th><div class=\"djtooltip\">\n",
       "                            <p id=\"nonprimary\">fabrikant_name</p>\n",
       "                            <span class=\"djtooltiptext\">Name of the contributor that added this entry</span>\n",
       "                        </div></th><th><div class=\"djtooltip\">\n",
       "                            <p id=\"nonprimary\">trainedmodel_ts</p>\n",
       "                            <span class=\"djtooltiptext\">UTZ timestamp at time of insertion</span>\n",
       "                        </div> </th> </tr> </thead>\n",
       "            <tbody> <tr> <td>nnsysident.models.models.stacked2d_gamma</td>\n",
       "<td>ea7c8ee30c9f5ab0a632392c3a4b32c0</td>\n",
       "<td>nnsysident.datasets.mouse_loaders.static_loaders</td>\n",
       "<td>8e77e243f6a0377c9831e0f36d9093df</td>\n",
       "<td>nnsysident.training.trainers.standard_trainer</td>\n",
       "<td>69601593d387758e9ff6a5bf26dd6739</td>\n",
       "<td>1</td>\n",
       "<td>Loss: GammaLoss, EarlyStopping: get_correlations.Best GammaModel from Hypersearch with EarlyStopping: get_correlations.</td>\n",
       "<td>0.284335</td>\n",
       "<td>-196627000.0</td>\n",
       "<td>-22934300.0</td>\n",
       "<td>-43280900.0</td>\n",
       "<td>0.341546</td>\n",
       "<td>0.284335</td>\n",
       "<td>0.277896</td>\n",
       "<td>=BLOB=</td>\n",
       "<td>None</td>\n",
       "<td>2023-04-19 12:19:13</td></tr><tr><td>nnsysident.models.models.stacked2d_gamma</td>\n",
       "<td>ea7c8ee30c9f5ab0a632392c3a4b32c0</td>\n",
       "<td>nnsysident.datasets.mouse_loaders.static_loaders</td>\n",
       "<td>8e77e243f6a0377c9831e0f36d9093df</td>\n",
       "<td>nnsysident.training.trainers.standard_trainer</td>\n",
       "<td>93ced35f350b1f23b30e38c88257716b</td>\n",
       "<td>1</td>\n",
       "<td>Loss: GammaLoss, EarlyStopping: get_loss.Best GammaModel from Hypersearch with EarlyStopping: get_correlations.</td>\n",
       "<td>0.100197</td>\n",
       "<td>-195615000.0</td>\n",
       "<td>-22865500.0</td>\n",
       "<td>-43156200.0</td>\n",
       "<td>0.117735</td>\n",
       "<td>0.100197</td>\n",
       "<td>0.102089</td>\n",
       "<td>=BLOB=</td>\n",
       "<td>None</td>\n",
       "<td>2023-04-19 12:24:16</td></tr><tr><td>nnsysident.models.models.stacked2d_poisson</td>\n",
       "<td>eeea99f6abe39ec1226d71c55be03556</td>\n",
       "<td>nnsysident.datasets.mouse_loaders.static_loaders</td>\n",
       "<td>8e77e243f6a0377c9831e0f36d9093df</td>\n",
       "<td>nnsysident.training.trainers.standard_trainer</td>\n",
       "<td>69601593d387758e9ff6a5bf26dd6739</td>\n",
       "<td>1</td>\n",
       "<td>Loss: GammaLoss, EarlyStopping: get_correlations.Best PoissonModel from old Hypersearch.</td>\n",
       "<td>0.282825</td>\n",
       "<td>17711000.0</td>\n",
       "<td>2161320.0</td>\n",
       "<td>4272440.0</td>\n",
       "<td>0.370382</td>\n",
       "<td>0.282825</td>\n",
       "<td>0.273587</td>\n",
       "<td>=BLOB=</td>\n",
       "<td>None</td>\n",
       "<td>2023-04-19 12:21:36</td></tr><tr><td>nnsysident.models.models.stacked2d_poisson</td>\n",
       "<td>eeea99f6abe39ec1226d71c55be03556</td>\n",
       "<td>nnsysident.datasets.mouse_loaders.static_loaders</td>\n",
       "<td>8e77e243f6a0377c9831e0f36d9093df</td>\n",
       "<td>nnsysident.training.trainers.standard_trainer</td>\n",
       "<td>93ced35f350b1f23b30e38c88257716b</td>\n",
       "<td>1</td>\n",
       "<td>Loss: GammaLoss, EarlyStopping: get_loss.Best PoissonModel from old Hypersearch.</td>\n",
       "<td>0.284347</td>\n",
       "<td>17705500.0</td>\n",
       "<td>2156140.0</td>\n",
       "<td>4252570.0</td>\n",
       "<td>0.369391</td>\n",
       "<td>0.284347</td>\n",
       "<td>0.276673</td>\n",
       "<td>=BLOB=</td>\n",
       "<td>None</td>\n",
       "<td>2023-04-19 12:26:31</td> </tr> </tbody>\n",
       "        </table>\n",
       "        \n",
       "        <p>Total: 4</p></div>\n",
       "        "
      ],
      "text/plain": [
       "*model_fn      *model_hash    *dataset_fn    *dataset_hash  *trainer_fn    *trainer_hash  *seed    comment        score        train_loss     validation_los test_loss      train_correlat validation_cor test_correlati output     fabrikant_name trainedmodel_t\n",
       "+------------+ +------------+ +------------+ +------------+ +------------+ +------------+ +------+ +------------+ +----------+ +------------+ +------------+ +------------+ +------------+ +------------+ +------------+ +--------+ +------------+ +------------+\n",
       "nnsysident.mod ea7c8ee30c9f5a nnsysident.dat 8e77e243f6a037 nnsysident.tra 69601593d38775 1        Loss: GammaLos 0.284335     -196627000.0   -22934300.0    -43280900.0    0.341546       0.284335       0.277896       =BLOB=     None           2023-04-19 12:\n",
       "nnsysident.mod ea7c8ee30c9f5a nnsysident.dat 8e77e243f6a037 nnsysident.tra 93ced35f350b1f 1        Loss: GammaLos 0.100197     -195615000.0   -22865500.0    -43156200.0    0.117735       0.100197       0.102089       =BLOB=     None           2023-04-19 12:\n",
       "nnsysident.mod eeea99f6abe39e nnsysident.dat 8e77e243f6a037 nnsysident.tra 69601593d38775 1        Loss: GammaLos 0.282825     17711000.0     2161320.0      4272440.0      0.370382       0.282825       0.273587       =BLOB=     None           2023-04-19 12:\n",
       "nnsysident.mod eeea99f6abe39e nnsysident.dat 8e77e243f6a037 nnsysident.tra 93ced35f350b1f 1        Loss: GammaLos 0.284347     17705500.0     2156140.0      4252570.0      0.369391       0.284347       0.276673       =BLOB=     None           2023-04-19 12:\n",
       " (Total: 4)"
      ]
     },
     "execution_count": 49,
     "metadata": {},
     "output_type": "execute_result"
    }
   ],
   "source": [
    "TrainedModel().fetch()"
   ]
  },
  {
   "cell_type": "code",
   "execution_count": null,
   "metadata": {},
   "outputs": [],
   "source": []
  },
  {
   "cell_type": "markdown",
   "metadata": {
    "tags": []
   },
   "source": [
    "## Data"
   ]
  },
  {
   "cell_type": "code",
   "execution_count": 31,
   "metadata": {
    "tags": []
   },
   "outputs": [],
   "source": [
    "paths = ['./data/static20457-5-9-preproc0']\n",
    "\n",
    "data_key = extract_data_key(paths[0])\n",
    "\n",
    "dataset_config = {'paths': paths,\n",
    "                  'batch_size': 64,\n",
    "                  'seed': random_seed,\n",
    "                  'loader_outputs': [\"images\", \"responses\"],\n",
    "                  'normalize': True,\n",
    "                  'exclude': [\"images\"],\n",
    "                  \"cuda\": True if device==\"cuda\" else False\n",
    "                  }\n",
    "\n",
    "dataloaders = static_loaders(**dataset_config)"
   ]
  },
  {
   "cell_type": "markdown",
   "metadata": {},
   "source": [
    "## Model"
   ]
  },
  {
   "cell_type": "code",
   "execution_count": null,
   "metadata": {
    "tags": []
   },
   "outputs": [],
   "source": [
    "model_config_base = {\"hidden_kern\": 13,\n",
    "                     \"input_kern\": 15,\n",
    "                     \"init_sigma\": 0.4,\n",
    "                     'init_mu_range': 0.55,\n",
    "                     'gamma_input': 1.0,\n",
    "                     'grid_mean_predictor': {'type': 'cortex',\n",
    "                                              'input_dimensions': 2,\n",
    "                                              'hidden_layers': 0,\n",
    "                                              'hidden_features': 0,\n",
    "                                              'final_tanh': False},\n",
    "                     \"feature_reg_weight\": 0.78,\n",
    "                     \"readout_type\": \"MultipleGeneralizedFullGaussian2d\",\n",
    "                    }\n",
    "\n",
    "# model_config_base['batch_norm_scale'] = False\n",
    "# model_config_base['feature_reg_weight'] = 2.439\n",
    "# model_config_base['independent_bn_bias'] = True\n",
    "\n",
    "gamma_model = stacked2d_gamma(dataloaders, \n",
    "                            random_seed, \n",
    "                            **model_config_base)\n",
    "\n",
    "poisson_model = stacked2d_poisson(dataloaders, random_seed, **model_config_base)"
   ]
  },
  {
   "cell_type": "code",
   "execution_count": null,
   "metadata": {
    "tags": []
   },
   "outputs": [],
   "source": [
    "not_matching_keys = gamma_model.load_state_dict(torch.load(\"lurz_core_poisson.tar\"), strict=False)\n",
    "\n",
    "not_matching_keys = list(key for key in not_matching_keys.missing_keys if key[:7] != \"readout\") + list(key for key in not_matching_keys.unexpected_keys if key[:7] != \"readout\")\n",
    "print(\"{} not matching keys\".format(len(not_matching_keys)))"
   ]
  },
  {
   "cell_type": "code",
   "execution_count": null,
   "metadata": {
    "tags": []
   },
   "outputs": [],
   "source": [
    "not_matching_keys = poisson_model.load_state_dict(torch.load(\"lurz_core_poisson.tar\"), strict=False)\n",
    "\n",
    "not_matching_keys = list(key for key in not_matching_keys.missing_keys if key[:7] != \"readout\") + list(key for key in not_matching_keys.unexpected_keys if key[:7] != \"readout\")\n",
    "print(\"{} not matching keys\".format(len(not_matching_keys)))"
   ]
  },
  {
   "cell_type": "markdown",
   "metadata": {},
   "source": [
    "## Training"
   ]
  },
  {
   "cell_type": "code",
   "execution_count": null,
   "metadata": {
    "tags": []
   },
   "outputs": [],
   "source": [
    "trainer_config_base = {\"track_training\": False,\n",
    "                       \"device\": device,\n",
    "                       \"detach_core\": False,\n",
    "                       \"stop_function\": \"get_loss\",\n",
    "                       \"maximize\": False}"
   ]
  },
  {
   "cell_type": "code",
   "execution_count": null,
   "metadata": {
    "tags": []
   },
   "outputs": [],
   "source": [
    "gamma_score, gamma_output, gamma_state_dict = standard_trainer(gamma_model,\n",
    "                                                                     dataloaders,\n",
    "                                                                     random_seed,\n",
    "                                                                     loss_function=gamma_model.loss_fn,\n",
    "                                                                     **trainer_config_base)\n",
    "# torch.save(gamma_state_dict, \"mouseV1_gaussian_Gamma_statedict\" + data_key + \".pt\")"
   ]
  },
  {
   "cell_type": "code",
   "execution_count": null,
   "metadata": {},
   "outputs": [],
   "source": []
  },
  {
   "cell_type": "code",
   "execution_count": null,
   "metadata": {
    "tags": []
   },
   "outputs": [],
   "source": [
    "gamma_performance = get_model_performance(gamma_model, dataloaders, gamma_model.loss_fn, device=device)"
   ]
  },
  {
   "cell_type": "code",
   "execution_count": null,
   "metadata": {
    "tags": []
   },
   "outputs": [],
   "source": [
    "poisson_score, poisson_output, poisson_state_dict = standard_trainer(poisson_model,\n",
    "                                                                     dataloaders,\n",
    "                                                                     random_seed,\n",
    "                                                                     loss_function=poisson_model.loss_fn,\n",
    "                                                                     **trainer_config_base)\n",
    "# torch.save(poisson_state_dict, \"mouseV1_gaussian_Poisson_statedict\" + data_key + \".pt\")"
   ]
  },
  {
   "cell_type": "code",
   "execution_count": null,
   "metadata": {
    "tags": []
   },
   "outputs": [],
   "source": [
    "poisson_performance = get_model_performance(poisson_model, dataloaders, poisson_model.loss_fn, device=device)"
   ]
  },
  {
   "cell_type": "markdown",
   "metadata": {},
   "source": [
    "___"
   ]
  }
 ],
 "metadata": {
  "kernelspec": {
   "display_name": "Python 3 (ipykernel)",
   "language": "python",
   "name": "python3"
  },
  "language_info": {
   "codemirror_mode": {
    "name": "ipython",
    "version": 3
   },
   "file_extension": ".py",
   "mimetype": "text/x-python",
   "name": "python",
   "nbconvert_exporter": "python",
   "pygments_lexer": "ipython3",
   "version": "3.9.16"
  }
 },
 "nbformat": 4,
 "nbformat_minor": 4
}

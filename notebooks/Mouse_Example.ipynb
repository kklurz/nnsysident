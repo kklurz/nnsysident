{
 "cells": [
  {
   "cell_type": "markdown",
   "metadata": {},
   "source": [
    "# Demo Notebook how to run models on static mouse datasets"
   ]
  },
  {
   "cell_type": "code",
   "execution_count": 1,
   "metadata": {},
   "outputs": [],
   "source": [
    "%matplotlib inline\n",
    "%load_ext autoreload\n",
    "%autoreload 2 "
   ]
  },
  {
   "cell_type": "code",
   "execution_count": 2,
   "metadata": {},
   "outputs": [],
   "source": [
    "import os\n",
    "import datajoint as dj\n",
    "dj.config['database.host'] = os.environ['DJ_HOST']\n",
    "dj.config['database.user'] = os.environ['DJ_USER']\n",
    "dj.config['database.password'] = os.environ['DJ_PASS']\n",
    "dj.config['enable_python_native_blobs'] = True\n",
    "dj.config['display.limit'] = 200\n",
    "\n",
    "name = 'iclr' #test\n",
    "dj.config['schema_name'] = f\"konstantin_nnsysident_{name}\""
   ]
  },
  {
   "cell_type": "code",
   "execution_count": 3,
   "metadata": {},
   "outputs": [
    {
     "name": "stderr",
     "output_type": "stream",
     "text": [
      "<ipython-input-3-05b2d793f8c5>:7: DeprecationWarning: Using or importing the ABCs from 'collections' instead of from 'collections.abc' is deprecated since Python 3.3, and in 3.9 it will stop working\n",
      "  from collections import OrderedDict, Iterable\n"
     ]
    },
    {
     "name": "stdout",
     "output_type": "stream",
     "text": [
      "Connecting konstantin@134.2.168.16:3306\n",
      "Schema name: konstantin_nnsysident_iclr\n"
     ]
    }
   ],
   "source": [
    "import torch\n",
    "import numpy as np\n",
    "import pickle \n",
    "import pandas as pd\n",
    "pd.set_option('display.max_columns', 500)\n",
    "pd.set_option('display.max_rows', 10)\n",
    "from collections import OrderedDict, Iterable\n",
    "import matplotlib.pyplot as plt\n",
    "import matplotlib\n",
    "import re\n",
    "import seaborn as sns\n",
    "\n",
    "import nnfabrik\n",
    "from nnfabrik.main import *\n",
    "from nnfabrik import builder\n",
    "from nnfabrik.utility.hypersearch import Bayesian\n",
    "from dataport.bcm.static import PreprocessedMouseData\n",
    "\n",
    "from nnsysident.tables.experiments import *\n",
    "from nnsysident.tables.bayesian import *\n",
    "from nnsysident.datasets.mouse_loaders import static_shared_loaders\n",
    "from nnsysident.datasets.mouse_loaders import static_loaders\n",
    "from nnsysident.datasets.mouse_loaders import static_loader\n",
    "from nnsysident.tables.scoring import OracleScore, OracleScoreTransfer"
   ]
  },
  {
   "cell_type": "markdown",
   "metadata": {},
   "source": [
    "---"
   ]
  },
  {
   "cell_type": "code",
   "execution_count": null,
   "metadata": {},
   "outputs": [],
   "source": [
    "mei_direct_highest =       torch.load('mei_direct_highest')\n",
    "mei_transfer_highest =     torch.load('mei_transfer_highest')\n",
    "mei_direct_highestdiff =   torch.load('mei_direct_highestdiff')\n",
    "mei_transfer_highestdiff = torch.load('mei_transfer_highestdiff')"
   ]
  },
  {
   "cell_type": "code",
   "execution_count": null,
   "metadata": {},
   "outputs": [],
   "source": [
    "fontsize = 6\n",
    "\n",
    "fig, axes = plt.subplots(2, 10, figsize=(10,1), dpi=450)\n",
    "for i, ax in enumerate(axes.flatten()):\n",
    "    ax.set_ylabel('bla')\n",
    "    if i == 0:\n",
    "        ax.set_ylabel('direct', fontsize=fontsize)\n",
    "        ax.tick_params(\n",
    "                        axis='both',          # changes apply to the x-axis\n",
    "                        which='both',      # both major and minor ticks are affected\n",
    "                        bottom=False,      # ticks along the bottom edge are off\n",
    "                        top=False,\n",
    "                        left=False,\n",
    "                        right=False,\n",
    "                        labelbottom=False) # labels along the bottom edge are off\n",
    "        ax.set_yticklabels([])\n",
    "    elif i == 10:\n",
    "        ax.set_ylabel('transfer', fontsize=fontsize)\n",
    "        ax.tick_params(\n",
    "                        axis='both',          # changes apply to the x-axis\n",
    "                        which='both',      # both major and minor ticks are affected\n",
    "                        bottom=False,      # ticks along the bottom edge are off\n",
    "                        top=False,\n",
    "                        left=False,\n",
    "                        right=False,\n",
    "                        labelbottom=False) # labels along the bottom edge are off\n",
    "        ax.set_yticklabels([])\n",
    "    else:\n",
    "        ax.axis(\"off\")\n",
    "\n",
    "    if i < 10:\n",
    "        MEIs = mei_direct_highestdiff['MEIs']\n",
    "        unit_IDs = mei_direct_highestdiff['unit_IDs']\n",
    "    else:\n",
    "        MEIs = mei_transfer_highestdiff['MEIs']\n",
    "        unit_IDs = mei_transfer_highestdiff['unit_IDs']\n",
    "        i = i-10\n",
    "    \n",
    "    ax.imshow(MEIs[i], cmap=\"gray\", vmin=MEIs.min(), vmax=MEIs.max() ) \n",
    "    ax.text(0.5, 2.5, str(unit_IDs[i]), va='center', fontsize=4.5, color='k')\n",
    "fig.savefig('mei.png')"
   ]
  },
  {
   "cell_type": "code",
   "execution_count": null,
   "metadata": {},
   "outputs": [],
   "source": []
  },
  {
   "cell_type": "code",
   "execution_count": null,
   "metadata": {},
   "outputs": [],
   "source": []
  },
  {
   "cell_type": "code",
   "execution_count": null,
   "metadata": {},
   "outputs": [],
   "source": []
  },
  {
   "cell_type": "code",
   "execution_count": null,
   "metadata": {},
   "outputs": [],
   "source": []
  },
  {
   "cell_type": "code",
   "execution_count": null,
   "metadata": {},
   "outputs": [],
   "source": []
  },
  {
   "cell_type": "code",
   "execution_count": 6,
   "metadata": {},
   "outputs": [
    {
     "name": "stdout",
     "output_type": "stream",
     "text": [
      "data/static20457-5-9-preproc0 exists already. Not unpacking data/static20457-5-9-preproc0.zip\n",
      "Returning only test sampler with repeats...\n"
     ]
    }
   ],
   "source": [
    "# change path here\n",
    "paths = ['data/static20457-5-9-preproc0.zip']\n",
    "\n",
    "#paths = ['data/static22564-2-12-preproc0.zip']\n",
    "dataset_fn = 'nnsysident.datasets.mouse_loaders.static_loaders'\n",
    "dataset_config = dict(\n",
    "    paths=paths,\n",
    "    batch_size=10000,\n",
    "    seed=1,\n",
    "    file_tree=True,\n",
    "    return_test_sampler=True,\n",
    "    tier='test',\n",
    "    #image_n=50,\n",
    "    #image_base_seed=1,\n",
    "    #multi_match_n=972,\n",
    "    #multi_match_base_seed=1,\n",
    "    #exclude_multi_match_n = 3625,\n",
    "\n",
    ")\n",
    "\n",
    "dataloaders = builder.get_data(dataset_fn, dataset_config)"
   ]
  },
  {
   "cell_type": "code",
   "execution_count": null,
   "metadata": {},
   "outputs": [],
   "source": [
    "images, responses = [], []\n",
    "for x, y in dataloaders['test']['20457-5-9-0']:\n",
    "    images.append(x.data.cpu().numpy())\n",
    "    responses.append(y.data.cpu().numpy())"
   ]
  },
  {
   "cell_type": "code",
   "execution_count": 7,
   "metadata": {},
   "outputs": [
    {
     "name": "stdout",
     "output_type": "stream",
     "text": [
      "SNR = [0.125401   0.4528086  0.29499984 ... 0.40001678 0.49493545 0.5992377 ]\n"
     ]
    }
   ],
   "source": [
    "def get_SNR(responses):\n",
    "    mu = np.array([np.mean(repeats, axis=0) for repeats in responses])\n",
    "    mu_bar = np.mean(mu, axis=0)\n",
    "\n",
    "    sigma_2 = np.array([np.var(repeats, ddof=1, axis=0) for repeats in responses])\n",
    "    sigma_2_bar = np.mean(sigma_2, axis=0)\n",
    "\n",
    "    SNR = (1/mu.shape[0] * np.sum((mu - mu_bar)**2, axis=0)) / sigma_2_bar\n",
    "    return SNR, sigma_2\n",
    "\n",
    "images, responses = [], []\n",
    "for x, y in dataloaders['test']['20457-5-9-0']:\n",
    "    images.append(x.data.cpu().numpy())\n",
    "    responses.append(y.data.cpu().numpy())\n",
    "\n",
    "SNR, sigma_2 = get_SNR(responses)\n",
    "print('SNR = {}'.format(SNR))"
   ]
  },
  {
   "cell_type": "code",
   "execution_count": 23,
   "metadata": {},
   "outputs": [
    {
     "data": {
      "image/png": "[encoded data removed]",
      "text/plain": [
       "<Figure size 432x288 with 1 Axes>"
      ]
     },
     "metadata": {
      "needs_background": "light"
     },
     "output_type": "display_data"
    }
   ],
   "source": [
    "ax = sns.histplot(SNR, cumulative=True, stat='density')\n",
    "ax.set(xlabel='SNR', ylabel='density')\n",
    "plt.vlines(0.1, 0, 1, color='r')\n",
    "sns.despine(trim=True)\n",
    "#ax.figure.savefig('SNR.png')"
   ]
  },
  {
   "cell_type": "code",
   "execution_count": 22,
   "metadata": {},
   "outputs": [
    {
     "data": {
      "text/plain": [
       "<matplotlib.axes._subplots.AxesSubplot at 0x7fdcdc3d40a0>"
      ]
     },
     "execution_count": 22,
     "metadata": {},
     "output_type": "execute_result"
    }
   ],
   "source": [
    "ax.f"
   ]
  },
  {
   "cell_type": "code",
   "execution_count": null,
   "metadata": {},
   "outputs": [],
   "source": []
  },
  {
   "cell_type": "code",
   "execution_count": null,
   "metadata": {},
   "outputs": [],
   "source": []
  },
  {
   "cell_type": "code",
   "execution_count": null,
   "metadata": {},
   "outputs": [],
   "source": [
    "\n",
    "responses_ansc = []\n",
    "for repeats in responses:\n",
    "    repeats_ansc = ansc(repeats)\n",
    "    responses_ansc.append(repeats_ansc)\n",
    "    \n",
    "    \n",
    "def ansc(x):\n",
    "    return 2* np.sqrt(x + 3/8)\n",
    "\n",
    "SNR_ansc, sigma_2_ansc = get_SNR(responses_ansc)\n",
    "print('SNR_ansc = {}'.format(SNR_ansc))"
   ]
  },
  {
   "cell_type": "code",
   "execution_count": null,
   "metadata": {},
   "outputs": [],
   "source": []
  },
  {
   "cell_type": "code",
   "execution_count": null,
   "metadata": {},
   "outputs": [],
   "source": []
  },
  {
   "cell_type": "code",
   "execution_count": null,
   "metadata": {},
   "outputs": [],
   "source": [
    "{'model_hash': 'c0c10c6d196e53d919b3e0bb13b154c7',\n",
    " 'dataset_hash': '770806cc79fdc0e8e1a1eab0fa7dfcd1',\n",
    " 'trainer_hash': '3c6008284286683e7ce19e9e1269f507',\n",
    " 'seed': 4}"
   ]
  },
  {
   "cell_type": "markdown",
   "metadata": {},
   "source": [
    "# Get Model"
   ]
  },
  {
   "cell_type": "markdown",
   "metadata": {},
   "source": [
    "### The New gaussian readout: change gauss_type for the different modes"
   ]
  },
  {
   "cell_type": "code",
   "execution_count": null,
   "metadata": {},
   "outputs": [],
   "source": [
    "model_fn = 'nnsysident.models.models.se2d_fullgaussian2d'\n",
    "\n",
    "model_config = {'init_mu_range': 0.55,\n",
    "                 'init_sigma': 0.4,\n",
    "                 'input_kern': 15,\n",
    "                 'hidden_kern': 13,\n",
    "                 'gamma_input': 1.0,\n",
    "                 'grid_mean_predictor': None,\n",
    "                 'gamma_readout': 2.439,\n",
    "                 'share_features': False,\n",
    "                 'share_transform': False}\n",
    "\n",
    "\n",
    "model = builder.get_model(model_fn=model_fn, model_config=model_config, dataloaders=dataloaders, seed=1)"
   ]
  },
  {
   "cell_type": "markdown",
   "metadata": {},
   "source": [
    "# Get Trainer"
   ]
  },
  {
   "cell_type": "code",
   "execution_count": null,
   "metadata": {},
   "outputs": [],
   "source": [
    "trainer_fn = 'nnsysident.training.trainers.standard_trainer'\n",
    "trainer_config = dict(track_training=True) #detach_core=True, \n",
    "trainer = builder.get_trainer(trainer_fn, trainer_config)"
   ]
  },
  {
   "cell_type": "markdown",
   "metadata": {},
   "source": [
    "# Run Training"
   ]
  },
  {
   "cell_type": "code",
   "execution_count": null,
   "metadata": {},
   "outputs": [],
   "source": [
    "score, output, model_state = trainer(model=model, dataloaders=dataloaders, seed=1)"
   ]
  },
  {
   "cell_type": "code",
   "execution_count": null,
   "metadata": {},
   "outputs": [],
   "source": [
    "np.unique(dataloaders['train']['24391-19-14-0'].dataset.neurons.layer)"
   ]
  },
  {
   "cell_type": "code",
   "execution_count": null,
   "metadata": {},
   "outputs": [],
   "source": []
  },
  {
   "cell_type": "code",
   "execution_count": null,
   "metadata": {},
   "outputs": [],
   "source": []
  },
  {
   "cell_type": "code",
   "execution_count": null,
   "metadata": {},
   "outputs": [],
   "source": [
    "grid = model.readout['24391-19-14-0'].grid.squeeze().cpu().data.numpy()"
   ]
  },
  {
   "cell_type": "code",
   "execution_count": null,
   "metadata": {},
   "outputs": [],
   "source": [
    "grid"
   ]
  },
  {
   "cell_type": "code",
   "execution_count": null,
   "metadata": {},
   "outputs": [],
   "source": [
    "plt.scatter(*grid.T)\n",
    "plt.xlim(-1,1)\n",
    "plt.ylim(-1,1)\n",
    "plt.savefig('zhiwei_mus.png')"
   ]
  },
  {
   "cell_type": "code",
   "execution_count": null,
   "metadata": {},
   "outputs": [],
   "source": [
    "features = model.readout['24391-19-14-0'].features.cpu().data.numpy().squeeze()"
   ]
  },
  {
   "cell_type": "code",
   "execution_count": null,
   "metadata": {},
   "outputs": [],
   "source": [
    "plt.hist(features.flatten(), bins=50)\n",
    "plt.savefig('zhiwei_features.png')"
   ]
  },
  {
   "cell_type": "code",
   "execution_count": null,
   "metadata": {},
   "outputs": [],
   "source": [
    "torch.save(grid, 'zhiwei_mus')"
   ]
  },
  {
   "cell_type": "code",
   "execution_count": null,
   "metadata": {},
   "outputs": [],
   "source": [
    "grid.T.shape"
   ]
  },
  {
   "cell_type": "code",
   "execution_count": null,
   "metadata": {},
   "outputs": [],
   "source": [
    "grid.shape"
   ]
  },
  {
   "cell_type": "code",
   "execution_count": null,
   "metadata": {},
   "outputs": [],
   "source": []
  }
 ],
 "metadata": {
  "kernelspec": {
   "display_name": "Python 3",
   "language": "python",
   "name": "python3"
  },
  "language_info": {
   "codemirror_mode": {
    "name": "ipython",
    "version": 3
   },
   "file_extension": ".py",
   "mimetype": "text/x-python",
   "name": "python",
   "nbconvert_exporter": "python",
   "pygments_lexer": "ipython3",
   "version": "3.8.0"
  }
 },
 "nbformat": 4,
 "nbformat_minor": 4
}

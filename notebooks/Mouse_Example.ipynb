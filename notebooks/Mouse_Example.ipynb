{
 "cells": [
  {
   "cell_type": "markdown",
   "metadata": {},
   "source": [
    "# Demo Notebook how to run models on static mouse datasets"
   ]
  },
  {
   "cell_type": "code",
   "execution_count": 1,
   "metadata": {},
   "outputs": [],
   "source": [
    "%matplotlib inline\n",
    "%load_ext autoreload\n",
    "%autoreload 2 "
   ]
  },
  {
   "cell_type": "code",
   "execution_count": 2,
   "metadata": {},
   "outputs": [],
   "source": [
    "import os\n",
    "import datajoint as dj\n",
    "dj.config['database.host'] = os.environ['DJ_HOST']\n",
    "dj.config['database.user'] = os.environ['DJ_USER']\n",
    "dj.config['database.password'] = os.environ['DJ_PASS']\n",
    "dj.config['enable_python_native_blobs'] = True\n",
    "\n",
    "name = 'iclr' #\"test\"\n",
    "dj.config['schema_name'] = f\"konstantin_nnsysident_{name}\""
   ]
  },
  {
   "cell_type": "code",
   "execution_count": 3,
   "metadata": {},
   "outputs": [
    {
     "name": "stderr",
     "output_type": "stream",
     "text": [
      "<ipython-input-3-466f6e3fc979>:5: DeprecationWarning: Using or importing the ABCs from 'collections' instead of from 'collections.abc' is deprecated since Python 3.3, and in 3.9 it will stop working\n",
      "  from collections import OrderedDict, Iterable\n"
     ]
    },
    {
     "name": "stdout",
     "output_type": "stream",
     "text": [
      "Connecting konstantin@134.2.168.16:3306\n",
      "Schema name: konstantin_nnsysident_iclr\n"
     ]
    }
   ],
   "source": [
    "import torch\n",
    "import numpy as np\n",
    "import pickle \n",
    "import pandas as pd\n",
    "from collections import OrderedDict, Iterable\n",
    "import matplotlib.pyplot as plt\n",
    "\n",
    "import nnfabrik\n",
    "from nnfabrik.main import *\n",
    "from nnfabrik import builder\n",
    "from nnfabrik.utility.hypersearch import Bayesian\n",
    "\n",
    "from nnsysident.tables.experiments import *\n",
    "from nnsysident.tables.bayesian import *\n",
    "from nnsysident.datasets.mouse_loaders import static_shared_loaders\n",
    "from nnsysident.datasets.mouse_loaders import static_loaders\n",
    "from nnsysident.datasets.mouse_loaders import static_loader"
   ]
  },
  {
   "cell_type": "code",
   "execution_count": 4,
   "metadata": {},
   "outputs": [
    {
     "data": {
      "text/html": [
       "\n",
       "        \n",
       "        <style type=\"text/css\">\n",
       "            .Relation{\n",
       "                border-collapse:collapse;\n",
       "            }\n",
       "            .Relation th{\n",
       "                background: #A0A0A0; color: #ffffff; padding:4px; border:#f0e0e0 1px solid;\n",
       "                font-weight: normal; font-family: monospace; font-size: 100%;\n",
       "            }\n",
       "            .Relation td{\n",
       "                padding:4px; border:#f0e0e0 1px solid; font-size:100%;\n",
       "            }\n",
       "            .Relation tr:nth-child(odd){\n",
       "                background: #ffffff;\n",
       "            }\n",
       "            .Relation tr:nth-child(even){\n",
       "                background: #f3f1ff;\n",
       "            }\n",
       "            /* Tooltip container */\n",
       "            .djtooltip {\n",
       "            }\n",
       "            /* Tooltip text */\n",
       "            .djtooltip .djtooltiptext {\n",
       "                visibility: hidden;\n",
       "                width: 120px;\n",
       "                background-color: black;\n",
       "                color: #fff;\n",
       "                text-align: center;\n",
       "                padding: 5px 0;\n",
       "                border-radius: 6px;\n",
       "                /* Position the tooltip text - see examples below! */\n",
       "                position: absolute;\n",
       "                z-index: 1;\n",
       "            }\n",
       "            #primary {\n",
       "                font-weight: bold;\n",
       "                color: black;\n",
       "            }\n",
       "\n",
       "            #nonprimary {\n",
       "                font-weight: normal;\n",
       "                color: white;\n",
       "            }\n",
       "\n",
       "            /* Show the tooltip text when you mouse over the tooltip container */\n",
       "            .djtooltip:hover .djtooltiptext {\n",
       "                visibility: visible;\n",
       "            }\n",
       "        </style>\n",
       "        \n",
       "        <b>Trained models with a transferred core for bayesian searches</b>\n",
       "            <div style=\"max-height:1000px;max-width:1500px;overflow:auto;\">\n",
       "            <table border=\"1\" class=\"Relation\">\n",
       "                <thead> <tr style=\"text-align: right;\"> <th> <div class=\"djtooltip\">\n",
       "                                <p id=\"primary\">model_fn</p>\n",
       "                                <span class=\"djtooltiptext\">name of the model function</span>\n",
       "                            </div></th><th><div class=\"djtooltip\">\n",
       "                                <p id=\"primary\">model_hash</p>\n",
       "                                <span class=\"djtooltiptext\">hash of the model configuration</span>\n",
       "                            </div></th><th><div class=\"djtooltip\">\n",
       "                                <p id=\"primary\">dataset_fn</p>\n",
       "                                <span class=\"djtooltiptext\">name of the dataset loader function</span>\n",
       "                            </div></th><th><div class=\"djtooltip\">\n",
       "                                <p id=\"primary\">dataset_hash</p>\n",
       "                                <span class=\"djtooltiptext\">hash of the configuration object</span>\n",
       "                            </div></th><th><div class=\"djtooltip\">\n",
       "                                <p id=\"primary\">trainer_fn</p>\n",
       "                                <span class=\"djtooltiptext\">name of the Trainer loader function</span>\n",
       "                            </div></th><th><div class=\"djtooltip\">\n",
       "                                <p id=\"primary\">trainer_hash</p>\n",
       "                                <span class=\"djtooltiptext\">hash of the configuration object</span>\n",
       "                            </div></th><th><div class=\"djtooltip\">\n",
       "                                <p id=\"primary\">seed</p>\n",
       "                                <span class=\"djtooltiptext\">Random seed that is passed to the model- and dataset-builder</span>\n",
       "                            </div></th><th><div class=\"djtooltip\">\n",
       "                                <p id=\"nonprimary\">comment</p>\n",
       "                                <span class=\"djtooltiptext\">short description</span>\n",
       "                            </div></th><th><div class=\"djtooltip\">\n",
       "                                <p id=\"nonprimary\">score</p>\n",
       "                                <span class=\"djtooltiptext\">loss</span>\n",
       "                            </div></th><th><div class=\"djtooltip\">\n",
       "                                <p id=\"nonprimary\">output</p>\n",
       "                                <span class=\"djtooltiptext\">trainer object's output</span>\n",
       "                            </div></th><th><div class=\"djtooltip\">\n",
       "                                <p id=\"nonprimary\">fabrikant_name</p>\n",
       "                                <span class=\"djtooltiptext\">Name of the contributor that added this entry</span>\n",
       "                            </div></th><th><div class=\"djtooltip\">\n",
       "                                <p id=\"nonprimary\">trainedmodel_ts</p>\n",
       "                                <span class=\"djtooltiptext\">UTZ timestamp at time of insertion</span>\n",
       "                            </div> </th> </tr> </thead>\n",
       "                <tbody> <tr> <td>nnsysident.models.models.se2d_fullgaussian2d</td>\n",
       "<td>ec098d02dbfde45a254be2be3b06aad1</td>\n",
       "<td>nnsysident.datasets.mouse_loaders.static_shared_loaders</td>\n",
       "<td>58b884e78ae93d09cb49f6a22ee3a985</td>\n",
       "<td>nnsysident.training.trainers.standard_trainer</td>\n",
       "<td>b5b26ea7fd9075bc859c18add25efa59</td>\n",
       "<td>1</td>\n",
       "<td>Bayesian optimization of Hyper params..Bayesian optimization of Hyper params..Bayesian optimization of Hyper params.</td>\n",
       "<td>0.333055</td>\n",
       "<td>=BLOB=</td>\n",
       "<td>kklurz</td>\n",
       "<td>2020-08-21 16:10:15</td> </tr> </tbody>\n",
       "            </table>\n",
       "            \n",
       "            <p>Total: 1</p></div>\n",
       "            "
      ],
      "text/plain": [
       "*model_fn      *model_hash    *dataset_fn    *dataset_hash  *trainer_fn    *trainer_hash  *seed    comment        score        output     fabrikant_name trainedmodel_t\n",
       "+------------+ +------------+ +------------+ +------------+ +------------+ +------------+ +------+ +------------+ +----------+ +--------+ +------------+ +------------+\n",
       "nnsysident.mod ec098d02dbfde4 nnsysident.dat 58b884e78ae93d nnsysident.tra b5b26ea7fd9075 1        Bayesian optim 0.333055     =BLOB=     kklurz         2020-08-21 16:\n",
       " (Total: 1)"
      ]
     },
     "execution_count": 4,
     "metadata": {},
     "output_type": "execute_result"
    }
   ],
   "source": [
    "TrainedModelBayesianTransfer()"
   ]
  },
  {
   "cell_type": "code",
   "execution_count": 5,
   "metadata": {},
   "outputs": [
    {
     "name": "stderr",
     "output_type": "stream",
     "text": [
      "[INFO 08-21 16:13:12] ax.modelbridge.dispatch_utils: Using Sobol generation strategy.\n",
      "[INFO 08-21 16:13:12] ax.service.managed_loop: Started full optimization with 1 steps.\n",
      "[INFO 08-21 16:13:12] ax.service.managed_loop: Running optimization trial 1...\n"
     ]
    },
    {
     "name": "stdout",
     "output_type": "stream",
     "text": [
      "{'paths': ['data/static22564-2-12-preproc0.zip', 'data/static22564-2-13-preproc0.zip', 'data/static22564-3-8-preproc0.zip', 'data/static22564-3-12-preproc0.zip'], 'batch_size': 64, 'multi_match_n': 50, 'multi_match_base_seed': 1, 'image_n': 1000, 'image_base_seed': 1}\n",
      "nnsysident.models.models.se2d_fullgaussian2d\n",
      "{'init_mu_range': 0.55, 'init_sigma': 0.4, 'input_kern': 15, 'hidden_kern': 13, 'gamma_input': 1.0, 'grid_mean_predictor': {'type': 'cortex', 'input_dimensions': 2, 'hidden_layers': 0, 'hidden_features': 0, 'final_tanh': False}, 'transfer_state_dict': 'models/24cb5dd8d8c63765b6435392cd14a29e.pth.tar'}\n",
      "data/static22564-2-12-preproc0 exists already. Not unpacking data/static22564-2-12-preproc0.zip\n",
      "data/static22564-2-13-preproc0 exists already. Not unpacking data/static22564-2-13-preproc0.zip\n",
      "data/static22564-3-8-preproc0 exists already. Not unpacking data/static22564-3-8-preproc0.zip\n",
      "data/static22564-3-12-preproc0 exists already. Not unpacking data/static22564-3-12-preproc0.zip\n",
      "data/static22564-2-12-preproc0 exists already. Not unpacking data/static22564-2-12-preproc0.zip\n",
      "data/static22564-2-13-preproc0 exists already. Not unpacking data/static22564-2-13-preproc0.zip\n",
      "data/static22564-3-8-preproc0 exists already. Not unpacking data/static22564-3-8-preproc0.zip\n",
      "data/static22564-3-12-preproc0 exists already. Not unpacking data/static22564-3-12-preproc0.zip\n",
      "Transfer state_dict given. This will only have an effect in the bayesian hypersearch. See: TrainedModelBayesianTransfer \n"
     ]
    },
    {
     "name": "stderr",
     "output_type": "stream",
     "text": [
      "/src/nnsysident/nnsysident/models/models.py:144: FutureWarning:\n",
      "\n",
      "arrays to stack must be passed as a \"sequence\" type such as list or tuple. Support for non-sequence iterables such as generators is deprecated as of NumPy 1.16 and will raise an error in the future.\n",
      "\n",
      "Epoch 1: 100%|██████████| 64/64 [00:04<00:00, 12.83it/s]\n"
     ]
    },
    {
     "name": "stdout",
     "output_type": "stream",
     "text": [
      "[001|01/05] -/-> -0.001694628270342946\n"
     ]
    },
    {
     "name": "stderr",
     "output_type": "stream",
     "text": [
      "Epoch 2: 100%|██████████| 64/64 [00:01<00:00, 52.42it/s]\n"
     ]
    },
    {
     "name": "stdout",
     "output_type": "stream",
     "text": [
      "[002|01/05] ---> 0.014871887862682343\n"
     ]
    },
    {
     "name": "stderr",
     "output_type": "stream",
     "text": [
      "Epoch 3: 100%|██████████| 64/64 [00:01<00:00, 57.89it/s]\n"
     ]
    },
    {
     "name": "stdout",
     "output_type": "stream",
     "text": [
      "[003|00/05] ---> 0.031423937529325485\n"
     ]
    },
    {
     "name": "stderr",
     "output_type": "stream",
     "text": [
      "Epoch 4: 100%|██████████| 64/64 [00:01<00:00, 57.33it/s]\n"
     ]
    },
    {
     "name": "stdout",
     "output_type": "stream",
     "text": [
      "[004|00/05] ---> 0.04457031190395355\n"
     ]
    },
    {
     "name": "stderr",
     "output_type": "stream",
     "text": [
      "Epoch 5: 100%|██████████| 64/64 [00:01<00:00, 54.49it/s]\n"
     ]
    },
    {
     "name": "stdout",
     "output_type": "stream",
     "text": [
      "[005|00/05] ---> 0.048442088067531586\n"
     ]
    },
    {
     "name": "stderr",
     "output_type": "stream",
     "text": [
      "Epoch 6: 100%|██████████| 64/64 [00:01<00:00, 60.42it/s]\n"
     ]
    },
    {
     "name": "stdout",
     "output_type": "stream",
     "text": [
      "[006|00/05] ---> 0.05862902104854584\n"
     ]
    },
    {
     "name": "stderr",
     "output_type": "stream",
     "text": [
      "Epoch 7: 100%|██████████| 64/64 [00:01<00:00, 56.47it/s]\n"
     ]
    },
    {
     "name": "stdout",
     "output_type": "stream",
     "text": [
      "[007|00/05] ---> 0.06356886774301529\n"
     ]
    },
    {
     "name": "stderr",
     "output_type": "stream",
     "text": [
      "Epoch 8: 100%|██████████| 64/64 [00:01<00:00, 55.71it/s]\n"
     ]
    },
    {
     "name": "stdout",
     "output_type": "stream",
     "text": [
      "[008|00/05] ---> 0.07448248565196991\n"
     ]
    },
    {
     "name": "stderr",
     "output_type": "stream",
     "text": [
      "Epoch 9: 100%|██████████| 64/64 [00:01<00:00, 59.59it/s]\n"
     ]
    },
    {
     "name": "stdout",
     "output_type": "stream",
     "text": [
      "[009|00/05] ---> 0.08052438497543335\n"
     ]
    },
    {
     "name": "stderr",
     "output_type": "stream",
     "text": [
      "Epoch 10: 100%|██████████| 64/64 [00:01<00:00, 56.71it/s]\n"
     ]
    },
    {
     "name": "stdout",
     "output_type": "stream",
     "text": [
      "[010|00/05] ---> 0.0885869711637497\n"
     ]
    },
    {
     "name": "stderr",
     "output_type": "stream",
     "text": [
      "Epoch 11: 100%|██████████| 64/64 [00:01<00:00, 59.40it/s]\n"
     ]
    },
    {
     "name": "stdout",
     "output_type": "stream",
     "text": [
      "[011|00/05] ---> 0.0970076248049736\n"
     ]
    },
    {
     "name": "stderr",
     "output_type": "stream",
     "text": [
      "Epoch 12: 100%|██████████| 64/64 [00:01<00:00, 56.25it/s]\n"
     ]
    },
    {
     "name": "stdout",
     "output_type": "stream",
     "text": [
      "[012|00/05] ---> 0.10709388554096222\n"
     ]
    },
    {
     "name": "stderr",
     "output_type": "stream",
     "text": [
      "Epoch 13: 100%|██████████| 64/64 [00:01<00:00, 57.59it/s]\n"
     ]
    },
    {
     "name": "stdout",
     "output_type": "stream",
     "text": [
      "[013|00/05] ---> 0.11857442557811737\n"
     ]
    },
    {
     "name": "stderr",
     "output_type": "stream",
     "text": [
      "Epoch 14: 100%|██████████| 64/64 [00:01<00:00, 54.19it/s]\n"
     ]
    },
    {
     "name": "stdout",
     "output_type": "stream",
     "text": [
      "[014|00/05] ---> 0.13053685426712036\n"
     ]
    },
    {
     "name": "stderr",
     "output_type": "stream",
     "text": [
      "Epoch 15: 100%|██████████| 64/64 [00:01<00:00, 59.19it/s]\n"
     ]
    },
    {
     "name": "stdout",
     "output_type": "stream",
     "text": [
      "[015|00/05] ---> 0.14288167655467987\n"
     ]
    },
    {
     "name": "stderr",
     "output_type": "stream",
     "text": [
      "Epoch 16: 100%|██████████| 64/64 [00:01<00:00, 58.85it/s]\n"
     ]
    },
    {
     "name": "stdout",
     "output_type": "stream",
     "text": [
      "[016|00/05] ---> 0.15919819474220276\n"
     ]
    },
    {
     "name": "stderr",
     "output_type": "stream",
     "text": [
      "Epoch 17: 100%|██████████| 64/64 [00:01<00:00, 59.58it/s]\n"
     ]
    },
    {
     "name": "stdout",
     "output_type": "stream",
     "text": [
      "[017|00/05] ---> 0.17795129120349884\n"
     ]
    },
    {
     "name": "stderr",
     "output_type": "stream",
     "text": [
      "Epoch 18: 100%|██████████| 64/64 [00:01<00:00, 52.23it/s]\n"
     ]
    },
    {
     "name": "stdout",
     "output_type": "stream",
     "text": [
      "[018|00/05] ---> 0.19384917616844177\n"
     ]
    },
    {
     "name": "stderr",
     "output_type": "stream",
     "text": [
      "Epoch 19: 100%|██████████| 64/64 [00:01<00:00, 60.56it/s]\n"
     ]
    },
    {
     "name": "stdout",
     "output_type": "stream",
     "text": [
      "[019|00/05] ---> 0.2091749906539917\n"
     ]
    },
    {
     "name": "stderr",
     "output_type": "stream",
     "text": [
      "Epoch 20: 100%|██████████| 64/64 [00:01<00:00, 62.70it/s]\n"
     ]
    },
    {
     "name": "stdout",
     "output_type": "stream",
     "text": [
      "[020|00/05] ---> 0.22410698235034943\n"
     ]
    },
    {
     "name": "stderr",
     "output_type": "stream",
     "text": [
      "Epoch 21: 100%|██████████| 64/64 [00:01<00:00, 56.42it/s]\n"
     ]
    },
    {
     "name": "stdout",
     "output_type": "stream",
     "text": [
      "[021|00/05] ---> 0.23999843001365662\n"
     ]
    },
    {
     "name": "stderr",
     "output_type": "stream",
     "text": [
      "Epoch 22: 100%|██████████| 64/64 [00:01<00:00, 54.69it/s]\n"
     ]
    },
    {
     "name": "stdout",
     "output_type": "stream",
     "text": [
      "[022|00/05] ---> 0.2524522542953491\n"
     ]
    },
    {
     "name": "stderr",
     "output_type": "stream",
     "text": [
      "Epoch 23: 100%|██████████| 64/64 [00:01<00:00, 55.91it/s]\n"
     ]
    },
    {
     "name": "stdout",
     "output_type": "stream",
     "text": [
      "[023|00/05] ---> 0.26433131098747253\n"
     ]
    },
    {
     "name": "stderr",
     "output_type": "stream",
     "text": [
      "Epoch 24: 100%|██████████| 64/64 [00:01<00:00, 56.51it/s]\n"
     ]
    },
    {
     "name": "stdout",
     "output_type": "stream",
     "text": [
      "[024|00/05] ---> 0.27219700813293457\n"
     ]
    },
    {
     "name": "stderr",
     "output_type": "stream",
     "text": [
      "Epoch 25: 100%|██████████| 64/64 [00:01<00:00, 54.29it/s]\n"
     ]
    },
    {
     "name": "stdout",
     "output_type": "stream",
     "text": [
      "[025|00/05] ---> 0.28245800733566284\n"
     ]
    },
    {
     "name": "stderr",
     "output_type": "stream",
     "text": [
      "Epoch 26: 100%|██████████| 64/64 [00:01<00:00, 56.37it/s]\n"
     ]
    },
    {
     "name": "stdout",
     "output_type": "stream",
     "text": [
      "[026|00/05] ---> 0.29114705324172974\n"
     ]
    },
    {
     "name": "stderr",
     "output_type": "stream",
     "text": [
      "Epoch 27: 100%|██████████| 64/64 [00:01<00:00, 56.93it/s]\n"
     ]
    },
    {
     "name": "stdout",
     "output_type": "stream",
     "text": [
      "[027|00/05] ---> 0.2985914945602417\n"
     ]
    },
    {
     "name": "stderr",
     "output_type": "stream",
     "text": [
      "Epoch 28: 100%|██████████| 64/64 [00:01<00:00, 60.65it/s]\n"
     ]
    },
    {
     "name": "stdout",
     "output_type": "stream",
     "text": [
      "[028|00/05] ---> 0.3075467646121979\n"
     ]
    },
    {
     "name": "stderr",
     "output_type": "stream",
     "text": [
      "Epoch 29: 100%|██████████| 64/64 [00:01<00:00, 58.99it/s]\n"
     ]
    },
    {
     "name": "stdout",
     "output_type": "stream",
     "text": [
      "[029|00/05] ---> 0.30861595273017883\n"
     ]
    },
    {
     "name": "stderr",
     "output_type": "stream",
     "text": [
      "Epoch 30: 100%|██████████| 64/64 [00:01<00:00, 59.99it/s]\n"
     ]
    },
    {
     "name": "stdout",
     "output_type": "stream",
     "text": [
      "[030|00/05] ---> 0.3162025511264801\n"
     ]
    },
    {
     "name": "stderr",
     "output_type": "stream",
     "text": [
      "Epoch 31: 100%|██████████| 64/64 [00:01<00:00, 54.56it/s]\n"
     ]
    },
    {
     "name": "stdout",
     "output_type": "stream",
     "text": [
      "[031|01/05] -/-> 0.31558758020401\n"
     ]
    },
    {
     "name": "stderr",
     "output_type": "stream",
     "text": [
      "Epoch 32: 100%|██████████| 64/64 [00:01<00:00, 56.28it/s]\n"
     ]
    },
    {
     "name": "stdout",
     "output_type": "stream",
     "text": [
      "[032|01/05] ---> 0.3223697245121002\n"
     ]
    },
    {
     "name": "stderr",
     "output_type": "stream",
     "text": [
      "Epoch 33: 100%|██████████| 64/64 [00:01<00:00, 57.38it/s]\n"
     ]
    },
    {
     "name": "stdout",
     "output_type": "stream",
     "text": [
      "[033|00/05] ---> 0.3235805928707123\n"
     ]
    },
    {
     "name": "stderr",
     "output_type": "stream",
     "text": [
      "Epoch 34: 100%|██████████| 64/64 [00:01<00:00, 58.99it/s]\n"
     ]
    },
    {
     "name": "stdout",
     "output_type": "stream",
     "text": [
      "[034|00/05] ---> 0.32568931579589844\n"
     ]
    },
    {
     "name": "stderr",
     "output_type": "stream",
     "text": [
      "Epoch 35: 100%|██████████| 64/64 [00:01<00:00, 55.76it/s]\n"
     ]
    },
    {
     "name": "stdout",
     "output_type": "stream",
     "text": [
      "[035|00/05] ---> 0.327647864818573\n"
     ]
    },
    {
     "name": "stderr",
     "output_type": "stream",
     "text": [
      "Epoch 36: 100%|██████████| 64/64 [00:01<00:00, 61.54it/s]\n"
     ]
    },
    {
     "name": "stdout",
     "output_type": "stream",
     "text": [
      "[036|00/05] ---> 0.3283233642578125\n"
     ]
    },
    {
     "name": "stderr",
     "output_type": "stream",
     "text": [
      "Epoch 37: 100%|██████████| 64/64 [00:01<00:00, 57.40it/s]\n"
     ]
    },
    {
     "name": "stdout",
     "output_type": "stream",
     "text": [
      "[037|00/05] ---> 0.32932576537132263\n"
     ]
    },
    {
     "name": "stderr",
     "output_type": "stream",
     "text": [
      "Epoch 38: 100%|██████████| 64/64 [00:01<00:00, 55.23it/s]\n"
     ]
    },
    {
     "name": "stdout",
     "output_type": "stream",
     "text": [
      "[038|00/05] ---> 0.3323062062263489\n"
     ]
    },
    {
     "name": "stderr",
     "output_type": "stream",
     "text": [
      "Epoch 39: 100%|██████████| 64/64 [00:01<00:00, 58.50it/s]\n"
     ]
    },
    {
     "name": "stdout",
     "output_type": "stream",
     "text": [
      "[039|01/05] -/-> 0.330832839012146\n"
     ]
    },
    {
     "name": "stderr",
     "output_type": "stream",
     "text": [
      "Epoch 40: 100%|██████████| 64/64 [00:01<00:00, 60.74it/s]\n"
     ]
    },
    {
     "name": "stdout",
     "output_type": "stream",
     "text": [
      "[040|01/05] ---> 0.33242496848106384\n"
     ]
    },
    {
     "name": "stderr",
     "output_type": "stream",
     "text": [
      "Epoch 41: 100%|██████████| 64/64 [00:01<00:00, 63.07it/s]\n"
     ]
    },
    {
     "name": "stdout",
     "output_type": "stream",
     "text": [
      "[041|00/05] ---> 0.33248767256736755\n"
     ]
    },
    {
     "name": "stderr",
     "output_type": "stream",
     "text": [
      "Epoch 42: 100%|██████████| 64/64 [00:01<00:00, 57.43it/s]\n"
     ]
    },
    {
     "name": "stdout",
     "output_type": "stream",
     "text": [
      "[042|00/05] ---> 0.33327144384384155\n"
     ]
    },
    {
     "name": "stderr",
     "output_type": "stream",
     "text": [
      "Epoch 43: 100%|██████████| 64/64 [00:01<00:00, 54.62it/s]\n"
     ]
    },
    {
     "name": "stdout",
     "output_type": "stream",
     "text": [
      "[043|00/05] ---> 0.33448195457458496\n"
     ]
    },
    {
     "name": "stderr",
     "output_type": "stream",
     "text": [
      "Epoch 44: 100%|██████████| 64/64 [00:01<00:00, 55.94it/s]\n"
     ]
    },
    {
     "name": "stdout",
     "output_type": "stream",
     "text": [
      "[044|01/05] -/-> 0.33332011103630066\n"
     ]
    },
    {
     "name": "stderr",
     "output_type": "stream",
     "text": [
      "Epoch 45: 100%|██████████| 64/64 [00:01<00:00, 57.57it/s]\n"
     ]
    },
    {
     "name": "stdout",
     "output_type": "stream",
     "text": [
      "[045|01/05] ---> 0.3358705937862396\n"
     ]
    },
    {
     "name": "stderr",
     "output_type": "stream",
     "text": [
      "Epoch 46: 100%|██████████| 64/64 [00:01<00:00, 54.36it/s]\n"
     ]
    },
    {
     "name": "stdout",
     "output_type": "stream",
     "text": [
      "[046|00/05] ---> 0.33740466833114624\n"
     ]
    },
    {
     "name": "stderr",
     "output_type": "stream",
     "text": [
      "Epoch 47: 100%|██████████| 64/64 [00:01<00:00, 57.45it/s]\n"
     ]
    },
    {
     "name": "stdout",
     "output_type": "stream",
     "text": [
      "[047|01/05] -/-> 0.3359028697013855\n"
     ]
    },
    {
     "name": "stderr",
     "output_type": "stream",
     "text": [
      "Epoch 48: 100%|██████████| 64/64 [00:01<00:00, 61.49it/s]\n"
     ]
    },
    {
     "name": "stdout",
     "output_type": "stream",
     "text": [
      "[048|02/05] -/-> 0.3373892903327942\n"
     ]
    },
    {
     "name": "stderr",
     "output_type": "stream",
     "text": [
      "Epoch 49: 100%|██████████| 64/64 [00:01<00:00, 54.09it/s]\n"
     ]
    },
    {
     "name": "stdout",
     "output_type": "stream",
     "text": [
      "[049|02/05] ---> 0.3388991951942444\n"
     ]
    },
    {
     "name": "stderr",
     "output_type": "stream",
     "text": [
      "Epoch 50: 100%|██████████| 64/64 [00:01<00:00, 49.45it/s]\n"
     ]
    },
    {
     "name": "stdout",
     "output_type": "stream",
     "text": [
      "[050|01/05] -/-> 0.33685439825057983\n"
     ]
    },
    {
     "name": "stderr",
     "output_type": "stream",
     "text": [
      "Epoch 51: 100%|██████████| 64/64 [00:01<00:00, 59.73it/s]\n"
     ]
    },
    {
     "name": "stdout",
     "output_type": "stream",
     "text": [
      "[051|02/05] -/-> 0.33805304765701294\n"
     ]
    },
    {
     "name": "stderr",
     "output_type": "stream",
     "text": [
      "Epoch 52: 100%|██████████| 64/64 [00:01<00:00, 59.58it/s]\n"
     ]
    },
    {
     "name": "stdout",
     "output_type": "stream",
     "text": [
      "[052|03/05] -/-> 0.3372461795806885\n"
     ]
    },
    {
     "name": "stderr",
     "output_type": "stream",
     "text": [
      "Epoch 53: 100%|██████████| 64/64 [00:01<00:00, 57.80it/s]\n"
     ]
    },
    {
     "name": "stdout",
     "output_type": "stream",
     "text": [
      "[053|04/05] -/-> 0.3373342454433441\n"
     ]
    },
    {
     "name": "stderr",
     "output_type": "stream",
     "text": [
      "Epoch 54: 100%|██████████| 64/64 [00:01<00:00, 56.79it/s]\n"
     ]
    },
    {
     "name": "stdout",
     "output_type": "stream",
     "text": [
      "[054|05/05] -/-> 0.3382144868373871\n"
     ]
    },
    {
     "name": "stderr",
     "output_type": "stream",
     "text": [
      "Epoch 55:  11%|█         | 7/64 [00:00<00:00, 61.12it/s]"
     ]
    },
    {
     "name": "stdout",
     "output_type": "stream",
     "text": [
      "Restoring best model after lr decay! 0.338214 ---> 0.338899\n"
     ]
    },
    {
     "name": "stderr",
     "output_type": "stream",
     "text": [
      "Epoch 55: 100%|██████████| 64/64 [00:01<00:00, 60.90it/s]\n"
     ]
    },
    {
     "name": "stdout",
     "output_type": "stream",
     "text": [
      "Epoch    55: reducing learning rate of group 0 to 1.5000e-03.\n",
      "[055|01/05] -/-> 0.3373534083366394\n"
     ]
    },
    {
     "name": "stderr",
     "output_type": "stream",
     "text": [
      "Epoch 56: 100%|██████████| 64/64 [00:01<00:00, 57.30it/s]\n"
     ]
    },
    {
     "name": "stdout",
     "output_type": "stream",
     "text": [
      "[056|01/05] ---> 0.3389328122138977\n"
     ]
    },
    {
     "name": "stderr",
     "output_type": "stream",
     "text": [
      "Epoch 57: 100%|██████████| 64/64 [00:01<00:00, 53.73it/s]\n"
     ]
    },
    {
     "name": "stdout",
     "output_type": "stream",
     "text": [
      "[057|01/05] -/-> 0.3387390971183777\n"
     ]
    },
    {
     "name": "stderr",
     "output_type": "stream",
     "text": [
      "Epoch 58: 100%|██████████| 64/64 [00:01<00:00, 57.66it/s]\n"
     ]
    },
    {
     "name": "stdout",
     "output_type": "stream",
     "text": [
      "[058|02/05] -/-> 0.33888357877731323\n"
     ]
    },
    {
     "name": "stderr",
     "output_type": "stream",
     "text": [
      "Epoch 59: 100%|██████████| 64/64 [00:01<00:00, 53.99it/s]\n"
     ]
    },
    {
     "name": "stdout",
     "output_type": "stream",
     "text": [
      "[059|02/05] ---> 0.34023433923721313\n"
     ]
    },
    {
     "name": "stderr",
     "output_type": "stream",
     "text": [
      "Epoch 60: 100%|██████████| 64/64 [00:01<00:00, 58.31it/s]\n"
     ]
    },
    {
     "name": "stdout",
     "output_type": "stream",
     "text": [
      "[060|01/05] -/-> 0.3395189046859741\n"
     ]
    },
    {
     "name": "stderr",
     "output_type": "stream",
     "text": [
      "Epoch 61: 100%|██████████| 64/64 [00:01<00:00, 55.84it/s]\n"
     ]
    },
    {
     "name": "stdout",
     "output_type": "stream",
     "text": [
      "[061|02/05] -/-> 0.33960282802581787\n"
     ]
    },
    {
     "name": "stderr",
     "output_type": "stream",
     "text": [
      "Epoch 62: 100%|██████████| 64/64 [00:01<00:00, 58.90it/s]\n"
     ]
    },
    {
     "name": "stdout",
     "output_type": "stream",
     "text": [
      "[062|03/05] -/-> 0.3388565182685852\n"
     ]
    },
    {
     "name": "stderr",
     "output_type": "stream",
     "text": [
      "Epoch 63: 100%|██████████| 64/64 [00:01<00:00, 56.24it/s]\n"
     ]
    },
    {
     "name": "stdout",
     "output_type": "stream",
     "text": [
      "[063|04/05] -/-> 0.3393319845199585\n"
     ]
    },
    {
     "name": "stderr",
     "output_type": "stream",
     "text": [
      "Epoch 64: 100%|██████████| 64/64 [00:01<00:00, 53.41it/s]\n"
     ]
    },
    {
     "name": "stdout",
     "output_type": "stream",
     "text": [
      "[064|05/05] -/-> 0.33986160159111023\n"
     ]
    },
    {
     "name": "stderr",
     "output_type": "stream",
     "text": [
      "Epoch 65:  11%|█         | 7/64 [00:00<00:00, 61.23it/s]"
     ]
    },
    {
     "name": "stdout",
     "output_type": "stream",
     "text": [
      "Restoring best model after lr decay! 0.339862 ---> 0.340234\n"
     ]
    },
    {
     "name": "stderr",
     "output_type": "stream",
     "text": [
      "Epoch 65: 100%|██████████| 64/64 [00:01<00:00, 60.40it/s]\n"
     ]
    },
    {
     "name": "stdout",
     "output_type": "stream",
     "text": [
      "Epoch    65: reducing learning rate of group 0 to 4.5000e-04.\n",
      "[065|01/05] -/-> 0.3394463062286377\n"
     ]
    },
    {
     "name": "stderr",
     "output_type": "stream",
     "text": [
      "Epoch 66: 100%|██████████| 64/64 [00:01<00:00, 58.93it/s]\n"
     ]
    },
    {
     "name": "stdout",
     "output_type": "stream",
     "text": [
      "[066|02/05] -/-> 0.3395382761955261\n"
     ]
    },
    {
     "name": "stderr",
     "output_type": "stream",
     "text": [
      "Epoch 67: 100%|██████████| 64/64 [00:01<00:00, 59.31it/s]\n"
     ]
    },
    {
     "name": "stdout",
     "output_type": "stream",
     "text": [
      "[067|03/05] -/-> 0.3391854763031006\n"
     ]
    },
    {
     "name": "stderr",
     "output_type": "stream",
     "text": [
      "Epoch 68: 100%|██████████| 64/64 [00:01<00:00, 48.34it/s]\n"
     ]
    },
    {
     "name": "stdout",
     "output_type": "stream",
     "text": [
      "[068|04/05] -/-> 0.339949369430542\n"
     ]
    },
    {
     "name": "stderr",
     "output_type": "stream",
     "text": [
      "Epoch 69: 100%|██████████| 64/64 [00:01<00:00, 57.04it/s]\n"
     ]
    },
    {
     "name": "stdout",
     "output_type": "stream",
     "text": [
      "[069|04/05] ---> 0.34056130051612854\n"
     ]
    },
    {
     "name": "stderr",
     "output_type": "stream",
     "text": [
      "Epoch 70: 100%|██████████| 64/64 [00:01<00:00, 60.69it/s]\n"
     ]
    },
    {
     "name": "stdout",
     "output_type": "stream",
     "text": [
      "[070|01/05] -/-> 0.3404655456542969\n"
     ]
    },
    {
     "name": "stderr",
     "output_type": "stream",
     "text": [
      "Epoch 71: 100%|██████████| 64/64 [00:01<00:00, 54.13it/s]\n"
     ]
    },
    {
     "name": "stdout",
     "output_type": "stream",
     "text": [
      "[071|02/05] -/-> 0.33984726667404175\n"
     ]
    },
    {
     "name": "stderr",
     "output_type": "stream",
     "text": [
      "Epoch 72: 100%|██████████| 64/64 [00:01<00:00, 55.39it/s]\n"
     ]
    },
    {
     "name": "stdout",
     "output_type": "stream",
     "text": [
      "[072|02/05] ---> 0.34057295322418213\n"
     ]
    },
    {
     "name": "stderr",
     "output_type": "stream",
     "text": [
      "Epoch 73: 100%|██████████| 64/64 [00:01<00:00, 57.61it/s]\n"
     ]
    },
    {
     "name": "stdout",
     "output_type": "stream",
     "text": [
      "[073|01/05] -/-> 0.3389595150947571\n"
     ]
    },
    {
     "name": "stderr",
     "output_type": "stream",
     "text": [
      "Epoch 74: 100%|██████████| 64/64 [00:01<00:00, 55.77it/s]\n"
     ]
    },
    {
     "name": "stdout",
     "output_type": "stream",
     "text": [
      "[074|02/05] -/-> 0.33963942527770996\n"
     ]
    },
    {
     "name": "stderr",
     "output_type": "stream",
     "text": [
      "Epoch 75: 100%|██████████| 64/64 [00:01<00:00, 60.11it/s]\n"
     ]
    },
    {
     "name": "stdout",
     "output_type": "stream",
     "text": [
      "[075|03/05] -/-> 0.339161217212677\n"
     ]
    },
    {
     "name": "stderr",
     "output_type": "stream",
     "text": [
      "Epoch 76: 100%|██████████| 64/64 [00:01<00:00, 58.53it/s]\n"
     ]
    },
    {
     "name": "stdout",
     "output_type": "stream",
     "text": [
      "[076|04/05] -/-> 0.33975815773010254\n"
     ]
    },
    {
     "name": "stderr",
     "output_type": "stream",
     "text": [
      "Epoch 77: 100%|██████████| 64/64 [00:01<00:00, 60.20it/s]\n"
     ]
    },
    {
     "name": "stdout",
     "output_type": "stream",
     "text": [
      "[077|05/05] -/-> 0.3391374349594116\n",
      "Restoring best model after lr decay! 0.339137 ---> 0.340573\n",
      "Restoring best model! 0.340573 ---> 0.340573\n"
     ]
    }
   ],
   "source": [
    "for neuron_n in [50]: # 500, 1000,\n",
    "    for image_n in [1000]: # [ 50, 200, 500, 1000, 2500, 4399]\n",
    "        # try:\n",
    "        paths = ['data/static22564-2-12-preproc0.zip',\n",
    "                 'data/static22564-2-13-preproc0.zip',\n",
    "                 'data/static22564-3-8-preproc0.zip',\n",
    "                 'data/static22564-3-12-preproc0.zip']\n",
    "\n",
    "        dataset_fn = 'nnsysident.datasets.mouse_loaders.static_shared_loaders'\n",
    "        dataset_config = dict(\n",
    "            paths=paths,\n",
    "            batch_size=64,\n",
    "            multi_match_n=neuron_n,\n",
    "            multi_match_base_seed=1,\n",
    "            image_n=image_n,\n",
    "            image_base_seed=1\n",
    "\n",
    "        )\n",
    "        dataset_config_auto = dict()\n",
    "        print(dataset_config)\n",
    "\n",
    "        model_fn = 'nnsysident.models.models.se2d_fullgaussian2d'\n",
    "        model_config = {#\"share_features\": True,\n",
    "                        #\"share_transform\":True,\n",
    "                        \"init_mu_range\": 0.55,\n",
    "                        \"init_sigma\": 0.4,\n",
    "                        'input_kern': 15,\n",
    "                        'hidden_kern': 13,\n",
    "                        'gamma_input': 1.,\n",
    "                        'grid_mean_predictor': {'type': 'cortex', 'input_dimensions': 2, 'hidden_layers': 0, 'hidden_features': 0, 'final_tanh': False},\n",
    "                        'transfer_state_dict': 'models/24cb5dd8d8c63765b6435392cd14a29e.pth.tar'\n",
    "                        \n",
    "        }\n",
    "        print(model_fn)\n",
    "        print(model_config)\n",
    "        model_config_auto = dict(\n",
    "            gamma_readout={\"type\": \"range\", \"bounds\": [1e-5, 1e3], \"log_scale\": True},\n",
    "            share_features={\"type\": \"choice\", \"values\": [True, False]},\n",
    "            share_transform={\"type\": \"choice\", \"values\": [True, False]},\n",
    "            # init_transform_scale={\"type\": \"range\", \"bounds\": [0.1, 0.7]},\n",
    "        )\n",
    "\n",
    "\n",
    "        trainer_fn = 'nnsysident.training.trainers.standard_trainer'\n",
    "        trainer_config = dict(detach_core=True)\n",
    "        trainer_config_auto = dict(\n",
    "                      )\n",
    "\n",
    "        autobayes = Bayesian(dataset_fn, dataset_config, dataset_config_auto,\n",
    "                             model_fn, model_config, model_config_auto,\n",
    "                             trainer_fn, trainer_config, trainer_config_auto, architect=\"kklurz\",\n",
    "                             trained_model_table='nnsysident.tables.bayesian.TrainedModelBayesianTransfer', total_trials=1)\n",
    "\n",
    "        best_parameters, _, _, _ = autobayes.run()"
   ]
  },
  {
   "cell_type": "code",
   "execution_count": null,
   "metadata": {},
   "outputs": [],
   "source": []
  },
  {
   "cell_type": "code",
   "execution_count": null,
   "metadata": {},
   "outputs": [],
   "source": []
  },
  {
   "cell_type": "code",
   "execution_count": null,
   "metadata": {},
   "outputs": [],
   "source": []
  },
  {
   "cell_type": "markdown",
   "metadata": {},
   "source": [
    "# Get Dataloader"
   ]
  },
  {
   "cell_type": "code",
   "execution_count": null,
   "metadata": {},
   "outputs": [],
   "source": [
    "data = pd.DataFrame((TrainedModelBayesian() * \n",
    "                     ModelBayesian * \n",
    "                     DatasetBayesian * \n",
    "                     Trainer & \n",
    "                     'model_fn = \"nnsysident.models.models.se2d_fullgaussian2d\"' & \n",
    "                     'trainer_hash = \"3c6008284286683e7ce19e9e1269f507\"').fetch())\n",
    "data = pd.concat([data, data['dataset_config'].apply(pd.Series)], axis = 1)#.drop('dataset_config', axis = 1)\n",
    "data = pd.concat([data, data['model_config'].apply(pd.Series)], axis = 1)#.drop('model_config', axis = 1)\n",
    "data = pd.concat([data, data['trainer_config'].apply(pd.Series)], axis = 1)#.drop('model_config', axis = 1)"
   ]
  },
  {
   "cell_type": "code",
   "execution_count": null,
   "metadata": {},
   "outputs": [],
   "source": [
    "import hiplot as hip\n",
    "from nnsysident.tables.bayesian import *\n",
    "\n",
    "one_exp_h = data.set_index('score', drop=False).copy()\n",
    "cols = ['score', 'gamma_readout', 'share_features', 'share_transform', 'multi_match_n', 'image_n']\n",
    "hip.Experiment.from_dataframe(one_exp_h[cols]).display(force_full_width=False)"
   ]
  },
  {
   "cell_type": "code",
   "execution_count": null,
   "metadata": {},
   "outputs": [],
   "source": []
  },
  {
   "cell_type": "code",
   "execution_count": null,
   "metadata": {},
   "outputs": [],
   "source": []
  },
  {
   "cell_type": "code",
   "execution_count": null,
   "metadata": {},
   "outputs": [],
   "source": []
  },
  {
   "cell_type": "code",
   "execution_count": null,
   "metadata": {},
   "outputs": [],
   "source": []
  },
  {
   "cell_type": "code",
   "execution_count": null,
   "metadata": {},
   "outputs": [],
   "source": []
  },
  {
   "cell_type": "code",
   "execution_count": null,
   "metadata": {},
   "outputs": [],
   "source": []
  },
  {
   "cell_type": "code",
   "execution_count": null,
   "metadata": {},
   "outputs": [],
   "source": []
  },
  {
   "cell_type": "code",
   "execution_count": null,
   "metadata": {},
   "outputs": [],
   "source": []
  },
  {
   "cell_type": "code",
   "execution_count": null,
   "metadata": {},
   "outputs": [],
   "source": []
  },
  {
   "cell_type": "code",
   "execution_count": null,
   "metadata": {},
   "outputs": [],
   "source": []
  },
  {
   "cell_type": "code",
   "execution_count": null,
   "metadata": {},
   "outputs": [],
   "source": []
  },
  {
   "cell_type": "code",
   "execution_count": null,
   "metadata": {},
   "outputs": [],
   "source": [
    "# change path here\n",
    "paths = ['data/static22564-2-12-preproc0.zip',\n",
    "                     'data/static22564-2-13-preproc0.zip',\n",
    "                     'data/static22564-3-8-preproc0.zip',\n",
    "                     'data/static22564-3-12-preproc0.zip']\n",
    "\n",
    "#paths = ['data/static22564-2-12-preproc0.zip']\n",
    "dataset_fn = 'nnsysident.datasets.mouse_loaders.static_shared_loaders'\n",
    "dataset_config = dict(\n",
    "    paths=paths,\n",
    "    batch_size=64,\n",
    "    seed=1,\n",
    "    #image_n=50,\n",
    "    #image_base_seed=1,\n",
    "    multi_match_n=972,\n",
    "    multi_match_base_seed=1,\n",
    "    exclude_multi_match_n = 3625,\n",
    "\n",
    ")\n",
    "\n",
    "dataloaders = builder.get_data(dataset_fn, dataset_config)"
   ]
  },
  {
   "cell_type": "markdown",
   "metadata": {},
   "source": [
    "# Get Model"
   ]
  },
  {
   "cell_type": "markdown",
   "metadata": {},
   "source": [
    "### The New gaussian readout: change gauss_type for the different modes"
   ]
  },
  {
   "cell_type": "code",
   "execution_count": null,
   "metadata": {},
   "outputs": [],
   "source": [
    "model_fn = 'nnsysident.models.models.se2d_spatialxfeaturelinear'\n",
    "\n",
    "model_config = { 'gamma_input': 1.0,\n",
    "                 'input_kern': 15,\n",
    "                 'hidden_kern': 13,\n",
    "                 'gamma_readout': 0.011027209808690062}\n",
    "\n",
    "\n",
    "model = builder.get_model(model_fn=model_fn, model_config=model_config, dataloaders=dataloaders, seed=1)\n",
    "model_real = builder.get_model(model_fn=model_fn, model_config=model_config, dataloaders=dataloaders, seed=1)\n",
    "model_start = builder.get_model(model_fn=model_fn, model_config=model_config, dataloaders=dataloaders, seed=1)"
   ]
  },
  {
   "cell_type": "code",
   "execution_count": null,
   "metadata": {},
   "outputs": [],
   "source": [
    "core_dict = torch.load('f8acb861ca08a5baa6a2824ca33f51aa.pth.tar') # score: 0.354544\n",
    "\n",
    "def get_grids(my_model):\n",
    "    grids = {}\n",
    "    for key, readout in my_model.readout.items():\n",
    "        grid = readout.grid.squeeze().cpu().data.numpy()\n",
    "        grids[key] = grid\n",
    "    return grids\n",
    "\n",
    "list_of_load = [] #'scales', '_features' ,'mu_transform.0.weight', 'mu_transform.0.bias'\n",
    "list_of_detach = []\n",
    "\n",
    "\n",
    "\n",
    "model_real.load_state_dict(core_dict, strict=False)\n",
    "real_grids = get_grids(model_real)\n",
    "\n",
    "remove=[]\n",
    "keep=[]\n",
    "for key in core_dict.keys():\n",
    "    name = '.'.join(key.split('.')[2:])\n",
    "    if key.split('.')[0] == 'readout': \n",
    "        if not np.isin(name, list_of_load):\n",
    "            print('Not loading:    {}'.format(key))\n",
    "            remove.append(key)\n",
    "        else:\n",
    "            keep.append(key)\n",
    "for key in keep:\n",
    "    print('Loading:  {}'.format(key))\n",
    "\n",
    "for k in remove: del core_dict[k]\n",
    "model_start.load_state_dict(core_dict, strict=False)\n",
    "start_grids = get_grids(model_start)\n",
    "\n",
    "\n",
    "\n",
    "model.load_state_dict(core_dict, strict=False)\n",
    "\n",
    "for param in model.named_parameters():\n",
    "    name = '.'.join(param[0].split('.')[2:])\n",
    "    if param[0].split('.')[0] == 'readout':\n",
    "        if np.isin(name, list_of_detach):\n",
    "            print('detaching:    {}'.format(param[0]))\n",
    "            param[1].requires_grad = False"
   ]
  },
  {
   "cell_type": "markdown",
   "metadata": {},
   "source": [
    "# Get Trainer"
   ]
  },
  {
   "cell_type": "code",
   "execution_count": null,
   "metadata": {},
   "outputs": [],
   "source": [
    "trainer_fn = 'nnsysident.training.trainers.standard_trainer'\n",
    "trainer_config = dict(track_training=True) #detach_core=True, \n",
    "trainer = builder.get_trainer(trainer_fn, trainer_config)"
   ]
  },
  {
   "cell_type": "markdown",
   "metadata": {},
   "source": [
    "# Run Training"
   ]
  },
  {
   "cell_type": "code",
   "execution_count": null,
   "metadata": {},
   "outputs": [],
   "source": [
    "score, output, model_state = trainer(model=model, dataloaders=dataloaders, seed=1)"
   ]
  },
  {
   "cell_type": "code",
   "execution_count": null,
   "metadata": {},
   "outputs": [],
   "source": []
  },
  {
   "cell_type": "code",
   "execution_count": null,
   "metadata": {},
   "outputs": [],
   "source": [
    "import hiplot as hip\n",
    "from nnsysident.tables.bayesian import *\n",
    "\n",
    "data = pd.DataFrame((TrainedModelBayesian() * ModelBayesian() & 'model_fn = \"nnsysident.models.models.se2d_fullSXF\"').fetch())\n",
    "data = pd.concat([data, data['model_config'].apply(pd.Series)], axis = 1)\n",
    "\n",
    "one_exp_h = data.set_index('score', drop=False).copy()\n",
    "cols = ['score', 'gamma_readout', 'share_features', 'normalize' ]\n",
    "hip.Experiment.from_dataframe(one_exp_h[cols]).display(force_full_width=False)"
   ]
  },
  {
   "cell_type": "code",
   "execution_count": null,
   "metadata": {},
   "outputs": [],
   "source": []
  },
  {
   "cell_type": "code",
   "execution_count": null,
   "metadata": {},
   "outputs": [],
   "source": []
  }
 ],
 "metadata": {
  "kernelspec": {
   "display_name": "Python 3",
   "language": "python",
   "name": "python3"
  },
  "language_info": {
   "codemirror_mode": {
    "name": "ipython",
    "version": 3
   },
   "file_extension": ".py",
   "mimetype": "text/x-python",
   "name": "python",
   "nbconvert_exporter": "python",
   "pygments_lexer": "ipython3",
   "version": "3.8.0"
  }
 },
 "nbformat": 4,
 "nbformat_minor": 4
}

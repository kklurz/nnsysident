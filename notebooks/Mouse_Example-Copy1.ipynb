{
 "cells": [
  {
   "cell_type": "markdown",
   "metadata": {},
   "source": [
    "# Demo Notebook how to run models on static mouse datasets"
   ]
  },
  {
   "cell_type": "code",
   "execution_count": null,
   "metadata": {},
   "outputs": [],
   "source": [
    "%matplotlib inline\n",
    "%load_ext autoreload\n",
    "%autoreload 2 "
   ]
  },
  {
   "cell_type": "code",
   "execution_count": null,
   "metadata": {},
   "outputs": [],
   "source": [
    "import os\n",
    "import datajoint as dj\n",
    "dj.config['database.host'] = os.environ['DJ_HOST']\n",
    "dj.config['database.user'] = os.environ['DJ_USER']\n",
    "dj.config['database.password'] = os.environ['DJ_PASS']\n",
    "dj.config['enable_python_native_blobs'] = True\n",
    "\n",
    "name = \"test\"\n",
    "dj.config['schema_name'] = f\"konstantin_nnsysident_{name}\""
   ]
  },
  {
   "cell_type": "code",
   "execution_count": null,
   "metadata": {},
   "outputs": [],
   "source": [
    "import torch\n",
    "import numpy as np\n",
    "import pickle \n",
    "import pandas as pd\n",
    "from collections import OrderedDict, Iterable\n",
    "import matplotlib.pyplot as plt\n",
    "\n",
    "import nnfabrik\n",
    "from nnfabrik.main import *\n",
    "from nnfabrik import builder\n",
    "\n",
    "from nnsysident.tables.experiments import *\n",
    "from nnsysident.datasets.mouse_loaders import static_shared_loaders\n",
    "from nnsysident.datasets.mouse_loaders import static_loaders\n",
    "from nnsysident.datasets.mouse_loaders import static_loader"
   ]
  },
  {
   "cell_type": "markdown",
   "metadata": {},
   "source": [
    "# Get Dataloader"
   ]
  },
  {
   "cell_type": "code",
   "execution_count": null,
   "metadata": {},
   "outputs": [],
   "source": [
    "paths = ['data/allen-agglomerate-NaturalScenesOracle-028f7ad795.zip']\n",
    "\n",
    "dataset_fn = 'nnsysident.datasets.mouse_loaders.mouse_allen_scene_loaders'\n",
    "dataset_config = dict(\n",
    "    paths=paths,\n",
    "    batch_size=32,\n",
    "    areas=('VISp',),\n",
    ")\n",
    "dataloaders = builder.get_data(dataset_fn, dataset_config)"
   ]
  },
  {
   "cell_type": "markdown",
   "metadata": {},
   "source": [
    "# Get Model"
   ]
  },
  {
   "cell_type": "markdown",
   "metadata": {},
   "source": [
    "### The New gaussian readout: change gauss_type for the different modes"
   ]
  },
  {
   "cell_type": "code",
   "execution_count": null,
   "metadata": {},
   "outputs": [],
   "source": [
    "# model_fn = 'nnsysident.models.models.se2d_fullgaussian2d'\n",
    "\n",
    "# model_config = {'init_mu_range': 0.55,\n",
    "#                  'init_sigma': 0.4,\n",
    "#                  'input_kern': 15,\n",
    "#                  'hidden_kern': 13,\n",
    "#                  'gamma_input': 1.0,\n",
    "#                  'grid_mean_predictor':{  'type': 'cortex',\n",
    "#                                           'input_dimensions': 2,\n",
    "#                                           'hidden_layers': 0,\n",
    "#                                           'hidden_features': 0,\n",
    "#                                           'final_tanh': False},\n",
    "#                  'gamma_readout': 0.6697555139311314,\n",
    "#                  'share_features': False,\n",
    "#                  'share_transform': False}\n",
    "\n",
    "# model = builder.get_model(model_fn=model_fn, model_config=model_config, dataloaders=dataloaders, seed=1)\n"
   ]
  },
  {
   "cell_type": "code",
   "execution_count": null,
   "metadata": {},
   "outputs": [],
   "source": [
    "model_fn = 'nnsysident.models.models.taskdriven_fullgaussian2d'\n",
    "\n",
    "model_config = {'tl_model_name': 'vgg16',\n",
    "                 'layers': 8,\n",
    "                 'init_mu_range': 0.55,\n",
    "                 'init_sigma': 0.4,\n",
    "                 'share_features': False,\n",
    "                 'grid_mean_predictor': {'type': 'cortex',\n",
    "                                          'input_dimensions': 2,\n",
    "                                          'hidden_layers': 0,\n",
    "                                          'hidden_features': 0,\n",
    "                                          'final_tanh': False},\n",
    "                 'gamma_readout': 1.7925745123145327}\n",
    "\n",
    "model = builder.get_model(model_fn=model_fn, model_config=model_config, dataloaders=dataloaders, seed=1)"
   ]
  },
  {
   "cell_type": "code",
   "execution_count": null,
   "metadata": {},
   "outputs": [],
   "source": [
    "core_dict = torch.load('d99820ef586bbebcfce36d7bc89877f3-11gaussian.pth.tar') # score: 0.329419\n",
    "\n",
    "def get_grids(my_model):\n",
    "    grids = {}\n",
    "    for key, readout in my_model.readout.items():\n",
    "        grid = readout.grid.squeeze().cpu().data.numpy()\n",
    "        grids[key] = grid\n",
    "    return grids\n",
    "\n",
    "list_of_load = ['spatial'] #'scales', '_features' ,'mu_transform.0.weight', 'mu_transform.0.bias'\n",
    "list_of_detach = ['spatial']\n",
    "\n",
    "\n",
    "\n",
    "#model_real.load_state_dict(core_dict, strict=False)\n",
    "#real_grids = get_grids(model_real)\n",
    "\n",
    "remove=[]\n",
    "keep=[]\n",
    "for key in core_dict.keys():\n",
    "    name = '.'.join(key.split('.')[2:])\n",
    "    if key.split('.')[0] == 'readout': \n",
    "        if not np.isin(name, list_of_load):\n",
    "            print('Not loading:    {}'.format(key))\n",
    "            remove.append(key)\n",
    "        else:\n",
    "            keep.append(key)\n",
    "for key in keep:\n",
    "    print('Loading:  {}'.format(key))\n",
    "\n",
    "for k in remove: del core_dict[k]\n",
    "#model_start.load_state_dict(core_dict, strict=False)\n",
    "#start_grids = get_grids(model_start)\n",
    "\n",
    "\n",
    "\n",
    "model.load_state_dict(core_dict, strict=False)\n",
    "\n",
    "for param in model.named_parameters():\n",
    "    name = '.'.join(param[0].split('.')[2:])\n",
    "    if param[0].split('.')[0] == 'readout':\n",
    "        if np.isin(name, list_of_detach):\n",
    "            print('detaching:    {}'.format(param[0]))\n",
    "            param[1].requires_grad = False"
   ]
  },
  {
   "cell_type": "code",
   "execution_count": null,
   "metadata": {},
   "outputs": [],
   "source": []
  },
  {
   "cell_type": "markdown",
   "metadata": {},
   "source": [
    "# Get Trainer"
   ]
  },
  {
   "cell_type": "code",
   "execution_count": null,
   "metadata": {},
   "outputs": [],
   "source": [
    "detach_core = True\n",
    "\n",
    "trainer_fn = 'nnsysident.training.trainers.standard_trainer'\n",
    "trainer_config = dict(detach_core=detach_core, track_training=True) \n",
    "trainer = builder.get_trainer(trainer_fn, trainer_config)"
   ]
  },
  {
   "cell_type": "markdown",
   "metadata": {},
   "source": [
    "# Run Training"
   ]
  },
  {
   "cell_type": "code",
   "execution_count": null,
   "metadata": {},
   "outputs": [],
   "source": [
    "score, output, model_state = trainer(model=model, dataloaders=dataloaders, seed=1)"
   ]
  },
  {
   "cell_type": "code",
   "execution_count": null,
   "metadata": {},
   "outputs": [],
   "source": []
  },
  {
   "cell_type": "code",
   "execution_count": null,
   "metadata": {},
   "outputs": [],
   "source": []
  },
  {
   "cell_type": "code",
   "execution_count": null,
   "metadata": {},
   "outputs": [],
   "source": []
  },
  {
   "cell_type": "code",
   "execution_count": null,
   "metadata": {},
   "outputs": [],
   "source": [
    "for neuron in range(len(grids[0])):\n",
    "    fig, axes = plt.subplots(1,2, dpi=250)\n",
    "    for i, ax in enumerate(axes.flatten()):\n",
    "        ax.imshow(grids[i][neuron])\n",
    "        ax.set(xticklabels=[], yticklabels=[])\n",
    "    plt.show()\n",
    "    if i ==20:\n",
    "        break"
   ]
  },
  {
   "cell_type": "code",
   "execution_count": null,
   "metadata": {},
   "outputs": [],
   "source": []
  },
  {
   "cell_type": "code",
   "execution_count": null,
   "metadata": {},
   "outputs": [],
   "source": []
  },
  {
   "cell_type": "code",
   "execution_count": null,
   "metadata": {},
   "outputs": [],
   "source": []
  },
  {
   "cell_type": "code",
   "execution_count": null,
   "metadata": {},
   "outputs": [],
   "source": []
  },
  {
   "cell_type": "code",
   "execution_count": null,
   "metadata": {},
   "outputs": [],
   "source": []
  },
  {
   "cell_type": "code",
   "execution_count": null,
   "metadata": {},
   "outputs": [],
   "source": [
    "grids = get_grids(model)\n",
    "    \n",
    "from nnsysident.utility.measures import get_correlations\n",
    "\n",
    "cors = get_correlations(model, dataloaders['test'], per_neuron=False, as_dict=True)\n",
    "for key, value in cors.items():\n",
    "    cors[key] = np.mean(value)"
   ]
  },
  {
   "cell_type": "code",
   "execution_count": null,
   "metadata": {},
   "outputs": [],
   "source": [
    "title = 'feat|scale: random init + learned - position: random 0.33 ortho init|0 + learned + shared'\n",
    "\n",
    "dictionary = dict(cors=cors,\n",
    "                  grids = grids,\n",
    "                  real_grids = real_grids,\n",
    "                  start_grids = start_grids,)\n",
    "#torch.save(dictionary, title)"
   ]
  },
  {
   "cell_type": "code",
   "execution_count": null,
   "metadata": {},
   "outputs": [],
   "source": [
    "import matplotlib.pyplot as plt\n",
    "import seaborn as sns\n",
    "\n",
    "fig, axes = plt.subplots(2, 2, dpi=200, figsize=(6, 4.3))\n",
    "\n",
    "for ind, (ax, (key, grid), (real_key, real_grid), (start_key, start_grid)) in enumerate(zip(axes.flat, grids.items(), real_grids.items(), start_grids.items())):\n",
    "    assert key==real_key==start_key, 'keys do not match'\n",
    "    ax.scatter(*grid.T, color='navy', s=.1, label='Learned position')\n",
    "    ax.scatter(*real_grid.T, color='red', s=.1, label='\"True\" position')\n",
    "    ax.scatter(*start_grid.T, color='black', s=.1, label='Init position', alpha=0.2)\n",
    "\n",
    "    ax.set(xlim=(-1.1, 1.1), ylim=(-1.1, 1.1), label='Learned correlation')\n",
    "    ax.text(-1,.8, round(cors[key], 3), fontsize=8.5, color='navy')\n",
    "    sns.despine(top=True, ax=ax)\n",
    "    \n",
    "    ax.set(xticks=[-1, -.5, 0, .5, 1])\n",
    "    ax.set_axisbelow(True)\n",
    "    ax.grid(ls='--')\n",
    "    if ind != 3:\n",
    "        ax.set(xticklabels=[], yticklabels=[])\n",
    "        \n",
    "    ax.set_title(key, fontsize=10)\n",
    "fig.suptitle(title.split('-')[0] + '\\n' + title.split('-')[-1], y=1.05, fontsize=10.)\n",
    "\n",
    "plt.tight_layout()\n",
    "#plt.savefig(title + '.png', dpi=200, bbox_inches='tight')"
   ]
  }
 ],
 "metadata": {
  "kernelspec": {
   "display_name": "Python 3",
   "language": "python",
   "name": "python3"
  },
  "language_info": {
   "codemirror_mode": {
    "name": "ipython",
    "version": 3
   },
   "file_extension": ".py",
   "mimetype": "text/x-python",
   "name": "python",
   "nbconvert_exporter": "python",
   "pygments_lexer": "ipython3",
   "version": "3.8.0"
  }
 },
 "nbformat": 4,
 "nbformat_minor": 4
}

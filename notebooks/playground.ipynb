{
 "cells": [
  {
   "cell_type": "code",
   "execution_count": 1,
   "metadata": {},
   "outputs": [],
   "source": [
    "%matplotlib inline\n",
    "%load_ext autoreload\n",
    "%autoreload 2 "
   ]
  },
  {
   "cell_type": "code",
   "execution_count": 2,
   "metadata": {},
   "outputs": [],
   "source": [
    "import os\n",
    "import datajoint as dj\n",
    "dj.config['database.host'] = os.environ['DJ_HOST']\n",
    "dj.config['database.user'] = os.environ['DJ_USER']\n",
    "dj.config['database.password'] = os.environ['DJ_PASS']\n",
    "dj.config['enable_python_native_blobs'] = True\n",
    "dj.config['display.limit'] = 100\n",
    "\n",
    "name = 'realdata' #\"simdata\"\n",
    "dj.config['schema_name'] = f\"konstantin_nnsysident_{name}\""
   ]
  },
  {
   "cell_type": "code",
   "execution_count": 3,
   "metadata": {},
   "outputs": [
    {
     "name": "stdout",
     "output_type": "stream",
     "text": [
      "Connecting konstantin@sinzlab.chlkmukhxp6i.eu-central-1.rds.amazonaws.com:3306\n",
      "Schema name: konstantin_nnsysident_realdata\n"
     ]
    }
   ],
   "source": [
    "import torch\n",
    "import shutil\n",
    "import numpy as np\n",
    "import pickle \n",
    "import pandas as pd\n",
    "pd.set_option('display.max_columns', None)\n",
    "pd.set_option('display.max_rows', 100)\n",
    "import matplotlib.pyplot as plt\n",
    "import re\n",
    "import seaborn as sns\n",
    "import hiplot as hip\n",
    "\n",
    "import nnfabrik\n",
    "from nnfabrik.main import *\n",
    "from nnfabrik import builder\n",
    "from nnfabrik.utility.hypersearch import Bayesian\n",
    "\n",
    "from nnsysident.tables.experiments import *\n",
    "from nnsysident.tables.bayesian import *\n",
    "from nnsysident.datasets.mouse_loaders import static_shared_loaders\n",
    "from nnsysident.datasets.mouse_loaders import static_loaders\n",
    "\n",
    "from nnsysident.datasets.mouse_loaders import static_loader\n",
    "\n",
    "def find_number(text, c):\n",
    "    return re.findall(r'%s(\\d+)' % c, text)\n",
    "\n",
    "def get_transfer(old_experiment_name):\n",
    "    # prepare the Transfer table in a way that all the info about the transferred model is in the DataFrame. Just pd.merge (on transfer_fn and transfer_hash)\n",
    "    # it then with the model that the transferred model was used for. \n",
    "    transfer = pd.DataFrame(Transfer.fetch())\n",
    "    transfer = pd.concat([transfer, transfer['transfer_config'].apply(pd.Series)], axis = 1).drop('transfer_config', axis = 1)\n",
    "\n",
    "    tm = pd.DataFrame((TrainedModel * Dataset * Seed * Experiments.Restrictions & 'experiment_name = \"{}\"'.format(old_experiment_name)).fetch()).rename(\n",
    "        columns = {'model_hash': 't_model_hash', 'trainer_hash': 't_trainer_hash', 'dataset_hash': 't_dataset_hash'})\n",
    "    tm = tm.sort_values('score', ascending=False).drop_duplicates(['t_model_hash', 't_trainer_hash', 't_dataset_hash'])\n",
    "\n",
    "    transfer = pd.merge(transfer, tm, how='inner', on=['t_model_hash', 't_trainer_hash', 't_dataset_hash'])\n",
    "    transfer = pd.concat([transfer, transfer['dataset_config'].apply(pd.Series)], axis = 1).drop('dataset_config', axis = 1)\n",
    "    transfer.columns = ['t_' + col if col[:2] != 't_' and col[:8] != 'transfer'  else col for col in transfer.columns]\n",
    "    transfer = transfer.sort_values(['t_neuron_n', 't_image_n', 't_neuron_base_seed', 't_image_base_seed'])\n",
    "    return transfer"
   ]
  },
  {
   "cell_type": "code",
   "execution_count": null,
   "metadata": {},
   "outputs": [],
   "source": [
    "multi_match_base_seeds = [1,2,3,4,5]\n",
    "image_base_seeds = [1]\n",
    "\n",
    "dataset_fn = 'nnsysident.datasets.mouse_loaders.static_shared_loaders'\n",
    "paths = ['data/static22564-2-12-preproc0.zip',\n",
    "                     'data/static22564-2-13-preproc0.zip',\n",
    "                     'data/static22564-3-8-preproc0.zip',\n",
    "                     'data/static22564-3-12-preproc0.zip']\n",
    "\n",
    "dataset = pd.DataFrame((Dataset & 'dataset_fn = \"{}\"'.format(dataset_fn)).fetch())\n",
    "dataset = pd.concat([dataset, dataset['dataset_config'].apply(pd.Series)], axis = 1)\n",
    "dataset = dataset.loc[(dataset['multi_match_base_seed'] == 1) & (dataset['image_base_seed'] == 1)]\n",
    "dataset = dataset.loc[[np.isin(row['paths'], [paths])[0] for loc, row in dataset.iterrows()]]\n",
    "#dataset = dataset.loc[dataset['exclude_neuron_n'].isnull()]\n",
    "\n",
    "for loc, row in dataset.iterrows():\n",
    "    for multi_match_base_seed in multi_match_base_seeds:\n",
    "        for image_base_seed in image_base_seeds:\n",
    "            dataset_config = row['dataset_config']\n",
    "            dataset_config.update(multi_match_base_seed=multi_match_base_seed, image_base_seed=image_base_seed)\n",
    "            Dataset().add_entry(dataset_fn=row['dataset_fn'], \n",
    "                                dataset_config=dataset_config, \n",
    "                                dataset_fabrikant=row['dataset_fabrikant'], \n",
    "                                dataset_comment=row['dataset_comment'], skip_duplicates=True)"
   ]
  },
  {
   "cell_type": "code",
   "execution_count": null,
   "metadata": {},
   "outputs": [],
   "source": [
    "Dataset()"
   ]
  },
  {
   "cell_type": "code",
   "execution_count": null,
   "metadata": {},
   "outputs": [],
   "source": [
    "(5 * 36) + 59 - 5"
   ]
  },
  {
   "cell_type": "code",
   "execution_count": 6,
   "metadata": {},
   "outputs": [
    {
     "data": {
      "text/plain": [
       "900"
      ]
     },
     "execution_count": 6,
     "metadata": {},
     "output_type": "execute_result"
    }
   ],
   "source": [
    "5 * 36 * 5"
   ]
  },
  {
   "cell_type": "code",
   "execution_count": 8,
   "metadata": {},
   "outputs": [],
   "source": [
    "model_name = 'se2d_fullgaussian2d'\n",
    "paths = ['data/static22564-2-12-preproc0.zip',\n",
    "                     'data/static22564-2-13-preproc0.zip',\n",
    "                     'data/static22564-3-8-preproc0.zip',\n",
    "                     'data/static22564-3-12-preproc0.zip']\n",
    "\n",
    "experiment_name = 'Real, Direct, {}, 4-set'.format(model_name)\n",
    "experiment_comment = 'Directly trained on real data with {} and static_shared_loaders of the 4-set. Varying number of neurons and images.'.format(model_name)\n",
    "fabrikant_name = 'kklurz'\n",
    "\n",
    "model_fn = \"nnsysident.models.models.{}\".format(model_name)\n",
    "dataset_fn = 'nnsysident.datasets.mouse_loaders.static_shared_loaders'\n",
    "\n",
    "dataset = pd.DataFrame((Dataset & 'dataset_fn = \"{}\"'.format(dataset_fn)).fetch())\n",
    "dataset = pd.concat([dataset, dataset['dataset_config'].apply(pd.Series)], axis = 1)\n",
    "dataset = dataset.loc[[np.isin(row['paths'], [paths])[0] for loc, row in dataset.iterrows()]]\n",
    "dataset = dataset.loc[(dataset['multi_match_base_seed'].isin([1,2,3,4,5])) & (dataset['image_base_seed'] == 1)]\n",
    "#dataset = dataset.loc[dataset['exclude_neuron_n'].isnull()]\n",
    "\n",
    "\n",
    "\n",
    "model = pd.DataFrame((Model & 'model_fn=\"{}\"'.format(model_fn)).fetch())\n",
    "for arg in ['multi_match_n', 'image_n']:\n",
    "    model[arg] = [int(find_number(row.model_comment, arg + '=')[0]) for loc, row in model.iterrows()]\n",
    "    \n",
    "    \n",
    "combinations = pd.merge(dataset, model, on=[\"multi_match_n\", \"image_n\"]).sort_values(['multi_match_n', 'image_n'])\n",
    "   \n",
    "experiment = [{'dataset_hash': row['dataset_hash'], \n",
    "               'dataset_fn': row['dataset_fn'],\n",
    "               'model_hash': row['model_hash'],\n",
    "               'model_fn': row['model_fn'],\n",
    "               'trainer_hash': 'd41d8cd98f00b204e9800998ecf8427e',\n",
    "               'trainer_fn': 'nnsysident.training.trainers.standard_trainer',\n",
    "                 'experiment_name': experiment_name} for loc, row in combinations.iterrows()]\n",
    "\n",
    "Experiments.insert1(dict(experiment_name=experiment_name, experiment_fabrikant=fabrikant_name, experiment_comment=experiment_comment))\n",
    "Experiments.Restrictions.insert(experiment, skip_duplicates=True)"
   ]
  },
  {
   "cell_type": "code",
   "execution_count": null,
   "metadata": {},
   "outputs": [],
   "source": []
  },
  {
   "cell_type": "code",
   "execution_count": null,
   "metadata": {},
   "outputs": [],
   "source": []
  },
  {
   "cell_type": "code",
   "execution_count": null,
   "metadata": {},
   "outputs": [],
   "source": []
  },
  {
   "cell_type": "code",
   "execution_count": null,
   "metadata": {},
   "outputs": [],
   "source": []
  },
  {
   "cell_type": "code",
   "execution_count": null,
   "metadata": {},
   "outputs": [],
   "source": []
  },
  {
   "cell_type": "code",
   "execution_count": null,
   "metadata": {},
   "outputs": [],
   "source": []
  },
  {
   "cell_type": "code",
   "execution_count": null,
   "metadata": {},
   "outputs": [],
   "source": [
    "experiment_name = 'Real, Direct, se2d_fullgaussian2d, 4-set, seed comparison'\n",
    "\n",
    "data = pd.DataFrame((TrainedModel * Dataset * Experiments.Restrictions & 'experiment_name=\"{}\"'.format(experiment_name)).fetch())\n",
    "data = pd.concat([data, data['dataset_config'].apply(pd.Series)], axis = 1)\n",
    "data = data[['seed', 'multi_match_base_seed', 'image_base_seed', 'score']]\n",
    "\n",
    "seed_seed = data.loc[(data['multi_match_base_seed'] == 1) & (data['image_base_seed'] == 5)].copy()\n",
    "seed_neuron = data.loc[(data['seed'] == 1) & (data['image_base_seed'] == 1)].copy()\n",
    "seed_image = data.loc[(data['multi_match_base_seed'] == 1) & (data['seed'] == 1)].copy()\n",
    "\n",
    "seed_seed['Seed type'] = 'Model seed'\n",
    "seed_neuron['Seed type'] = 'Neuron seed'\n",
    "seed_image['Seed type'] = 'Image seed'\n",
    "\n",
    "seed_data = pd.concat([seed_seed, seed_neuron, seed_image])"
   ]
  },
  {
   "cell_type": "code",
   "execution_count": null,
   "metadata": {},
   "outputs": [],
   "source": [
    "g = sns.catplot(x=\"Seed type\", y=\"score\", kind=\"violin\", inner='point', data=seed_data)\n",
    "#sns.swarmplot(x=\"Seed type\", y=\"score\", color=\"k\", size=3, data=seed_data, ax=g.ax)\n",
    "sns.despine(trim=True)"
   ]
  },
  {
   "cell_type": "code",
   "execution_count": null,
   "metadata": {},
   "outputs": [],
   "source": [
    "sns.boxenplot(x=\"Seed type\", y=\"score\", data=seed_data)\n",
    "sns.despine(trim=True)"
   ]
  },
  {
   "cell_type": "code",
   "execution_count": null,
   "metadata": {},
   "outputs": [],
   "source": [
    "sns.set_context('paper')\n",
    "\n",
    "sns.swarmplot(x=\"Seed type\", y=\"score\",  size=10, data=seed_data)\n",
    "sns.despine(trim=True)"
   ]
  },
  {
   "cell_type": "code",
   "execution_count": null,
   "metadata": {},
   "outputs": [],
   "source": [
    "fig, ax = plt.subplots()\n",
    "\n",
    "sns.swarmplot(x=\"Seed type\", y=\"score\",  size=10, data=seed_data)\n",
    "#ax.set(ylim=(0, 1))\n",
    "sns.despine(trim=True)\n",
    "\n",
    "ax1 = fig.add_axes([.99, .14, .2, .75])\n",
    "ax1.hist(seed_data.loc[seed_data['Seed type'] == 'Model seed', 'score'].values, orientation='horizontal')\n",
    "#ax1.set(ylim=(0, 1))\n",
    "sns.despine(top=True)"
   ]
  },
  {
   "cell_type": "code",
   "execution_count": null,
   "metadata": {},
   "outputs": [],
   "source": [
    "fig, ax  = plt.subplots(figsize=(6, 3), dpi=150)\n",
    "\n",
    "sns.distplot(seed_data.loc[seed_data['Seed type'] == 'Model seed', 'score'].values, hist=True, vertical=True, color=\"g\", kde=False, bins=20, ax=ax, norm_hist=True)\n",
    "# sns.distplot(seed_data.loc[seed_data['Seed type'] == 'Neuron seed', 'score'].values, hist=False, vertical=True, color=\"r\", norm_hist=True, kde_kws={\"shade\": True}, ax=ax)\n",
    "# sns.distplot(seed_data.loc[seed_data['Seed type'] == 'Image seed', 'score'].values, hist=False, vertical=True, color=\"b\", norm_hist=True, kde_kws={\"shade\": True}, ax=ax)"
   ]
  },
  {
   "cell_type": "markdown",
   "metadata": {},
   "source": [
    "---"
   ]
  },
  {
   "cell_type": "markdown",
   "metadata": {},
   "source": [
    "# Deterministic gaussian"
   ]
  },
  {
   "cell_type": "code",
   "execution_count": null,
   "metadata": {},
   "outputs": [],
   "source": [
    "model_fn = \"nnsysident.models.models.se2d_deterministicgaussian2d\"\n",
    "\n",
    "all_info = pd.DataFrame((TrainedModelBayesian * ModelBayesian * DatasetBayesian & 'model_fn = \"{}\"'.format(model_fn)).fetch())\n",
    "all_info = pd.concat([all_info, all_info['dataset_config'].apply(pd.Series)], axis = 1).drop('dataset_config', axis = 1)\n",
    "all_info = pd.concat([all_info, all_info['model_config'].apply(pd.Series)], axis = 1).replace({'share_features': {True: 1, False: 0}})\n",
    "all_info.fillna({'input_kern': 9, 'hidden_kern': 7}, inplace=True)\n"
   ]
  },
  {
   "cell_type": "code",
   "execution_count": null,
   "metadata": {},
   "outputs": [],
   "source": [
    "info = all_info \n",
    "\n",
    "one_exp_h = info.set_index('score', drop=False).copy()\n",
    "cols = ['score', 'gamma_readout','input_kern', 'hidden_kern', \"share_features\", 'multi_match_n', 'image_n']\n",
    "hip.Experiment.from_dataframe(one_exp_h[cols]).display(force_full_width=False)"
   ]
  },
  {
   "cell_type": "markdown",
   "metadata": {},
   "source": [
    "# Spatialxfeature"
   ]
  },
  {
   "cell_type": "code",
   "execution_count": null,
   "metadata": {},
   "outputs": [],
   "source": [
    "model_fn = \"nnsysident.models.models.se2d_spatialxfeaturelinear\"\n",
    "\n",
    "all_info = pd.DataFrame((TrainedModelBayesian * ModelBayesian * DatasetBayesian & 'model_fn = \"{}\"'.format(model_fn)).fetch())\n",
    "all_info = pd.concat([all_info, all_info['dataset_config'].apply(pd.Series)], axis = 1)\n",
    "all_info = pd.concat([all_info, all_info['model_config'].apply(pd.Series)], axis = 1)\n",
    "all_info.fillna({'input_kern': 9, 'hidden_kern': 7}, inplace=True)\n"
   ]
  },
  {
   "cell_type": "code",
   "execution_count": null,
   "metadata": {},
   "outputs": [],
   "source": [
    "info = all_info \n",
    "\n",
    "one_exp_h = info.set_index('score', drop=False).copy()\n",
    "cols = ['score',  'gamma_input', 'gamma_readout','input_kern', 'hidden_kern', 'multi_match_n', 'image_n']\n",
    "hip.Experiment.from_dataframe(one_exp_h[cols]).display(force_full_width=False)"
   ]
  },
  {
   "cell_type": "code",
   "execution_count": null,
   "metadata": {},
   "outputs": [],
   "source": [
    "model_fn = 'nnsysident.models.models.se2d_spatialxfeaturelinear'\n",
    "\n",
    "model = pd.DataFrame((Model & 'model_fn=\"{}\"'.format(model_fn)).fetch())\n",
    "for arg in ['neuron_n', 'image_n']:\n",
    "    model[arg] = [int(find_number(row.model_comment, arg + '=')[0]) for loc, row in model.iterrows()]\n",
    "model = pd.concat([model, model['model_config'].apply(pd.Series)], axis = 1).drop('model_config', axis = 1)\n",
    "model.sort_values(['neuron_n', 'image_n'], inplace=True)\n",
    "\n",
    "one_exp_h = model.set_index('gamma_readout', drop=False).copy()\n",
    "cols = ['gamma_readout', 'neuron_n', 'image_n']\n",
    "hip.Experiment.from_dataframe(one_exp_h[cols]).display(force_full_width=False)"
   ]
  },
  {
   "cell_type": "code",
   "execution_count": null,
   "metadata": {},
   "outputs": [],
   "source": []
  },
  {
   "cell_type": "markdown",
   "metadata": {},
   "source": [
    "# Gaussian"
   ]
  },
  {
   "cell_type": "code",
   "execution_count": null,
   "metadata": {},
   "outputs": [],
   "source": [
    "model_fn = \"nnsysident.models.models.se2d_fullgaussian2d\"\n",
    "\n",
    "all_info = pd.DataFrame((TrainedModelBayesian * ModelBayesian * DatasetBayesian & 'model_fn = \"{}\"'.format(model_fn)).fetch())\n",
    "all_info = pd.concat([all_info, all_info['dataset_config'].apply(pd.Series)], axis = 1).drop('dataset_config', axis = 1)\n",
    "all_info = pd.concat([all_info, all_info['model_config'].apply(pd.Series)], axis = 1).replace({'share_features': {True: 1, False: 0}})\n",
    "all_info.fillna({'input_kern': 9, 'hidden_kern': 7, 'init_mu_range': 0.3, 'init_sigma': 0.1}, inplace=True)\n",
    "\n",
    "\n",
    "all_info = all_info.loc[~all_info['grid_mean_predictor'].isnull()]\n",
    "\n",
    "\n",
    "# for neuron_n in [100, 1000]:\n",
    "#     for image_n in [50, 100, 200, 500, 1000, 4000]:\n",
    "#         one_exp = all_info.loc[(all_info['neuron_n'] == neuron_n) & (all_info['image_n'] == image_n) & (~ all_info['hidden_kern'].isnull())].sort_values('score')\n",
    "#         best = one_exp.loc[one_exp['score'] == one_exp['score'].max()]\n",
    "#         print(len(one_exp))\n",
    "#         print(one_exp['neuron_n'].values[0], one_exp['image_n'].values[0])\n",
    "#         Model().add_entry(model_fn=best['model_fn'].values[0],\n",
    "#                           model_config=best['model_config'].values[0],\n",
    "#                           model_fabrikant='kklurz',\n",
    "#                           model_comment='{}, neuron_n={}, image_n={}'.format(best['model_fn'].values[0].split('.')[-1], \n",
    "#                                                                              best['neuron_n'].values[0], best['image_n'].values[0]), skip_duplicates=True)"
   ]
  },
  {
   "cell_type": "code",
   "execution_count": null,
   "metadata": {},
   "outputs": [],
   "source": [
    "info = all_info \n",
    "\n",
    "one_exp_h = info.set_index('score', drop=False).copy()\n",
    "cols = ['score',  'gamma_input', 'gamma_readout','init_mu_range', 'init_sigma', 'input_kern', 'hidden_kern', 'share_features', 'multi_match_n', 'image_n']\n",
    "hip.Experiment.from_dataframe(one_exp_h[cols]).display(force_full_width=False)"
   ]
  },
  {
   "cell_type": "code",
   "execution_count": null,
   "metadata": {},
   "outputs": [],
   "source": []
  },
  {
   "cell_type": "code",
   "execution_count": null,
   "metadata": {},
   "outputs": [],
   "source": []
  },
  {
   "cell_type": "code",
   "execution_count": null,
   "metadata": {},
   "outputs": [],
   "source": []
  },
  {
   "cell_type": "code",
   "execution_count": null,
   "metadata": {},
   "outputs": [],
   "source": []
  },
  {
   "cell_type": "code",
   "execution_count": null,
   "metadata": {},
   "outputs": [],
   "source": []
  },
  {
   "cell_type": "code",
   "execution_count": null,
   "metadata": {},
   "outputs": [],
   "source": []
  },
  {
   "cell_type": "code",
   "execution_count": null,
   "metadata": {},
   "outputs": [],
   "source": []
  },
  {
   "cell_type": "code",
   "execution_count": null,
   "metadata": {},
   "outputs": [],
   "source": []
  },
  {
   "cell_type": "code",
   "execution_count": null,
   "metadata": {},
   "outputs": [],
   "source": []
  },
  {
   "cell_type": "code",
   "execution_count": null,
   "metadata": {},
   "outputs": [],
   "source": []
  },
  {
   "cell_type": "code",
   "execution_count": null,
   "metadata": {},
   "outputs": [],
   "source": []
  },
  {
   "cell_type": "code",
   "execution_count": null,
   "metadata": {},
   "outputs": [],
   "source": []
  },
  {
   "cell_type": "code",
   "execution_count": null,
   "metadata": {},
   "outputs": [],
   "source": []
  },
  {
   "cell_type": "code",
   "execution_count": null,
   "metadata": {},
   "outputs": [],
   "source": []
  },
  {
   "cell_type": "code",
   "execution_count": null,
   "metadata": {},
   "outputs": [],
   "source": []
  },
  {
   "cell_type": "code",
   "execution_count": null,
   "metadata": {},
   "outputs": [],
   "source": []
  },
  {
   "cell_type": "code",
   "execution_count": null,
   "metadata": {},
   "outputs": [],
   "source": []
  },
  {
   "cell_type": "code",
   "execution_count": null,
   "metadata": {},
   "outputs": [],
   "source": []
  },
  {
   "cell_type": "markdown",
   "metadata": {},
   "source": [
    "# Share True"
   ]
  },
  {
   "cell_type": "code",
   "execution_count": null,
   "metadata": {},
   "outputs": [],
   "source": [
    "neuron_n = 500\n",
    "image_n = 200\n",
    "share_features = True\n",
    "hidden_kern = 15\n",
    "\n",
    "info = all_info.loc[(all_info['multi_match_n'] == neuron_n) & (all_info['image_n'] == image_n) & (all_info['share_features'] == share_features)].sort_values('score')\n",
    "\n",
    "\n",
    "one_exp = info.loc[(info['hidden_kern'] == hidden_kern) ].sort_values('score')\n",
    "\n",
    "one_exp_h = one_exp.set_index('score', drop=False).copy()\n",
    "cols = ['score', 'gamma_readout', 'gamma_input']\n",
    "hip.Experiment.from_dataframe(one_exp_h[cols]).display(force_full_width=False)"
   ]
  },
  {
   "cell_type": "code",
   "execution_count": null,
   "metadata": {},
   "outputs": [],
   "source": [
    "neuron_n = 3625\n",
    "image_n = 4399\n",
    "share_features = True\n",
    "hidden_kern = 15\n",
    "\n",
    "info = all_info.loc[(all_info['multi_match_n'] == neuron_n) & (all_info['image_n'] == image_n) & (all_info['share_features'] == share_features)].sort_values('score')\n",
    "\n",
    "\n",
    "one_exp = info.loc[(info['hidden_kern'] == hidden_kern) ].sort_values('score')\n",
    "\n",
    "one_exp_h = one_exp.set_index('score', drop=False).copy()\n",
    "cols = ['score', 'gamma_readout', 'gamma_input']\n",
    "hip.Experiment.from_dataframe(one_exp_h[cols]).display(force_full_width=False)"
   ]
  },
  {
   "cell_type": "markdown",
   "metadata": {},
   "source": [
    "## hidden 7"
   ]
  },
  {
   "cell_type": "code",
   "execution_count": null,
   "metadata": {},
   "outputs": [],
   "source": [
    "neuron_n = 500\n",
    "image_n = 200\n",
    "share_features = True\n",
    "\n",
    "info = all_info.loc[(all_info['multi_match_n'] == neuron_n) & (all_info['image_n'] == image_n) & (all_info['share_features'] == share_features)].sort_values('score')\n",
    "\n",
    "\n",
    "one_exp = info.loc[(info['hidden_kern'].isnull()) ].sort_values('score')\n",
    "\n",
    "one_exp_h = one_exp.set_index('score', drop=False).copy()\n",
    "cols = ['score', 'gamma_readout', 'gamma_input']\n",
    "hip.Experiment.from_dataframe(one_exp_h[cols]).display(force_full_width=False)"
   ]
  },
  {
   "cell_type": "code",
   "execution_count": null,
   "metadata": {},
   "outputs": [],
   "source": [
    "neuron_n = 3625\n",
    "image_n = 4399\n",
    "share_features = True\n",
    "\n",
    "info = all_info.loc[(all_info['multi_match_n'] == neuron_n) & (all_info['image_n'] == image_n) & (all_info['share_features'] == share_features)].sort_values('score')\n",
    "\n",
    "\n",
    "one_exp = info.loc[(info['hidden_kern'].isnull()) ].sort_values('score')\n",
    "\n",
    "one_exp_h = one_exp.set_index('score', drop=False).copy()\n",
    "cols = ['score', 'gamma_readout', 'gamma_input']\n",
    "hip.Experiment.from_dataframe(one_exp_h[cols]).display(force_full_width=False)"
   ]
  },
  {
   "cell_type": "markdown",
   "metadata": {},
   "source": [
    "# Share False"
   ]
  },
  {
   "cell_type": "code",
   "execution_count": null,
   "metadata": {},
   "outputs": [],
   "source": [
    "neuron_n = 500\n",
    "image_n = 200\n",
    "share_features = False\n",
    "\n",
    "info = all_info.loc[(all_info['multi_match_n'] == neuron_n) & (all_info['image_n'] == image_n) & (all_info['share_features'] == share_features)].sort_values('score')\n",
    "\n",
    "\n",
    "one_exp = info.sort_values('score')\n",
    "\n",
    "one_exp_h = one_exp.set_index('score', drop=False).copy()\n",
    "cols = ['score', 'gamma_readout', 'gamma_input']\n",
    "hip.Experiment.from_dataframe(one_exp_h[cols]).display(force_full_width=False)"
   ]
  },
  {
   "cell_type": "code",
   "execution_count": null,
   "metadata": {},
   "outputs": [],
   "source": [
    "neuron_n = 3625\n",
    "image_n = 4399\n",
    "share_features = False\n",
    "\n",
    "info = all_info.loc[(all_info['multi_match_n'] == neuron_n) & (all_info['image_n'] == image_n) & (all_info['share_features'] == share_features)].sort_values('score')\n",
    "\n",
    "\n",
    "one_exp = info.loc[(info['hidden_kern'].isnull()) ].sort_values('score')\n",
    "\n",
    "one_exp_h = one_exp.set_index('score', drop=False).copy()\n",
    "cols = ['score', 'gamma_readout', 'gamma_input']\n",
    "hip.Experiment.from_dataframe(one_exp_h[cols]).display(force_full_width=False)"
   ]
  },
  {
   "cell_type": "code",
   "execution_count": null,
   "metadata": {},
   "outputs": [],
   "source": []
  },
  {
   "cell_type": "code",
   "execution_count": null,
   "metadata": {},
   "outputs": [],
   "source": []
  },
  {
   "cell_type": "code",
   "execution_count": null,
   "metadata": {},
   "outputs": [],
   "source": []
  },
  {
   "cell_type": "code",
   "execution_count": null,
   "metadata": {},
   "outputs": [],
   "source": []
  },
  {
   "cell_type": "code",
   "execution_count": null,
   "metadata": {},
   "outputs": [],
   "source": []
  },
  {
   "cell_type": "code",
   "execution_count": null,
   "metadata": {},
   "outputs": [],
   "source": []
  },
  {
   "cell_type": "code",
   "execution_count": null,
   "metadata": {},
   "outputs": [],
   "source": [
    "one_exp = info.loc[(info['hidden_kern'].isnull()) ].sort_values('score')\n",
    "\n",
    "one_exp_h = one_exp.set_index('score', drop=False).copy()\n",
    "cols = ['score', 'gamma_readout', 'gamma_input', 'init_mu_range', 'init_sigma']\n",
    "hip.Experiment.from_dataframe(one_exp_h[cols]).display(force_full_width=False)"
   ]
  },
  {
   "cell_type": "code",
   "execution_count": null,
   "metadata": {},
   "outputs": [],
   "source": []
  },
  {
   "cell_type": "code",
   "execution_count": null,
   "metadata": {},
   "outputs": [],
   "source": [
    "info"
   ]
  },
  {
   "cell_type": "code",
   "execution_count": null,
   "metadata": {},
   "outputs": [],
   "source": []
  }
 ],
 "metadata": {
  "kernelspec": {
   "display_name": "Python 3",
   "language": "python",
   "name": "python3"
  },
  "language_info": {
   "codemirror_mode": {
    "name": "ipython",
    "version": 3
   },
   "file_extension": ".py",
   "mimetype": "text/x-python",
   "name": "python",
   "nbconvert_exporter": "python",
   "pygments_lexer": "ipython3",
   "version": "3.8.0"
  }
 },
 "nbformat": 4,
 "nbformat_minor": 4
}

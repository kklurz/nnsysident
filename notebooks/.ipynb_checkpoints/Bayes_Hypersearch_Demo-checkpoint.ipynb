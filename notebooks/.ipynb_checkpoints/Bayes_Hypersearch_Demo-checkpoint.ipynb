{
 "cells": [
  {
   "cell_type": "markdown",
   "metadata": {},
   "source": [
    "# Demo Notebook for Bayesian Hyperparameter Searches"
   ]
  },
  {
   "cell_type": "code",
   "execution_count": null,
   "metadata": {},
   "outputs": [],
   "source": [
    "%matplotlib inline\n",
    "%load_ext autoreload\n",
    "%autoreload 2 "
   ]
  },
  {
   "cell_type": "code",
   "execution_count": null,
   "metadata": {},
   "outputs": [],
   "source": [
    "import os\n",
    "import datajoint as dj\n",
    "dj.config['database.host'] = os.environ['DJ_HOST']\n",
    "dj.config['database.user'] = os.environ['DJ_USER']\n",
    "dj.config['database.password'] = os.environ['DJ_PASS']\n",
    "dj.config['enable_python_native_blobs'] = True\n",
    "dj.config['display.limit'] = 200\n",
    "\n",
    "name = 'iclr'\n",
    "dj.config['schema_name'] = f\"konstantin_nnsysident_{name}\""
   ]
  },
  {
   "cell_type": "code",
   "execution_count": null,
   "metadata": {},
   "outputs": [],
   "source": [
    "import re\n",
    "import torch\n",
    "import numpy as np\n",
    "import pickle \n",
    "import pandas as pd\n",
    "pd.set_option('display.max_columns', 500)\n",
    "pd.set_option('display.max_rows', 10)\n",
    "from collections import OrderedDict, Iterable\n",
    "import matplotlib.pyplot as plt\n",
    "import matplotlib\n",
    "import seaborn as sns\n",
    "\n",
    "from nnfabrik.main import *\n",
    "from nnfabrik.utility.hypersearch import Bayesian\n",
    "from nnsysident.tables.bayesian import *"
   ]
  },
  {
   "cell_type": "markdown",
   "metadata": {},
   "source": [
    "# Dataset"
   ]
  },
  {
   "cell_type": "code",
   "execution_count": null,
   "metadata": {},
   "outputs": [],
   "source": [
    "paths = ['data/static22564-2-12-preproc0.zip',\n",
    "         'data/static22564-2-13-preproc0.zip',\n",
    "         'data/static22564-3-8-preproc0.zip',\n",
    "         'data/static22564-3-12-preproc0.zip']\n",
    "dataset_fn = 'nnsysident.datasets.mouse_loaders.static_shared_loaders'\n",
    "\n",
    "# define fixed parameters\n",
    "dataset_config = dict(\n",
    "    paths=paths,\n",
    "    batch_size=64,\n",
    "    multi_match_n=neuron_n,\n",
    "    multi_match_base_seed=1,\n",
    "    image_n=image_n,\n",
    "    image_base_seed=1\n",
    ")\n",
    "\n",
    "# define parameters to optimize\n",
    "dataset_config_auto = dict()"
   ]
  },
  {
   "cell_type": "markdown",
   "metadata": {},
   "source": [
    "# Model"
   ]
  },
  {
   "cell_type": "code",
   "execution_count": null,
   "metadata": {},
   "outputs": [],
   "source": [
    "model_fn = 'nnsysident.models.models.se2d_fullgaussian2d'\n",
    "\n",
    "# define fixed parameters\n",
    "model_config = {\"init_mu_range\": 0.55,\n",
    "                \"init_sigma\": 0.4,\n",
    "                'input_kern': 15,\n",
    "                'hidden_kern': 13,\n",
    "                'gamma_input': 1.,\n",
    "                'grid_mean_predictor': {'type': 'cortex', 'input_dimensions': 2, 'hidden_layers': 0, 'hidden_features': 0, 'final_tanh': False},\n",
    "}\n",
    "\n",
    "# define parameters to optimize\n",
    "model_config_auto = dict(\n",
    "    gamma_readout={\"type\": \"range\", \"bounds\": [1e-5, 1e3], \"log_scale\": True},\n",
    "    share_features={\"type\": \"choice\", \"values\": [True, False]},\n",
    "    share_transform={\"type\": \"choice\", \"values\": [True, False]},\n",
    ")"
   ]
  },
  {
   "cell_type": "markdown",
   "metadata": {},
   "source": [
    "# Trainer"
   ]
  },
  {
   "cell_type": "code",
   "execution_count": null,
   "metadata": {},
   "outputs": [],
   "source": [
    "trainer_fn = 'nnsysident.training.trainers.standard_trainer'\n",
    "\n",
    "# define fixed parameters\n",
    "trainer_config = dict(detach_core=False)\n",
    "\n",
    "# define parameters to optimize\n",
    "trainer_config_auto = dict()"
   ]
  },
  {
   "cell_type": "markdown",
   "metadata": {},
   "source": [
    "# Run Bayesian Search"
   ]
  },
  {
   "cell_type": "code",
   "execution_count": null,
   "metadata": {},
   "outputs": [],
   "source": [
    "fabrikant_name = \"kklurz\"\n",
    "total_trials = 100\n",
    "trained_model_table = 'nnsysident.tables.bayesian.TrainedModelBayesian'\n",
    "\n",
    "autobayes = Bayesian(dataset_fn, dataset_config, dataset_config_auto,\n",
    "                     model_fn, model_config, model_config_auto,\n",
    "                     trainer_fn, trainer_config, trainer_config_auto, architect=fabrikant_name,\n",
    "                     trained_model_table=trained_model_table, total_trials=total_trials)\n",
    "\n",
    "best_parameters, _, _, _ = autobayes.run()"
   ]
  },
  {
   "cell_type": "markdown",
   "metadata": {},
   "source": [
    "### Optional: add optimized configs to their tables"
   ]
  },
  {
   "cell_type": "code",
   "execution_count": null,
   "metadata": {},
   "outputs": [],
   "source": [
    "model_config.update(best_parameters['model'])\n",
    "dataset_config.update(best_parameters['dataset'])\n",
    "trainer_config.update(best_parameters['trainer'])\n",
    "\n",
    "Model().add_entry(model_fn=model_fn,\n",
    "                  model_config=model_config,\n",
    "                  model_fabrikant=fabrikant_name,\n",
    "                  skip_duplicates=True)\n",
    "\n",
    "Dataset().add_entry(dataset_fn=dataset_fn,\n",
    "                  dataset_config=dataset_config,\n",
    "                  dataset_fabrikant=fabrikant_name,\n",
    "                  skip_duplicates=True)\n",
    "\n",
    "Trainer().add_entry(trainer_fn=trainer_fn,\n",
    "                  trainer_config=trainer_config,\n",
    "                  trainer_fabrikant=fabrikant_name,\n",
    "                  skip_duplicates=True)"
   ]
  }
 ],
 "metadata": {
  "kernelspec": {
   "display_name": "Python 3",
   "language": "python",
   "name": "python3"
  },
  "language_info": {
   "codemirror_mode": {
    "name": "ipython",
    "version": 3
   },
   "file_extension": ".py",
   "mimetype": "text/x-python",
   "name": "python",
   "nbconvert_exporter": "python",
   "pygments_lexer": "ipython3",
   "version": "3.8.0"
  }
 },
 "nbformat": 4,
 "nbformat_minor": 4
}
